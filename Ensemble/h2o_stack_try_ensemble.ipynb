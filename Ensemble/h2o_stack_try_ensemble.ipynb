{
 "cells": [
  {
   "cell_type": "code",
   "execution_count": 16,
   "metadata": {
    "collapsed": false
   },
   "outputs": [
    {
     "name": "stdout",
     "output_type": "stream",
     "text": [
      "Checking whether there is an H2O instance running at http://localhost:54321. connected.\n"
     ]
    },
    {
     "data": {
      "text/html": [
       "<div style=\"overflow:auto\"><table style=\"width:50%\"><tr><td>H2O cluster uptime:</td>\n",
       "<td>3 days 22 hours 5 mins</td></tr>\n",
       "<tr><td>H2O cluster version:</td>\n",
       "<td>3.10.4.8</td></tr>\n",
       "<tr><td>H2O cluster version age:</td>\n",
       "<td>14 days, 11 hours and 6 minutes </td></tr>\n",
       "<tr><td>H2O cluster name:</td>\n",
       "<td>H2O_from_python_qinhuixu_4r2cn5</td></tr>\n",
       "<tr><td>H2O cluster total nodes:</td>\n",
       "<td>1</td></tr>\n",
       "<tr><td>H2O cluster free memory:</td>\n",
       "<td>1.723 Gb</td></tr>\n",
       "<tr><td>H2O cluster total cores:</td>\n",
       "<td>4</td></tr>\n",
       "<tr><td>H2O cluster allowed cores:</td>\n",
       "<td>4</td></tr>\n",
       "<tr><td>H2O cluster status:</td>\n",
       "<td>locked, healthy</td></tr>\n",
       "<tr><td>H2O connection url:</td>\n",
       "<td>http://localhost:54321</td></tr>\n",
       "<tr><td>H2O connection proxy:</td>\n",
       "<td>None</td></tr>\n",
       "<tr><td>H2O internal security:</td>\n",
       "<td>False</td></tr>\n",
       "<tr><td>Python version:</td>\n",
       "<td>3.6.0 final</td></tr></table></div>"
      ],
      "text/plain": [
       "--------------------------  -------------------------------\n",
       "H2O cluster uptime:         3 days 22 hours 5 mins\n",
       "H2O cluster version:        3.10.4.8\n",
       "H2O cluster version age:    14 days, 11 hours and 6 minutes\n",
       "H2O cluster name:           H2O_from_python_qinhuixu_4r2cn5\n",
       "H2O cluster total nodes:    1\n",
       "H2O cluster free memory:    1.723 Gb\n",
       "H2O cluster total cores:    4\n",
       "H2O cluster allowed cores:  4\n",
       "H2O cluster status:         locked, healthy\n",
       "H2O connection url:         http://localhost:54321\n",
       "H2O connection proxy:\n",
       "H2O internal security:      False\n",
       "Python version:             3.6.0 final\n",
       "--------------------------  -------------------------------"
      ]
     },
     "metadata": {},
     "output_type": "display_data"
    }
   ],
   "source": [
    "import h2o\n",
    "h2o.init(strict_version_check=False) # give h2o as much memory as possible\n",
    "h2o.remove_all()\n",
    "h2o.no_progress() # turn off h2o progress bars\n"
   ]
  },
  {
   "cell_type": "code",
   "execution_count": 17,
   "metadata": {
    "collapsed": true
   },
   "outputs": [],
   "source": [
    "import numpy as np\n",
    "import pandas as pd\n",
    "import matplotlib.pyplot as plt\n",
    "import seaborn as sns\n",
    "%matplotlib inline\n",
    "from sklearn import model_selection, preprocessing\n",
    "import xgboost as xgb\n",
    "import datetime"
   ]
  },
  {
   "cell_type": "markdown",
   "metadata": {},
   "source": [
    "# Import Data"
   ]
  },
  {
   "cell_type": "code",
   "execution_count": 18,
   "metadata": {
    "collapsed": false
   },
   "outputs": [],
   "source": [
    "train = h2o.import_file('/Users/qinhuixu/Desktop/Kaggle/RussianHousing/xqh/data/train.csv')\n",
    "test = h2o.import_file('/Users/qinhuixu/Desktop/Kaggle/RussianHousing/xqh/data/test.csv')"
   ]
  },
  {
   "cell_type": "code",
   "execution_count": 19,
   "metadata": {
    "collapsed": true
   },
   "outputs": [],
   "source": [
    "y_train = train[\"price_doc\"] * .968 + 10.\n",
    "x_train = train.drop([\"id\", \"timestamp\", \"price_doc\"], axis=1)\n",
    "x_test = test.drop([\"id\", \"timestamp\"], axis=1)"
   ]
  },
  {
   "cell_type": "code",
   "execution_count": 20,
   "metadata": {
    "collapsed": false
   },
   "outputs": [
    {
     "data": {
      "text/html": [
       "<table>\n",
       "<thead>\n",
       "<tr><th style=\"text-align: right;\">  price_doc</th></tr>\n",
       "</thead>\n",
       "<tbody>\n",
       "<tr><td style=\"text-align: right;\">5.66281e+06</td></tr>\n",
       "<tr><td style=\"text-align: right;\">5.80801e+06</td></tr>\n",
       "<tr><td style=\"text-align: right;\">5.51761e+06</td></tr>\n",
       "<tr><td style=\"text-align: right;\">1.26808e+07</td></tr>\n",
       "<tr><td style=\"text-align: right;\">1.58089e+07</td></tr>\n",
       "<tr><td style=\"text-align: right;\">8.80881e+06</td></tr>\n",
       "<tr><td style=\"text-align: right;\">5.32401e+06</td></tr>\n",
       "<tr><td style=\"text-align: right;\">1.93601e+06</td></tr>\n",
       "<tr><td style=\"text-align: right;\">5.13041e+06</td></tr>\n",
       "<tr><td style=\"text-align: right;\">1.93601e+06</td></tr>\n",
       "</tbody>\n",
       "</table>"
      ]
     },
     "metadata": {},
     "output_type": "display_data"
    },
    {
     "data": {
      "text/plain": []
     },
     "execution_count": 20,
     "metadata": {},
     "output_type": "execute_result"
    }
   ],
   "source": [
    "y_train"
   ]
  },
  {
   "cell_type": "markdown",
   "metadata": {},
   "source": [
    "### Determine Data Types"
   ]
  },
  {
   "cell_type": "code",
   "execution_count": 21,
   "metadata": {
    "collapsed": true
   },
   "outputs": [],
   "source": [
    "def get_type_lists(frame=train, rejects=['id','timestamp','price_doc']):\n",
    "\n",
    "    \"\"\"Creates lists of numeric and categorical variables.\n",
    "    \n",
    "    :param frame: The frame from which to determine types.\n",
    "    :param rejects: Variable names not to be included in returned lists.\n",
    "    :return: Tuple of lists for numeric and categorical variables in the frame.\n",
    "    \n",
    "    \"\"\"\n",
    "    \n",
    "    nums, cats = [], []\n",
    "    for key, val in frame.types.items():\n",
    "        if key not in rejects:\n",
    "            if val == 'enum':\n",
    "                cats.append(key)\n",
    "            else: \n",
    "                nums.append(key)\n",
    "                \n",
    "    print('Numeric =', nums)                \n",
    "    print()\n",
    "    print('Categorical =', cats)\n",
    "    \n",
    "    return nums, cats"
   ]
  },
  {
   "cell_type": "code",
   "execution_count": 22,
   "metadata": {
    "collapsed": false
   },
   "outputs": [
    {
     "name": "stdout",
     "output_type": "stream",
     "text": [
      "Numeric = ['full_sq', 'life_sq', 'floor', 'max_floor', 'material', 'build_year', 'num_room', 'kitch_sq', 'state', 'area_m', 'raion_popul', 'green_zone_part', 'indust_part', 'children_preschool', 'preschool_quota', 'preschool_education_centers_raion', 'children_school', 'school_quota', 'school_education_centers_raion', 'school_education_centers_top_20_raion', 'hospital_beds_raion', 'healthcare_centers_raion', 'university_top_20_raion', 'sport_objects_raion', 'additional_education_raion', 'culture_objects_top_25_raion', 'shopping_centers_raion', 'office_raion', 'full_all', 'male_f', 'female_f', 'young_all', 'young_male', 'young_female', 'work_all', 'work_male', 'work_female', 'ekder_all', 'ekder_male', 'ekder_female', '0_6_all', '0_6_male', '0_6_female', '7_14_all', '7_14_male', '7_14_female', '0_17_all', '0_17_male', '0_17_female', '16_29_all', '16_29_male', '16_29_female', '0_13_all', '0_13_male', '0_13_female', 'raion_build_count_with_material_info', 'build_count_block', 'build_count_wood', 'build_count_frame', 'build_count_brick', 'build_count_monolith', 'build_count_panel', 'build_count_foam', 'build_count_slag', 'build_count_mix', 'raion_build_count_with_builddate_info', 'build_count_before_1920', 'build_count_1921-1945', 'build_count_1946-1970', 'build_count_1971-1995', 'build_count_after_1995', 'ID_metro', 'metro_min_avto', 'metro_km_avto', 'metro_min_walk', 'metro_km_walk', 'kindergarten_km', 'school_km', 'park_km', 'green_zone_km', 'industrial_km', 'water_treatment_km', 'cemetery_km', 'incineration_km', 'railroad_station_walk_km', 'railroad_station_walk_min', 'ID_railroad_station_walk', 'railroad_station_avto_km', 'railroad_station_avto_min', 'ID_railroad_station_avto', 'public_transport_station_km', 'public_transport_station_min_walk', 'water_km', 'mkad_km', 'ttk_km', 'sadovoe_km', 'bulvar_ring_km', 'kremlin_km', 'big_road1_km', 'ID_big_road1', 'big_road2_km', 'ID_big_road2', 'railroad_km', 'zd_vokzaly_avto_km', 'ID_railroad_terminal', 'bus_terminal_avto_km', 'ID_bus_terminal', 'oil_chemistry_km', 'nuclear_reactor_km', 'radiation_km', 'power_transmission_line_km', 'thermal_power_plant_km', 'ts_km', 'big_market_km', 'market_shop_km', 'fitness_km', 'swim_pool_km', 'ice_rink_km', 'stadium_km', 'basketball_km', 'hospice_morgue_km', 'detention_facility_km', 'public_healthcare_km', 'university_km', 'workplaces_km', 'shopping_centers_km', 'office_km', 'additional_education_km', 'preschool_km', 'big_church_km', 'church_synagogue_km', 'mosque_km', 'theater_km', 'museum_km', 'exhibition_km', 'catering_km', 'green_part_500', 'prom_part_500', 'office_count_500', 'office_sqm_500', 'trc_count_500', 'trc_sqm_500', 'cafe_count_500', 'cafe_sum_500_min_price_avg', 'cafe_sum_500_max_price_avg', 'cafe_avg_price_500', 'cafe_count_500_na_price', 'cafe_count_500_price_500', 'cafe_count_500_price_1000', 'cafe_count_500_price_1500', 'cafe_count_500_price_2500', 'cafe_count_500_price_4000', 'cafe_count_500_price_high', 'big_church_count_500', 'church_count_500', 'mosque_count_500', 'leisure_count_500', 'sport_count_500', 'market_count_500', 'green_part_1000', 'prom_part_1000', 'office_count_1000', 'office_sqm_1000', 'trc_count_1000', 'trc_sqm_1000', 'cafe_count_1000', 'cafe_sum_1000_min_price_avg', 'cafe_sum_1000_max_price_avg', 'cafe_avg_price_1000', 'cafe_count_1000_na_price', 'cafe_count_1000_price_500', 'cafe_count_1000_price_1000', 'cafe_count_1000_price_1500', 'cafe_count_1000_price_2500', 'cafe_count_1000_price_4000', 'cafe_count_1000_price_high', 'big_church_count_1000', 'church_count_1000', 'mosque_count_1000', 'leisure_count_1000', 'sport_count_1000', 'market_count_1000', 'green_part_1500', 'prom_part_1500', 'office_count_1500', 'office_sqm_1500', 'trc_count_1500', 'trc_sqm_1500', 'cafe_count_1500', 'cafe_sum_1500_min_price_avg', 'cafe_sum_1500_max_price_avg', 'cafe_avg_price_1500', 'cafe_count_1500_na_price', 'cafe_count_1500_price_500', 'cafe_count_1500_price_1000', 'cafe_count_1500_price_1500', 'cafe_count_1500_price_2500', 'cafe_count_1500_price_4000', 'cafe_count_1500_price_high', 'big_church_count_1500', 'church_count_1500', 'mosque_count_1500', 'leisure_count_1500', 'sport_count_1500', 'market_count_1500', 'green_part_2000', 'prom_part_2000', 'office_count_2000', 'office_sqm_2000', 'trc_count_2000', 'trc_sqm_2000', 'cafe_count_2000', 'cafe_sum_2000_min_price_avg', 'cafe_sum_2000_max_price_avg', 'cafe_avg_price_2000', 'cafe_count_2000_na_price', 'cafe_count_2000_price_500', 'cafe_count_2000_price_1000', 'cafe_count_2000_price_1500', 'cafe_count_2000_price_2500', 'cafe_count_2000_price_4000', 'cafe_count_2000_price_high', 'big_church_count_2000', 'church_count_2000', 'mosque_count_2000', 'leisure_count_2000', 'sport_count_2000', 'market_count_2000', 'green_part_3000', 'prom_part_3000', 'office_count_3000', 'office_sqm_3000', 'trc_count_3000', 'trc_sqm_3000', 'cafe_count_3000', 'cafe_sum_3000_min_price_avg', 'cafe_sum_3000_max_price_avg', 'cafe_avg_price_3000', 'cafe_count_3000_na_price', 'cafe_count_3000_price_500', 'cafe_count_3000_price_1000', 'cafe_count_3000_price_1500', 'cafe_count_3000_price_2500', 'cafe_count_3000_price_4000', 'cafe_count_3000_price_high', 'big_church_count_3000', 'church_count_3000', 'mosque_count_3000', 'leisure_count_3000', 'sport_count_3000', 'market_count_3000', 'green_part_5000', 'prom_part_5000', 'office_count_5000', 'office_sqm_5000', 'trc_count_5000', 'trc_sqm_5000', 'cafe_count_5000', 'cafe_sum_5000_min_price_avg', 'cafe_sum_5000_max_price_avg', 'cafe_avg_price_5000', 'cafe_count_5000_na_price', 'cafe_count_5000_price_500', 'cafe_count_5000_price_1000', 'cafe_count_5000_price_1500', 'cafe_count_5000_price_2500', 'cafe_count_5000_price_4000', 'cafe_count_5000_price_high', 'big_church_count_5000', 'church_count_5000', 'mosque_count_5000', 'leisure_count_5000', 'sport_count_5000', 'market_count_5000']\n",
      "\n",
      "Categorical = ['product_type', 'sub_area', 'culture_objects_top_25', 'thermal_power_plant_raion', 'incineration_raion', 'oil_chemistry_raion', 'radiation_raion', 'railroad_terminal_raion', 'big_market_raion', 'nuclear_reactor_raion', 'detention_facility_raion', 'water_1line', 'big_road1_1line', 'railroad_1line', 'ecology']\n"
     ]
    }
   ],
   "source": [
    "original_nums, cats = get_type_lists()"
   ]
  },
  {
   "cell_type": "code",
   "execution_count": 23,
   "metadata": {
    "collapsed": false
   },
   "outputs": [
    {
     "data": {
      "text/html": [
       "<table>\n",
       "<thead>\n",
       "<tr><th style=\"text-align: right;\">  price_doc</th></tr>\n",
       "</thead>\n",
       "<tbody>\n",
       "<tr><td style=\"text-align: right;\">5.85e+06   </td></tr>\n",
       "<tr><td style=\"text-align: right;\">6e+06      </td></tr>\n",
       "<tr><td style=\"text-align: right;\">5.7e+06    </td></tr>\n",
       "<tr><td style=\"text-align: right;\">1.31e+07   </td></tr>\n",
       "<tr><td style=\"text-align: right;\">1.63315e+07</td></tr>\n",
       "<tr><td style=\"text-align: right;\">9.1e+06    </td></tr>\n",
       "<tr><td style=\"text-align: right;\">5.5e+06    </td></tr>\n",
       "<tr><td style=\"text-align: right;\">2e+06      </td></tr>\n",
       "<tr><td style=\"text-align: right;\">5.3e+06    </td></tr>\n",
       "<tr><td style=\"text-align: right;\">2e+06      </td></tr>\n",
       "</tbody>\n",
       "</table>"
      ]
     },
     "metadata": {},
     "output_type": "display_data"
    },
    {
     "data": {
      "text/plain": []
     },
     "execution_count": 23,
     "metadata": {},
     "output_type": "execute_result"
    }
   ],
   "source": [
    "train[\"price_doc\"]"
   ]
  },
  {
   "cell_type": "markdown",
   "metadata": {},
   "source": [
    "# Encode categorical using shrunken averages"
   ]
  },
  {
   "cell_type": "code",
   "execution_count": 24,
   "metadata": {
    "collapsed": true
   },
   "outputs": [],
   "source": [
    "def target_encoder(training_frame, test_frame, x, y, lambda_=0.15, threshold=150, test=False):\n",
    "    \n",
    "    \"\"\" Applies simple target encoding to categorical variables.\n",
    "    \n",
    "    :param training_frame: Training frame which to create target means and to be encoded.\n",
    "    :param test_frame: Test frame to be encoded using information from training frame.\n",
    "    :param x: Name of input variable to be encoded.\n",
    "    :param y: Name of target variable to use for encoding.\n",
    "    :param lambda_: Balance between level mean and overall mean for small groups.\n",
    "    :param threshold: Number below which a level is considered small enough to be shrunken.\n",
    "    :param test: Whether or not to print the row_val_dict for testing purposes.\n",
    "    :return: Tuple of encoded variable from train and test set as H2OFrames. \n",
    "    \n",
    "    \"\"\"\n",
    "    \n",
    "    # convert to pandas\n",
    "    trdf = training_frame.as_data_frame().loc[:, [x,y]] # df\n",
    "    tss = test_frame.as_data_frame().loc[:, x]          # series\n",
    "\n",
    "    \n",
    "    # create dictionary of level:encode val\n",
    "    \n",
    "    encode_name = x + '_Tencode'\n",
    "    overall_mean = trdf[y].mean()\n",
    "    row_val_dict = {}\n",
    "\n",
    "    for level in trdf[x].unique():\n",
    "        level_df = trdf[trdf[x] == level][y]\n",
    "        level_n = level_df.shape[0]\n",
    "        level_mean = level_df.mean()\n",
    "        if level_n >= threshold:\n",
    "            row_val_dict[level] = level_mean\n",
    "        else:\n",
    "            row_val_dict[level] = ((1 - lambda_) * level_mean) +\\\n",
    "                                  (lambda_ * overall_mean)\n",
    "                \n",
    "    row_val_dict[np.nan] = overall_mean # handle missing values\n",
    "    \n",
    "    if test:\n",
    "        print(row_val_dict)\n",
    "        \n",
    "    # apply the transform to training data\n",
    "    trdf[encode_name] = trdf[x].apply(lambda i: row_val_dict[i])   \n",
    "    \n",
    "    # apply the transform to test data\n",
    "    tsdf = pd.DataFrame(columns=[x, encode_name])\n",
    "    tsdf[x] = tss\n",
    "    tsdf.loc[:, encode_name] = overall_mean # handle previously unseen values\n",
    "    tsdf[encode_name] = tsdf[x].apply(lambda i: row_val_dict[i])\n",
    "    \n",
    "    # convert back to H2O\n",
    "    \n",
    "    trdf = h2o.H2OFrame(trdf[encode_name].as_matrix())\n",
    "    trdf.columns = [encode_name]\n",
    "    \n",
    "    tsdf = h2o.H2OFrame(tsdf[encode_name].as_matrix())\n",
    "    tsdf.columns = [encode_name]\n",
    "    \n",
    "    return (trdf, tsdf)"
   ]
  },
  {
   "cell_type": "markdown",
   "metadata": {},
   "source": [
    "### Execute Encoding"
   ]
  },
  {
   "cell_type": "code",
   "execution_count": 25,
   "metadata": {
    "collapsed": false
   },
   "outputs": [
    {
     "name": "stdout",
     "output_type": "stream",
     "text": [
      "Encoding: product_type (1/15) ...\n",
      "Encoding: sub_area (2/15) ...\n",
      "Encoding: culture_objects_top_25 (3/15) ...\n",
      "Encoding: thermal_power_plant_raion (4/15) ...\n",
      "Encoding: incineration_raion (5/15) ...\n",
      "Encoding: oil_chemistry_raion (6/15) ...\n",
      "Encoding: radiation_raion (7/15) ...\n",
      "Encoding: railroad_terminal_raion (8/15) ...\n",
      "Encoding: big_market_raion (9/15) ...\n",
      "Encoding: nuclear_reactor_raion (10/15) ...\n",
      "Encoding: detention_facility_raion (11/15) ...\n",
      "Encoding: water_1line (12/15) ...\n",
      "Encoding: big_road1_1line (13/15) ...\n",
      "Encoding: railroad_1line (14/15) ...\n",
      "Encoding: ecology (15/15) ...\n",
      "Done.\n"
     ]
    }
   ],
   "source": [
    "for i, var in enumerate(cats):\n",
    "    \n",
    "    total = len(cats)\n",
    "    tr_enc, ts_enc = target_encoder(train, test, var, 'price_doc')\n",
    "\n",
    "    print('Encoding: ' + var + ' (' + str(i+1) + '/' + str(total) + ') ...')\n",
    "\n",
    "    train = train.cbind(tr_enc)\n",
    "    test = test.cbind(ts_enc)    \n",
    "    \n",
    "print('Done.')"
   ]
  },
  {
   "cell_type": "markdown",
   "metadata": {},
   "source": [
    "#### Redefine numerics and explore"
   ]
  },
  {
   "cell_type": "code",
   "execution_count": 26,
   "metadata": {
    "collapsed": false
   },
   "outputs": [
    {
     "name": "stdout",
     "output_type": "stream",
     "text": [
      "Numeric = ['full_sq', 'life_sq', 'floor', 'max_floor', 'material', 'build_year', 'num_room', 'kitch_sq', 'state', 'area_m', 'raion_popul', 'green_zone_part', 'indust_part', 'children_preschool', 'preschool_quota', 'preschool_education_centers_raion', 'children_school', 'school_quota', 'school_education_centers_raion', 'school_education_centers_top_20_raion', 'hospital_beds_raion', 'healthcare_centers_raion', 'university_top_20_raion', 'sport_objects_raion', 'additional_education_raion', 'culture_objects_top_25_raion', 'shopping_centers_raion', 'office_raion', 'full_all', 'male_f', 'female_f', 'young_all', 'young_male', 'young_female', 'work_all', 'work_male', 'work_female', 'ekder_all', 'ekder_male', 'ekder_female', '0_6_all', '0_6_male', '0_6_female', '7_14_all', '7_14_male', '7_14_female', '0_17_all', '0_17_male', '0_17_female', '16_29_all', '16_29_male', '16_29_female', '0_13_all', '0_13_male', '0_13_female', 'raion_build_count_with_material_info', 'build_count_block', 'build_count_wood', 'build_count_frame', 'build_count_brick', 'build_count_monolith', 'build_count_panel', 'build_count_foam', 'build_count_slag', 'build_count_mix', 'raion_build_count_with_builddate_info', 'build_count_before_1920', 'build_count_1921-1945', 'build_count_1946-1970', 'build_count_1971-1995', 'build_count_after_1995', 'ID_metro', 'metro_min_avto', 'metro_km_avto', 'metro_min_walk', 'metro_km_walk', 'kindergarten_km', 'school_km', 'park_km', 'green_zone_km', 'industrial_km', 'water_treatment_km', 'cemetery_km', 'incineration_km', 'railroad_station_walk_km', 'railroad_station_walk_min', 'ID_railroad_station_walk', 'railroad_station_avto_km', 'railroad_station_avto_min', 'ID_railroad_station_avto', 'public_transport_station_km', 'public_transport_station_min_walk', 'water_km', 'mkad_km', 'ttk_km', 'sadovoe_km', 'bulvar_ring_km', 'kremlin_km', 'big_road1_km', 'ID_big_road1', 'big_road2_km', 'ID_big_road2', 'railroad_km', 'zd_vokzaly_avto_km', 'ID_railroad_terminal', 'bus_terminal_avto_km', 'ID_bus_terminal', 'oil_chemistry_km', 'nuclear_reactor_km', 'radiation_km', 'power_transmission_line_km', 'thermal_power_plant_km', 'ts_km', 'big_market_km', 'market_shop_km', 'fitness_km', 'swim_pool_km', 'ice_rink_km', 'stadium_km', 'basketball_km', 'hospice_morgue_km', 'detention_facility_km', 'public_healthcare_km', 'university_km', 'workplaces_km', 'shopping_centers_km', 'office_km', 'additional_education_km', 'preschool_km', 'big_church_km', 'church_synagogue_km', 'mosque_km', 'theater_km', 'museum_km', 'exhibition_km', 'catering_km', 'green_part_500', 'prom_part_500', 'office_count_500', 'office_sqm_500', 'trc_count_500', 'trc_sqm_500', 'cafe_count_500', 'cafe_sum_500_min_price_avg', 'cafe_sum_500_max_price_avg', 'cafe_avg_price_500', 'cafe_count_500_na_price', 'cafe_count_500_price_500', 'cafe_count_500_price_1000', 'cafe_count_500_price_1500', 'cafe_count_500_price_2500', 'cafe_count_500_price_4000', 'cafe_count_500_price_high', 'big_church_count_500', 'church_count_500', 'mosque_count_500', 'leisure_count_500', 'sport_count_500', 'market_count_500', 'green_part_1000', 'prom_part_1000', 'office_count_1000', 'office_sqm_1000', 'trc_count_1000', 'trc_sqm_1000', 'cafe_count_1000', 'cafe_sum_1000_min_price_avg', 'cafe_sum_1000_max_price_avg', 'cafe_avg_price_1000', 'cafe_count_1000_na_price', 'cafe_count_1000_price_500', 'cafe_count_1000_price_1000', 'cafe_count_1000_price_1500', 'cafe_count_1000_price_2500', 'cafe_count_1000_price_4000', 'cafe_count_1000_price_high', 'big_church_count_1000', 'church_count_1000', 'mosque_count_1000', 'leisure_count_1000', 'sport_count_1000', 'market_count_1000', 'green_part_1500', 'prom_part_1500', 'office_count_1500', 'office_sqm_1500', 'trc_count_1500', 'trc_sqm_1500', 'cafe_count_1500', 'cafe_sum_1500_min_price_avg', 'cafe_sum_1500_max_price_avg', 'cafe_avg_price_1500', 'cafe_count_1500_na_price', 'cafe_count_1500_price_500', 'cafe_count_1500_price_1000', 'cafe_count_1500_price_1500', 'cafe_count_1500_price_2500', 'cafe_count_1500_price_4000', 'cafe_count_1500_price_high', 'big_church_count_1500', 'church_count_1500', 'mosque_count_1500', 'leisure_count_1500', 'sport_count_1500', 'market_count_1500', 'green_part_2000', 'prom_part_2000', 'office_count_2000', 'office_sqm_2000', 'trc_count_2000', 'trc_sqm_2000', 'cafe_count_2000', 'cafe_sum_2000_min_price_avg', 'cafe_sum_2000_max_price_avg', 'cafe_avg_price_2000', 'cafe_count_2000_na_price', 'cafe_count_2000_price_500', 'cafe_count_2000_price_1000', 'cafe_count_2000_price_1500', 'cafe_count_2000_price_2500', 'cafe_count_2000_price_4000', 'cafe_count_2000_price_high', 'big_church_count_2000', 'church_count_2000', 'mosque_count_2000', 'leisure_count_2000', 'sport_count_2000', 'market_count_2000', 'green_part_3000', 'prom_part_3000', 'office_count_3000', 'office_sqm_3000', 'trc_count_3000', 'trc_sqm_3000', 'cafe_count_3000', 'cafe_sum_3000_min_price_avg', 'cafe_sum_3000_max_price_avg', 'cafe_avg_price_3000', 'cafe_count_3000_na_price', 'cafe_count_3000_price_500', 'cafe_count_3000_price_1000', 'cafe_count_3000_price_1500', 'cafe_count_3000_price_2500', 'cafe_count_3000_price_4000', 'cafe_count_3000_price_high', 'big_church_count_3000', 'church_count_3000', 'mosque_count_3000', 'leisure_count_3000', 'sport_count_3000', 'market_count_3000', 'green_part_5000', 'prom_part_5000', 'office_count_5000', 'office_sqm_5000', 'trc_count_5000', 'trc_sqm_5000', 'cafe_count_5000', 'cafe_sum_5000_min_price_avg', 'cafe_sum_5000_max_price_avg', 'cafe_avg_price_5000', 'cafe_count_5000_na_price', 'cafe_count_5000_price_500', 'cafe_count_5000_price_1000', 'cafe_count_5000_price_1500', 'cafe_count_5000_price_2500', 'cafe_count_5000_price_4000', 'cafe_count_5000_price_high', 'big_church_count_5000', 'church_count_5000', 'mosque_count_5000', 'leisure_count_5000', 'sport_count_5000', 'market_count_5000', 'product_type_Tencode', 'sub_area_Tencode', 'culture_objects_top_25_Tencode', 'thermal_power_plant_raion_Tencode', 'incineration_raion_Tencode', 'oil_chemistry_raion_Tencode', 'radiation_raion_Tencode', 'railroad_terminal_raion_Tencode', 'big_market_raion_Tencode', 'nuclear_reactor_raion_Tencode', 'detention_facility_raion_Tencode', 'water_1line_Tencode', 'big_road1_1line_Tencode', 'railroad_1line_Tencode', 'ecology_Tencode']\n",
      "\n",
      "Categorical = ['product_type', 'sub_area', 'culture_objects_top_25', 'thermal_power_plant_raion', 'incineration_raion', 'oil_chemistry_raion', 'radiation_raion', 'railroad_terminal_raion', 'big_market_raion', 'nuclear_reactor_raion', 'detention_facility_raion', 'water_1line', 'big_road1_1line', 'railroad_1line', 'ecology']\n"
     ]
    }
   ],
   "source": [
    "encoded_nums, cats = get_type_lists(frame=train)"
   ]
  },
  {
   "cell_type": "code",
   "execution_count": 27,
   "metadata": {
    "collapsed": false
   },
   "outputs": [
    {
     "name": "stdout",
     "output_type": "stream",
     "text": [
      "Imputed and encoded numeric training data:\n",
      "Rows:30471\n",
      "Cols:289\n",
      "\n",
      "\n"
     ]
    },
    {
     "data": {
      "text/html": [
       "<table>\n",
       "<thead>\n",
       "<tr><th>       </th><th>full_sq           </th><th>life_sq           </th><th>floor            </th><th>max_floor         </th><th>material          </th><th>build_year        </th><th>num_room          </th><th>kitch_sq         </th><th>state             </th><th>area_m            </th><th>raion_popul      </th><th>green_zone_part      </th><th>indust_part         </th><th>children_preschool  </th><th>preschool_quota   </th><th>preschool_education_centers_raion  </th><th>children_school  </th><th>school_quota     </th><th>school_education_centers_raion  </th><th>school_education_centers_top_20_raion  </th><th>hospital_beds_raion  </th><th>healthcare_centers_raion  </th><th>university_top_20_raion  </th><th>sport_objects_raion  </th><th>additional_education_raion  </th><th>culture_objects_top_25_raion  </th><th>shopping_centers_raion  </th><th>office_raion     </th><th>full_all          </th><th>male_f            </th><th>female_f          </th><th>young_all         </th><th>young_male        </th><th>young_female     </th><th>work_all         </th><th>work_male        </th><th>work_female       </th><th>ekder_all         </th><th>ekder_male       </th><th>ekder_female      </th><th>0_6_all          </th><th>0_6_male         </th><th>0_6_female        </th><th>7_14_all         </th><th>7_14_male        </th><th>7_14_female       </th><th>0_17_all          </th><th>0_17_male        </th><th>0_17_female       </th><th>16_29_all        </th><th>16_29_male        </th><th>16_29_female      </th><th>0_13_all         </th><th>0_13_male         </th><th>0_13_female      </th><th>raion_build_count_with_material_info  </th><th>build_count_block  </th><th>build_count_wood  </th><th>build_count_frame  </th><th>build_count_brick  </th><th>build_count_monolith  </th><th>build_count_panel  </th><th>build_count_foam   </th><th>build_count_slag  </th><th>build_count_mix   </th><th>raion_build_count_with_builddate_info  </th><th>build_count_before_1920  </th><th>build_count_1921-1945  </th><th>build_count_1946-1970  </th><th>build_count_1971-1995  </th><th>build_count_after_1995  </th><th>ID_metro         </th><th>metro_min_avto    </th><th>metro_km_avto      </th><th>metro_min_walk    </th><th>metro_km_walk      </th><th>kindergarten_km       </th><th>school_km          </th><th>park_km            </th><th>green_zone_km      </th><th>industrial_km      </th><th>water_treatment_km  </th><th>cemetery_km       </th><th>incineration_km   </th><th>railroad_station_walk_km  </th><th>railroad_station_walk_min  </th><th>ID_railroad_station_walk  </th><th>railroad_station_avto_km  </th><th>railroad_station_avto_min  </th><th>ID_railroad_station_avto  </th><th>public_transport_station_km  </th><th>public_transport_station_min_walk  </th><th>water_km             </th><th>mkad_km           </th><th>ttk_km             </th><th>sadovoe_km        </th><th>bulvar_ring_km       </th><th>kremlin_km        </th><th>big_road1_km      </th><th>ID_big_road1      </th><th>big_road2_km      </th><th>ID_big_road2     </th><th>railroad_km          </th><th>zd_vokzaly_avto_km  </th><th>ID_railroad_terminal  </th><th>bus_terminal_avto_km  </th><th>ID_bus_terminal   </th><th>oil_chemistry_km  </th><th>nuclear_reactor_km  </th><th>radiation_km      </th><th>power_transmission_line_km  </th><th>thermal_power_plant_km  </th><th>ts_km             </th><th>big_market_km     </th><th>market_shop_km    </th><th>fitness_km         </th><th>swim_pool_km      </th><th>ice_rink_km       </th><th>stadium_km        </th><th>basketball_km      </th><th>hospice_morgue_km    </th><th>detention_facility_km  </th><th>public_healthcare_km  </th><th>university_km         </th><th>workplaces_km      </th><th>shopping_centers_km  </th><th>office_km         </th><th>additional_education_km  </th><th>preschool_km       </th><th>big_church_km       </th><th>church_synagogue_km  </th><th>mosque_km            </th><th>theater_km          </th><th>museum_km         </th><th>exhibition_km       </th><th>catering_km           </th><th>green_part_500    </th><th>prom_part_500     </th><th>office_count_500  </th><th>office_sqm_500    </th><th>trc_count_500     </th><th>trc_sqm_500       </th><th>cafe_count_500    </th><th>cafe_sum_500_min_price_avg  </th><th>cafe_sum_500_max_price_avg  </th><th>cafe_avg_price_500  </th><th>cafe_count_500_na_price  </th><th>cafe_count_500_price_500  </th><th>cafe_count_500_price_1000  </th><th>cafe_count_500_price_1500  </th><th>cafe_count_500_price_2500  </th><th>cafe_count_500_price_4000  </th><th>cafe_count_500_price_high  </th><th>big_church_count_500  </th><th>church_count_500  </th><th>mosque_count_500     </th><th>leisure_count_500  </th><th>sport_count_500   </th><th>market_count_500   </th><th>green_part_1000   </th><th>prom_part_1000    </th><th>office_count_1000  </th><th>office_sqm_1000   </th><th>trc_count_1000    </th><th>trc_sqm_1000      </th><th>cafe_count_1000   </th><th>cafe_sum_1000_min_price_avg  </th><th>cafe_sum_1000_max_price_avg  </th><th>cafe_avg_price_1000  </th><th>cafe_count_1000_na_price  </th><th>cafe_count_1000_price_500  </th><th>cafe_count_1000_price_1000  </th><th>cafe_count_1000_price_1500  </th><th>cafe_count_1000_price_2500  </th><th>cafe_count_1000_price_4000  </th><th>cafe_count_1000_price_high  </th><th>big_church_count_1000  </th><th>church_count_1000  </th><th>mosque_count_1000   </th><th>leisure_count_1000  </th><th>sport_count_1000  </th><th>market_count_1000  </th><th>green_part_1500   </th><th>prom_part_1500    </th><th>office_count_1500  </th><th>office_sqm_1500   </th><th>trc_count_1500    </th><th>trc_sqm_1500      </th><th>cafe_count_1500  </th><th>cafe_sum_1500_min_price_avg  </th><th>cafe_sum_1500_max_price_avg  </th><th>cafe_avg_price_1500  </th><th>cafe_count_1500_na_price  </th><th>cafe_count_1500_price_500  </th><th>cafe_count_1500_price_1000  </th><th>cafe_count_1500_price_1500  </th><th>cafe_count_1500_price_2500  </th><th>cafe_count_1500_price_4000  </th><th>cafe_count_1500_price_high  </th><th>big_church_count_1500  </th><th>church_count_1500  </th><th>mosque_count_1500  </th><th>leisure_count_1500  </th><th>sport_count_1500  </th><th>market_count_1500  </th><th>green_part_2000   </th><th>prom_part_2000    </th><th>office_count_2000  </th><th>office_sqm_2000   </th><th>trc_count_2000   </th><th>trc_sqm_2000     </th><th>cafe_count_2000  </th><th>cafe_sum_2000_min_price_avg  </th><th>cafe_sum_2000_max_price_avg  </th><th>cafe_avg_price_2000  </th><th>cafe_count_2000_na_price  </th><th>cafe_count_2000_price_500  </th><th>cafe_count_2000_price_1000  </th><th>cafe_count_2000_price_1500  </th><th>cafe_count_2000_price_2500  </th><th>cafe_count_2000_price_4000  </th><th>cafe_count_2000_price_high  </th><th>big_church_count_2000  </th><th>church_count_2000  </th><th>mosque_count_2000  </th><th>leisure_count_2000  </th><th>sport_count_2000  </th><th>market_count_2000  </th><th>green_part_3000   </th><th>prom_part_3000    </th><th>office_count_3000  </th><th>office_sqm_3000   </th><th>trc_count_3000    </th><th>trc_sqm_3000     </th><th>cafe_count_3000   </th><th>cafe_sum_3000_min_price_avg  </th><th>cafe_sum_3000_max_price_avg  </th><th>cafe_avg_price_3000  </th><th>cafe_count_3000_na_price  </th><th>cafe_count_3000_price_500  </th><th>cafe_count_3000_price_1000  </th><th>cafe_count_3000_price_1500  </th><th>cafe_count_3000_price_2500  </th><th>cafe_count_3000_price_4000  </th><th>cafe_count_3000_price_high  </th><th>big_church_count_3000  </th><th>church_count_3000  </th><th>mosque_count_3000  </th><th>leisure_count_3000  </th><th>sport_count_3000  </th><th>market_count_3000  </th><th>green_part_5000   </th><th>prom_part_5000    </th><th>office_count_5000  </th><th>office_sqm_5000   </th><th>trc_count_5000    </th><th>trc_sqm_5000      </th><th>cafe_count_5000   </th><th>cafe_sum_5000_min_price_avg  </th><th>cafe_sum_5000_max_price_avg  </th><th>cafe_avg_price_5000  </th><th>cafe_count_5000_na_price  </th><th>cafe_count_5000_price_500  </th><th>cafe_count_5000_price_1000  </th><th>cafe_count_5000_price_1500  </th><th>cafe_count_5000_price_2500  </th><th>cafe_count_5000_price_4000  </th><th>cafe_count_5000_price_high  </th><th>big_church_count_5000  </th><th>church_count_5000  </th><th>mosque_count_5000  </th><th>leisure_count_5000  </th><th>sport_count_5000  </th><th>market_count_5000  </th><th>product_type_Tencode  </th><th>sub_area_Tencode  </th><th>culture_objects_top_25_Tencode  </th><th>thermal_power_plant_raion_Tencode  </th><th>incineration_raion_Tencode  </th><th>oil_chemistry_raion_Tencode  </th><th>radiation_raion_Tencode  </th><th>railroad_terminal_raion_Tencode  </th><th>big_market_raion_Tencode  </th><th>nuclear_reactor_raion_Tencode  </th><th>detention_facility_raion_Tencode  </th><th>water_1line_Tencode  </th><th>big_road1_1line_Tencode  </th><th>railroad_1line_Tencode  </th><th>ecology_Tencode  </th></tr>\n",
       "</thead>\n",
       "<tbody>\n",
       "<tr><td>type   </td><td>int               </td><td>int               </td><td>int              </td><td>int               </td><td>int               </td><td>int               </td><td>int               </td><td>int              </td><td>int               </td><td>real              </td><td>int              </td><td>real                 </td><td>real                </td><td>int                 </td><td>int               </td><td>int                                </td><td>int              </td><td>int              </td><td>int                             </td><td>int                                    </td><td>int                  </td><td>int                       </td><td>int                      </td><td>int                  </td><td>int                         </td><td>int                           </td><td>int                     </td><td>int              </td><td>int               </td><td>int               </td><td>int               </td><td>int               </td><td>int               </td><td>int              </td><td>int              </td><td>int              </td><td>int               </td><td>int               </td><td>int              </td><td>int               </td><td>int              </td><td>int              </td><td>int               </td><td>int              </td><td>int              </td><td>int               </td><td>int               </td><td>int              </td><td>int               </td><td>int              </td><td>int               </td><td>int               </td><td>int              </td><td>int               </td><td>int              </td><td>int                                   </td><td>int                </td><td>int               </td><td>int                </td><td>int                </td><td>int                   </td><td>int                </td><td>int                </td><td>int               </td><td>int               </td><td>int                                    </td><td>int                      </td><td>int                    </td><td>int                    </td><td>int                    </td><td>int                     </td><td>int              </td><td>real              </td><td>real               </td><td>real              </td><td>real               </td><td>real                  </td><td>real               </td><td>real               </td><td>real               </td><td>real               </td><td>real                </td><td>real              </td><td>real              </td><td>real                      </td><td>real                       </td><td>int                       </td><td>real                      </td><td>real                       </td><td>int                       </td><td>real                         </td><td>real                               </td><td>real                 </td><td>real              </td><td>real               </td><td>real              </td><td>real                 </td><td>real              </td><td>real              </td><td>int               </td><td>real              </td><td>int              </td><td>real                 </td><td>real                </td><td>int                   </td><td>real                  </td><td>int               </td><td>real              </td><td>real                </td><td>real              </td><td>real                        </td><td>real                    </td><td>real              </td><td>real              </td><td>real              </td><td>real               </td><td>real              </td><td>real              </td><td>real              </td><td>real               </td><td>real                 </td><td>real                   </td><td>real                  </td><td>real                  </td><td>real               </td><td>real                 </td><td>real              </td><td>real                     </td><td>real               </td><td>real                </td><td>real                 </td><td>real                 </td><td>real                </td><td>real              </td><td>real                </td><td>real                  </td><td>real              </td><td>real              </td><td>int               </td><td>int               </td><td>int               </td><td>int               </td><td>int               </td><td>real                        </td><td>real                        </td><td>real                </td><td>int                      </td><td>int                       </td><td>int                        </td><td>int                        </td><td>int                        </td><td>int                        </td><td>int                        </td><td>int                   </td><td>int               </td><td>int                  </td><td>int                </td><td>int               </td><td>int                </td><td>real              </td><td>real              </td><td>int                </td><td>int               </td><td>int               </td><td>int               </td><td>int               </td><td>real                         </td><td>real                         </td><td>real                 </td><td>int                       </td><td>int                        </td><td>int                         </td><td>int                         </td><td>int                         </td><td>int                         </td><td>int                         </td><td>int                    </td><td>int                </td><td>int                 </td><td>int                 </td><td>int               </td><td>int                </td><td>real              </td><td>real              </td><td>int                </td><td>int               </td><td>int               </td><td>int               </td><td>int              </td><td>real                         </td><td>real                         </td><td>real                 </td><td>int                       </td><td>int                        </td><td>int                         </td><td>int                         </td><td>int                         </td><td>int                         </td><td>int                         </td><td>int                    </td><td>int                </td><td>int                </td><td>int                 </td><td>int               </td><td>int                </td><td>real              </td><td>real              </td><td>int                </td><td>int               </td><td>int              </td><td>int              </td><td>int              </td><td>real                         </td><td>real                         </td><td>real                 </td><td>int                       </td><td>int                        </td><td>int                         </td><td>int                         </td><td>int                         </td><td>int                         </td><td>int                         </td><td>int                    </td><td>int                </td><td>int                </td><td>int                 </td><td>int               </td><td>int                </td><td>real              </td><td>real              </td><td>int                </td><td>int               </td><td>int               </td><td>int              </td><td>int               </td><td>real                         </td><td>real                         </td><td>real                 </td><td>int                       </td><td>int                        </td><td>int                         </td><td>int                         </td><td>int                         </td><td>int                         </td><td>int                         </td><td>int                    </td><td>int                </td><td>int                </td><td>int                 </td><td>int               </td><td>int                </td><td>real              </td><td>real              </td><td>int                </td><td>int               </td><td>int               </td><td>int               </td><td>int               </td><td>real                         </td><td>real                         </td><td>real                 </td><td>int                       </td><td>int                        </td><td>int                         </td><td>int                         </td><td>int                         </td><td>int                         </td><td>int                         </td><td>int                    </td><td>int                </td><td>int                </td><td>int                 </td><td>int               </td><td>int                </td><td>real                  </td><td>real              </td><td>real                            </td><td>real                               </td><td>real                        </td><td>real                         </td><td>real                     </td><td>real                             </td><td>real                      </td><td>real                           </td><td>real                              </td><td>real                 </td><td>real                     </td><td>real                    </td><td>real             </td></tr>\n",
       "<tr><td>mins   </td><td>0.0               </td><td>0.0               </td><td>0.0              </td><td>0.0               </td><td>1.0               </td><td>0.0               </td><td>0.0               </td><td>0.0              </td><td>1.0               </td><td>2081627.761       </td><td>2546.0           </td><td>0.0018793750000000002</td><td>0.0                 </td><td>175.0               </td><td>0.0               </td><td>0.0                                </td><td>168.0            </td><td>1012.0           </td><td>0.0                             </td><td>0.0                                    </td><td>0.0                  </td><td>0.0                       </td><td>0.0                      </td><td>0.0                  </td><td>0.0                         </td><td>0.0                           </td><td>0.0                     </td><td>0.0              </td><td>2546.0            </td><td>1208.0            </td><td>1341.0            </td><td>365.0             </td><td>189.0             </td><td>177.0            </td><td>1633.0           </td><td>863.0            </td><td>771.0             </td><td>548.0             </td><td>156.0            </td><td>393.0             </td><td>175.0            </td><td>91.0             </td><td>85.0              </td><td>168.0            </td><td>87.0             </td><td>82.0              </td><td>411.0             </td><td>214.0            </td><td>198.0             </td><td>575.0            </td><td>308.0             </td><td>253.0             </td><td>322.0            </td><td>166.0             </td><td>156.0            </td><td>1.0                                   </td><td>0.0                </td><td>0.0               </td><td>0.0                </td><td>0.0                </td><td>0.0                   </td><td>0.0                </td><td>0.0                </td><td>0.0               </td><td>0.0               </td><td>1.0                                    </td><td>0.0                      </td><td>0.0                    </td><td>0.0                    </td><td>0.0                    </td><td>0.0                     </td><td>1.0              </td><td>0.0               </td><td>0.0                </td><td>0.0               </td><td>0.0                </td><td>0.00046974800000000003</td><td>0.0                </td><td>0.003737175        </td><td>0.0                </td><td>0.0                </td><td>0.27413899999999997 </td><td>0.0               </td><td>0.198071          </td><td>0.028152755               </td><td>0.33783305700000005        </td><td>1.0                       </td><td>0.028152755               </td><td>0.035190944                </td><td>1.0                       </td><td>0.002803868                  </td><td>0.033646415                        </td><td>0.0067073110000000005</td><td>0.013626182       </td><td>0.001934755        </td><td>0.000355499       </td><td>0.0019468270000000001</td><td>0.072896553       </td><td>0.000363832       </td><td>1.0               </td><td>0.00193473        </td><td>1.0              </td><td>0.0022994820000000003</td><td>0.13671543900000002 </td><td>5.0                   </td><td>0.062026031           </td><td>1.0               </td><td>0.510709937       </td><td>0.3098107950000001  </td><td>0.004663282       </td><td>0.030265937000000003        </td><td>0.400562974             </td><td>0.0               </td><td>0.66136622        </td><td>0.003847146       </td><td>0.0                </td><td>0.0               </td><td>0.0               </td><td>0.114745597       </td><td>0.005458234        </td><td>0.0025167130000000003</td><td>0.041227084000000004   </td><td>0.0                   </td><td>0.00031342100000000003</td><td>0.0                </td><td>0.0                  </td><td>0.0               </td><td>0.0                      </td><td>0.0                </td><td>0.004071872000000001</td><td>0.0                  </td><td>0.0055445220000000005</td><td>0.026788074000000002</td><td>0.007902693       </td><td>0.008949292000000001</td><td>0.00035669600000000004</td><td>0.0               </td><td>0.0               </td><td>0.0               </td><td>0.0               </td><td>0.0               </td><td>0.0               </td><td>0.0               </td><td>300.0                       </td><td>500.0                       </td><td>400.0               </td><td>0.0                      </td><td>0.0                       </td><td>0.0                        </td><td>0.0                        </td><td>0.0                        </td><td>0.0                        </td><td>0.0                        </td><td>0.0                   </td><td>0.0               </td><td>0.0                  </td><td>0.0                </td><td>0.0               </td><td>0.0                </td><td>0.0               </td><td>0.0               </td><td>0.0                </td><td>0.0               </td><td>0.0               </td><td>0.0               </td><td>0.0               </td><td>300.0                        </td><td>500.0                        </td><td>400.0                </td><td>0.0                       </td><td>0.0                        </td><td>0.0                         </td><td>0.0                         </td><td>0.0                         </td><td>0.0                         </td><td>0.0                         </td><td>0.0                    </td><td>0.0                </td><td>0.0                 </td><td>0.0                 </td><td>0.0               </td><td>0.0                </td><td>0.0               </td><td>0.0               </td><td>0.0                </td><td>0.0               </td><td>0.0               </td><td>0.0               </td><td>0.0              </td><td>300.0                        </td><td>500.0                        </td><td>400.0                </td><td>0.0                       </td><td>0.0                        </td><td>0.0                         </td><td>0.0                         </td><td>0.0                         </td><td>0.0                         </td><td>0.0                         </td><td>0.0                    </td><td>0.0                </td><td>0.0                </td><td>0.0                 </td><td>0.0               </td><td>0.0                </td><td>0.01              </td><td>0.0               </td><td>0.0                </td><td>0.0               </td><td>0.0              </td><td>0.0              </td><td>0.0              </td><td>300.0                        </td><td>500.0                        </td><td>400.0                </td><td>0.0                       </td><td>0.0                        </td><td>0.0                         </td><td>0.0                         </td><td>0.0                         </td><td>0.0                         </td><td>0.0                         </td><td>0.0                    </td><td>0.0                </td><td>0.0                </td><td>0.0                 </td><td>0.0               </td><td>0.0                </td><td>0.31              </td><td>0.0               </td><td>0.0                </td><td>0.0               </td><td>0.0               </td><td>0.0              </td><td>0.0               </td><td>300.0                        </td><td>500.0                        </td><td>400.0                </td><td>0.0                       </td><td>0.0                        </td><td>0.0                         </td><td>0.0                         </td><td>0.0                         </td><td>0.0                         </td><td>0.0                         </td><td>0.0                    </td><td>0.0                </td><td>0.0                </td><td>0.0                 </td><td>0.0               </td><td>0.0                </td><td>3.52              </td><td>0.21              </td><td>0.0                </td><td>0.0               </td><td>0.0               </td><td>0.0               </td><td>0.0               </td><td>300.0                        </td><td>500.0                        </td><td>400.0                </td><td>0.0                       </td><td>0.0                        </td><td>0.0                         </td><td>0.0                         </td><td>0.0                         </td><td>0.0                         </td><td>0.0                         </td><td>0.0                    </td><td>0.0                </td><td>0.0                </td><td>0.0                 </td><td>0.0               </td><td>0.0                </td><td>6466254.641204755     </td><td>1918455.2916609237</td><td>6924696.802578567               </td><td>7083619.164902663                  </td><td>5801867.37521589            </td><td>5941056.581081081            </td><td>6682753.892193877        </td><td>7069163.030850519                </td><td>5953647.125088589         </td><td>7100172.404620374              </td><td>7063324.7332920125                </td><td>6484065.9165596925   </td><td>7075624.33772314         </td><td>6398952.416573348       </td><td>5241629.717215257</td></tr>\n",
       "<tr><td>mean   </td><td>54.214269305241054</td><td>34.40327133842578 </td><td>7.670802534318904</td><td>12.558974113593951</td><td>1.8271209148763092</td><td>3068.0570971184634</td><td>1.9098042968563096</td><td>6.399301401980953</td><td>2.1070245979186373</td><td>17657051.42149151 </td><td>84056.42555216435</td><td>0.21892226384815075  </td><td>0.11887130937167803 </td><td>5140.026156017198   </td><td>3271.2724635243662</td><td>4.065111089232387                  </td><td>5354.269699058121</td><td>8324.970739090224</td><td>4.705031013094418               </td><td>0.10967805454366447                    </td><td>1190.738677479725    </td><td>1.3208952774769454        </td><td>0.13829542844015622      </td><td>6.635030028551737    </td><td>2.8963932919825406          </td><td>0.2867316464835417            </td><td>4.200977979062059       </td><td>8.25345410390207 </td><td>146306.1527682058 </td><td>67207.78960322926 </td><td>79098.66210495224 </td><td>11178.809490991434</td><td>5723.8531062321545</td><td>5455.013947687966</td><td>53667.90889698402</td><td>27253.58580289455</td><td>26414.41482064913 </td><td>19209.707164188905</td><td>5811.618161530636</td><td>13398.167437891761</td><td>5140.026156017198</td><td>2631.199172984149</td><td>2508.9556955794033</td><td>5354.269699058121</td><td>2743.47034885629 </td><td>2610.946506514391 </td><td>12540.611302549969</td><td>6423.198516622362</td><td>6117.569525122245 </td><td>31316.28984936497</td><td>15369.431065603352</td><td>15946.978766696204</td><td>9841.097535361494</td><td>5037.272488595716 </td><td>4803.833152833843</td><td>328.6606357927788                     </td><td>50.297448979591834 </td><td>40.848430141287274</td><td>4.95498430141287   </td><td>108.048704866562   </td><td>12.043642072213501    </td><td>107.23689167974882 </td><td>0.16558084772370493</td><td>4.49179748822606  </td><td>0.5731554160125588</td><td>328.32849293563584                     </td><td>18.89929356357928        </td><td>26.721585557299846     </td><td>141.42641287284133     </td><td>80.13037676609103      </td><td>61.15082417582418       </td><td>72.48419808998725</td><td>4.961272570680679 </td><td>3.701463740892355  </td><td>42.737601036513375</td><td>3.5614667530718656 </td><td>0.9816837523017949    </td><td>1.3239562184499698 </td><td>3.099942211361327  </td><td>0.30051099208421106</td><td>0.7688314541307147 </td><td>11.167612558301338  </td><td>2.314764888287225 </td><td>10.884613305798956</td><td>4.386944618166458         </td><td>52.64333541907373          </td><td>38.857321158772926        </td><td>4.58728284273145          </td><td>6.086609114565421          </td><td>45.70785336877686         </td><td>0.41413551686068734          </td><td>4.969626202181884                  </td><td>0.690946592107053    </td><td>6.274764137684882 </td><td>11.3181520344336   </td><td>14.056721456610486</td><td>15.023338093620692   </td><td>16.04480835200086 </td><td>1.8812758558572087</td><td>11.51501427586886 </td><td>3.396649313370943 </td><td>22.4140658330872 </td><td>1.8893795041980583   </td><td>17.21484814435808   </td><td>51.670965836369014    </td><td>9.992446834913723     </td><td>6.695513767188475 </td><td>17.40161071598291 </td><td>10.945350234639921  </td><td>4.410781065990547 </td><td>3.492230500259461           </td><td>7.340115605731548       </td><td>4.931417517331104 </td><td>13.283916046466835</td><td>3.95888174471632  </td><td>1.1545860997584259 </td><td>4.232376191764498 </td><td>6.123671733234682 </td><td>9.436658265525477 </td><td>4.7876358564544    </td><td>2.6464934485508196   </td><td>14.551103296241713     </td><td>3.3567706694024495    </td><td>6.855890704522202     </td><td>3.9267018342802342 </td><td>1.5058083009477532   </td><td>2.0109731690560215</td><td>1.3284880872308094       </td><td>1.3452350425243012 </td><td>2.3300469499163468  </td><td>0.9720142215667033   </td><td>7.739236770494769    </td><td>9.638074490018965   </td><td>7.063236408436085 </td><td>5.552255865661678   </td><td>0.6879882153968362    </td><td>13.376269567785762</td><td>5.718069639985562 </td><td>0.740868366643694 </td><td>13983.384332644153</td><td>0.5583669718748975</td><td>21797.256703094743</td><td>3.8718453611630723</td><td>741.3195724258292           </td><td>1247.0234973821987          </td><td>994.1716276905178   </td><td>0.3433428505792393       </td><td>0.9937317449378098        </td><td>0.9800794197761803         </td><td>0.843785894785206          </td><td>0.5428768337107416         </td><td>0.1386236093334646         </td><td>0.02940500804043189        </td><td>0.2864034655902334    </td><td>0.5828164484263724</td><td>0.0048898953102950345</td><td>0.07059171015063503</td><td>0.9144760592038329</td><td>0.12385546913458702</td><td>16.962455777624616</td><td>8.78320928095566  </td><td>3.091857832037019  </td><td>62267.220537560315</td><td>1.9781759705949922</td><td>65880.79482130546 </td><td>15.413704834104562</td><td>710.9163916148165            </td><td>1206.616553221698            </td><td>958.7664905833716    </td><td>1.0220865741196545        </td><td>4.145252863378292          </td><td>3.9421417085097286          </td><td>3.524334613238818           </td><td>1.951035410718387           </td><td>0.7686981063962454          </td><td>0.06015555774342819         </td><td>0.810803715007712      </td><td>1.8219290472908667 </td><td>0.019165764169210068</td><td>0.4692658593416693  </td><td>2.9131305175412696</td><td>0.38023038298710227</td><td>19.197469725312594</td><td>10.599294739260284</td><td>7.313905024449476  </td><td>140371.18903219458</td><td>3.7260017721768244</td><td>127714.86416592827</td><td>32.46165206261691</td><td>714.0642981120589            </td><td>1206.0148671589523           </td><td>960.0397605816082    </td><td>2.106133700895934         </td><td>8.22956253486922           </td><td>8.764825571855203           </td><td>7.880706245282403           </td><td>3.8313806570181494          </td><td>1.4553838075547243          </td><td>0.19365954514128186         </td><td>1.9683961799744019     </td><td>3.664139673788193  </td><td>0.03780643890912671</td><td>0.9456532440681301  </td><td>5.870795182304486 </td><td>0.7666633848577336 </td><td>20.839356437268222</td><td>11.224600767943288</td><td>13.323290997998088 </td><td>246497.19539890395</td><td>5.967674182009123</td><td>212758.7579665912</td><td>55.03347445111744</td><td>719.9785918040767            </td><td>1210.9081340012528           </td><td>965.4434547415292    </td><td>3.5900364280791583        </td><td>13.59574677562272          </td><td>15.230448623281145          </td><td>13.267336155689012          </td><td>6.651340618949165           </td><td>2.3206327327622986          </td><td>0.37793311673394375         </td><td>3.2503692035049716     </td><td>6.2046536050671115 </td><td>0.08805093367464147</td><td>1.915755964687736   </td><td>9.84618161530636  </td><td>1.1703915198057169 </td><td>22.72912802336648 </td><td>10.977472350759736</td><td>29.369203504971946 </td><td>543261.5595484232 </td><td>11.827442486298445</td><td>438131.572380296 </td><td>110.86580683272616</td><td>765.9006194029848            </td><td>1283.334756445047            </td><td>1024.6178080054276   </td><td>7.2746217715204615        </td><td>27.782055068753902         </td><td>30.450297003708428          </td><td>26.685077614781267          </td><td>13.320107643333001          </td><td>4.646516359817533           </td><td>0.7071313708115913          </td><td>6.122674017918677      </td><td>12.287978733878113 </td><td>0.1990745298808704 </td><td>3.8764398936693905  </td><td>20.23930950740049 </td><td>2.319943552886351  </td><td>22.76955695579403 </td><td>10.348668669329546</td><td>71.35624035968625  </td><td>1401057.3907649901</td><td>30.13186308293131 </td><td>1173871.1492238527</td><td>265.52846969249447</td><td>765.0984672234375            </td><td>1278.2806346523491           </td><td>1021.6895128256119   </td><td>17.806898362377343        </td><td>66.19553017623312          </td><td>73.44242066226901           </td><td>63.46965967641363           </td><td>32.05831774474088           </td><td>10.783860063667094          </td><td>1.7717830067933447          </td><td>15.045551507991208     </td><td>30.25151783663155  </td><td>0.44242066226904253</td><td>8.648813626070682   </td><td>52.79659348232747 </td><td>5.987069672803647  </td><td>7123035.277739491     </td><td>7082981.467263123 </td><td>7123035.277739488               </td><td>7123035.277739488                  </td><td>7123035.277739492           </td><td>7123035.277739494            </td><td>7123035.27773949         </td><td>7123035.27773949                 </td><td>7123035.277739494         </td><td>7123035.27773949               </td><td>7123035.277739489                 </td><td>7123035.27773949     </td><td>7123035.277739491        </td><td>7123035.27773949        </td><td>7123035.277739491</td></tr>\n",
       "<tr><td>maxs   </td><td>5326.0            </td><td>7478.0            </td><td>77.0             </td><td>117.0             </td><td>6.0               </td><td>20052009.0        </td><td>19.0              </td><td>2014.0           </td><td>33.0              </td><td>206071809.20000002</td><td>247469.0         </td><td>0.852922841          </td><td>0.521867054         </td><td>19223.0             </td><td>11926.0           </td><td>13.0                               </td><td>19083.0          </td><td>24750.0          </td><td>14.0                            </td><td>2.0                                    </td><td>4849.0               </td><td>6.0                       </td><td>3.0                      </td><td>29.0                 </td><td>16.0                        </td><td>10.0                          </td><td>23.0                    </td><td>141.0            </td><td>1716730.0         </td><td>774585.0          </td><td>942145.0          </td><td>40692.0           </td><td>20977.0           </td><td>19715.0          </td><td>161290.0         </td><td>79622.0          </td><td>81668.0           </td><td>57086.0           </td><td>19275.0          </td><td>37811.0           </td><td>19223.0          </td><td>9987.0           </td><td>9236.0            </td><td>19083.0          </td><td>9761.0           </td><td>9322.0            </td><td>45170.0           </td><td>23233.0          </td><td>21937.0           </td><td>367659.0         </td><td>172958.0          </td><td>194701.0          </td><td>36035.0          </td><td>18574.0           </td><td>17461.0          </td><td>1681.0                                </td><td>223.0              </td><td>793.0             </td><td>97.0               </td><td>664.0              </td><td>127.0                 </td><td>431.0              </td><td>11.0               </td><td>84.0              </td><td>9.0               </td><td>1680.0                                 </td><td>371.0                    </td><td>382.0                  </td><td>845.0                  </td><td>246.0                  </td><td>799.0                   </td><td>223.0            </td><td>61.43847178       </td><td>74.90576341        </td><td>711.2158058       </td><td>59.26798382        </td><td>29.08577383           </td><td>47.39470605        </td><td>47.35153832        </td><td>1.9824481090000001 </td><td>14.04816211        </td><td>47.591240000000006  </td><td>15.778710000000002</td><td>58.63205000000001 </td><td>24.65304063               </td><td>295.8364876                </td><td>133.0                     </td><td>24.653983399999998        </td><td>38.69192073                </td><td>138.0                     </td><td>17.41300179                  </td><td>208.9560215                        </td><td>2.8277089970000002   </td><td>53.27783249       </td><td>66.03320027        </td><td>68.85304673       </td><td>69.98487437          </td><td>70.73876915       </td><td>6.995416384       </td><td>48.0              </td><td>13.79834553       </td><td>58.0             </td><td>17.3871189           </td><td>91.21506308000001   </td><td>121.0                 </td><td>74.79611111           </td><td>14.0              </td><td>70.41343429       </td><td>64.25695746         </td><td>53.89015723       </td><td>43.32437142                 </td><td>56.85614691             </td><td>54.08091348       </td><td>59.50164843       </td><td>41.10365074       </td><td>26.652504580000002 </td><td>53.35929368       </td><td>46.037197920000004</td><td>83.39851357       </td><td>56.70379375        </td><td>43.69464029          </td><td>89.37137359            </td><td>76.05513511           </td><td>84.86214772           </td><td>55.278224630000004 </td><td>26.25954309          </td><td>18.95893275       </td><td>24.26820942              </td><td>47.39470605        </td><td>45.66905954         </td><td>15.61572801          </td><td>44.84983198          </td><td>87.60068995         </td><td>59.20314813       </td><td>54.43124386         </td><td>12.16269689           </td><td>100.0             </td><td>98.77             </td><td>34.0              </td><td>611015.0          </td><td>8.0               </td><td>1500000.0         </td><td>120.0             </td><td>4000.0                      </td><td>6000.0                      </td><td>5000.0              </td><td>13.0                     </td><td>33.0                      </td><td>39.0                       </td><td>29.0                       </td><td>22.0                       </td><td>14.0                       </td><td>3.0                        </td><td>11.0                  </td><td>17.0              </td><td>1.0                  </td><td>9.0                </td><td>11.0              </td><td>4.0                </td><td>100.0             </td><td>72.2              </td><td>91.0               </td><td>2244723.0         </td><td>20.0              </td><td>1500000.0         </td><td>449.0             </td><td>2500.0                       </td><td>4000.0                       </td><td>3250.0               </td><td>28.0                      </td><td>112.0                      </td><td>107.0                       </td><td>104.0                       </td><td>79.0                        </td><td>40.0                        </td><td>7.0                         </td><td>27.0                   </td><td>38.0               </td><td>1.0                 </td><td>30.0                </td><td>25.0              </td><td>6.0                </td><td>90.41             </td><td>63.0              </td><td>173.0              </td><td>2908344.0         </td><td>27.0              </td><td>1533000.0         </td><td>784.0            </td><td>2500.0                       </td><td>4000.0                       </td><td>3250.0               </td><td>54.0                      </td><td>195.0                      </td><td>177.0                       </td><td>183.0                       </td><td>127.0                       </td><td>58.0                        </td><td>12.0                        </td><td>44.0                   </td><td>75.0               </td><td>1.0                </td><td>44.0                </td><td>37.0              </td><td>7.0                </td><td>75.3              </td><td>56.1              </td><td>250.0              </td><td>3602982.0         </td><td>37.0             </td><td>2448300.0        </td><td>1115.0           </td><td>2166.67                      </td><td>3500.0                       </td><td>2833.33              </td><td>70.0                      </td><td>278.0                      </td><td>262.0                       </td><td>261.0                       </td><td>170.0                       </td><td>81.0                        </td><td>16.0                        </td><td>70.0                   </td><td>108.0              </td><td>1.0                </td><td>55.0                </td><td>54.0              </td><td>8.0                </td><td>74.02             </td><td>45.1              </td><td>493.0              </td><td>6106112.0         </td><td>66.0              </td><td>2654102.0        </td><td>1815.0            </td><td>1833.33                      </td><td>3000.0                       </td><td>2416.67              </td><td>119.0                     </td><td>449.0                      </td><td>441.0                       </td><td>446.0                       </td><td>266.0                       </td><td>113.0                       </td><td>23.0                        </td><td>102.0                  </td><td>164.0              </td><td>2.0                </td><td>85.0                </td><td>100.0             </td><td>10.0               </td><td>75.46000000000001 </td><td>28.560000000000002</td><td>789.0              </td><td>12702114.0        </td><td>120.0             </td><td>4585477.0         </td><td>2645.0            </td><td>1875.0                       </td><td>3000.0                       </td><td>2437.5               </td><td>174.0                     </td><td>650.0                      </td><td>648.0                       </td><td>641.0                       </td><td>377.0                       </td><td>147.0                       </td><td>30.0                        </td><td>151.0                  </td><td>250.0              </td><td>2.0                </td><td>106.0               </td><td>218.0             </td><td>21.0               </td><td>7495294.273858494     </td><td>18167536.004438706</td><td>10059329.41493776               </td><td>7809766.912333736                  </td><td>7231713.127579471           </td><td>7134629.8326429175           </td><td>7916845.889154633        </td><td>8514181.72359155                 </td><td>7242389.0831856495        </td><td>7907419.9212051                </td><td>7661038.268068331                 </td><td>7176112.387182768    </td><td>8925379.463508323        </td><td>7144896.322942727       </td><td>8599506.009769335</td></tr>\n",
       "<tr><td>sigma  </td><td>38.031487324105   </td><td>52.285733475910035</td><td>5.319988520945879</td><td>6.756550485765287 </td><td>1.4811539452548088</td><td>154387.7956368153 </td><td>0.8518045084653441</td><td>28.26597931523801</td><td>0.8801480581176904</td><td>20649607.990036134</td><td>57871.28589867369</td><td>0.17509015954361365  </td><td>0.11868751297633601 </td><td>3816.625140033929   </td><td>2169.7595918875486</td><td>2.993795244144942                  </td><td>3989.640916834215</td><td>4289.734174252872</td><td>3.4451052531059805              </td><td>0.33332842943245217                    </td><td>1057.0150005938608   </td><td>1.4929028686694934        </td><td>0.44379628019860884      </td><td>6.57198200353534     </td><td>3.2900577902677104          </td><td>1.5104908884677801            </td><td>4.741811766289239       </td><td>23.53695331001179</td><td>283025.12063401623</td><td>129444.55732232583</td><td>153630.89456828646</td><td>8287.957622992632 </td><td>4275.438363998324 </td><td>4020.546283343895</td><td>37483.55970070699</td><td>18939.15463662595</td><td>18643.132758103027</td><td>13174.721197065779</td><td>4073.828409456125</td><td>9144.326480767377 </td><td>3816.625140033929</td><td>1973.220681184209</td><td>1846.5980722149964</td><td>3989.640916834215</td><td>2054.521520310533</td><td>1941.3804642278765</td><td>9253.04669257932  </td><td>4769.593328107664</td><td>4491.7349471001025</td><td>60381.51867923739</td><td>29298.64841932884 </td><td>31108.976825460715</td><td>7290.00711834344 </td><td>3760.7506484905803</td><td>3536.9074862354  </td><td>277.904011214066                      </td><td>46.93762761358679  </td><td>126.740376936518  </td><td>14.926933739952979 </td><td>129.12042050799178 </td><td>19.278996743932424    </td><td>88.25970888598424  </td><td>1.1330225573768136 </td><td>13.227435172281226</td><td>1.5301262964751203</td><td>277.9170309192453                      </td><td>60.983270522474086       </td><td>62.51226275647674      </td><td>125.4278217458954      </td><td>57.873879777767954     </td><td>114.22222860659456      </td><td>54.90227680229802</td><td>6.553514774500375 </td><td>5.808431985166584  </td><td>69.30313098191209 </td><td>5.77526091539119   </td><td>2.1219557855806563    </td><td>3.058144714560929  </td><td>3.965362952260723  </td><td>0.29840210991280064</td><td>0.7179531979672958 </td><td>7.036351002388302   </td><td>1.4510705895925395</td><td>6.78970926359177  </td><td>3.8363585756254555        </td><td>46.0363029102071           </td><td>27.76626405751059         </td><td>3.9137352168322184        </td><td>4.794629880794657          </td><td>34.393018593192984        </td><td>1.2724884053285475           </td><td>15.269860866312948                 </td><td>0.4349188914884262   </td><td>5.1424920662509574</td><td>8.066780435835636  </td><td>8.343161947393439 </td><td>8.475341901244255    </td><td>8.441964402701593 </td><td>1.2971884574329717</td><td>11.348723748409574</td><td>1.8713340198558248</td><td>17.38932250822825</td><td>1.9728182362949325   </td><td>10.300604517790001  </td><td>35.336897538540946    </td><td>7.331999596650085     </td><td>3.7908435480477616</td><td>10.399509835060108</td><td>7.24975601441658    </td><td>5.59536707432446  </td><td>4.552470010708863           </td><td>5.619330400582187       </td><td>4.804237545513666 </td><td>8.497169718759388 </td><td>3.4475362444172912</td><td>1.5414253977822177 </td><td>4.626039282960275 </td><td>4.66785640635441  </td><td>7.642036840034697 </td><td>5.395468309699215  </td><td>2.9524102105994463   </td><td>11.079856126493562     </td><td>4.341804410945552     </td><td>6.73148392982922      </td><td>4.9075617661010345 </td><td>2.2537593422184523   </td><td>2.3064458099949103</td><td>1.526219024422113        </td><td>3.0536004525608016 </td><td>2.986936589596562   </td><td>0.7488757810502368   </td><td>5.780424197604545    </td><td>7.1122839004918195  </td><td>5.702806862527316 </td><td>5.3042064797632555  </td><td>0.8329219149504131    </td><td>16.05111866524271 </td><td>11.543730670929618</td><td>2.2833704598988716</td><td>42610.01848036693 </td><td>1.2460893120864616</td><td>81580.15522859845 </td><td>11.283919155632121</td><td>341.0960027940968           </td><td>526.539158650532            </td><td>432.51538235505836  </td><td>1.3583657227464643       </td><td>3.060433862020741         </td><td>2.268481751908064          </td><td>2.3185332329839174         </td><td>2.137370699929902          </td><td>0.6891834819655024         </td><td>0.18221309459261295        </td><td>1.1852882917743939    </td><td>2.163824989513795 </td><td>0.06975775176778302  </td><td>0.38639299699682855</td><td>1.638808998345524 </td><td>0.40103940518629616</td><td>14.514966402522798</td><td>11.517721939525181</td><td>8.878418629405816  </td><td>143852.9638823029 </td><td>3.2463277934382737</td><td>150279.65443885484</td><td>47.63060769637664 </td><td>224.4303526917095            </td><td>343.1318027037464            </td><td>282.6276095949963    </td><td>3.165628790022577         </td><td>13.860450248475775         </td><td>9.198459146361559           </td><td>10.498975063490562          </td><td>7.509811861734457           </td><td>3.95990648189891            </td><td>0.3325042405624354          </td><td>2.492708654535683      </td><td>5.108368736273529  </td><td>0.13710964445316587 </td><td>1.8202536950070602  </td><td>3.332257516097976 </td><td>0.7332116363412927 </td><td>14.200272523716283</td><td>10.979478818287882</td><td>20.972367224948357 </td><td>301684.4273084494 </td><td>4.48481150735585  </td><td>212631.1628707177 </td><td>97.44570323237495</td><td>192.2598409510237            </td><td>291.29786211130244           </td><td>240.6690945977947    </td><td>5.975842308006813         </td><td>24.889911341328887         </td><td>22.13042814067975           </td><td>24.13159100672746           </td><td>13.511596149818057          </td><td>6.7393136897175125          </td><td>0.9078698153978781          </td><td>6.478908664541391      </td><td>9.737625937127557  </td><td>0.19073097795751912</td><td>3.3476598460373994  </td><td>5.756787978701955 </td><td>1.1204893772720637 </td><td>14.19369950185842 </td><td>9.641963655203671 </td><td>38.72306066144285  </td><td>503636.3895750568 </td><td>6.34135927972709 </td><td>290831.5209195328</td><td>161.6339665681119</td><td>199.37244340396572           </td><td>302.8262889747953            </td><td>250.0143534774116    </td><td>10.223271738363165        </td><td>39.158970313101264         </td><td>39.257770648334514          </td><td>39.205757783472265          </td><td>23.228121884887084          </td><td>9.72254985355037            </td><td>1.68852691568271            </td><td>10.000057324001208     </td><td>15.494051475210375 </td><td>0.28337360862648675</td><td>7.185759596364381   </td><td>9.21836976353062  </td><td>1.4348026309333066 </td><td>14.017283389831155</td><td>7.938243175301554 </td><td>81.352125832329    </td><td>1056127.7046519516</td><td>10.914427862358044</td><td>469731.5546903857</td><td>290.1348329245302 </td><td>224.00671940318148           </td><td>353.29966345068016           </td><td>288.16345148250406   </td><td>18.242400187164016        </td><td>71.82649197921172          </td><td>69.52868204092195           </td><td>70.85573245188279           </td><td>41.28200011677227           </td><td>16.88452414158436           </td><td>2.775499022907575           </td><td>15.413697236704511     </td><td>25.785240628763514 </td><td>0.4478154648652199 </td><td>13.188748419653667  </td><td>18.843867285288702</td><td>2.2715392847400175 </td><td>11.208471456880348</td><td>5.668747962284506 </td><td>155.34136224918151 </td><td>2303052.4946800293</td><td>23.924051264056935</td><td>1004809.8800646764</td><td>514.5386713112822 </td><td>152.40895115388543           </td><td>236.20768625934843           </td><td>194.11769565819557   </td><td>33.26905651054069         </td><td>125.93458419198885         </td><td>126.16767053093368          </td><td>124.07666195021504          </td><td>73.4656108350354            </td><td>28.38567920272088           </td><td>5.418807210038161           </td><td>29.118668272425015     </td><td>47.34793820181179  </td><td>0.6092689333502496 </td><td>20.58074060794538   </td><td>46.29265975764339 </td><td>4.889218782547256  </td><td>494469.94293574075    </td><td>2071235.4888966142</td><td>763150.846835232                </td><td>164527.14048615872                 </td><td>378927.96037655545          </td><td>117068.21372134498           </td><td>591194.9815031417        </td><td>273763.8478603893                </td><td>373598.05495209           </td><td>133917.4190897301              </td><td>179235.894185915                  </td><td>184162.31906846561   </td><td>292324.5396907029        </td><td>125816.24561343067      </td><td>1185942.337465575</td></tr>\n",
       "<tr><td>zeros  </td><td>2                 </td><td>45                </td><td>9                </td><td>550               </td><td>0                 </td><td>530               </td><td>14                </td><td>1381             </td><td>0                 </td><td>0                 </td><td>0                </td><td>0                    </td><td>1849                </td><td>0                   </td><td>216               </td><td>6688                               </td><td>0                </td><td>0                </td><td>6685                            </td><td>27334                                  </td><td>2                    </td><td>12842                     </td><td>27392                    </td><td>5668                 </td><td>6428                        </td><td>28543                         </td><td>7471                    </td><td>8720             </td><td>0                 </td><td>0                 </td><td>0                 </td><td>0                 </td><td>0                 </td><td>0                </td><td>0                </td><td>0                </td><td>0                 </td><td>0                 </td><td>0                </td><td>0                 </td><td>0                </td><td>0                </td><td>0                 </td><td>0                </td><td>0                </td><td>0                 </td><td>0                 </td><td>0                </td><td>0                 </td><td>0                </td><td>0                 </td><td>0                 </td><td>0                </td><td>0                 </td><td>0                </td><td>0                                     </td><td>1553               </td><td>13012             </td><td>18713              </td><td>2812               </td><td>2812                  </td><td>1697               </td><td>24065              </td><td>14484             </td><td>20422             </td><td>0                                      </td><td>14827                    </td><td>8416                   </td><td>1717                   </td><td>1530                   </td><td>1688                    </td><td>0                </td><td>1                 </td><td>1                  </td><td>1                 </td><td>1                  </td><td>0                     </td><td>45                 </td><td>0                  </td><td>723                </td><td>676                </td><td>0                   </td><td>10                </td><td>0                 </td><td>0                         </td><td>0                          </td><td>0                         </td><td>0                         </td><td>0                          </td><td>0                         </td><td>0                            </td><td>0                                  </td><td>0                    </td><td>0                 </td><td>0                  </td><td>0                 </td><td>0                    </td><td>0                 </td><td>0                 </td><td>0                 </td><td>0                 </td><td>0                </td><td>0                    </td><td>0                   </td><td>0                     </td><td>0                     </td><td>0                 </td><td>0                 </td><td>0                   </td><td>0                 </td><td>0                           </td><td>0                       </td><td>12                </td><td>0                 </td><td>0                 </td><td>150                </td><td>1                 </td><td>1                 </td><td>0                 </td><td>0                  </td><td>0                    </td><td>0                      </td><td>1                     </td><td>0                     </td><td>13                 </td><td>115                  </td><td>363               </td><td>680                      </td><td>41                 </td><td>0                   </td><td>87                   </td><td>0                    </td><td>0                   </td><td>0                 </td><td>0                   </td><td>0                     </td><td>5323              </td><td>16945             </td><td>23704             </td><td>23826             </td><td>22546             </td><td>22826             </td><td>12822             </td><td>0                           </td><td>0                           </td><td>0                   </td><td>26270                    </td><td>21404                     </td><td>19176                      </td><td>21102                      </td><td>24998                      </td><td>28760                      </td><td>29635                      </td><td>26758                 </td><td>23415             </td><td>30322                </td><td>28901              </td><td>17327             </td><td>27253              </td><td>1052              </td><td>8641              </td><td>15913              </td><td>16045             </td><td>12407             </td><td>12709             </td><td>6402              </td><td>0                            </td><td>0                            </td><td>0                    </td><td>20420                     </td><td>13990                      </td><td>9093                        </td><td>12762                       </td><td>19130                       </td><td>26785                       </td><td>29108                       </td><td>21184                  </td><td>11390              </td><td>29887               </td><td>25533               </td><td>8633              </td><td>22101              </td><td>484               </td><td>3564              </td><td>11304              </td><td>11342             </td><td>7765              </td><td>7972              </td><td>3962             </td><td>0                            </td><td>0                            </td><td>0                    </td><td>15029                     </td><td>9979                       </td><td>6542                        </td><td>8540                        </td><td>14894                       </td><td>24047                       </td><td>28523                       </td><td>15148                  </td><td>4710               </td><td>29319              </td><td>22430               </td><td>6031              </td><td>17415              </td><td>0                 </td><td>1662              </td><td>9499               </td><td>9502              </td><td>6095             </td><td>6120             </td><td>1543             </td><td>0                            </td><td>0                            </td><td>0                    </td><td>12123                     </td><td>6970                       </td><td>4956                        </td><td>5258                        </td><td>12206                       </td><td>20907                       </td><td>27832                       </td><td>10657                  </td><td>1709               </td><td>27788              </td><td>19468               </td><td>4317              </td><td>13730              </td><td>0                 </td><td>182               </td><td>7667               </td><td>7667              </td><td>3807              </td><td>3807             </td><td>711               </td><td>0                            </td><td>0                            </td><td>0                    </td><td>9622                      </td><td>5464                       </td><td>2458                        </td><td>3085                        </td><td>6322                        </td><td>14422                       </td><td>26096                       </td><td>7493                   </td><td>223                </td><td>25031              </td><td>15504               </td><td>2027              </td><td>9150               </td><td>0                 </td><td>0                 </td><td>2746               </td><td>2746              </td><td>1261              </td><td>1261              </td><td>297               </td><td>0                            </td><td>0                            </td><td>0                    </td><td>4119                      </td><td>986                        </td><td>1027                        </td><td>350                         </td><td>2283                        </td><td>6175                        </td><td>22833                       </td><td>1976                   </td><td>148                </td><td>18887              </td><td>10296               </td><td>907               </td><td>4103               </td><td>0                     </td><td>0                 </td><td>0                               </td><td>0                                  </td><td>0                           </td><td>0                            </td><td>0                        </td><td>0                                </td><td>0                         </td><td>0                              </td><td>0                                 </td><td>0                    </td><td>0                        </td><td>0                       </td><td>0                </td></tr>\n",
       "<tr><td>missing</td><td>0                 </td><td>6383              </td><td>167              </td><td>9572              </td><td>9572              </td><td>13605             </td><td>9572              </td><td>9572             </td><td>13559             </td><td>0                 </td><td>0                </td><td>0                    </td><td>0                   </td><td>0                   </td><td>6688              </td><td>0                                  </td><td>0                </td><td>6685             </td><td>0                               </td><td>0                                      </td><td>14441                </td><td>0                         </td><td>0                        </td><td>0                    </td><td>0                           </td><td>0                             </td><td>0                       </td><td>0                </td><td>0                 </td><td>0                 </td><td>0                 </td><td>0                 </td><td>0                 </td><td>0                </td><td>0                </td><td>0                </td><td>0                 </td><td>0                 </td><td>0                </td><td>0                 </td><td>0                </td><td>0                </td><td>0                 </td><td>0                </td><td>0                </td><td>0                 </td><td>0                 </td><td>0                </td><td>0                 </td><td>0                </td><td>0                 </td><td>0                 </td><td>0                </td><td>0                 </td><td>0                </td><td>4991                                  </td><td>4991               </td><td>4991              </td><td>4991               </td><td>4991               </td><td>4991                  </td><td>4991               </td><td>4991               </td><td>4991              </td><td>4991              </td><td>4991                                   </td><td>4991                     </td><td>4991                   </td><td>4991                   </td><td>4991                   </td><td>4991                    </td><td>0                </td><td>0                 </td><td>0                  </td><td>25                </td><td>25                 </td><td>0                     </td><td>0                  </td><td>0                  </td><td>0                  </td><td>0                  </td><td>0                   </td><td>0                 </td><td>0                 </td><td>25                        </td><td>25                         </td><td>25                        </td><td>0                         </td><td>0                          </td><td>0                         </td><td>0                            </td><td>0                                  </td><td>0                    </td><td>0                 </td><td>0                  </td><td>0                 </td><td>0                    </td><td>0                 </td><td>0                 </td><td>0                 </td><td>0                 </td><td>0                </td><td>0                    </td><td>0                   </td><td>0                     </td><td>0                     </td><td>0                 </td><td>0                 </td><td>0                   </td><td>0                 </td><td>0                           </td><td>0                       </td><td>0                 </td><td>0                 </td><td>0                 </td><td>0                  </td><td>0                 </td><td>0                 </td><td>0                 </td><td>0                  </td><td>0                    </td><td>0                      </td><td>0                     </td><td>0                     </td><td>0                  </td><td>0                    </td><td>0                 </td><td>0                        </td><td>0                  </td><td>0                   </td><td>0                    </td><td>0                    </td><td>0                   </td><td>0                 </td><td>0                   </td><td>0                     </td><td>0                 </td><td>0                 </td><td>0                 </td><td>0                 </td><td>0                 </td><td>0                 </td><td>0                 </td><td>13281                       </td><td>13281                       </td><td>13281               </td><td>0                        </td><td>0                         </td><td>0                          </td><td>0                          </td><td>0                          </td><td>0                          </td><td>0                          </td><td>0                     </td><td>0                 </td><td>0                    </td><td>0                  </td><td>0                 </td><td>0                  </td><td>0                 </td><td>0                 </td><td>0                  </td><td>0                 </td><td>0                 </td><td>0                 </td><td>0                 </td><td>6524                         </td><td>6524                         </td><td>6524                 </td><td>0                         </td><td>0                          </td><td>0                           </td><td>0                           </td><td>0                           </td><td>0                           </td><td>0                           </td><td>0                      </td><td>0                  </td><td>0                   </td><td>0                   </td><td>0                 </td><td>0                  </td><td>0                 </td><td>0                 </td><td>0                  </td><td>0                 </td><td>0                 </td><td>0                 </td><td>0                </td><td>4199                         </td><td>4199                         </td><td>4199                 </td><td>0                         </td><td>0                          </td><td>0                           </td><td>0                           </td><td>0                           </td><td>0                           </td><td>0                           </td><td>0                      </td><td>0                  </td><td>0                  </td><td>0                   </td><td>0                 </td><td>0                  </td><td>0                 </td><td>0                 </td><td>0                  </td><td>0                 </td><td>0                </td><td>0                </td><td>0                </td><td>1725                         </td><td>1725                         </td><td>1725                 </td><td>0                         </td><td>0                          </td><td>0                           </td><td>0                           </td><td>0                           </td><td>0                           </td><td>0                           </td><td>0                      </td><td>0                  </td><td>0                  </td><td>0                   </td><td>0                 </td><td>0                  </td><td>0                 </td><td>0                 </td><td>0                  </td><td>0                 </td><td>0                 </td><td>0                </td><td>0                 </td><td>991                          </td><td>991                          </td><td>991                  </td><td>0                         </td><td>0                          </td><td>0                           </td><td>0                           </td><td>0                           </td><td>0                           </td><td>0                           </td><td>0                      </td><td>0                  </td><td>0                  </td><td>0                   </td><td>0                 </td><td>0                  </td><td>0                 </td><td>178               </td><td>0                  </td><td>0                 </td><td>0                 </td><td>0                 </td><td>0                 </td><td>297                          </td><td>297                          </td><td>297                  </td><td>0                         </td><td>0                          </td><td>0                           </td><td>0                           </td><td>0                           </td><td>0                           </td><td>0                           </td><td>0                      </td><td>0                  </td><td>0                  </td><td>0                   </td><td>0                 </td><td>0                  </td><td>0                     </td><td>0                 </td><td>0                               </td><td>0                                  </td><td>0                           </td><td>0                            </td><td>0                        </td><td>0                                </td><td>0                         </td><td>0                              </td><td>0                                 </td><td>0                    </td><td>0                        </td><td>0                       </td><td>0                </td></tr>\n",
       "<tr><td>0      </td><td>43.0              </td><td>27.0              </td><td>4.0              </td><td>nan               </td><td>nan               </td><td>nan               </td><td>nan               </td><td>nan              </td><td>nan               </td><td>6407578.100000001 </td><td>155572.0         </td><td>0.189727117          </td><td>6.99893e-05         </td><td>9576.0              </td><td>5001.0            </td><td>5.0                                </td><td>10309.0          </td><td>11065.0          </td><td>5.0                             </td><td>0.0                                    </td><td>240.0                </td><td>1.0                       </td><td>0.0                      </td><td>7.0                  </td><td>3.0                         </td><td>0.0                           </td><td>16.0                    </td><td>1.0              </td><td>86206.0           </td><td>40477.0           </td><td>45729.0           </td><td>21154.0           </td><td>11007.0           </td><td>10147.0          </td><td>98207.0          </td><td>52277.0          </td><td>45930.0           </td><td>36211.0           </td><td>10580.0          </td><td>25631.0           </td><td>9576.0           </td><td>4899.0           </td><td>4677.0            </td><td>10309.0          </td><td>5463.0           </td><td>4846.0            </td><td>23603.0           </td><td>12286.0          </td><td>11317.0           </td><td>17508.0          </td><td>9425.0            </td><td>8083.0            </td><td>18654.0          </td><td>9709.0            </td><td>8945.0           </td><td>211.0                                 </td><td>25.0               </td><td>0.0               </td><td>0.0                </td><td>0.0                </td><td>2.0                   </td><td>184.0              </td><td>0.0                </td><td>0.0               </td><td>0.0               </td><td>211.0                                  </td><td>0.0                      </td><td>0.0                    </td><td>0.0                    </td><td>206.0                  </td><td>5.0                     </td><td>1.0              </td><td>2.590241095       </td><td>1.1312599060000001 </td><td>13.57511887       </td><td>1.1312599060000001 </td><td>0.145699552           </td><td>0.17797535         </td><td>2.158587074        </td><td>0.6009730990000001 </td><td>1.080934313        </td><td>23.68346            </td><td>1.8041269999999998</td><td>3.6333339999999996</td><td>5.419893032               </td><td>65.03871639                </td><td>1.0                       </td><td>5.419893032               </td><td>6.905892968000001          </td><td>1.0                       </td><td>0.27498514300000004          </td><td>3.299821714                        </td><td>0.9926310580000001   </td><td>1.4223914100000001</td><td>10.918586699999999 </td><td>13.10061764       </td><td>13.67565705          </td><td>15.15621058       </td><td>1.422391404       </td><td>1.0               </td><td>3.8309514040000003</td><td>5.0              </td><td>1.305159492          </td><td>14.23196091         </td><td>101.0                 </td><td>24.292406099999997    </td><td>1.0               </td><td>18.152338         </td><td>5.718518835         </td><td>1.210027392       </td><td>1.062513046                 </td><td>5.814134663             </td><td>4.308127002       </td><td>10.81417151       </td><td>1.6762583130000002</td><td>0.48584138800000004</td><td>3.065047099       </td><td>1.1075942090000002</td><td>8.148590774       </td><td>3.5165129110000004 </td><td>2.392353035          </td><td>4.248035887            </td><td>0.974742843           </td><td>6.715025787           </td><td>0.884350021        </td><td>0.648487637          </td><td>0.6371888320000001</td><td>0.947961657              </td><td>0.17797535         </td><td>0.625783434         </td><td>0.628186549          </td><td>3.932040333          </td><td>14.05304655         </td><td>7.389497904000001 </td><td>7.023704919         </td><td>0.5168380850000001    </td><td>0.0               </td><td>0.0               </td><td>0.0               </td><td>0.0               </td><td>0.0               </td><td>0.0               </td><td>0.0               </td><td>nan                         </td><td>nan                         </td><td>nan                 </td><td>0.0                      </td><td>0.0                       </td><td>0.0                        </td><td>0.0                        </td><td>0.0                        </td><td>0.0                        </td><td>0.0                        </td><td>0.0                   </td><td>0.0               </td><td>0.0                  </td><td>0.0                </td><td>1.0               </td><td>0.0                </td><td>7.36              </td><td>0.0               </td><td>1.0                </td><td>30500.0           </td><td>3.0               </td><td>55600.0           </td><td>19.0              </td><td>527.78                       </td><td>888.89                       </td><td>708.33               </td><td>1.0                       </td><td>10.0                       </td><td>4.0                         </td><td>3.0                         </td><td>1.0                         </td><td>0.0                         </td><td>0.0                         </td><td>1.0                    </td><td>2.0                </td><td>0.0                 </td><td>0.0                 </td><td>6.0               </td><td>1.0                </td><td>14.27             </td><td>6.92              </td><td>3.0                </td><td>39554.0           </td><td>9.0               </td><td>171420.0          </td><td>34.0             </td><td>566.67                       </td><td>969.7                        </td><td>768.1800000000001    </td><td>1.0                       </td><td>14.0                       </td><td>11.0                        </td><td>6.0                         </td><td>2.0                         </td><td>0.0                         </td><td>0.0                         </td><td>1.0                    </td><td>2.0                </td><td>0.0                </td><td>0.0                 </td><td>7.0               </td><td>1.0                </td><td>11.77             </td><td>15.97             </td><td>9.0                </td><td>188854.0          </td><td>19.0             </td><td>1244891.0        </td><td>36.0             </td><td>614.29                       </td><td>1042.8600000000001           </td><td>828.57               </td><td>1.0                       </td><td>15.0                       </td><td>11.0                        </td><td>6.0                         </td><td>2.0                         </td><td>1.0                         </td><td>0.0                         </td><td>1.0                    </td><td>2.0                </td><td>0.0                </td><td>0.0                 </td><td>10.0              </td><td>1.0                </td><td>11.98             </td><td>13.55             </td><td>12.0               </td><td>251554.0          </td><td>23.0              </td><td>1419204.0        </td><td>68.0              </td><td>639.6800000000001            </td><td>1079.3700000000001           </td><td>859.52               </td><td>5.0                       </td><td>21.0                       </td><td>22.0                        </td><td>16.0                        </td><td>3.0                         </td><td>1.0                         </td><td>0.0                         </td><td>2.0                    </td><td>4.0                </td><td>0.0                </td><td>0.0                 </td><td>21.0              </td><td>1.0                </td><td>13.09             </td><td>13.31             </td><td>29.0               </td><td>807385.0          </td><td>52.0              </td><td>4036616.0         </td><td>152.0             </td><td>708.57                       </td><td>1185.71                      </td><td>947.14               </td><td>12.0                      </td><td>39.0                       </td><td>48.0                        </td><td>40.0                        </td><td>9.0                         </td><td>4.0                         </td><td>0.0                         </td><td>13.0                   </td><td>22.0               </td><td>1.0                </td><td>0.0                 </td><td>52.0              </td><td>4.0                </td><td>7495294.273858494     </td><td>6670177.260869565 </td><td>6924696.802578567               </td><td>7083619.164902663                  </td><td>7231713.127579471           </td><td>7134629.8326429175           </td><td>6682753.892193877        </td><td>7069163.030850519                </td><td>7242389.0831856495        </td><td>7100172.404620374              </td><td>7063324.7332920125                </td><td>7176112.387182768    </td><td>7075624.33772314         </td><td>7144896.322942727       </td><td>7082094.536660163</td></tr>\n",
       "<tr><td>1      </td><td>34.0              </td><td>19.0              </td><td>3.0              </td><td>nan               </td><td>nan               </td><td>nan               </td><td>nan               </td><td>nan              </td><td>nan               </td><td>9589336.912       </td><td>115352.0         </td><td>0.372602044          </td><td>0.049637257000000004</td><td>6880.0              </td><td>3119.0            </td><td>5.0                                </td><td>7759.0           </td><td>6237.0           </td><td>8.0                             </td><td>0.0                                    </td><td>229.0                </td><td>1.0                       </td><td>0.0                      </td><td>6.0                  </td><td>1.0                         </td><td>1.0                           </td><td>3.0                     </td><td>0.0              </td><td>76284.0           </td><td>34200.0           </td><td>42084.0           </td><td>15727.0           </td><td>7925.0            </td><td>7802.0           </td><td>70194.0          </td><td>35622.0          </td><td>34572.0           </td><td>29431.0           </td><td>9266.0           </td><td>20165.0           </td><td>6880.0           </td><td>3466.0           </td><td>3414.0            </td><td>7759.0           </td><td>3909.0           </td><td>3850.0            </td><td>17700.0           </td><td>8998.0           </td><td>8702.0            </td><td>15164.0          </td><td>7571.0            </td><td>7593.0            </td><td>13729.0          </td><td>6929.0            </td><td>6800.0           </td><td>245.0                                 </td><td>83.0               </td><td>1.0               </td><td>0.0                </td><td>67.0               </td><td>4.0                   </td><td>90.0               </td><td>0.0                </td><td>0.0               </td><td>0.0               </td><td>244.0                                  </td><td>1.0                      </td><td>1.0                    </td><td>143.0                  </td><td>84.0                   </td><td>15.0                    </td><td>2.0              </td><td>0.936699728       </td><td>0.647336757        </td><td>7.620630408       </td><td>0.6350525340000001 </td><td>0.14775426900000002   </td><td>0.27334531900000003</td><td>0.550689737        </td><td>0.065321162        </td><td>0.966479097        </td><td>1.3174759999999999  </td><td>4.655004          </td><td>8.648587          </td><td>3.411993084               </td><td>40.943917                  </td><td>2.0                       </td><td>3.641772591               </td><td>4.679744508000001          </td><td>2.0                       </td><td>0.065263344                  </td><td>0.7831601300000001                 </td><td>0.6980813180000001   </td><td>9.503405157000001 </td><td>3.103995954        </td><td>6.444333466000001 </td><td>8.132640073000001    </td><td>8.698054189       </td><td>2.887376585       </td><td>2.0               </td><td>3.103995974       </td><td>4.0              </td><td>0.694535727          </td><td>9.242585522         </td><td>32.0                  </td><td>5.706113234           </td><td>2.0               </td><td>9.034641872       </td><td>3.4899544430000002  </td><td>2.72429538        </td><td>1.2461487390000001          </td><td>3.4195740490000004      </td><td>0.725560431       </td><td>6.910567711000001 </td><td>3.424716092       </td><td>0.668363679        </td><td>2.000153804       </td><td>8.97282283        </td><td>6.127072782       </td><td>1.161578983        </td><td>2.5437469750000004   </td><td>12.649878750000001     </td><td>1.4777226700000001    </td><td>1.852560245           </td><td>0.686251693        </td><td>0.519311324          </td><td>0.688796317       </td><td>1.072315063              </td><td>0.27334531900000003</td><td>0.9678205710000001  </td><td>0.47144652400000003  </td><td>4.841543888          </td><td>6.829888847         </td><td>0.7092600330000001</td><td>2.358840498         </td><td>0.23028691            </td><td>25.14             </td><td>0.0               </td><td>0.0               </td><td>0.0               </td><td>0.0               </td><td>0.0               </td><td>5.0               </td><td>860.0                       </td><td>1500.0                      </td><td>1180.0              </td><td>0.0                      </td><td>1.0                       </td><td>3.0                        </td><td>0.0                        </td><td>0.0                        </td><td>1.0                        </td><td>0.0                        </td><td>0.0                   </td><td>1.0               </td><td>0.0                  </td><td>0.0                </td><td>0.0               </td><td>0.0                </td><td>26.66             </td><td>0.07              </td><td>2.0                </td><td>86600.0           </td><td>5.0               </td><td>94065.0           </td><td>13.0              </td><td>615.38                       </td><td>1076.92                      </td><td>846.15               </td><td>0.0                       </td><td>5.0                        </td><td>6.0                         </td><td>1.0                         </td><td>0.0                         </td><td>1.0                         </td><td>0.0                         </td><td>1.0                    </td><td>2.0                </td><td>0.0                 </td><td>4.0                 </td><td>2.0               </td><td>0.0                </td><td>21.53             </td><td>7.71              </td><td>3.0                </td><td>102910.0          </td><td>7.0               </td><td>127065.0          </td><td>17.0             </td><td>694.12                       </td><td>1205.88                      </td><td>950.0                </td><td>0.0                       </td><td>6.0                        </td><td>7.0                         </td><td>1.0                         </td><td>2.0                         </td><td>1.0                         </td><td>0.0                         </td><td>1.0                    </td><td>5.0                </td><td>0.0                </td><td>4.0                 </td><td>9.0               </td><td>0.0                </td><td>22.37             </td><td>19.25             </td><td>4.0                </td><td>165510.0          </td><td>8.0              </td><td>179065.0         </td><td>21.0             </td><td>695.24                       </td><td>1190.48                      </td><td>942.86               </td><td>0.0                       </td><td>7.0                        </td><td>8.0                         </td><td>3.0                         </td><td>2.0                         </td><td>1.0                         </td><td>0.0                         </td><td>1.0                    </td><td>5.0                </td><td>0.0                </td><td>4.0                 </td><td>11.0              </td><td>0.0                </td><td>18.07             </td><td>27.32             </td><td>12.0               </td><td>821986.0          </td><td>14.0              </td><td>491565.0         </td><td>30.0              </td><td>631.03                       </td><td>1086.21                      </td><td>858.62               </td><td>1.0                       </td><td>11.0                       </td><td>11.0                        </td><td>4.0                         </td><td>2.0                         </td><td>1.0                         </td><td>0.0                         </td><td>1.0                    </td><td>7.0                </td><td>0.0                </td><td>6.0                 </td><td>19.0              </td><td>1.0                </td><td>10.26             </td><td>27.47             </td><td>66.0               </td><td>2690465.0         </td><td>40.0              </td><td>2034942.0         </td><td>177.0             </td><td>673.8100000000001            </td><td>1148.81                      </td><td>911.3100000000001    </td><td>9.0                       </td><td>49.0                       </td><td>65.0                        </td><td>36.0                        </td><td>15.0                        </td><td>3.0                         </td><td>0.0                         </td><td>15.0                   </td><td>29.0               </td><td>1.0                </td><td>10.0                </td><td>66.0              </td><td>14.0               </td><td>7495294.273858494     </td><td>8392538.85321101  </td><td>10059329.41493776               </td><td>7083619.164902663                  </td><td>7231713.127579471           </td><td>7134629.8326429175           </td><td>6682753.892193877        </td><td>7069163.030850519                </td><td>7242389.0831856495        </td><td>7100172.404620374              </td><td>7063324.7332920125                </td><td>7176112.387182768    </td><td>7075624.33772314         </td><td>7144896.322942727       </td><td>8201252.899441342</td></tr>\n",
       "<tr><td>2      </td><td>43.0              </td><td>29.0              </td><td>2.0              </td><td>nan               </td><td>nan               </td><td>nan               </td><td>nan               </td><td>nan              </td><td>nan               </td><td>4808269.831       </td><td>101708.0         </td><td>0.112559644          </td><td>0.11853738500000001 </td><td>5879.0              </td><td>1463.0            </td><td>4.0                                </td><td>6207.0           </td><td>5580.0           </td><td>7.0                             </td><td>0.0                                    </td><td>1183.0               </td><td>1.0                       </td><td>0.0                      </td><td>5.0                  </td><td>1.0                         </td><td>0.0                           </td><td>0.0                     </td><td>1.0              </td><td>101982.0          </td><td>46076.0           </td><td>55906.0           </td><td>13028.0           </td><td>6835.0            </td><td>6193.0           </td><td>63388.0          </td><td>31813.0          </td><td>31575.0           </td><td>25292.0           </td><td>7609.0           </td><td>17683.0           </td><td>5879.0           </td><td>3095.0           </td><td>2784.0            </td><td>6207.0           </td><td>3269.0           </td><td>2938.0            </td><td>14884.0           </td><td>7821.0           </td><td>7063.0            </td><td>19401.0          </td><td>9045.0            </td><td>10356.0           </td><td>11252.0          </td><td>5916.0            </td><td>5336.0           </td><td>330.0                                 </td><td>59.0               </td><td>0.0               </td><td>0.0                </td><td>206.0              </td><td>4.0                   </td><td>60.0               </td><td>0.0                </td><td>1.0               </td><td>0.0               </td><td>330.0                                  </td><td>1.0                      </td><td>0.0                    </td><td>246.0                  </td><td>63.0                   </td><td>20.0                    </td><td>3.0              </td><td>2.120998901       </td><td>1.637996285        </td><td>17.3515154        </td><td>1.4459596170000002 </td><td>0.049101536           </td><td>0.15807189500000002</td><td>0.374847751        </td><td>0.45317240500000006</td><td>0.939275144        </td><td>4.912660000000001   </td><td>3.381083          </td><td>11.996480000000002</td><td>1.277658039               </td><td>15.33189647                </td><td>3.0                       </td><td>1.277658039               </td><td>1.701419537                </td><td>3.0                       </td><td>0.328756044                  </td><td>3.9450725220000002                 </td><td>0.468264622          </td><td>5.6047999200000005</td><td>2.927487097        </td><td>6.963402995       </td><td>8.054252314000001    </td><td>9.067884956       </td><td>0.647249803       </td><td>3.0               </td><td>2.9274870990000004</td><td>4.0              </td><td>0.70069112           </td><td>9.540544478000001   </td><td>5.0                   </td><td>6.710302485000001     </td><td>3.0               </td><td>5.777393501000001 </td><td>7.50661249          </td><td>0.7722161040000001</td><td>1.60218297                  </td><td>3.682454651             </td><td>3.5621877040000003</td><td>5.75236835        </td><td>1.375442778       </td><td>0.733101062        </td><td>1.239303854       </td><td>1.9785171870000002</td><td>0.767568769       </td><td>1.9527706290000002 </td><td>0.621357002          </td><td>7.682302975000001      </td><td>0.09714352700000001   </td><td>0.8412541020000001    </td><td>1.5100888540000001 </td><td>1.48653302           </td><td>1.543048836       </td><td>0.39195738900000004      </td><td>0.15807189500000002</td><td>3.178751487         </td><td>0.755946015          </td><td>7.9221515700000005   </td><td>4.273200485         </td><td>3.156422843       </td><td>4.958214283         </td><td>0.190461977           </td><td>1.67              </td><td>0.0               </td><td>0.0               </td><td>0.0               </td><td>0.0               </td><td>0.0               </td><td>3.0               </td><td>666.67                      </td><td>1166.67                     </td><td>916.6700000000001   </td><td>0.0                      </td><td>0.0                       </td><td>2.0                        </td><td>1.0                        </td><td>0.0                        </td><td>0.0                        </td><td>0.0                        </td><td>0.0                   </td><td>0.0               </td><td>0.0                  </td><td>0.0                </td><td>0.0               </td><td>0.0                </td><td>4.99              </td><td>0.29              </td><td>0.0                </td><td>0.0               </td><td>0.0               </td><td>0.0               </td><td>9.0               </td><td>642.86                       </td><td>1142.8600000000001           </td><td>892.86               </td><td>2.0                       </td><td>0.0                        </td><td>5.0                         </td><td>2.0                         </td><td>0.0                         </td><td>0.0                         </td><td>0.0                         </td><td>0.0                    </td><td>1.0                </td><td>0.0                 </td><td>0.0                 </td><td>5.0               </td><td>3.0                </td><td>9.92              </td><td>6.73              </td><td>0.0                </td><td>0.0               </td><td>1.0               </td><td>2600.0            </td><td>14.0             </td><td>516.67                       </td><td>916.6700000000001            </td><td>716.67               </td><td>2.0                       </td><td>4.0                        </td><td>6.0                         </td><td>2.0                         </td><td>0.0                         </td><td>0.0                         </td><td>0.0                         </td><td>0.0                    </td><td>4.0                </td><td>0.0                </td><td>0.0                 </td><td>6.0               </td><td>5.0                </td><td>12.99             </td><td>12.75             </td><td>4.0                </td><td>100200.0          </td><td>7.0              </td><td>52550.0          </td><td>24.0             </td><td>563.64                       </td><td>977.27                       </td><td>770.45               </td><td>2.0                       </td><td>8.0                        </td><td>9.0                         </td><td>4.0                         </td><td>1.0                         </td><td>0.0                         </td><td>0.0                         </td><td>0.0                    </td><td>4.0                </td><td>0.0                </td><td>0.0                 </td><td>8.0               </td><td>5.0                </td><td>12.14             </td><td>26.46             </td><td>8.0                </td><td>110856.0          </td><td>7.0               </td><td>52550.0          </td><td>41.0              </td><td>697.44                       </td><td>1192.31                      </td><td>944.87               </td><td>2.0                       </td><td>9.0                        </td><td>17.0                        </td><td>9.0                         </td><td>3.0                         </td><td>1.0                         </td><td>0.0                         </td><td>0.0                    </td><td>11.0               </td><td>0.0                </td><td>0.0                 </td><td>20.0              </td><td>6.0                </td><td>13.69             </td><td>21.580000000000002</td><td>43.0               </td><td>1478160.0         </td><td>35.0              </td><td>1572990.0         </td><td>122.0             </td><td>702.6800000000001            </td><td>1196.43                      </td><td>949.5500000000001    </td><td>10.0                      </td><td>29.0                       </td><td>45.0                        </td><td>25.0                        </td><td>10.0                        </td><td>3.0                         </td><td>0.0                         </td><td>11.0                   </td><td>27.0               </td><td>0.0                </td><td>4.0                 </td><td>67.0              </td><td>10.0               </td><td>7495294.273858494     </td><td>6605065.530201342 </td><td>6924696.802578567               </td><td>7083619.164902663                  </td><td>7231713.127579471           </td><td>7134629.8326429175           </td><td>7916845.889154633        </td><td>7069163.030850519                </td><td>7242389.0831856495        </td><td>7100172.404620374              </td><td>7063324.7332920125                </td><td>7176112.387182768    </td><td>7075624.33772314         </td><td>7144896.322942727       </td><td>7747995.892117736</td></tr>\n",
       "<tr><td>3      </td><td>89.0              </td><td>50.0              </td><td>9.0              </td><td>nan               </td><td>nan               </td><td>nan               </td><td>nan               </td><td>nan              </td><td>nan               </td><td>12583535.69       </td><td>178473.0         </td><td>0.194702869          </td><td>0.069753361         </td><td>13087.0             </td><td>6839.0            </td><td>9.0                                </td><td>13670.0          </td><td>17063.0          </td><td>10.0                            </td><td>0.0                                    </td><td>nan                  </td><td>1.0                       </td><td>0.0                      </td><td>17.0                 </td><td>6.0                         </td><td>0.0                           </td><td>11.0                    </td><td>4.0              </td><td>21155.0           </td><td>9828.0            </td><td>11327.0           </td><td>28563.0           </td><td>14680.0           </td><td>13883.0          </td><td>120381.0         </td><td>60040.0          </td><td>60341.0           </td><td>29529.0           </td><td>9083.0           </td><td>20446.0           </td><td>13087.0          </td><td>6645.0           </td><td>6442.0            </td><td>13670.0          </td><td>7126.0           </td><td>6544.0            </td><td>32063.0           </td><td>16513.0          </td><td>15550.0           </td><td>3292.0           </td><td>1450.0            </td><td>1842.0            </td><td>24934.0          </td><td>12782.0           </td><td>12152.0          </td><td>458.0                                 </td><td>9.0                </td><td>51.0              </td><td>12.0               </td><td>124.0              </td><td>50.0                  </td><td>201.0              </td><td>0.0                </td><td>9.0               </td><td>2.0               </td><td>459.0                                  </td><td>13.0                     </td><td>24.0                   </td><td>40.0                   </td><td>130.0                  </td><td>252.0                   </td><td>4.0              </td><td>1.4890491540000002</td><td>0.984536582        </td><td>11.565624080000001</td><td>0.9638020070000001 </td><td>0.179440956           </td><td>0.23645501800000002</td><td>0.078090293        </td><td>0.10612450600000001</td><td>0.451173311        </td><td>15.62371            </td><td>2.01708           </td><td>14.31764          </td><td>4.2914325                 </td><td>51.497190010000004         </td><td>4.0                       </td><td>3.8160445820000004        </td><td>5.271136062                </td><td>4.0                       </td><td>0.131596959                  </td><td>1.5791635130000001                 </td><td>1.2003364870000002   </td><td>2.6778242810000004</td><td>14.606500780000001 </td><td>17.45719794       </td><td>18.30943312          </td><td>19.48700542       </td><td>2.677824284       </td><td>1.0               </td><td>2.780448941       </td><td>17.0             </td><td>1.999265421          </td><td>17.478380350000002  </td><td>83.0                  </td><td>6.734618018000001     </td><td>1.0               </td><td>27.6678632        </td><td>9.522537611         </td><td>6.348716334000001 </td><td>1.767612439                 </td><td>11.17833328             </td><td>0.583024969       </td><td>27.892716880000002</td><td>0.811275289       </td><td>0.62348431         </td><td>1.950316967       </td><td>6.483171621       </td><td>7.385520691000001 </td><td>4.923843177        </td><td>3.5495575680000004   </td><td>8.789894266000001      </td><td>2.163735157           </td><td>10.903161299999999    </td><td>0.622271644        </td><td>0.599913582          </td><td>0.934273498       </td><td>0.8926742999999999       </td><td>0.23645501800000002</td><td>1.03177679          </td><td>1.561504846          </td><td>15.30044908          </td><td>16.99067736         </td><td>16.04152067       </td><td>5.02969633          </td><td>0.46582015800000004   </td><td>17.36             </td><td>0.5700000000000001</td><td>0.0               </td><td>0.0               </td><td>0.0               </td><td>0.0               </td><td>2.0               </td><td>1000.0                      </td><td>1500.0                      </td><td>1250.0              </td><td>0.0                      </td><td>0.0                       </td><td>0.0                        </td><td>2.0                        </td><td>0.0                        </td><td>0.0                        </td><td>0.0                        </td><td>0.0                   </td><td>0.0               </td><td>0.0                  </td><td>0.0                </td><td>0.0               </td><td>0.0                </td><td>19.25             </td><td>10.35             </td><td>1.0                </td><td>11000.0           </td><td>6.0               </td><td>80780.0           </td><td>12.0              </td><td>658.33                       </td><td>1083.33                      </td><td>870.83               </td><td>0.0                       </td><td>3.0                        </td><td>4.0                         </td><td>5.0                         </td><td>0.0                         </td><td>0.0                         </td><td>0.0                         </td><td>0.0                    </td><td>0.0                </td><td>0.0                 </td><td>0.0                 </td><td>3.0               </td><td>1.0                </td><td>28.38             </td><td>6.57              </td><td>2.0                </td><td>11000.0           </td><td>7.0               </td><td>89492.0           </td><td>23.0             </td><td>673.91                       </td><td>1130.43                      </td><td>902.1700000000001    </td><td>0.0                       </td><td>5.0                        </td><td>9.0                         </td><td>8.0                         </td><td>1.0                         </td><td>0.0                         </td><td>0.0                         </td><td>1.0                    </td><td>0.0                </td><td>0.0                </td><td>0.0                 </td><td>9.0               </td><td>2.0                </td><td>32.29             </td><td>5.73              </td><td>2.0                </td><td>11000.0           </td><td>7.0              </td><td>89492.0          </td><td>25.0             </td><td>660.0                        </td><td>1120.0                       </td><td>890.0                </td><td>0.0                       </td><td>5.0                        </td><td>11.0                        </td><td>8.0                         </td><td>1.0                         </td><td>0.0                         </td><td>0.0                         </td><td>1.0                    </td><td>1.0                </td><td>0.0                </td><td>0.0                 </td><td>13.0              </td><td>2.0                </td><td>20.79             </td><td>3.5700000000000003</td><td>4.0                </td><td>167000.0          </td><td>12.0              </td><td>205756.0         </td><td>32.0              </td><td>718.75                       </td><td>1218.75                      </td><td>968.75               </td><td>0.0                       </td><td>5.0                        </td><td>14.0                        </td><td>10.0                        </td><td>3.0                         </td><td>0.0                         </td><td>0.0                         </td><td>1.0                    </td><td>2.0                </td><td>0.0                </td><td>0.0                 </td><td>18.0              </td><td>3.0                </td><td>14.18             </td><td>3.89              </td><td>8.0                </td><td>244166.0          </td><td>22.0              </td><td>942180.0          </td><td>61.0              </td><td>931.58                       </td><td>1552.63                      </td><td>1242.1100000000001   </td><td>4.0                       </td><td>7.0                        </td><td>21.0                        </td><td>15.0                        </td><td>11.0                        </td><td>2.0                         </td><td>1.0                         </td><td>4.0                    </td><td>4.0                </td><td>0.0                </td><td>0.0                 </td><td>26.0              </td><td>3.0                </td><td>7495294.273858494     </td><td>8809622.955817379 </td><td>6924696.802578567               </td><td>7083619.164902663                  </td><td>7231713.127579471           </td><td>7134629.8326429175           </td><td>6682753.892193877        </td><td>7069163.030850519                </td><td>7242389.0831856495        </td><td>7100172.404620374              </td><td>7063324.7332920125                </td><td>7176112.387182768    </td><td>7075624.33772314         </td><td>7144896.322942727       </td><td>7082094.536660163</td></tr>\n",
       "<tr><td>4      </td><td>77.0              </td><td>77.0              </td><td>4.0              </td><td>nan               </td><td>nan               </td><td>nan               </td><td>nan               </td><td>nan              </td><td>nan               </td><td>8398460.622       </td><td>108171.0         </td><td>0.015233744          </td><td>0.037316452         </td><td>5706.0              </td><td>3240.0            </td><td>7.0                                </td><td>6748.0           </td><td>7770.0           </td><td>9.0                             </td><td>0.0                                    </td><td>562.0                </td><td>4.0                       </td><td>2.0                      </td><td>25.0                 </td><td>2.0                         </td><td>0.0                           </td><td>10.0                    </td><td>93.0             </td><td>28179.0           </td><td>13522.0           </td><td>14657.0           </td><td>13368.0           </td><td>7159.0            </td><td>6209.0           </td><td>68043.0          </td><td>34236.0          </td><td>33807.0           </td><td>26760.0           </td><td>8563.0           </td><td>18197.0           </td><td>5706.0           </td><td>2982.0           </td><td>2724.0            </td><td>6748.0           </td><td>3664.0           </td><td>3084.0            </td><td>15237.0           </td><td>8113.0           </td><td>7124.0            </td><td>5164.0           </td><td>2583.0            </td><td>2581.0            </td><td>11631.0          </td><td>6223.0            </td><td>5408.0           </td><td>746.0                                 </td><td>48.0               </td><td>0.0               </td><td>0.0                </td><td>643.0              </td><td>16.0                  </td><td>35.0               </td><td>0.0                </td><td>3.0               </td><td>1.0               </td><td>746.0                                  </td><td>371.0                    </td><td>114.0                  </td><td>146.0                  </td><td>62.0                   </td><td>53.0                    </td><td>5.0              </td><td>1.257186453       </td><td>0.876620232        </td><td>8.266305238000001 </td><td>0.6888587700000001 </td><td>0.247901208           </td><td>0.376838057        </td><td>0.25828876900000003</td><td>0.236214054        </td><td>0.39287098800000003</td><td>10.68354            </td><td>2.936581          </td><td>11.903910000000002</td><td>0.853960072               </td><td>10.24752087                </td><td>5.0                       </td><td>1.5958981700000001        </td><td>2.1562838650000002         </td><td>113.0                     </td><td>0.071480323                  </td><td>0.8577638740000001                 </td><td>0.8202943180000001   </td><td>11.61665314       </td><td>1.721833675        </td><td>0.046809568       </td><td>0.7875933110000001   </td><td>2.578670647       </td><td>1.721833683       </td><td>4.0               </td><td>3.1335309660000004</td><td>10.0             </td><td>0.08411254500000001  </td><td>1.5958981700000001  </td><td>113.0                 </td><td>1.423427954           </td><td>4.0               </td><td>6.515857089000001 </td><td>8.671015673000001   </td><td>1.6383180960000001</td><td>3.632640421                 </td><td>4.587916559             </td><td>2.6094196100000002</td><td>9.15505713        </td><td>1.969737724       </td><td>0.22028766700000002</td><td>2.544696          </td><td>3.975401349       </td><td>3.6107538280000004</td><td>0.30791537500000005</td><td>1.8646374060000002   </td><td>3.7797811090000004     </td><td>1.1217028450000002    </td><td>0.991682626           </td><td>0.8926675260000001 </td><td>0.429052137          </td><td>0.077900959       </td><td>0.8108014560000001       </td><td>0.376838057        </td><td>0.378755838         </td><td>0.121680643          </td><td>2.584369607          </td><td>1.11248589          </td><td>1.800124877       </td><td>1.339652258         </td><td>0.026102416000000003  </td><td>3.56              </td><td>4.44              </td><td>15.0              </td><td>293699.0          </td><td>1.0               </td><td>45000.0           </td><td>48.0              </td><td>702.22                      </td><td>1166.67                     </td><td>934.44              </td><td>3.0                      </td><td>17.0                      </td><td>10.0                       </td><td>11.0                       </td><td>7.0                        </td><td>0.0                        </td><td>0.0                        </td><td>1.0                   </td><td>4.0               </td><td>0.0                  </td><td>2.0                </td><td>3.0               </td><td>0.0                </td><td>3.34              </td><td>8.290000000000001 </td><td>46.0               </td><td>420952.0          </td><td>3.0               </td><td>158200.0          </td><td>153.0             </td><td>763.45                       </td><td>1272.41                      </td><td>1017.9300000000001   </td><td>8.0                       </td><td>39.0                       </td><td>45.0                        </td><td>39.0                        </td><td>19.0                        </td><td>2.0                         </td><td>1.0                         </td><td>7.0                    </td><td>12.0               </td><td>0.0                 </td><td>6.0                 </td><td>7.0               </td><td>0.0                </td><td>4.12              </td><td>4.83              </td><td>93.0               </td><td>1195735.0         </td><td>9.0               </td><td>445900.0          </td><td>272.0            </td><td>766.8000000000001            </td><td>1272.73                      </td><td>1019.76              </td><td>19.0                      </td><td>70.0                       </td><td>74.0                        </td><td>72.0                        </td><td>30.0                        </td><td>6.0                         </td><td>1.0                         </td><td>18.0                   </td><td>30.0               </td><td>0.0                </td><td>10.0                </td><td>14.0              </td><td>2.0                </td><td>4.53              </td><td>5.0200000000000005</td><td>149.0              </td><td>1625130.0         </td><td>17.0             </td><td>564843.0         </td><td>483.0            </td><td>765.9300000000001            </td><td>1269.23                      </td><td>1017.58              </td><td>28.0                      </td><td>130.0                      </td><td>129.0                       </td><td>131.0                       </td><td>50.0                        </td><td>14.0                        </td><td>1.0                         </td><td>35.0                   </td><td>61.0               </td><td>0.0                </td><td>17.0                </td><td>21.0              </td><td>3.0                </td><td>5.0600000000000005</td><td>8.620000000000001 </td><td>305.0              </td><td>3420907.0         </td><td>60.0              </td><td>2296870.0        </td><td>1068.0            </td><td>853.03                       </td><td>1410.45                      </td><td>1131.74              </td><td>63.0                      </td><td>266.0                      </td><td>267.0                       </td><td>262.0                       </td><td>149.0                       </td><td>57.0                        </td><td>4.0                         </td><td>70.0                   </td><td>121.0              </td><td>1.0                </td><td>40.0                </td><td>77.0              </td><td>5.0                </td><td>8.38              </td><td>10.92             </td><td>689.0              </td><td>8404624.0         </td><td>114.0             </td><td>3503058.0         </td><td>2283.0            </td><td>853.88                       </td><td>1411.45                      </td><td>1132.66              </td><td>143.0                     </td><td>566.0                      </td><td>578.0                       </td><td>552.0                       </td><td>319.0                       </td><td>108.0                       </td><td>17.0                        </td><td>135.0                  </td><td>236.0              </td><td>2.0                </td><td>91.0                </td><td>195.0             </td><td>14.0               </td><td>7495294.273858494     </td><td>10918016.580436436</td><td>6924696.802578567               </td><td>7083619.164902663                  </td><td>7231713.127579471           </td><td>7134629.8326429175           </td><td>7916845.889154633        </td><td>8514181.72359155                 </td><td>7242389.0831856495        </td><td>7100172.404620374              </td><td>7063324.7332920125                </td><td>7176112.387182768    </td><td>7075624.33772314         </td><td>6398952.416573348       </td><td>8201252.899441342</td></tr>\n",
       "<tr><td>5      </td><td>67.0              </td><td>46.0              </td><td>14.0             </td><td>nan               </td><td>nan               </td><td>nan               </td><td>nan               </td><td>nan              </td><td>nan               </td><td>7506452.0200000005</td><td>43795.0          </td><td>0.007670134          </td><td>0.486245621         </td><td>2418.0              </td><td>852.0             </td><td>2.0                                </td><td>2514.0           </td><td>2012.0           </td><td>3.0                             </td><td>0.0                                    </td><td>nan                  </td><td>0.0                       </td><td>0.0                      </td><td>7.0                  </td><td>0.0                         </td><td>0.0                           </td><td>6.0                     </td><td>19.0             </td><td>19940.0           </td><td>9400.0            </td><td>10540.0           </td><td>5291.0            </td><td>2744.0            </td><td>2547.0           </td><td>29660.0          </td><td>15793.0          </td><td>13867.0           </td><td>8844.0            </td><td>2608.0           </td><td>6236.0            </td><td>2418.0           </td><td>1224.0           </td><td>1194.0            </td><td>2514.0           </td><td>1328.0           </td><td>1186.0            </td><td>5866.0            </td><td>3035.0           </td><td>2831.0            </td><td>4851.0           </td><td>2329.0            </td><td>2522.0            </td><td>4632.0           </td><td>2399.0            </td><td>2233.0           </td><td>188.0                                 </td><td>24.0               </td><td>0.0               </td><td>0.0                </td><td>147.0              </td><td>2.0                   </td><td>15.0               </td><td>0.0                </td><td>0.0               </td><td>0.0               </td><td>188.0                                  </td><td>0.0                      </td><td>5.0                    </td><td>152.0                  </td><td>25.0                   </td><td>6.0                     </td><td>6.0              </td><td>2.7358839070000003</td><td>1.593246481        </td><td>18.378169630000002</td><td>1.5315141360000002 </td><td>0.14595481600000001   </td><td>0.11346621800000001</td><td>1.0734954270000001 </td><td>1.497902638        </td><td>0.25648745300000003</td><td>7.18674             </td><td>0.7803300000000001</td><td>14.075140000000001</td><td>0.375311695               </td><td>4.503740339                </td><td>6.0                       </td><td>0.375311695               </td><td>1.407418835                </td><td>6.0                       </td><td>0.189227153                  </td><td>2.2707258350000004                 </td><td>0.612447325          </td><td>8.296086727       </td><td>0.28486810700000004</td><td>3.5193889850000004</td><td>4.395057477          </td><td>5.645795859000001 </td><td>0.284868136       </td><td>4.0               </td><td>1.478528507       </td><td>3.0              </td><td>0.244670412          </td><td>5.070196504         </td><td>5.0                   </td><td>6.682088764           </td><td>4.0               </td><td>3.95950924        </td><td>8.757686082000001   </td><td>0.193126987       </td><td>2.34156168                  </td><td>1.2728944420000001      </td><td>1.4380034480000001</td><td>5.374563767000001 </td><td>3.4478636280000003</td><td>0.81041306         </td><td>1.9118427820000001</td><td>2.1089234350000003</td><td>4.233094726       </td><td>1.4509748740000001 </td><td>3.391116928          </td><td>4.356122442            </td><td>1.6987235840000001    </td><td>3.8300213050000003    </td><td>1.042261834        </td><td>0.440707312          </td><td>0.422357874       </td><td>3.066285203              </td><td>0.11346621800000001</td><td>0.6869317020000001  </td><td>0.8704465140000001   </td><td>4.787705729000001    </td><td>3.388809733         </td><td>3.7135566300000002</td><td>2.553423533         </td><td>0.0044693070000000005 </td><td>0.0               </td><td>19.42             </td><td>5.0               </td><td>227705.0          </td><td>3.0               </td><td>102000.0          </td><td>7.0               </td><td>1000.0                      </td><td>1625.0                      </td><td>1312.5              </td><td>3.0                      </td><td>0.0                       </td><td>1.0                        </td><td>2.0                        </td><td>1.0                        </td><td>0.0                        </td><td>0.0                        </td><td>0.0                   </td><td>0.0               </td><td>0.0                  </td><td>0.0                </td><td>0.0               </td><td>0.0                </td><td>0.0               </td><td>40.27             </td><td>10.0               </td><td>275135.0          </td><td>5.0               </td><td>164000.0          </td><td>9.0               </td><td>883.33                       </td><td>1416.67                      </td><td>1150.0               </td><td>3.0                       </td><td>1.0                        </td><td>1.0                         </td><td>3.0                         </td><td>1.0                         </td><td>0.0                         </td><td>0.0                         </td><td>3.0                    </td><td>1.0                </td><td>0.0                 </td><td>0.0                 </td><td>1.0               </td><td>0.0                </td><td>0.0               </td><td>50.64             </td><td>18.0               </td><td>431090.0          </td><td>6.0               </td><td>186400.0          </td><td>14.0             </td><td>718.1800000000001            </td><td>1181.82                      </td><td>950.0                </td><td>3.0                       </td><td>3.0                        </td><td>3.0                         </td><td>4.0                         </td><td>1.0                         </td><td>0.0                         </td><td>0.0                         </td><td>4.0                    </td><td>2.0                </td><td>0.0                </td><td>0.0                 </td><td>11.0              </td><td>0.0                </td><td>0.38              </td><td>51.58             </td><td>21.0               </td><td>471290.0          </td><td>14.0             </td><td>683945.0         </td><td>33.0             </td><td>741.38                       </td><td>1258.6200000000001           </td><td>1000.0               </td><td>4.0                       </td><td>5.0                        </td><td>13.0                        </td><td>8.0                         </td><td>2.0                         </td><td>1.0                         </td><td>0.0                         </td><td>6.0                    </td><td>5.0                </td><td>0.0                </td><td>0.0                 </td><td>21.0              </td><td>1.0                </td><td>1.82              </td><td>39.99             </td><td>54.0               </td><td>1181009.0         </td><td>29.0              </td><td>1059171.0        </td><td>120.0             </td><td>737.96                       </td><td>1231.48                      </td><td>984.72               </td><td>12.0                      </td><td>24.0                       </td><td>37.0                        </td><td>35.0                        </td><td>11.0                        </td><td>1.0                         </td><td>0.0                         </td><td>12.0                   </td><td>12.0               </td><td>0.0                </td><td>2.0                 </td><td>31.0              </td><td>7.0                </td><td>5.92              </td><td>25.79             </td><td>253.0              </td><td>4274339.0         </td><td>63.0              </td><td>2010320.0         </td><td>567.0             </td><td>769.9200000000001            </td><td>1280.08                      </td><td>1025.0               </td><td>35.0                      </td><td>137.0                      </td><td>163.0                       </td><td>155.0                       </td><td>62.0                        </td><td>14.0                        </td><td>1.0                         </td><td>53.0                   </td><td>78.0               </td><td>1.0                </td><td>20.0                </td><td>113.0             </td><td>17.0               </td><td>7495294.273858494     </td><td>6205537.590362222 </td><td>6924696.802578567               </td><td>7809766.912333736                  </td><td>7231713.127579471           </td><td>7134629.8326429175           </td><td>7916845.889154633        </td><td>7069163.030850519                </td><td>7242389.0831856495        </td><td>7100172.404620374              </td><td>7063324.7332920125                </td><td>7176112.387182768    </td><td>7075624.33772314         </td><td>7144896.322942727       </td><td>7747995.892117736</td></tr>\n",
       "<tr><td>6      </td><td>25.0              </td><td>14.0              </td><td>10.0             </td><td>nan               </td><td>nan               </td><td>nan               </td><td>nan               </td><td>nan              </td><td>nan               </td><td>10320473.23       </td><td>57405.0          </td><td>0.5234390750000001   </td><td>0.042307271         </td><td>2459.0              </td><td>933.0             </td><td>5.0                                </td><td>2810.0           </td><td>5050.0           </td><td>5.0                             </td><td>0.0                                    </td><td>4849.0               </td><td>3.0                       </td><td>0.0                      </td><td>17.0                 </td><td>6.0                         </td><td>0.0                           </td><td>6.0                     </td><td>9.0              </td><td>85956.0           </td><td>40724.0           </td><td>45232.0           </td><td>5682.0            </td><td>2925.0            </td><td>2757.0           </td><td>35003.0          </td><td>17490.0          </td><td>17513.0           </td><td>16720.0           </td><td>5351.0           </td><td>11369.0           </td><td>2459.0           </td><td>1241.0           </td><td>1218.0            </td><td>2810.0           </td><td>1472.0           </td><td>1338.0            </td><td>6510.0            </td><td>3345.0           </td><td>3165.0            </td><td>19445.0          </td><td>10085.0           </td><td>9360.0            </td><td>4884.0           </td><td>2507.0            </td><td>2377.0           </td><td>217.0                                 </td><td>23.0               </td><td>1.0               </td><td>0.0                </td><td>139.0              </td><td>12.0                  </td><td>41.0               </td><td>0.0                </td><td>0.0               </td><td>1.0               </td><td>216.0                                  </td><td>11.0                     </td><td>38.0                   </td><td>90.0                   </td><td>58.0                   </td><td>19.0                    </td><td>7.0              </td><td>1.453761834       </td><td>1.026916052        </td><td>12.32299262       </td><td>1.026916052        </td><td>0.501165569           </td><td>0.5169791770000001 </td><td>2.393238738        </td><td>0.632444746        </td><td>0.7072680950000001 </td><td>13.9007             </td><td>1.371596          </td><td>10.329880000000001</td><td>2.603670532               </td><td>31.24404639                </td><td>7.0                       </td><td>3.031337419               </td><td>3.9592885630000003         </td><td>7.0                       </td><td>0.050211053000000005         </td><td>0.602532635                        </td><td>0.39986506200000005  </td><td>8.618597103       </td><td>2.0266226940000003 </td><td>3.940565824       </td><td>4.686895435          </td><td>6.4687187680000005</td><td>2.0266226720000002</td><td>4.0               </td><td>3.657904476       </td><td>20.0             </td><td>0.464015082          </td><td>3.028547461         </td><td>97.0                  </td><td>4.062549158           </td><td>4.0               </td><td>6.1645938430000005</td><td>11.80753189         </td><td>2.10648677        </td><td>1.298839815                 </td><td>5.106633095             </td><td>3.3454319320000003</td><td>13.70496751       </td><td>1.8258701510000002</td><td>0.132256233        </td><td>1.2789116040000001</td><td>1.733264299       </td><td>1.8777471460000001</td><td>0.588118977        </td><td>0.19889445500000003  </td><td>1.3745866480000002     </td><td>0.868403997           </td><td>3.1687815830000003    </td><td>0.544311589        </td><td>0.5136893370000001   </td><td>0.067724564       </td><td>0.27301919               </td><td>0.5169791770000001 </td><td>0.822377431         </td><td>0.318230275          </td><td>4.48494144           </td><td>0.75222301          </td><td>2.9693147050000004</td><td>3.373342934         </td><td>0.447173592           </td><td>0.0               </td><td>0.0               </td><td>3.0               </td><td>7719.0            </td><td>0.0               </td><td>0.0               </td><td>2.0               </td><td>750.0                       </td><td>1250.0                      </td><td>1000.0              </td><td>0.0                      </td><td>0.0                       </td><td>1.0                        </td><td>1.0                        </td><td>0.0                        </td><td>0.0                        </td><td>0.0                        </td><td>0.0                   </td><td>2.0               </td><td>0.0                  </td><td>1.0                </td><td>2.0               </td><td>0.0                </td><td>14.59             </td><td>4.16              </td><td>8.0                </td><td>151911.0          </td><td>3.0               </td><td>19400.0           </td><td>16.0              </td><td>760.0                        </td><td>1300.0                       </td><td>1030.0               </td><td>1.0                       </td><td>3.0                        </td><td>7.0                         </td><td>3.0                         </td><td>1.0                         </td><td>1.0                         </td><td>0.0                         </td><td>2.0                    </td><td>4.0                </td><td>0.0                 </td><td>2.0                 </td><td>7.0               </td><td>0.0                </td><td>20.5              </td><td>5.57              </td><td>20.0               </td><td>453371.0          </td><td>9.0               </td><td>105241.0          </td><td>44.0             </td><td>673.17                       </td><td>1158.54                      </td><td>915.85               </td><td>3.0                       </td><td>12.0                       </td><td>17.0                        </td><td>7.0                         </td><td>4.0                         </td><td>1.0                         </td><td>0.0                         </td><td>4.0                    </td><td>11.0               </td><td>0.0                </td><td>3.0                 </td><td>20.0              </td><td>1.0                </td><td>23.45             </td><td>5.25              </td><td>42.0               </td><td>791467.0          </td><td>17.0             </td><td>510141.0         </td><td>71.0             </td><td>720.0                        </td><td>1215.38                      </td><td>967.69               </td><td>6.0                       </td><td>16.0                       </td><td>24.0                        </td><td>17.0                        </td><td>7.0                         </td><td>1.0                         </td><td>0.0                         </td><td>9.0                    </td><td>14.0               </td><td>0.0                </td><td>4.0                 </td><td>28.0              </td><td>1.0                </td><td>22.2              </td><td>7.57              </td><td>72.0               </td><td>1387991.0         </td><td>24.0              </td><td>743439.0         </td><td>160.0             </td><td>698.04                       </td><td>1183.01                      </td><td>940.52               </td><td>7.0                       </td><td>41.0                       </td><td>57.0                        </td><td>37.0                        </td><td>16.0                        </td><td>2.0                         </td><td>0.0                         </td><td>17.0                   </td><td>29.0               </td><td>0.0                </td><td>8.0                 </td><td>56.0              </td><td>2.0                </td><td>25.23             </td><td>12.76             </td><td>228.0              </td><td>3305831.0         </td><td>49.0              </td><td>1656529.0         </td><td>635.0             </td><td>771.0500000000001            </td><td>1291.18                      </td><td>1031.1100000000001   </td><td>34.0                      </td><td>163.0                      </td><td>194.0                       </td><td>144.0                       </td><td>81.0                        </td><td>16.0                        </td><td>3.0                         </td><td>38.0                   </td><td>80.0               </td><td>1.0                </td><td>27.0                </td><td>127.0             </td><td>8.0                </td><td>7495294.273858494     </td><td>11057404.399994258</td><td>6924696.802578567               </td><td>7083619.164902663                  </td><td>7231713.127579471           </td><td>7134629.8326429175           </td><td>6682753.892193877        </td><td>7069163.030850519                </td><td>7242389.0831856495        </td><td>7100172.404620374              </td><td>7661038.268068331                 </td><td>7176112.387182768    </td><td>7075624.33772314         </td><td>7144896.322942727       </td><td>7747995.892117736</td></tr>\n",
       "<tr><td>7      </td><td>44.0              </td><td>44.0              </td><td>5.0              </td><td>nan               </td><td>nan               </td><td>nan               </td><td>nan               </td><td>nan              </td><td>nan               </td><td>6407578.100000001 </td><td>155572.0         </td><td>0.189727117          </td><td>6.99893e-05         </td><td>9576.0              </td><td>5001.0            </td><td>5.0                                </td><td>10309.0          </td><td>11065.0          </td><td>5.0                             </td><td>0.0                                    </td><td>240.0                </td><td>1.0                       </td><td>0.0                      </td><td>7.0                  </td><td>3.0                         </td><td>0.0                           </td><td>16.0                    </td><td>1.0              </td><td>86206.0           </td><td>40477.0           </td><td>45729.0           </td><td>21154.0           </td><td>11007.0           </td><td>10147.0          </td><td>98207.0          </td><td>52277.0          </td><td>45930.0           </td><td>36211.0           </td><td>10580.0          </td><td>25631.0           </td><td>9576.0           </td><td>4899.0           </td><td>4677.0            </td><td>10309.0          </td><td>5463.0           </td><td>4846.0            </td><td>23603.0           </td><td>12286.0          </td><td>11317.0           </td><td>17508.0          </td><td>9425.0            </td><td>8083.0            </td><td>18654.0          </td><td>9709.0            </td><td>8945.0           </td><td>211.0                                 </td><td>25.0               </td><td>0.0               </td><td>0.0                </td><td>0.0                </td><td>2.0                   </td><td>184.0              </td><td>0.0                </td><td>0.0               </td><td>0.0               </td><td>211.0                                  </td><td>0.0                      </td><td>0.0                    </td><td>0.0                    </td><td>206.0                  </td><td>5.0                     </td><td>8.0              </td><td>3.6232701410000003</td><td>1.593203382        </td><td>11.52778764       </td><td>0.96064897         </td><td>0.13436515200000002   </td><td>0.5815106950000001 </td><td>1.6020563410000002 </td><td>0.16512411300000002</td><td>1.166991896        </td><td>23.118380000000002  </td><td>1.1317979999999999</td><td>4.042541          </td><td>4.3095746550000005        </td><td>51.71489587                </td><td>8.0                       </td><td>5.622394422               </td><td>7.4538250790000005         </td><td>1.0                       </td><td>0.25481389                   </td><td>3.057766679                        </td><td>0.5670064180000001   </td><td>1.04229051        </td><td>11.53414568        </td><td>13.71375173       </td><td>14.2861768           </td><td>15.77042634       </td><td>1.042290487       </td><td>1.0               </td><td>3.303551988       </td><td>36.0             </td><td>1.964850803          </td><td>14.4344623          </td><td>101.0                 </td><td>23.391669320000002    </td><td>1.0               </td><td>18.84810404       </td><td>5.3329258500000005  </td><td>1.149883196       </td><td>0.952974662                 </td><td>5.713887982             </td><td>4.871096986       </td><td>9.913434734       </td><td>2.7951477230000004</td><td>0.342545086        </td><td>2.090237161       </td><td>2.3593853470000004</td><td>8.114016035       </td><td>3.495441189        </td><td>1.69654313           </td><td>4.213461148            </td><td>0.746259906           </td><td>6.917527177           </td><td>1.09857248         </td><td>0.6575873320000001   </td><td>0.8722314830000001</td><td>0.371856693              </td><td>0.5815106950000001 </td><td>1.079769307         </td><td>0.558238725          </td><td>4.469517135          </td><td>13.15230977         </td><td>8.018089004       </td><td>7.718966846000001   </td><td>0.373715085           </td><td>17.62             </td><td>0.0               </td><td>0.0               </td><td>0.0               </td><td>0.0               </td><td>0.0               </td><td>4.0               </td><td>1000.0                      </td><td>1625.0                      </td><td>1312.5              </td><td>0.0                      </td><td>0.0                       </td><td>1.0                        </td><td>2.0                        </td><td>1.0                        </td><td>0.0                        </td><td>0.0                        </td><td>0.0                   </td><td>0.0               </td><td>0.0                  </td><td>0.0                </td><td>1.0               </td><td>0.0                </td><td>26.27             </td><td>0.0               </td><td>1.0                </td><td>30500.0           </td><td>3.0               </td><td>13200.0           </td><td>13.0              </td><td>784.62                       </td><td>1269.23                      </td><td>1026.92              </td><td>0.0                       </td><td>4.0                        </td><td>2.0                         </td><td>5.0                         </td><td>2.0                         </td><td>0.0                         </td><td>0.0                         </td><td>0.0                    </td><td>1.0                </td><td>0.0                 </td><td>0.0                 </td><td>3.0               </td><td>0.0                </td><td>17.42             </td><td>1.97              </td><td>2.0                </td><td>70500.0           </td><td>11.0              </td><td>207671.0          </td><td>29.0             </td><td>585.71                       </td><td>982.14                       </td><td>783.9300000000001    </td><td>1.0                       </td><td>13.0                       </td><td>7.0                         </td><td>6.0                         </td><td>2.0                         </td><td>0.0                         </td><td>0.0                         </td><td>1.0                    </td><td>3.0                </td><td>0.0                </td><td>0.0                 </td><td>7.0               </td><td>1.0                </td><td>15.02             </td><td>7.13              </td><td>6.0                </td><td>113554.0          </td><td>12.0             </td><td>226291.0         </td><td>36.0             </td><td>614.29                       </td><td>1042.8600000000001           </td><td>828.57               </td><td>1.0                       </td><td>15.0                       </td><td>11.0                        </td><td>6.0                         </td><td>2.0                         </td><td>1.0                         </td><td>0.0                         </td><td>2.0                    </td><td>4.0                </td><td>0.0                </td><td>0.0                 </td><td>9.0               </td><td>1.0                </td><td>11.47             </td><td>13.56             </td><td>12.0               </td><td>251554.0          </td><td>21.0              </td><td>1377234.0        </td><td>55.0              </td><td>623.53                       </td><td>1049.02                      </td><td>836.27               </td><td>4.0                       </td><td>21.0                       </td><td>15.0                        </td><td>11.0                        </td><td>3.0                         </td><td>1.0                         </td><td>0.0                         </td><td>3.0                    </td><td>4.0                </td><td>0.0                </td><td>0.0                 </td><td>18.0              </td><td>2.0                </td><td>15.8              </td><td>11.44             </td><td>24.0               </td><td>711780.0          </td><td>45.0              </td><td>2197401.0         </td><td>143.0             </td><td>709.09                       </td><td>1189.39                      </td><td>949.24               </td><td>11.0                      </td><td>37.0                       </td><td>46.0                        </td><td>36.0                        </td><td>9.0                         </td><td>4.0                         </td><td>0.0                         </td><td>11.0                   </td><td>18.0               </td><td>1.0                </td><td>0.0                 </td><td>47.0              </td><td>4.0                </td><td>7495294.273858494     </td><td>6670177.260869565 </td><td>6924696.802578567               </td><td>7083619.164902663                  </td><td>7231713.127579471           </td><td>7134629.8326429175           </td><td>6682753.892193877        </td><td>7069163.030850519                </td><td>7242389.0831856495        </td><td>7100172.404620374              </td><td>7063324.7332920125                </td><td>7176112.387182768    </td><td>7075624.33772314         </td><td>7144896.322942727       </td><td>7082094.536660163</td></tr>\n",
       "<tr><td>8      </td><td>42.0              </td><td>27.0              </td><td>5.0              </td><td>nan               </td><td>nan               </td><td>nan               </td><td>nan               </td><td>nan              </td><td>nan               </td><td>4787424.272       </td><td>96959.0          </td><td>0.03845587           </td><td>0.122090347         </td><td>6507.0              </td><td>3272.0            </td><td>4.0                                </td><td>6566.0           </td><td>8751.0           </td><td>6.0                             </td><td>0.0                                    </td><td>1894.0               </td><td>4.0                       </td><td>0.0                      </td><td>7.0                  </td><td>6.0                         </td><td>0.0                           </td><td>0.0                     </td><td>7.0              </td><td>78810.0           </td><td>36091.0           </td><td>42719.0           </td><td>13901.0           </td><td>7344.0            </td><td>6557.0           </td><td>59120.0          </td><td>29664.0          </td><td>29456.0           </td><td>23938.0           </td><td>6980.0           </td><td>16958.0           </td><td>6507.0           </td><td>3456.0           </td><td>3051.0            </td><td>6566.0           </td><td>3453.0           </td><td>3113.0            </td><td>15510.0           </td><td>8201.0           </td><td>7309.0            </td><td>17662.0          </td><td>8488.0            </td><td>9174.0            </td><td>12269.0          </td><td>6487.0            </td><td>5782.0           </td><td>390.0                                 </td><td>101.0              </td><td>2.0               </td><td>0.0                </td><td>216.0              </td><td>11.0                  </td><td>60.0               </td><td>0.0                </td><td>0.0               </td><td>0.0               </td><td>390.0                                  </td><td>1.0                      </td><td>9.0                    </td><td>290.0                  </td><td>39.0                   </td><td>51.0                    </td><td>9.0              </td><td>2.1754307880000003</td><td>1.338707436        </td><td>14.74228941       </td><td>1.228524117        </td><td>0.11290453            </td><td>0.25658932900000003</td><td>0.939584123        </td><td>0.148956733        </td><td>0.670431737        </td><td>20.94097            </td><td>1.759887          </td><td>3.925497          </td><td>1.540958494               </td><td>18.49150192                </td><td>9.0                       </td><td>1.540958494               </td><td>2.428244611                </td><td>9.0                       </td><td>0.21977584100000003          </td><td>2.6373100910000002                 </td><td>0.32295450600000003  </td><td>6.53914608        </td><td>5.514867811        </td><td>8.290836714000001 </td><td>8.963023472          </td><td>10.357535         </td><td>2.438125457       </td><td>5.0               </td><td>2.725990867       </td><td>14.0             </td><td>0.8335798600000001   </td><td>7.50071515          </td><td>121.0                 </td><td>8.571925744000001     </td><td>5.0               </td><td>16.911467         </td><td>1.652274682         </td><td>2.679181439       </td><td>1.3073626630000001          </td><td>6.1781318480000005      </td><td>4.421560784       </td><td>18.18034021       </td><td>1.263583558       </td><td>0.0                </td><td>2.467325771       </td><td>0.540760283       </td><td>0.731141912       </td><td>0.7999211190000001 </td><td>1.7824392370000002   </td><td>3.4321445820000003     </td><td>1.032523625           </td><td>1.2042204490000001    </td><td>0.25658932900000003</td><td>2.332387982          </td><td>1.143674241       </td><td>0.217477464              </td><td>0.25658932900000003</td><td>0.554880314         </td><td>0.555962558          </td><td>4.4327529100000005   </td><td>6.788241041         </td><td>5.2731710110000005</td><td>2.4494532330000003  </td><td>0.123609825           </td><td>7.71              </td><td>0.0               </td><td>0.0               </td><td>0.0               </td><td>0.0               </td><td>0.0               </td><td>7.0               </td><td>633.33                      </td><td>1083.33                     </td><td>858.33              </td><td>1.0                      </td><td>1.0                       </td><td>3.0                        </td><td>2.0                        </td><td>0.0                        </td><td>0.0                        </td><td>0.0                        </td><td>0.0                   </td><td>0.0               </td><td>0.0                  </td><td>0.0                </td><td>5.0               </td><td>0.0                </td><td>19.25             </td><td>6.55              </td><td>0.0                </td><td>0.0               </td><td>0.0               </td><td>0.0               </td><td>10.0              </td><td>566.67                       </td><td>1000.0                       </td><td>783.33               </td><td>1.0                       </td><td>2.0                        </td><td>5.0                         </td><td>2.0                         </td><td>0.0                         </td><td>0.0                         </td><td>0.0                         </td><td>2.0                    </td><td>2.0                </td><td>0.0                 </td><td>0.0                 </td><td>6.0               </td><td>0.0                </td><td>19.830000000000002</td><td>19.76             </td><td>5.0                </td><td>116353.0          </td><td>0.0               </td><td>0.0               </td><td>15.0             </td><td>592.3100000000001            </td><td>1038.46                      </td><td>815.38               </td><td>2.0                       </td><td>4.0                        </td><td>6.0                         </td><td>2.0                         </td><td>1.0                         </td><td>0.0                         </td><td>0.0                         </td><td>2.0                    </td><td>3.0                </td><td>0.0                </td><td>0.0                 </td><td>9.0               </td><td>2.0                </td><td>22.0              </td><td>19.72             </td><td>12.0               </td><td>144351.0          </td><td>0.0              </td><td>0.0              </td><td>18.0             </td><td>593.75                       </td><td>1031.25                      </td><td>812.5                </td><td>2.0                       </td><td>5.0                        </td><td>7.0                         </td><td>3.0                         </td><td>1.0                         </td><td>0.0                         </td><td>0.0                         </td><td>2.0                    </td><td>3.0                </td><td>0.0                </td><td>0.0                 </td><td>14.0              </td><td>3.0                </td><td>17.87             </td><td>21.59             </td><td>33.0               </td><td>872741.0          </td><td>12.0              </td><td>503283.0         </td><td>98.0              </td><td>572.41                       </td><td>965.52                       </td><td>768.97               </td><td>11.0                      </td><td>36.0                       </td><td>28.0                        </td><td>21.0                        </td><td>1.0                         </td><td>1.0                         </td><td>0.0                         </td><td>4.0                    </td><td>8.0                </td><td>0.0                </td><td>1.0                 </td><td>24.0              </td><td>6.0                </td><td>18.73             </td><td>14.52             </td><td>94.0               </td><td>2283313.0         </td><td>41.0              </td><td>1051314.0         </td><td>292.0             </td><td>711.36                       </td><td>1185.6100000000001           </td><td>948.48               </td><td>28.0                      </td><td>86.0                       </td><td>81.0                        </td><td>69.0                        </td><td>19.0                        </td><td>8.0                         </td><td>1.0                         </td><td>18.0                   </td><td>34.0               </td><td>1.0                </td><td>3.0                 </td><td>85.0              </td><td>11.0               </td><td>7495294.273858494     </td><td>7095220.93236715  </td><td>6924696.802578567               </td><td>7083619.164902663                  </td><td>7231713.127579471           </td><td>7134629.8326429175           </td><td>6682753.892193877        </td><td>7069163.030850519                </td><td>7242389.0831856495        </td><td>7100172.404620374              </td><td>7063324.7332920125                </td><td>7176112.387182768    </td><td>7075624.33772314         </td><td>7144896.322942727       </td><td>7747995.892117736</td></tr>\n",
       "<tr><td>9      </td><td>36.0              </td><td>21.0              </td><td>9.0              </td><td>nan               </td><td>nan               </td><td>nan               </td><td>nan               </td><td>nan              </td><td>nan               </td><td>52351766.54       </td><td>142462.0         </td><td>0.070662054          </td><td>0.035145267         </td><td>9347.0              </td><td>4050.0            </td><td>7.0                                </td><td>9292.0           </td><td>11234.0          </td><td>8.0                             </td><td>0.0                                    </td><td>2620.0               </td><td>0.0                       </td><td>0.0                      </td><td>5.0                  </td><td>2.0                         </td><td>0.0                           </td><td>3.0                     </td><td>3.0              </td><td>78507.0           </td><td>37052.0           </td><td>41455.0           </td><td>19784.0           </td><td>10339.0           </td><td>9445.0           </td><td>85551.0          </td><td>43352.0          </td><td>42199.0           </td><td>37127.0           </td><td>11024.0          </td><td>26103.0           </td><td>9347.0           </td><td>4806.0           </td><td>4541.0            </td><td>9292.0           </td><td>4919.0           </td><td>4373.0            </td><td>22071.0           </td><td>11484.0          </td><td>10587.0           </td><td>15929.0          </td><td>8541.0            </td><td>7388.0            </td><td>17469.0          </td><td>9082.0            </td><td>8387.0           </td><td>737.0                                 </td><td>68.0               </td><td>204.0             </td><td>14.0               </td><td>237.0              </td><td>21.0                  </td><td>180.0              </td><td>2.0                </td><td>10.0              </td><td>1.0               </td><td>738.0                                  </td><td>47.0                     </td><td>88.0                   </td><td>413.0                  </td><td>94.0                   </td><td>96.0                    </td><td>10.0             </td><td>1.3833732630000002</td><td>0.39627472300000005</td><td>4.755296675       </td><td>0.39627472300000005</td><td>0.309672803           </td><td>0.150686282        </td><td>1.969773852        </td><td>0.191191251        </td><td>2.0249707850000003 </td><td>16.75309            </td><td>2.790526          </td><td>16.5619           </td><td>2.522421641               </td><td>30.269059690000002         </td><td>10.0                      </td><td>1.673206368               </td><td>2.735303613                </td><td>22.0                      </td><td>0.218409543                  </td><td>2.62091451                         </td><td>1.0214990720000001   </td><td>3.9535002680000004</td><td>5.885973152        </td><td>8.955785282       </td><td>10.00345994          </td><td>10.869120070000001</td><td>1.1018137540000001</td><td>6.0               </td><td>1.102384108       </td><td>9.0              </td><td>0.147894252          </td><td>10.22914523         </td><td>50.0                  </td><td>13.77381942           </td><td>5.0               </td><td>20.09408343       </td><td>7.353920421000001   </td><td>0.61502045        </td><td>0.45354378300000003         </td><td>4.154171002             </td><td>2.12435988        </td><td>20.46122679       </td><td>5.174844257       </td><td>0.508801924        </td><td>1.2818659430000001</td><td>5.7412389180000005</td><td>5.076912538       </td><td>2.969620143        </td><td>1.35479157           </td><td>5.673912846            </td><td>2.6041848080000003    </td><td>5.23895598            </td><td>0.150686282        </td><td>0.9123785350000001   </td><td>0.459233791       </td><td>1.794687627              </td><td>0.150686282        </td><td>1.167638745         </td><td>1.150550082          </td><td>3.557616808          </td><td>4.373416959         </td><td>5.148563093       </td><td>0.711874878         </td><td>0.3452251660000001    </td><td>33.79             </td><td>0.0               </td><td>1.0               </td><td>15565.0           </td><td>0.0               </td><td>0.0               </td><td>2.0               </td><td>400.0                       </td><td>750.0                       </td><td>575.0               </td><td>0.0                      </td><td>1.0                       </td><td>1.0                        </td><td>0.0                        </td><td>0.0                        </td><td>0.0                        </td><td>0.0                        </td><td>0.0                   </td><td>0.0               </td><td>0.0                  </td><td>0.0                </td><td>0.0               </td><td>0.0                </td><td>29.35             </td><td>0.0               </td><td>2.0                </td><td>46565.0           </td><td>1.0               </td><td>16600.0           </td><td>5.0               </td><td>620.0                        </td><td>1100.0                       </td><td>860.0                </td><td>0.0                       </td><td>2.0                        </td><td>2.0                         </td><td>0.0                         </td><td>1.0                         </td><td>0.0                         </td><td>0.0                         </td><td>0.0                    </td><td>0.0                </td><td>0.0                 </td><td>1.0                 </td><td>7.0               </td><td>0.0                </td><td>25.02             </td><td>0.0               </td><td>2.0                </td><td>46565.0           </td><td>1.0               </td><td>16600.0           </td><td>9.0              </td><td>788.89                       </td><td>1388.89                      </td><td>1088.89              </td><td>0.0                       </td><td>2.0                        </td><td>4.0                         </td><td>0.0                         </td><td>3.0                         </td><td>0.0                         </td><td>0.0                         </td><td>2.0                    </td><td>2.0                </td><td>0.0                </td><td>1.0                 </td><td>10.0              </td><td>0.0                </td><td>20.47             </td><td>0.0               </td><td>2.0                </td><td>46565.0           </td><td>4.0              </td><td>33440.0          </td><td>22.0             </td><td>861.9                        </td><td>1476.19                      </td><td>1169.05              </td><td>1.0                       </td><td>2.0                        </td><td>10.0                        </td><td>4.0                         </td><td>4.0                         </td><td>1.0                         </td><td>0.0                         </td><td>2.0                    </td><td>2.0                </td><td>0.0                </td><td>1.0                 </td><td>13.0              </td><td>0.0                </td><td>22.56             </td><td>7.15              </td><td>10.0               </td><td>635269.0          </td><td>12.0              </td><td>545761.0         </td><td>56.0              </td><td>1050.94                      </td><td>1735.8500000000001           </td><td>1393.4               </td><td>3.0                       </td><td>9.0                        </td><td>15.0                        </td><td>12.0                        </td><td>9.0                         </td><td>8.0                         </td><td>0.0                         </td><td>5.0                    </td><td>9.0                </td><td>0.0                </td><td>1.0                 </td><td>32.0              </td><td>0.0                </td><td>23.35             </td><td>10.5              </td><td>30.0               </td><td>1132519.0         </td><td>32.0              </td><td>1404650.0         </td><td>143.0             </td><td>921.71                       </td><td>1531.01                      </td><td>1226.3600000000001   </td><td>14.0                      </td><td>28.0                       </td><td>39.0                        </td><td>30.0                        </td><td>19.0                        </td><td>13.0                        </td><td>0.0                         </td><td>10.0                   </td><td>20.0               </td><td>1.0                </td><td>3.0                 </td><td>67.0              </td><td>1.0                </td><td>7495294.273858494     </td><td>9105386.114130437 </td><td>6924696.802578567               </td><td>7083619.164902663                  </td><td>7231713.127579471           </td><td>7134629.8326429175           </td><td>7916845.889154633        </td><td>7069163.030850519                </td><td>7242389.0831856495        </td><td>7100172.404620374              </td><td>7063324.7332920125                </td><td>7176112.387182768    </td><td>7075624.33772314         </td><td>7144896.322942727       </td><td>8599506.009769335</td></tr>\n",
       "</tbody>\n",
       "</table>"
      ]
     },
     "metadata": {},
     "output_type": "display_data"
    },
    {
     "name": "stdout",
     "output_type": "stream",
     "text": [
      "--------------------------------------------------------------------------------\n",
      "Imputed and encoded numeric test data:\n",
      "Rows:7662\n",
      "Cols:289\n",
      "\n",
      "\n"
     ]
    },
    {
     "data": {
      "text/html": [
       "<table>\n",
       "<thead>\n",
       "<tr><th>       </th><th>full_sq           </th><th>life_sq           </th><th>floor             </th><th>max_floor         </th><th>material          </th><th>build_year        </th><th>num_room          </th><th>kitch_sq          </th><th>state             </th><th>area_m            </th><th>raion_popul      </th><th>green_zone_part      </th><th>indust_part         </th><th>children_preschool  </th><th>preschool_quota   </th><th>preschool_education_centers_raion  </th><th>children_school  </th><th>school_quota     </th><th>school_education_centers_raion  </th><th>school_education_centers_top_20_raion  </th><th>hospital_beds_raion  </th><th>healthcare_centers_raion  </th><th>university_top_20_raion  </th><th>sport_objects_raion  </th><th>additional_education_raion  </th><th>culture_objects_top_25_raion  </th><th>shopping_centers_raion  </th><th>office_raion      </th><th>full_all          </th><th>male_f            </th><th>female_f          </th><th>young_all         </th><th>young_male       </th><th>young_female      </th><th>work_all         </th><th>work_male         </th><th>work_female       </th><th>ekder_all         </th><th>ekder_male        </th><th>ekder_female      </th><th>0_6_all           </th><th>0_6_male          </th><th>0_6_female        </th><th>7_14_all         </th><th>7_14_male         </th><th>7_14_female       </th><th>0_17_all          </th><th>0_17_male         </th><th>0_17_female       </th><th>16_29_all         </th><th>16_29_male        </th><th>16_29_female      </th><th>0_13_all          </th><th>0_13_male         </th><th>0_13_female      </th><th>raion_build_count_with_material_info  </th><th>build_count_block  </th><th>build_count_wood  </th><th>build_count_frame  </th><th>build_count_brick  </th><th>build_count_monolith  </th><th>build_count_panel  </th><th>build_count_foam   </th><th>build_count_slag  </th><th>build_count_mix   </th><th>raion_build_count_with_builddate_info  </th><th>build_count_before_1920  </th><th>build_count_1921-1945  </th><th>build_count_1946-1970  </th><th>build_count_1971-1995  </th><th>build_count_after_1995  </th><th>ID_metro          </th><th>metro_min_avto      </th><th>metro_km_avto       </th><th>metro_min_walk    </th><th>metro_km_walk       </th><th>kindergarten_km       </th><th>school_km          </th><th>park_km           </th><th>green_zone_km       </th><th>industrial_km      </th><th>water_treatment_km  </th><th>cemetery_km       </th><th>incineration_km   </th><th>railroad_station_walk_km  </th><th>railroad_station_walk_min  </th><th>ID_railroad_station_walk  </th><th>railroad_station_avto_km  </th><th>railroad_station_avto_min  </th><th>ID_railroad_station_avto  </th><th>public_transport_station_km  </th><th>public_transport_station_min_walk  </th><th>water_km           </th><th>mkad_km           </th><th>ttk_km              </th><th>sadovoe_km        </th><th>bulvar_ring_km    </th><th>kremlin_km        </th><th>big_road1_km      </th><th>ID_big_road1      </th><th>big_road2_km      </th><th>ID_big_road2      </th><th>railroad_km        </th><th>zd_vokzaly_avto_km  </th><th>ID_railroad_terminal  </th><th>bus_terminal_avto_km  </th><th>ID_bus_terminal   </th><th>oil_chemistry_km  </th><th>nuclear_reactor_km  </th><th>radiation_km      </th><th>power_transmission_line_km  </th><th>thermal_power_plant_km  </th><th>ts_km             </th><th>big_market_km     </th><th>market_shop_km      </th><th>fitness_km        </th><th>swim_pool_km      </th><th>ice_rink_km         </th><th>stadium_km        </th><th>basketball_km     </th><th>hospice_morgue_km   </th><th>detention_facility_km  </th><th>public_healthcare_km  </th><th>university_km     </th><th>workplaces_km     </th><th>shopping_centers_km  </th><th>office_km         </th><th>additional_education_km  </th><th>preschool_km       </th><th>big_church_km     </th><th>church_synagogue_km  </th><th>mosque_km            </th><th>theater_km        </th><th>museum_km        </th><th>exhibition_km      </th><th>catering_km        </th><th>green_part_500    </th><th>prom_part_500    </th><th>office_count_500  </th><th>office_sqm_500    </th><th>trc_count_500     </th><th>trc_sqm_500       </th><th>cafe_count_500    </th><th>cafe_sum_500_min_price_avg  </th><th>cafe_sum_500_max_price_avg  </th><th>cafe_avg_price_500  </th><th>cafe_count_500_na_price  </th><th>cafe_count_500_price_500  </th><th>cafe_count_500_price_1000  </th><th>cafe_count_500_price_1500  </th><th>cafe_count_500_price_2500  </th><th>cafe_count_500_price_4000  </th><th>cafe_count_500_price_high  </th><th>big_church_count_500  </th><th>church_count_500  </th><th>mosque_count_500    </th><th>leisure_count_500  </th><th>sport_count_500   </th><th>market_count_500  </th><th>green_part_1000   </th><th>prom_part_1000    </th><th>office_count_1000  </th><th>office_sqm_1000   </th><th>trc_count_1000   </th><th>trc_sqm_1000      </th><th>cafe_count_1000   </th><th>cafe_sum_1000_min_price_avg  </th><th>cafe_sum_1000_max_price_avg  </th><th>cafe_avg_price_1000  </th><th>cafe_count_1000_na_price  </th><th>cafe_count_1000_price_500  </th><th>cafe_count_1000_price_1000  </th><th>cafe_count_1000_price_1500  </th><th>cafe_count_1000_price_2500  </th><th>cafe_count_1000_price_4000  </th><th>cafe_count_1000_price_high  </th><th>big_church_count_1000  </th><th>church_count_1000  </th><th>mosque_count_1000   </th><th>leisure_count_1000  </th><th>sport_count_1000  </th><th>market_count_1000  </th><th>green_part_1500   </th><th>prom_part_1500    </th><th>office_count_1500  </th><th>office_sqm_1500   </th><th>trc_count_1500    </th><th>trc_sqm_1500      </th><th>cafe_count_1500   </th><th>cafe_sum_1500_min_price_avg  </th><th>cafe_sum_1500_max_price_avg  </th><th>cafe_avg_price_1500  </th><th>cafe_count_1500_na_price  </th><th>cafe_count_1500_price_500  </th><th>cafe_count_1500_price_1000  </th><th>cafe_count_1500_price_1500  </th><th>cafe_count_1500_price_2500  </th><th>cafe_count_1500_price_4000  </th><th>cafe_count_1500_price_high  </th><th>big_church_count_1500  </th><th>church_count_1500  </th><th>mosque_count_1500  </th><th>leisure_count_1500  </th><th>sport_count_1500  </th><th>market_count_1500  </th><th>green_part_2000   </th><th>prom_part_2000    </th><th>office_count_2000  </th><th>office_sqm_2000  </th><th>trc_count_2000   </th><th>trc_sqm_2000      </th><th>cafe_count_2000   </th><th>cafe_sum_2000_min_price_avg  </th><th>cafe_sum_2000_max_price_avg  </th><th>cafe_avg_price_2000  </th><th>cafe_count_2000_na_price  </th><th>cafe_count_2000_price_500  </th><th>cafe_count_2000_price_1000  </th><th>cafe_count_2000_price_1500  </th><th>cafe_count_2000_price_2500  </th><th>cafe_count_2000_price_4000  </th><th>cafe_count_2000_price_high  </th><th>big_church_count_2000  </th><th>church_count_2000  </th><th>mosque_count_2000  </th><th>leisure_count_2000  </th><th>sport_count_2000  </th><th>market_count_2000  </th><th>green_part_3000   </th><th>prom_part_3000    </th><th>office_count_3000  </th><th>office_sqm_3000  </th><th>trc_count_3000    </th><th>trc_sqm_3000      </th><th>cafe_count_3000   </th><th>cafe_sum_3000_min_price_avg  </th><th>cafe_sum_3000_max_price_avg  </th><th>cafe_avg_price_3000  </th><th>cafe_count_3000_na_price  </th><th>cafe_count_3000_price_500  </th><th>cafe_count_3000_price_1000  </th><th>cafe_count_3000_price_1500  </th><th>cafe_count_3000_price_2500  </th><th>cafe_count_3000_price_4000  </th><th>cafe_count_3000_price_high  </th><th>big_church_count_3000  </th><th>church_count_3000  </th><th>mosque_count_3000  </th><th>leisure_count_3000  </th><th>sport_count_3000  </th><th>market_count_3000  </th><th>green_part_5000   </th><th>prom_part_5000    </th><th>office_count_5000  </th><th>office_sqm_5000   </th><th>trc_count_5000    </th><th>trc_sqm_5000      </th><th>cafe_count_5000  </th><th>cafe_sum_5000_min_price_avg  </th><th>cafe_sum_5000_max_price_avg  </th><th>cafe_avg_price_5000  </th><th>cafe_count_5000_na_price  </th><th>cafe_count_5000_price_500  </th><th>cafe_count_5000_price_1000  </th><th>cafe_count_5000_price_1500  </th><th>cafe_count_5000_price_2500  </th><th>cafe_count_5000_price_4000  </th><th>cafe_count_5000_price_high  </th><th>big_church_count_5000  </th><th>church_count_5000  </th><th>mosque_count_5000  </th><th>leisure_count_5000  </th><th>sport_count_5000  </th><th>market_count_5000  </th><th>product_type_Tencode  </th><th>sub_area_Tencode  </th><th>culture_objects_top_25_Tencode  </th><th>thermal_power_plant_raion_Tencode  </th><th>incineration_raion_Tencode  </th><th>oil_chemistry_raion_Tencode  </th><th>radiation_raion_Tencode  </th><th>railroad_terminal_raion_Tencode  </th><th>big_market_raion_Tencode  </th><th>nuclear_reactor_raion_Tencode  </th><th>detention_facility_raion_Tencode  </th><th>water_1line_Tencode  </th><th>big_road1_1line_Tencode  </th><th>railroad_1line_Tencode  </th><th>ecology_Tencode   </th></tr>\n",
       "</thead>\n",
       "<tbody>\n",
       "<tr><td>type   </td><td>real              </td><td>real              </td><td>int               </td><td>int               </td><td>int               </td><td>int               </td><td>int               </td><td>real              </td><td>int               </td><td>real              </td><td>int              </td><td>real                 </td><td>real                </td><td>int                 </td><td>int               </td><td>int                                </td><td>int              </td><td>int              </td><td>int                             </td><td>int                                    </td><td>int                  </td><td>int                       </td><td>int                      </td><td>int                  </td><td>int                         </td><td>int                           </td><td>int                     </td><td>int               </td><td>int               </td><td>int               </td><td>int               </td><td>int               </td><td>int              </td><td>int               </td><td>int              </td><td>int               </td><td>int               </td><td>int               </td><td>int               </td><td>int               </td><td>int               </td><td>int               </td><td>int               </td><td>int              </td><td>int               </td><td>int               </td><td>int               </td><td>int               </td><td>int               </td><td>int               </td><td>int               </td><td>int               </td><td>int               </td><td>int               </td><td>int              </td><td>int                                   </td><td>int                </td><td>int               </td><td>int                </td><td>int                </td><td>int                   </td><td>int                </td><td>int                </td><td>int               </td><td>int               </td><td>int                                    </td><td>int                      </td><td>int                    </td><td>int                    </td><td>int                    </td><td>int                     </td><td>int               </td><td>real                </td><td>real                </td><td>real              </td><td>real                </td><td>real                  </td><td>real               </td><td>real              </td><td>real                </td><td>real               </td><td>real                </td><td>real              </td><td>real              </td><td>real                      </td><td>real                       </td><td>int                       </td><td>real                      </td><td>real                       </td><td>int                       </td><td>real                         </td><td>real                               </td><td>real               </td><td>real              </td><td>real                </td><td>real              </td><td>real              </td><td>real              </td><td>real              </td><td>int               </td><td>real              </td><td>int               </td><td>real               </td><td>real                </td><td>int                   </td><td>real                  </td><td>int               </td><td>real              </td><td>real                </td><td>real              </td><td>real                        </td><td>real                    </td><td>real              </td><td>real              </td><td>real                </td><td>real              </td><td>real              </td><td>real                </td><td>real              </td><td>real              </td><td>real                </td><td>real                   </td><td>real                  </td><td>real              </td><td>real              </td><td>real                 </td><td>real              </td><td>real                     </td><td>real               </td><td>real              </td><td>real                 </td><td>real                 </td><td>real              </td><td>real             </td><td>real               </td><td>real               </td><td>real              </td><td>real             </td><td>int               </td><td>int               </td><td>int               </td><td>int               </td><td>int               </td><td>real                        </td><td>real                        </td><td>real                </td><td>int                      </td><td>int                       </td><td>int                        </td><td>int                        </td><td>int                        </td><td>int                        </td><td>int                        </td><td>int                   </td><td>int               </td><td>int                 </td><td>int                </td><td>int               </td><td>int               </td><td>real              </td><td>real              </td><td>int                </td><td>int               </td><td>int              </td><td>int               </td><td>int               </td><td>real                         </td><td>real                         </td><td>real                 </td><td>int                       </td><td>int                        </td><td>int                         </td><td>int                         </td><td>int                         </td><td>int                         </td><td>int                         </td><td>int                    </td><td>int                </td><td>int                 </td><td>int                 </td><td>int               </td><td>int                </td><td>real              </td><td>real              </td><td>int                </td><td>int               </td><td>int               </td><td>int               </td><td>int               </td><td>real                         </td><td>real                         </td><td>real                 </td><td>int                       </td><td>int                        </td><td>int                         </td><td>int                         </td><td>int                         </td><td>int                         </td><td>int                         </td><td>int                    </td><td>int                </td><td>int                </td><td>int                 </td><td>int               </td><td>int                </td><td>real              </td><td>real              </td><td>int                </td><td>int              </td><td>int              </td><td>int               </td><td>int               </td><td>real                         </td><td>real                         </td><td>real                 </td><td>int                       </td><td>int                        </td><td>int                         </td><td>int                         </td><td>int                         </td><td>int                         </td><td>int                         </td><td>int                    </td><td>int                </td><td>int                </td><td>int                 </td><td>int               </td><td>int                </td><td>real              </td><td>real              </td><td>int                </td><td>int              </td><td>int               </td><td>int               </td><td>int               </td><td>real                         </td><td>real                         </td><td>real                 </td><td>int                       </td><td>int                        </td><td>int                         </td><td>int                         </td><td>int                         </td><td>int                         </td><td>int                         </td><td>int                    </td><td>int                </td><td>int                </td><td>int                 </td><td>int               </td><td>int                </td><td>real              </td><td>real              </td><td>int                </td><td>int               </td><td>int               </td><td>int               </td><td>int              </td><td>real                         </td><td>real                         </td><td>real                 </td><td>int                       </td><td>int                        </td><td>int                         </td><td>int                         </td><td>int                         </td><td>int                         </td><td>int                         </td><td>int                    </td><td>int                </td><td>int                </td><td>int                 </td><td>int               </td><td>int                </td><td>real                  </td><td>real              </td><td>real                            </td><td>real                               </td><td>real                        </td><td>real                         </td><td>real                     </td><td>real                             </td><td>real                      </td><td>real                           </td><td>real                              </td><td>real                 </td><td>real                     </td><td>real                    </td><td>real              </td></tr>\n",
       "<tr><td>mins   </td><td>0.0               </td><td>0.0               </td><td>1.0               </td><td>0.0               </td><td>1.0               </td><td>0.0               </td><td>1.0               </td><td>0.0               </td><td>1.0               </td><td>2081627.761       </td><td>2546.0           </td><td>0.0018793750000000002</td><td>0.0                 </td><td>175.0               </td><td>0.0               </td><td>0.0                                </td><td>168.0            </td><td>1012.0           </td><td>0.0                             </td><td>0.0                                    </td><td>0.0                  </td><td>0.0                       </td><td>0.0                      </td><td>0.0                  </td><td>0.0                         </td><td>0.0                           </td><td>0.0                     </td><td>0.0               </td><td>2546.0            </td><td>1208.0            </td><td>1341.0            </td><td>365.0             </td><td>189.0            </td><td>177.0             </td><td>1633.0           </td><td>863.0             </td><td>771.0             </td><td>548.0             </td><td>156.0             </td><td>393.0             </td><td>175.0             </td><td>91.0              </td><td>85.0              </td><td>168.0            </td><td>87.0              </td><td>82.0              </td><td>411.0             </td><td>214.0             </td><td>198.0             </td><td>575.0             </td><td>308.0             </td><td>253.0             </td><td>322.0             </td><td>166.0             </td><td>156.0            </td><td>1.0                                   </td><td>0.0                </td><td>0.0               </td><td>0.0                </td><td>0.0                </td><td>0.0                   </td><td>0.0                </td><td>0.0                </td><td>0.0               </td><td>0.0               </td><td>1.0                                    </td><td>0.0                      </td><td>0.0                    </td><td>0.0                    </td><td>0.0                    </td><td>0.0                     </td><td>1.0               </td><td>0.009020648000000001</td><td>0.007216518000000001</td><td>0.086598221       </td><td>0.007216518000000001</td><td>0.00046974800000000003</td><td>0.0                </td><td>0.015874974       </td><td>0.0                 </td><td>0.0                </td><td>0.374998            </td><td>0.0               </td><td>0.222215          </td><td>0.114439042               </td><td>1.3732685                  </td><td>1.0                       </td><td>0.114439042               </td><td>0.235822149                </td><td>1.0                       </td><td>0.003733234                  </td><td>0.044798805000000004               </td><td>0.0                </td><td>0.003258907       </td><td>0.018981545000000002</td><td>0.000314728       </td><td>0.101382574       </td><td>0.072896553       </td><td>0.000363832       </td><td>1.0               </td><td>0.03025455        </td><td>1.0               </td><td>0.0046963          </td><td>0.13671543900000002 </td><td>5.0                   </td><td>0.325409602           </td><td>1.0               </td><td>0.5731427         </td><td>0.377166516         </td><td>0.002408522       </td><td>0.020103057                 </td><td>0.23624602500000003     </td><td>0.04091624        </td><td>0.70557125        </td><td>0.029551788000000002</td><td>0.0               </td><td>0.133914986       </td><td>0.054585771000000005</td><td>0.114745597       </td><td>0.001054094       </td><td>0.006582243000000001</td><td>0.151575287            </td><td>0.013735713           </td><td>0.000281571       </td><td>0.0               </td><td>0.0                  </td><td>0.0               </td><td>0.0                      </td><td>0.0                </td><td>0.004208143       </td><td>0.0                  </td><td>0.0055445220000000005</td><td>0.086116389       </td><td>0.083239748      </td><td>0.000637898        </td><td>0.001400275        </td><td>0.0               </td><td>0.0              </td><td>0.0               </td><td>0.0               </td><td>0.0               </td><td>0.0               </td><td>0.0               </td><td>300.0                       </td><td>500.0                       </td><td>400.0               </td><td>0.0                      </td><td>0.0                       </td><td>0.0                        </td><td>0.0                        </td><td>0.0                        </td><td>0.0                        </td><td>0.0                        </td><td>0.0                   </td><td>0.0               </td><td>0.0                 </td><td>0.0                </td><td>0.0               </td><td>0.0               </td><td>0.0               </td><td>0.0               </td><td>0.0                </td><td>0.0               </td><td>0.0              </td><td>0.0               </td><td>0.0               </td><td>300.0                        </td><td>500.0                        </td><td>400.0                </td><td>0.0                       </td><td>0.0                        </td><td>0.0                         </td><td>0.0                         </td><td>0.0                         </td><td>0.0                         </td><td>0.0                         </td><td>0.0                    </td><td>0.0                </td><td>0.0                 </td><td>0.0                 </td><td>0.0               </td><td>0.0                </td><td>0.0               </td><td>0.0               </td><td>0.0                </td><td>0.0               </td><td>0.0               </td><td>0.0               </td><td>0.0               </td><td>300.0                        </td><td>500.0                        </td><td>400.0                </td><td>0.0                       </td><td>0.0                        </td><td>0.0                         </td><td>0.0                         </td><td>0.0                         </td><td>0.0                         </td><td>0.0                         </td><td>0.0                    </td><td>0.0                </td><td>0.0                </td><td>0.0                 </td><td>0.0               </td><td>0.0                </td><td>0.01              </td><td>0.0               </td><td>0.0                </td><td>0.0              </td><td>0.0              </td><td>0.0               </td><td>0.0               </td><td>300.0                        </td><td>500.0                        </td><td>400.0                </td><td>0.0                       </td><td>0.0                        </td><td>0.0                         </td><td>0.0                         </td><td>0.0                         </td><td>0.0                         </td><td>0.0                         </td><td>0.0                    </td><td>0.0                </td><td>0.0                </td><td>0.0                 </td><td>0.0               </td><td>0.0                </td><td>0.31              </td><td>0.0               </td><td>0.0                </td><td>0.0              </td><td>0.0               </td><td>0.0               </td><td>0.0               </td><td>300.0                        </td><td>500.0                        </td><td>400.0                </td><td>0.0                       </td><td>0.0                        </td><td>0.0                         </td><td>0.0                         </td><td>0.0                         </td><td>0.0                         </td><td>0.0                         </td><td>0.0                    </td><td>0.0                </td><td>0.0                </td><td>0.0                 </td><td>0.0               </td><td>0.0                </td><td>3.56              </td><td>0.59              </td><td>0.0                </td><td>0.0               </td><td>0.0               </td><td>0.0               </td><td>0.0              </td><td>300.0                        </td><td>500.0                        </td><td>400.0                </td><td>0.0                       </td><td>0.0                        </td><td>0.0                         </td><td>0.0                         </td><td>0.0                         </td><td>0.0                         </td><td>0.0                         </td><td>0.0                    </td><td>0.0                </td><td>0.0                </td><td>0.0                 </td><td>0.0               </td><td>0.0                </td><td>6466254.641204755     </td><td>3374459.2278225813</td><td>6924696.802578567               </td><td>7083619.164902663                  </td><td>5801867.37521589            </td><td>5941056.581081081            </td><td>6682753.892193877        </td><td>7069163.030850519                </td><td>5953647.125088589         </td><td>7100172.404620374              </td><td>7063324.7332920125                </td><td>6484065.9165596925   </td><td>7075624.33772314         </td><td>6398952.416573348       </td><td>5241629.717215257 </td></tr>\n",
       "<tr><td>mean   </td><td>53.70116418689638 </td><td>32.66003700277521 </td><td>7.652571130253198 </td><td>12.591098929783346</td><td>1.8542156095014355</td><td>1820.8880991985488</td><td>1.876403027930044 </td><td>6.93866222918298  </td><td>1.9857921928817457</td><td>17685763.599845603</td><td>87522.52088227616</td><td>0.22527576411902897  </td><td>0.12215692069398329 </td><td>5355.357608979379   </td><td>3260.3257500824266</td><td>4.032367528060558                  </td><td>5569.568128425996</td><td>8205.41404318444 </td><td>4.757374053771861               </td><td>0.1079352649438789                     </td><td>1204.3360037700281   </td><td>1.3955886191594884        </td><td>0.1485251892456278       </td><td>7.053641346906812    </td><td>2.901722787783868           </td><td>0.3275907073871052            </td><td>4.569303054032892       </td><td>9.185982772122161 </td><td>135919.90224484468</td><td>62548.16170712608 </td><td>73372.11511354738 </td><td>11637.004045941003</td><td>5947.402244844688</td><td>5689.644218219785 </td><td>55893.86557034716</td><td>28405.140694335678</td><td>27488.81336465675 </td><td>19991.65126598799 </td><td>6031.14343513443  </td><td>13960.559253458627</td><td>5355.357608979379 </td><td>2735.0529887757766</td><td>2620.440224484469 </td><td>5569.568128425996</td><td>2848.6126337770816</td><td>2721.066692769512 </td><td>13044.599451840251</td><td>6671.585878360741 </td><td>6373.167188723571 </td><td>29024.261158966332</td><td>14283.935395458106</td><td>14740.442443226311</td><td>10247.364265204907</td><td>5234.2897415818325</td><td>5013.089402244845</td><td>358.6887026691496                     </td><td>53.44956548727498  </td><td>49.45794537554314 </td><td>7.1752017380509    </td><td>120.20561762880202 </td><td>12.732774674115456    </td><td>109.80741775294847 </td><td>0.17240844196151467</td><td>4.983860955927995 </td><td>0.7039106145251397</td><td>358.34202358783364                     </td><td>20.978274363749225       </td><td>33.3604903786468       </td><td>153.2003414028554      </td><td>82.99549968963377      </td><td>67.80741775294848       </td><td>70.46423910206214 </td><td>4.669771348992562   </td><td>3.609554449798094   </td><td>42.28088512953082 </td><td>3.5234070942226006  </td><td>1.1034442048748367    </td><td>1.4392475287085618 </td><td>2.925088370241843 </td><td>0.30498708147898723 </td><td>0.7618593951726705 </td><td>12.502938672017756  </td><td>2.209661071391282 </td><td>11.599548557948319</td><td>4.147469304282643         </td><td>49.76963165141728          </td><td>38.01704247509177         </td><td>4.258422233027408         </td><td>5.629829149020621          </td><td>44.64343513442966         </td><td>0.46548161729013315          </td><td>5.585779407412947                  </td><td>0.6349065759336987 </td><td>6.549360993318716 </td><td>10.81484714595954   </td><td>13.457046012503655</td><td>14.434191999548684</td><td>15.440871435278783</td><td>1.8122609726027146</td><td>11.421560950143565</td><td>3.2791873280545554</td><td>21.363482119551033</td><td>1.7493220123198905 </td><td>16.397095874808407  </td><td>55.22487601148525     </td><td>10.415430099914774    </td><td>6.292090837901331 </td><td>18.083807123977422</td><td>10.474129874935002  </td><td>4.533049837081572 </td><td>3.4584879967577655          </td><td>7.1950184032697715      </td><td>4.682187288819628 </td><td>13.442551657149178</td><td>3.852978265791699   </td><td>1.1634708874377446</td><td>3.9533634547259213</td><td>6.150490813117725   </td><td>9.026452416858259 </td><td>4.727829157654138 </td><td>2.923788329296137   </td><td>14.580869663856303     </td><td>3.3116234513377716    </td><td>6.695521879462674 </td><td>4.061718039699034 </td><td>1.4735600714907335   </td><td>1.9100633214800313</td><td>1.322325274532759        </td><td>1.461244207188463  </td><td>2.285455745325503 </td><td>1.038528427613025    </td><td>7.7170057914883845   </td><td>9.597178969699296 </td><td>6.984980591971419</td><td>5.1097875460840525 </td><td>0.6490036089248238 </td><td>11.81688332028191 </td><td>9.271217697729053</td><td>0.8102323153223702</td><td>15627.914643696164</td><td>0.5772644218219788</td><td>24368.136256851998</td><td>4.11015400678674  </td><td>752.5952143015769           </td><td>1265.7028492116367          </td><td>1009.1490406395734  </td><td>0.3645262333594362       </td><td>1.026102845210128         </td><td>1.0571652310101802         </td><td>0.9173844949099452         </td><td>0.5770033933698774         </td><td>0.13847559383972852        </td><td>0.02949621508744453        </td><td>0.29678935003915424   </td><td>0.5741320803967632</td><td>0.007178282432785173</td><td>0.08392064735056122</td><td>0.9909945184025061</td><td>0.1211172017749935</td><td>16.486986426520488</td><td>10.12219263899765 </td><td>3.480944922996606  </td><td>70204.20947533281 </td><td>2.102975724353955</td><td>69911.23662229185 </td><td>16.651004959540586</td><td>723.6690838509315            </td><td>1226.0577639751555           </td><td>974.863445652174     </td><td>1.111589663273297         </td><td>4.488123205429392          </td><td>4.254372226572696           </td><td>3.798486034977812           </td><td>2.113416862438006           </td><td>0.8205429391803706          </td><td>0.06447402766901593         </td><td>0.9027669015922736     </td><td>1.8587836074132076 </td><td>0.020099190811798485</td><td>0.5156617071260767  </td><td>3.100887496737145 </td><td>0.3906290785695641 </td><td>19.32004437483686 </td><td>10.938097102584182</td><td>8.099321326024537  </td><td>155351.18519968673</td><td>3.9168624380057424</td><td>135667.06851996866</td><td>34.666797180892715</td><td>717.5914822394387            </td><td>1216.8330507235787           </td><td>967.2125902645812    </td><td>2.2729052466718866        </td><td>8.766118506917254          </td><td>9.362046463064472           </td><td>8.354607152179586           </td><td>4.144218219785957           </td><td>1.5600365439832946          </td><td>0.20686504829026364         </td><td>2.1836335160532494     </td><td>3.900417645523362  </td><td>0.03824066823283738</td><td>1.0197076481336462  </td><td>6.099321326024536 </td><td>0.7898720960584704 </td><td>21.16446683239565 </td><td>11.581273818846258</td><td>14.77381884625424  </td><td>279866.6594883843</td><td>6.318976768467763</td><td>229880.69002871314</td><td>59.14852518924563 </td><td>726.7784222160817            </td><td>1223.5315280464215           </td><td>975.1551464492954    </td><td>3.925476376925086         </td><td>14.550117462803446         </td><td>16.377577655964494          </td><td>14.162359697207             </td><td>7.19394413991125            </td><td>2.5309318715740017          </td><td>0.4081179848603498          </td><td>3.5621247716001045     </td><td>6.637431480031323  </td><td>0.08979378752284   </td><td>2.0840511615766117  </td><td>10.316758026624901</td><td>1.1889845993213266 </td><td>23.370828765335425</td><td>11.674047246149831</td><td>32.67280083529104  </td><td>623893.0925345863</td><td>12.67789089010702 </td><td>477859.48773166275</td><td>120.52545027407987</td><td>746.9165842245988            </td><td>1252.935203208556            </td><td>999.9262018716577    </td><td>7.941007569825111         </td><td>30.229835552075173         </td><td>32.96619681545289           </td><td>28.890629078569567          </td><td>14.625424171234666          </td><td>5.109240407204386           </td><td>0.7631166797180894          </td><td>6.7430174889062915     </td><td>13.317671626207257 </td><td>0.19002871312973113</td><td>4.302401461759332   </td><td>21.540067867397543</td><td>2.4614983033150613 </td><td>23.164150352388408</td><td>11.100894319682958</td><td>80.92730357608981  </td><td>1601419.085486818 </td><td>31.976898981989038</td><td>1261372.054293918 </td><td>292.5195771339075</td><td>767.8793788160339            </td><td>1285.0876387045391           </td><td>1026.4832532519245   </td><td>19.77133907595928         </td><td>73.00234925606891          </td><td>80.27538501696685           </td><td>69.53288958496479           </td><td>35.77786478726182           </td><td>12.152310101801099          </td><td>2.0074393108848865          </td><td>16.74915165753067      </td><td>33.10937092143043  </td><td>0.41242495432002096</td><td>9.639650221874184   </td><td>56.235839206473514</td><td>6.33072304881232   </td><td>7140336.322881736     </td><td>7248582.433166422 </td><td>7207394.679782978               </td><td>7122855.025961977                  </td><td>7182073.481256224           </td><td>7124504.243847366            </td><td>7133418.1322743          </td><td>7129136.398677673                </td><td>7152907.130469956         </td><td>7126406.368550103              </td><td>7124640.687133593                 </td><td>7125712.761679289    </td><td>7153602.790559033        </td><td>7121628.169246267       </td><td>7214284.044856617 </td></tr>\n",
       "<tr><td>maxs   </td><td>403.0             </td><td>869.0             </td><td>41.0              </td><td>48.0              </td><td>6.0               </td><td>2019.0            </td><td>19.0              </td><td>1968.0            </td><td>4.0               </td><td>206071809.20000002</td><td>247469.0         </td><td>0.852922841          </td><td>0.521867054         </td><td>19223.0             </td><td>11926.0           </td><td>13.0                               </td><td>19083.0          </td><td>24750.0          </td><td>14.0                            </td><td>2.0                                    </td><td>4849.0               </td><td>6.0                       </td><td>3.0                      </td><td>29.0                 </td><td>16.0                        </td><td>10.0                          </td><td>23.0                    </td><td>141.0             </td><td>1716730.0         </td><td>774585.0          </td><td>942145.0          </td><td>40692.0           </td><td>20977.0          </td><td>19715.0           </td><td>161290.0         </td><td>79622.0           </td><td>81668.0           </td><td>57086.0           </td><td>19275.0           </td><td>37811.0           </td><td>19223.0           </td><td>9987.0            </td><td>9236.0            </td><td>19083.0          </td><td>9761.0            </td><td>9322.0            </td><td>45170.0           </td><td>23233.0           </td><td>21937.0           </td><td>367659.0          </td><td>172958.0          </td><td>194701.0          </td><td>36035.0           </td><td>18574.0           </td><td>17461.0          </td><td>1681.0                                </td><td>223.0              </td><td>793.0             </td><td>97.0               </td><td>664.0              </td><td>127.0                 </td><td>431.0              </td><td>11.0               </td><td>84.0              </td><td>9.0               </td><td>1680.0                                 </td><td>371.0                    </td><td>382.0                  </td><td>845.0                  </td><td>246.0                  </td><td>799.0                   </td><td>224.0             </td><td>65.1011247          </td><td>74.90576341         </td><td>699.1584818       </td><td>58.26320681         </td><td>27.45327098           </td><td>47.39470605        </td><td>47.35153832       </td><td>2.036755417         </td><td>6.474439598        </td><td>47.591240000000006  </td><td>14.145090000000001</td><td>58.63205000000001 </td><td>23.80861609               </td><td>285.70339309999997         </td><td>135.0                     </td><td>24.26943772               </td><td>38.69192073                </td><td>138.0                     </td><td>17.41300179                  </td><td>208.9560215                        </td><td>2.646362503        </td><td>53.27783249       </td><td>66.03320027         </td><td>68.85304673       </td><td>69.98487437       </td><td>70.73876915       </td><td>6.231472969       </td><td>48.0              </td><td>12.427349099999999</td><td>58.0              </td><td>15.83435909        </td><td>91.21506308000001   </td><td>121.0                 </td><td>74.79611111           </td><td>14.0              </td><td>70.41343429       </td><td>64.25695746         </td><td>53.89015723       </td><td>43.32437142                 </td><td>56.85614691             </td><td>54.08091348       </td><td>58.830654360000004</td><td>41.10365074         </td><td>26.652504580000002</td><td>53.35929368       </td><td>45.06402825         </td><td>83.39851357       </td><td>56.70379375       </td><td>43.69464029         </td><td>89.37137359            </td><td>76.05513511           </td><td>84.86214772       </td><td>55.278224630000004</td><td>26.25954309          </td><td>19.41319489       </td><td>24.26820942              </td><td>47.39470605        </td><td>45.66905954       </td><td>8.74136954           </td><td>44.84983198          </td><td>87.60068995       </td><td>59.20314813      </td><td>54.43124386        </td><td>10.98303789        </td><td>100.0             </td><td>99.17            </td><td>30.0              </td><td>456611.0          </td><td>7.0               </td><td>1500000.0         </td><td>120.0             </td><td>4000.0                      </td><td>6000.0                      </td><td>5000.0              </td><td>12.0                     </td><td>38.0                      </td><td>36.0                       </td><td>26.0                       </td><td>19.0                       </td><td>10.0                       </td><td>3.0                        </td><td>8.0                   </td><td>15.0              </td><td>1.0                 </td><td>9.0                </td><td>11.0              </td><td>4.0               </td><td>100.0             </td><td>71.14             </td><td>92.0               </td><td>2084526.0         </td><td>20.0             </td><td>1500000.0         </td><td>373.0             </td><td>3250.0                       </td><td>5000.0                       </td><td>4125.0               </td><td>22.0                      </td><td>94.0                       </td><td>78.0                        </td><td>85.0                        </td><td>59.0                        </td><td>35.0                        </td><td>6.0                         </td><td>19.0                   </td><td>35.0               </td><td>1.0                 </td><td>21.0                </td><td>19.0              </td><td>5.0                </td><td>91.41             </td><td>60.52             </td><td>162.0              </td><td>2951861.0         </td><td>27.0              </td><td>1533000.0         </td><td>706.0             </td><td>2166.67                      </td><td>3500.0                       </td><td>2833.33              </td><td>48.0                      </td><td>173.0                      </td><td>169.0                       </td><td>161.0                       </td><td>107.0                       </td><td>53.0                        </td><td>12.0                        </td><td>44.0                   </td><td>66.0               </td><td>1.0                </td><td>41.0                </td><td>31.0              </td><td>7.0                </td><td>80.18             </td><td>55.03             </td><td>248.0              </td><td>3429178.0        </td><td>34.0             </td><td>2448300.0         </td><td>1168.0            </td><td>2166.67                      </td><td>3500.0                       </td><td>2833.33              </td><td>71.0                      </td><td>283.0                      </td><td>276.0                       </td><td>280.0                       </td><td>173.0                       </td><td>83.0                        </td><td>17.0                        </td><td>67.0                   </td><td>104.0              </td><td>1.0                </td><td>54.0                </td><td>53.0              </td><td>8.0                </td><td>74.02             </td><td>44.0              </td><td>486.0              </td><td>5807186.0        </td><td>63.0              </td><td>2654102.0         </td><td>1815.0            </td><td>1833.33                      </td><td>3000.0                       </td><td>2416.67              </td><td>120.0                     </td><td>449.0                      </td><td>442.0                       </td><td>446.0                       </td><td>258.0                       </td><td>113.0                       </td><td>21.0                        </td><td>98.0                   </td><td>162.0              </td><td>2.0                </td><td>85.0                </td><td>100.0             </td><td>10.0               </td><td>70.33             </td><td>28.59             </td><td>776.0              </td><td>12225398.0        </td><td>117.0             </td><td>4585477.0         </td><td>2632.0           </td><td>1875.0                       </td><td>3000.0                       </td><td>2437.5               </td><td>173.0                     </td><td>640.0                      </td><td>642.0                       </td><td>643.0                       </td><td>374.0                       </td><td>145.0                       </td><td>29.0                        </td><td>150.0                  </td><td>249.0              </td><td>2.0                </td><td>105.0               </td><td>212.0             </td><td>21.0               </td><td>7495294.273858494     </td><td>18167536.004438706</td><td>10059329.41493776               </td><td>7809766.912333736                  </td><td>7231713.127579471           </td><td>7134629.8326429175           </td><td>7916845.889154633        </td><td>8514181.72359155                 </td><td>7242389.0831856495        </td><td>7907419.9212051                </td><td>7661038.268068331                 </td><td>7176112.387182768    </td><td>8925379.463508323        </td><td>7144896.322942727       </td><td>8599506.009769335 </td></tr>\n",
       "<tr><td>sigma  </td><td>20.10432001408528 </td><td>22.73785524934548 </td><td>5.0994181345671015</td><td>6.659291069199245 </td><td>1.5171713849568298</td><td>552.9939644714891 </td><td>0.8356651273825657</td><td>25.57968830033583 </td><td>0.8200859956145712</td><td>22107275.735346615</td><td>56306.18948099302</td><td>0.17692051531351488  </td><td>0.12636474310115145 </td><td>3768.6871282222837  </td><td>2171.247747933164 </td><td>2.97191247927967                   </td><td>3915.066368848533</td><td>4355.159057078202</td><td>3.468506722037595               </td><td>0.3310770310787974                     </td><td>1070.9762351988682   </td><td>1.4625807760514773        </td><td>0.46366168797718893      </td><td>6.663377098880691    </td><td>3.3436705555612924          </td><td>1.5574851509278365            </td><td>4.676490149660102       </td><td>24.707388139139734</td><td>269971.179831921  </td><td>123616.03546718265</td><td>146403.56143287296</td><td>8152.046915004521 </td><td>4204.27111236331 </td><td>3956.2078034485507</td><td>36501.51726761079</td><td>18437.939755817362</td><td>18169.661395263367</td><td>12764.084918230094</td><td>3947.0564484701226</td><td>8862.229485795071 </td><td>3768.6871282222837</td><td>1944.6753172051358</td><td>1827.6918973392028</td><td>3915.066368848533</td><td>2017.2230039673098</td><td>1904.5165008644592</td><td>9092.132050462149 </td><td>4686.2344116122185</td><td>4414.3371024001235</td><td>57487.84169585534 </td><td>27930.68926248204 </td><td>29583.14419097482 </td><td>7172.973632994476 </td><td>3698.657187454812 </td><td>3482.495325094378</td><td>280.0208589427712                     </td><td>45.57770415522663  </td><td>131.87384538948987</td><td>19.343417733111764 </td><td>132.6145108901177  </td><td>19.637652884999483    </td><td>87.20577280968847  </td><td>1.1726257277866352 </td><td>13.29457277620411 </td><td>1.6454784015694819</td><td>279.953829306794                       </td><td>63.615911236187685       </td><td>66.04518461015469      </td><td>119.78541808211757     </td><td>55.610844449696586     </td><td>118.1013423016785       </td><td>55.603066861889175</td><td>6.1423123354003675  </td><td>5.9536442068682165  </td><td>76.53807826935363 </td><td>6.378173189584979   </td><td>2.7819810726995278    </td><td>3.530798365295346  </td><td>3.707211070189978 </td><td>0.2753466078216929  </td><td>0.8351217203449053 </td><td>7.038347379948992   </td><td>1.64612550316651  </td><td>7.148623667818249 </td><td>3.88373831213318          </td><td>46.60485974685126          </td><td>29.655249537944545        </td><td>3.782591314806375         </td><td>4.163196302702517          </td><td>35.83689039334351         </td><td>1.6325068311624522           </td><td>19.59008197811262                  </td><td>0.4123993596119477 </td><td>5.550188470281519 </td><td>8.340922866314358   </td><td>8.595959300314792 </td><td>8.72221492930747  </td><td>8.694791587186126 </td><td>1.2513555568650114</td><td>10.929485023713188</td><td>1.9029485260451096</td><td>15.801704507125542</td><td>2.0513316512155755 </td><td>10.349924152890727  </td><td>34.43756903291866     </td><td>7.7541501542370845    </td><td>3.5681278627526702</td><td>10.647040824365105</td><td>7.75339401938809    </td><td>5.996076018180963 </td><td>4.988032054476008           </td><td>5.966036160720184       </td><td>5.081006159012856 </td><td>8.376568729128238 </td><td>3.5912124828386567  </td><td>1.5446135823546485</td><td>5.187642986449394 </td><td>5.249974787415959   </td><td>7.558291593275289 </td><td>5.867543021605284 </td><td>3.5242021452701153  </td><td>11.261293654628027     </td><td>4.441945793727653     </td><td>6.995094581381308 </td><td>5.617107806940994 </td><td>2.660763833259141    </td><td>2.5071819275478413</td><td>1.5459011925321346       </td><td>3.5265107959393234 </td><td>3.1924046173154856</td><td>0.9480883668980256   </td><td>5.53256195329816     </td><td>7.324602400300143 </td><td>6.150652053646593</td><td>5.45851831080269   </td><td>0.8859976193616926 </td><td>15.382966021548425</td><td>18.16938023906209</td><td>2.2970295678818835</td><td>43363.84033526245 </td><td>1.2140542061587003</td><td>88033.72108075597 </td><td>11.528362837876974</td><td>335.41555709189214          </td><td>515.324680532491            </td><td>424.00015082441166  </td><td>1.39959521206422         </td><td>3.1346408145563034        </td><td>2.3286034776150797         </td><td>2.365524486004798          </td><td>2.1875294168245794         </td><td>0.6726302530909498         </td><td>0.17452037894407832        </td><td>1.2093866128651714    </td><td>2.22560578361872  </td><td>0.08442561790349075 </td><td>0.39988234527234745</td><td>1.6979289972642129</td><td>0.3798891759803044</td><td>14.39072532560546 </td><td>14.117089143845137</td><td>9.390655134672018  </td><td>153703.24621850834</td><td>3.299198166786285</td><td>152541.93301237296</td><td>48.80811599874078 </td><td>238.30280123126784           </td><td>368.59406300313884           </td><td>302.383965694381     </td><td>3.237369719249342         </td><td>14.26707611260935          </td><td>9.43589192703797            </td><td>10.737574438464419          </td><td>7.691228649538257           </td><td>4.05249212318556            </td><td>0.33779265938989594         </td><td>2.5562606010026405     </td><td>5.265106111527755  </td><td>0.1403487947278735  </td><td>1.873761021972763   </td><td>3.321894670387905 </td><td>0.7329711631395636 </td><td>14.406541702658153</td><td>11.525111934293612</td><td>21.848732417966108 </td><td>312161.20993175486</td><td>4.49362543427169  </td><td>216979.79566400484</td><td>99.95630055047404 </td><td>201.53384911916186           </td><td>313.8157695932662            </td><td>256.76976829558856   </td><td>6.107383869329608         </td><td>25.581698493051125         </td><td>22.69445891310253           </td><td>24.825719460652223          </td><td>13.796626578837971          </td><td>6.882229340343917           </td><td>0.9241653362817419          </td><td>6.688986750370154      </td><td>10.07059676919698  </td><td>0.1917892599871383 </td><td>3.4561799752841087  </td><td>5.726337684800599 </td><td>1.0974983166749332 </td><td>13.960144618820214</td><td>9.975908578182587 </td><td>40.217333198242486 </td><td>530411.6639858288</td><td>6.293400890044035</td><td>299699.0029999463 </td><td>166.56504820154439</td><td>197.63369423380607           </td><td>310.50514886860054           </td><td>253.3503738204       </td><td>10.517508894427936        </td><td>40.30038343763623          </td><td>40.55070047740044           </td><td>40.474502561429716          </td><td>23.86797924488614           </td><td>10.029522854893592          </td><td>1.74301204479395            </td><td>10.376818474419467     </td><td>16.085152213770968 </td><td>0.2859047598027815 </td><td>7.420042138010086   </td><td>9.268748683766448 </td><td>1.406640891669972  </td><td>13.627418139847633</td><td>8.33052449739098  </td><td>84.53207329280414  </td><td>1104007.535113495</td><td>11.080516248049895</td><td>479338.43042607454</td><td>300.22251342819374</td><td>193.97804782046447           </td><td>305.85193038952127           </td><td>249.42323791661542   </td><td>18.899017624580434        </td><td>74.31447857295463          </td><td>71.86505854356076           </td><td>73.4182784914737            </td><td>42.72928807551337           </td><td>17.435901091830914          </td><td>2.823185579131016           </td><td>16.180651130707346     </td><td>26.93898210743985  </td><td>0.4447430679758942 </td><td>13.615308535823305  </td><td>19.036432067935735</td><td>2.205182572659163  </td><td>10.945860693080943</td><td>6.101243369135461 </td><td>162.51735340879472 </td><td>2396495.4048215603</td><td>24.415391284291257</td><td>1012072.1137901186</td><td>535.8383809219482</td><td>140.3589910060329            </td><td>220.09485041625743           </td><td>180.08463171978087   </td><td>34.55042792371271         </td><td>131.03646942252345         </td><td>131.33930850549564          </td><td>129.53377343872364          </td><td>76.5249919512764            </td><td>29.590097137357468          </td><td>5.664539610713461           </td><td>30.706708615315204     </td><td>49.73499324633912  </td><td>0.60893760364773   </td><td>21.49968679634111   </td><td>47.63254693261815 </td><td>4.956223290058164  </td><td>488107.2890611295     </td><td>2060247.4651194036</td><td>897964.9962793041               </td><td>164180.0760060228                  </td><td>261766.85435316464          </td><td>109474.51102412192           </td><td>594229.7202724467        </td><td>288230.2472266462                </td><td>327606.6767981991         </td><td>143149.41786341698             </td><td>181367.09307702864                </td><td>179841.54669811798   </td><td>371723.6042803871        </td><td>129682.40209146393      </td><td>1176072.9366871244</td></tr>\n",
       "<tr><td>zeros  </td><td>1                 </td><td>4                 </td><td>0                 </td><td>233               </td><td>0                 </td><td>369               </td><td>0                 </td><td>376               </td><td>0                 </td><td>0                 </td><td>0                </td><td>0                    </td><td>422                 </td><td>0                   </td><td>74                </td><td>1596                               </td><td>0                </td><td>0                </td><td>1595                            </td><td>6886                                   </td><td>1                    </td><td>2919                      </td><td>6845                     </td><td>1181                 </td><td>1573                        </td><td>6971                          </td><td>1184                    </td><td>1993              </td><td>0                 </td><td>0                 </td><td>0                 </td><td>0                 </td><td>0                </td><td>0                 </td><td>0                </td><td>0                 </td><td>0                 </td><td>0                 </td><td>0                 </td><td>0                 </td><td>0                 </td><td>0                 </td><td>0                 </td><td>0                </td><td>0                 </td><td>0                 </td><td>0                 </td><td>0                 </td><td>0                 </td><td>0                 </td><td>0                 </td><td>0                 </td><td>0                 </td><td>0                 </td><td>0                </td><td>0                                     </td><td>355                </td><td>2927              </td><td>4498               </td><td>646                </td><td>742                   </td><td>378                </td><td>6108               </td><td>3365              </td><td>4892              </td><td>0                                      </td><td>3284                     </td><td>1954                   </td><td>384                    </td><td>356                    </td><td>376                     </td><td>0                 </td><td>0                   </td><td>0                   </td><td>0                 </td><td>0                   </td><td>0                     </td><td>23                 </td><td>0                 </td><td>265                 </td><td>662                </td><td>0                   </td><td>2                 </td><td>0                 </td><td>0                         </td><td>0                          </td><td>0                         </td><td>0                         </td><td>0                          </td><td>0                         </td><td>0                            </td><td>0                                  </td><td>1                  </td><td>0                 </td><td>0                   </td><td>0                 </td><td>0                 </td><td>0                 </td><td>0                 </td><td>0                 </td><td>0                 </td><td>0                 </td><td>0                  </td><td>0                   </td><td>0                     </td><td>0                     </td><td>0                 </td><td>0                 </td><td>0                   </td><td>0                 </td><td>0                           </td><td>0                       </td><td>0                 </td><td>0                 </td><td>0                   </td><td>31                </td><td>0                 </td><td>0                   </td><td>0                 </td><td>0                 </td><td>0                   </td><td>0                      </td><td>0                     </td><td>0                 </td><td>7                 </td><td>37                   </td><td>75                </td><td>170                      </td><td>20                 </td><td>0                 </td><td>19                   </td><td>0                    </td><td>0                 </td><td>0                </td><td>0                  </td><td>0                  </td><td>1447              </td><td>4178             </td><td>5815              </td><td>5848              </td><td>5416              </td><td>5479              </td><td>3040              </td><td>0                           </td><td>0                           </td><td>0                   </td><td>6542                     </td><td>5400                      </td><td>4616                       </td><td>5180                       </td><td>6196                       </td><td>7246                       </td><td>7442                       </td><td>6697                  </td><td>6091              </td><td>7607                </td><td>7159               </td><td>4153              </td><td>6850              </td><td>201               </td><td>2040              </td><td>3917               </td><td>3966              </td><td>2689             </td><td>2763              </td><td>1191              </td><td>0                            </td><td>0                            </td><td>0                    </td><td>4981                      </td><td>3205                       </td><td>1883                        </td><td>2976                        </td><td>4501                        </td><td>6622                        </td><td>7283                        </td><td>5005                   </td><td>3244               </td><td>7508                </td><td>6285                </td><td>1939              </td><td>5474               </td><td>79                </td><td>934               </td><td>2711               </td><td>2722              </td><td>1660              </td><td>1692              </td><td>801               </td><td>0                            </td><td>0                            </td><td>0                    </td><td>3478                      </td><td>2169                       </td><td>1261                        </td><td>2097                        </td><td>3396                        </td><td>5813                        </td><td>7105                        </td><td>3442                   </td><td>1157               </td><td>7369               </td><td>5419                </td><td>1444              </td><td>4161               </td><td>0                 </td><td>454               </td><td>2067               </td><td>2070             </td><td>1086             </td><td>1087              </td><td>415               </td><td>0                            </td><td>0                            </td><td>0                    </td><td>2580                      </td><td>1372                       </td><td>1001                        </td><td>1211                        </td><td>2595                        </td><td>4792                        </td><td>6898                        </td><td>2546                   </td><td>470                </td><td>6974               </td><td>4645                </td><td>914               </td><td>3235               </td><td>0                 </td><td>92                </td><td>1447               </td><td>1447             </td><td>657               </td><td>657               </td><td>154               </td><td>0                            </td><td>0                            </td><td>0                    </td><td>1969                      </td><td>976                        </td><td>594                         </td><td>548                         </td><td>1665                        </td><td>3286                        </td><td>6412                        </td><td>1604                   </td><td>98                 </td><td>6374               </td><td>3509                </td><td>666               </td><td>1949               </td><td>0                 </td><td>0                 </td><td>535                </td><td>535               </td><td>332               </td><td>332               </td><td>128              </td><td>0                            </td><td>0                            </td><td>0                    </td><td>933                       </td><td>288                        </td><td>239                         </td><td>146                         </td><td>374                         </td><td>1123                        </td><td>5593                        </td><td>460                    </td><td>91                 </td><td>4994               </td><td>2129                </td><td>404               </td><td>980                </td><td>0                     </td><td>0                 </td><td>0                               </td><td>0                                  </td><td>0                           </td><td>0                            </td><td>0                        </td><td>0                                </td><td>0                         </td><td>0                              </td><td>0                                 </td><td>0                    </td><td>0                        </td><td>0                       </td><td>0                 </td></tr>\n",
       "<tr><td>missing</td><td>0                 </td><td>1176              </td><td>0                 </td><td>0                 </td><td>0                 </td><td>1049              </td><td>0                 </td><td>0                 </td><td>694               </td><td>0                 </td><td>0                </td><td>0                    </td><td>0                   </td><td>0                   </td><td>1596              </td><td>0                                  </td><td>0                </td><td>1595             </td><td>0                               </td><td>0                                      </td><td>3418                 </td><td>0                         </td><td>0                        </td><td>0                    </td><td>0                           </td><td>0                             </td><td>0                       </td><td>0                 </td><td>0                 </td><td>0                 </td><td>0                 </td><td>0                 </td><td>0                </td><td>0                 </td><td>0                </td><td>0                 </td><td>0                 </td><td>0                 </td><td>0                 </td><td>0                 </td><td>0                 </td><td>0                 </td><td>0                 </td><td>0                </td><td>0                 </td><td>0                 </td><td>0                 </td><td>0                 </td><td>0                 </td><td>0                 </td><td>0                 </td><td>0                 </td><td>0                 </td><td>0                 </td><td>0                </td><td>1218                                  </td><td>1218               </td><td>1218              </td><td>1218               </td><td>1218               </td><td>1218                  </td><td>1218               </td><td>1218               </td><td>1218              </td><td>1218              </td><td>1218                                   </td><td>1218                     </td><td>1218                   </td><td>1218                   </td><td>1218                   </td><td>1218                    </td><td>0                 </td><td>0                   </td><td>0                   </td><td>34                </td><td>34                  </td><td>0                     </td><td>0                  </td><td>0                 </td><td>0                   </td><td>0                  </td><td>0                   </td><td>0                 </td><td>0                 </td><td>34                        </td><td>34                         </td><td>34                        </td><td>0                         </td><td>0                          </td><td>0                         </td><td>0                            </td><td>0                                  </td><td>0                  </td><td>0                 </td><td>0                   </td><td>0                 </td><td>0                 </td><td>0                 </td><td>0                 </td><td>0                 </td><td>0                 </td><td>0                 </td><td>0                  </td><td>0                   </td><td>0                     </td><td>0                     </td><td>0                 </td><td>0                 </td><td>0                   </td><td>0                 </td><td>0                           </td><td>0                       </td><td>0                 </td><td>0                 </td><td>0                   </td><td>0                 </td><td>0                 </td><td>0                   </td><td>0                 </td><td>0                 </td><td>0                   </td><td>0                      </td><td>0                     </td><td>0                 </td><td>0                 </td><td>0                    </td><td>0                 </td><td>0                        </td><td>0                  </td><td>0                 </td><td>0                    </td><td>0                    </td><td>0                 </td><td>0                </td><td>0                  </td><td>0                  </td><td>0                 </td><td>0                </td><td>0                 </td><td>0                 </td><td>0                 </td><td>0                 </td><td>0                 </td><td>3159                        </td><td>3159                        </td><td>3159                </td><td>0                        </td><td>0                         </td><td>0                          </td><td>0                          </td><td>0                          </td><td>0                          </td><td>0                          </td><td>0                     </td><td>0                 </td><td>0                   </td><td>0                  </td><td>0                 </td><td>0                 </td><td>0                 </td><td>0                 </td><td>0                  </td><td>0                 </td><td>0                </td><td>0                 </td><td>0                 </td><td>1222                         </td><td>1222                         </td><td>1222                 </td><td>0                         </td><td>0                          </td><td>0                           </td><td>0                           </td><td>0                           </td><td>0                           </td><td>0                           </td><td>0                      </td><td>0                  </td><td>0                   </td><td>0                   </td><td>0                 </td><td>0                  </td><td>0                 </td><td>0                 </td><td>0                  </td><td>0                 </td><td>0                 </td><td>0                 </td><td>0                 </td><td>821                          </td><td>821                          </td><td>821                  </td><td>0                         </td><td>0                          </td><td>0                           </td><td>0                           </td><td>0                           </td><td>0                           </td><td>0                           </td><td>0                      </td><td>0                  </td><td>0                  </td><td>0                   </td><td>0                 </td><td>0                  </td><td>19                </td><td>0                 </td><td>0                  </td><td>0                </td><td>0                </td><td>0                 </td><td>0                 </td><td>424                          </td><td>424                          </td><td>424                  </td><td>0                         </td><td>0                          </td><td>0                           </td><td>0                           </td><td>0                           </td><td>0                           </td><td>0                           </td><td>0                      </td><td>0                  </td><td>0                  </td><td>0                   </td><td>0                 </td><td>0                  </td><td>0                 </td><td>0                 </td><td>0                  </td><td>0                </td><td>0                 </td><td>0                 </td><td>0                 </td><td>182                          </td><td>182                          </td><td>182                  </td><td>0                         </td><td>0                          </td><td>0                           </td><td>0                           </td><td>0                           </td><td>0                           </td><td>0                           </td><td>0                      </td><td>0                  </td><td>0                  </td><td>0                   </td><td>0                 </td><td>0                  </td><td>0                 </td><td>92                </td><td>0                  </td><td>0                 </td><td>0                 </td><td>0                 </td><td>0                </td><td>128                          </td><td>128                          </td><td>128                  </td><td>0                         </td><td>0                          </td><td>0                           </td><td>0                           </td><td>0                           </td><td>0                           </td><td>0                           </td><td>0                      </td><td>0                  </td><td>0                  </td><td>0                   </td><td>0                 </td><td>0                  </td><td>0                     </td><td>0                 </td><td>0                               </td><td>0                                  </td><td>0                           </td><td>0                            </td><td>0                        </td><td>0                                </td><td>0                         </td><td>0                              </td><td>0                                 </td><td>0                    </td><td>0                        </td><td>0                       </td><td>0                 </td></tr>\n",
       "<tr><td>0      </td><td>39.0              </td><td>20.7              </td><td>2.0               </td><td>9.0               </td><td>1.0               </td><td>1998.0            </td><td>1.0               </td><td>8.9               </td><td>3.0               </td><td>26155137.04       </td><td>178264.0         </td><td>0.137846204          </td><td>0.041116354         </td><td>14080.0             </td><td>11926.0           </td><td>11.0                               </td><td>14892.0          </td><td>24750.0          </td><td>13.0                            </td><td>1.0                                    </td><td>nan                  </td><td>1.0                       </td><td>0.0                      </td><td>13.0                 </td><td>4.0                         </td><td>0.0                           </td><td>4.0                     </td><td>4.0               </td><td>102618.0          </td><td>47681.0           </td><td>54937.0           </td><td>30808.0           </td><td>16251.0          </td><td>14557.0           </td><td>121369.0         </td><td>59138.0           </td><td>62231.0           </td><td>26087.0           </td><td>7410.0            </td><td>18677.0           </td><td>14080.0           </td><td>7457.0            </td><td>6623.0            </td><td>14892.0          </td><td>7839.0            </td><td>7053.0            </td><td>34341.0           </td><td>18094.0           </td><td>16247.0           </td><td>19906.0           </td><td>9676.0            </td><td>10230.0           </td><td>27123.0           </td><td>14340.0           </td><td>12783.0          </td><td>1681.0                                </td><td>173.0              </td><td>607.0             </td><td>19.0               </td><td>245.0              </td><td>116.0                 </td><td>431.0              </td><td>1.0                </td><td>84.0              </td><td>5.0               </td><td>1680.0                                 </td><td>34.0                     </td><td>299.0                  </td><td>439.0                  </td><td>109.0                  </td><td>799.0                   </td><td>45.0              </td><td>1.258956814         </td><td>0.735908376         </td><td>8.830900507       </td><td>0.735908376         </td><td>0.078501809           </td><td>0.7469623870000001 </td><td>2.048487193       </td><td>0.061485462000000005</td><td>1.2054038550000001 </td><td>0.967696            </td><td>0.781053          </td><td>10.5654           </td><td>4.8121016690000005        </td><td>57.74522003                </td><td>39.0                      </td><td>4.850747872               </td><td>6.274963415                </td><td>39.0                      </td><td>0.11413358500000001          </td><td>1.3696030160000001                 </td><td>0.24815108200000002</td><td>6.374826455       </td><td>19.65110141         </td><td>22.79098505       </td><td>24.079707210000002</td><td>24.779081650000002</td><td>4.152246095000001 </td><td>2.0               </td><td>5.706483539000001 </td><td>38.0              </td><td>0.49054944300000003</td><td>27.55348561         </td><td>32.0                  </td><td>8.424959428000001     </td><td>9.0               </td><td>22.62436185       </td><td>16.2240833          </td><td>6.62008144        </td><td>4.12187438                  </td><td>8.957779524000001       </td><td>8.824060238000001 </td><td>15.48391238       </td><td>5.353674037         </td><td>0.22578827        </td><td>3.6739415620000004</td><td>11.81083939         </td><td>20.39242655       </td><td>9.131977008       </td><td>3.30011974          </td><td>25.462740840000002     </td><td>1.613152434           </td><td>17.21487045       </td><td>7.922610179       </td><td>2.414137631          </td><td>4.923614105       </td><td>0.5142105180000001       </td><td>0.7469623870000001 </td><td>0.749142089       </td><td>0.848296699          </td><td>1.917735852          </td><td>19.95341267       </td><td>14.05220654      </td><td>12.22857639        </td><td>0.446323909        </td><td>42.22             </td><td>0.0              </td><td>0.0               </td><td>0.0               </td><td>0.0               </td><td>0.0               </td><td>1.0               </td><td>1000.0                      </td><td>1500.0                      </td><td>1250.0              </td><td>0.0                      </td><td>0.0                       </td><td>0.0                        </td><td>1.0                        </td><td>0.0                        </td><td>0.0                        </td><td>0.0                        </td><td>0.0                   </td><td>0.0               </td><td>0.0                 </td><td>0.0                </td><td>1.0               </td><td>0.0               </td><td>32.480000000000004</td><td>0.0               </td><td>0.0                </td><td>0.0               </td><td>0.0              </td><td>0.0               </td><td>2.0               </td><td>1000.0                       </td><td>1500.0                       </td><td>1250.0               </td><td>0.0                       </td><td>0.0                        </td><td>0.0                         </td><td>2.0                         </td><td>0.0                         </td><td>0.0                         </td><td>0.0                         </td><td>1.0                    </td><td>1.0                </td><td>0.0                 </td><td>0.0                 </td><td>3.0               </td><td>0.0                </td><td>20.14             </td><td>0.7000000000000001</td><td>0.0                </td><td>0.0               </td><td>0.0               </td><td>0.0               </td><td>2.0               </td><td>1000.0                       </td><td>1500.0                       </td><td>1250.0               </td><td>0.0                       </td><td>0.0                        </td><td>0.0                         </td><td>2.0                         </td><td>0.0                         </td><td>0.0                         </td><td>0.0                         </td><td>1.0                    </td><td>2.0                </td><td>0.0                </td><td>0.0                 </td><td>4.0               </td><td>0.0                </td><td>15.17             </td><td>1.18              </td><td>0.0                </td><td>0.0              </td><td>0.0              </td><td>0.0               </td><td>3.0               </td><td>1000.0                       </td><td>1500.0                       </td><td>1250.0               </td><td>0.0                       </td><td>0.0                        </td><td>0.0                         </td><td>3.0                         </td><td>0.0                         </td><td>0.0                         </td><td>0.0                         </td><td>1.0                    </td><td>2.0                </td><td>1.0                </td><td>0.0                 </td><td>5.0               </td><td>0.0                </td><td>14.69             </td><td>2.87              </td><td>0.0                </td><td>0.0              </td><td>3.0               </td><td>73000.0           </td><td>12.0              </td><td>781.82                       </td><td>1227.27                      </td><td>1004.5500000000001   </td><td>1.0                       </td><td>2.0                        </td><td>2.0                         </td><td>7.0                         </td><td>0.0                         </td><td>0.0                         </td><td>0.0                         </td><td>1.0                    </td><td>3.0                </td><td>1.0                </td><td>0.0                 </td><td>7.0               </td><td>0.0                </td><td>21.580000000000002</td><td>4.69              </td><td>1.0                </td><td>37550.0           </td><td>8.0               </td><td>299166.0          </td><td>19.0             </td><td>676.47                       </td><td>1088.24                      </td><td>882.35               </td><td>2.0                       </td><td>5.0                        </td><td>4.0                         </td><td>8.0                         </td><td>0.0                         </td><td>0.0                         </td><td>0.0                         </td><td>1.0                    </td><td>10.0               </td><td>1.0                </td><td>0.0                 </td><td>14.0              </td><td>1.0                </td><td>7495294.273858494     </td><td>6813802.8824833715</td><td>6924696.802578567               </td><td>7083619.164902663                  </td><td>7231713.127579471           </td><td>7134629.8326429175           </td><td>6682753.892193877        </td><td>7069163.030850519                </td><td>7242389.0831856495        </td><td>7100172.404620374              </td><td>7063324.7332920125                </td><td>7176112.387182768    </td><td>7075624.33772314         </td><td>7144896.322942727       </td><td>8599506.009769335 </td></tr>\n",
       "<tr><td>1      </td><td>79.2              </td><td>nan               </td><td>8.0               </td><td>17.0              </td><td>1.0               </td><td>0.0               </td><td>3.0               </td><td>1.0               </td><td>1.0               </td><td>25536296.810000002</td><td>4001.0           </td><td>0.49631528300000005  </td><td>0.007122317         </td><td>275.0               </td><td>nan               </td><td>0.0                                </td><td>264.0            </td><td>nan              </td><td>0.0                             </td><td>0.0                                    </td><td>nan                  </td><td>0.0                       </td><td>0.0                      </td><td>0.0                  </td><td>0.0                         </td><td>0.0                           </td><td>1.0                     </td><td>0.0               </td><td>17790.0           </td><td>8350.0            </td><td>9443.0            </td><td>574.0             </td><td>297.0            </td><td>277.0             </td><td>2566.0           </td><td>1356.0            </td><td>1211.0            </td><td>861.0             </td><td>244.0             </td><td>617.0             </td><td>275.0             </td><td>143.0             </td><td>133.0             </td><td>264.0            </td><td>136.0             </td><td>128.0             </td><td>646.0             </td><td>336.0             </td><td>311.0             </td><td>3796.0            </td><td>2035.0            </td><td>1762.0            </td><td>506.0             </td><td>261.0             </td><td>245.0            </td><td>nan                                   </td><td>nan                </td><td>nan               </td><td>nan                </td><td>nan                </td><td>nan                   </td><td>nan                </td><td>nan                </td><td>nan               </td><td>nan               </td><td>nan                                    </td><td>nan                      </td><td>nan                    </td><td>nan                    </td><td>nan                    </td><td>nan                     </td><td>21.0              </td><td>4.230424558         </td><td>3.4446248190000004  </td><td>41.33549783       </td><td>3.4446248190000004  </td><td>1.192192935           </td><td>1.3325697470000002 </td><td>4.40042731        </td><td>0.0                 </td><td>0.742376914        </td><td>16.04942            </td><td>2.244906          </td><td>18.50054          </td><td>5.4580572290000005        </td><td>65.49668675                </td><td>24.0                      </td><td>5.4580572290000005        </td><td>6.859956116                </td><td>24.0                      </td><td>0.826082788                  </td><td>9.912993460000001                  </td><td>0.799852627        </td><td>6.8478125190000005</td><td>16.97579289         </td><td>19.692960290000002</td><td>20.86442659       </td><td>21.72262007       </td><td>2.1483976950000003</td><td>13.0              </td><td>4.410487585       </td><td>27.0              </td><td>2.34234566         </td><td>27.421853           </td><td>50.0                  </td><td>16.91317539           </td><td>8.0               </td><td>29.42544257       </td><td>17.08011333         </td><td>8.545592813       </td><td>4.93282704                  </td><td>10.03983254             </td><td>3.6549553290000003</td><td>15.09254177       </td><td>8.156185302         </td><td>1.3131800740000001</td><td>4.244082105       </td><td>4.438241692         </td><td>13.445121330000001</td><td>8.332179678000001 </td><td>7.095894804         </td><td>26.807204210000002     </td><td>3.7752998520000003    </td><td>12.44019829       </td><td>9.672778867       </td><td>1.764297664          </td><td>3.764818727       </td><td>1.6949670360000002       </td><td>1.3325697470000002 </td><td>1.6721258970000001</td><td>1.162371469          </td><td>12.239901080000001   </td><td>13.00610746       </td><td>9.661062936      </td><td>4.3239409030000004 </td><td>0.70587342         </td><td>86.33             </td><td>0.0              </td><td>0.0               </td><td>0.0               </td><td>0.0               </td><td>0.0               </td><td>0.0               </td><td>nan                         </td><td>nan                         </td><td>nan                 </td><td>0.0                      </td><td>0.0                       </td><td>0.0                        </td><td>0.0                        </td><td>0.0                        </td><td>0.0                        </td><td>0.0                        </td><td>0.0                   </td><td>0.0               </td><td>0.0                 </td><td>0.0                </td><td>0.0               </td><td>0.0               </td><td>67.43             </td><td>3.77              </td><td>0.0                </td><td>0.0               </td><td>0.0              </td><td>0.0               </td><td>2.0               </td><td>1000.0                       </td><td>1750.0                       </td><td>1375.0               </td><td>0.0                       </td><td>0.0                        </td><td>1.0                         </td><td>0.0                         </td><td>1.0                         </td><td>0.0                         </td><td>0.0                         </td><td>0.0                    </td><td>0.0                </td><td>0.0                 </td><td>0.0                 </td><td>0.0               </td><td>0.0                </td><td>59.28             </td><td>5.3100000000000005</td><td>0.0                </td><td>0.0               </td><td>0.0               </td><td>0.0               </td><td>3.0               </td><td>833.33                       </td><td>1500.0                       </td><td>1166.67              </td><td>0.0                       </td><td>0.0                        </td><td>2.0                         </td><td>0.0                         </td><td>1.0                         </td><td>0.0                         </td><td>0.0                         </td><td>0.0                    </td><td>1.0                </td><td>0.0                </td><td>0.0                 </td><td>1.0               </td><td>0.0                </td><td>49.26             </td><td>4.0600000000000005</td><td>0.0                </td><td>0.0              </td><td>1.0              </td><td>5000.0            </td><td>7.0               </td><td>757.14                       </td><td>1285.71                      </td><td>1021.4300000000001   </td><td>0.0                       </td><td>1.0                        </td><td>3.0                         </td><td>2.0                         </td><td>1.0                         </td><td>0.0                         </td><td>0.0                         </td><td>1.0                    </td><td>2.0                </td><td>0.0                </td><td>0.0                 </td><td>1.0               </td><td>0.0                </td><td>39.5              </td><td>3.3200000000000003</td><td>0.0                </td><td>0.0              </td><td>2.0               </td><td>22000.0           </td><td>10.0              </td><td>680.0                        </td><td>1200.0                       </td><td>940.0                </td><td>0.0                       </td><td>1.0                        </td><td>6.0                         </td><td>2.0                         </td><td>1.0                         </td><td>0.0                         </td><td>0.0                         </td><td>1.0                    </td><td>5.0                </td><td>0.0                </td><td>0.0                 </td><td>7.0               </td><td>0.0                </td><td>39.1              </td><td>7.7               </td><td>2.0                </td><td>177300.0          </td><td>6.0               </td><td>231300.0          </td><td>20.0             </td><td>733.33                       </td><td>1250.0                       </td><td>991.6700000000001    </td><td>2.0                       </td><td>4.0                        </td><td>8.0                         </td><td>4.0                         </td><td>1.0                         </td><td>1.0                         </td><td>0.0                         </td><td>2.0                    </td><td>11.0               </td><td>0.0                </td><td>1.0                 </td><td>12.0              </td><td>1.0                </td><td>6466254.641204755     </td><td>6215745.687317784 </td><td>6924696.802578567               </td><td>7083619.164902663                  </td><td>7231713.127579471           </td><td>7134629.8326429175           </td><td>6682753.892193877        </td><td>7069163.030850519                </td><td>7242389.0831856495        </td><td>7100172.404620374              </td><td>7063324.7332920125                </td><td>7176112.387182768    </td><td>7075624.33772314         </td><td>7144896.322942727       </td><td>5241629.717215257 </td></tr>\n",
       "<tr><td>2      </td><td>40.5              </td><td>25.1              </td><td>3.0               </td><td>5.0               </td><td>2.0               </td><td>1960.0            </td><td>2.0               </td><td>4.8               </td><td>2.0               </td><td>9946335.108000001 </td><td>139322.0         </td><td>0.065408826          </td><td>0.22582495400000002 </td><td>6400.0              </td><td>2232.0            </td><td>7.0                                </td><td>6558.0           </td><td>7966.0           </td><td>7.0                             </td><td>0.0                                    </td><td>1548.0               </td><td>3.0                       </td><td>0.0                      </td><td>13.0                 </td><td>0.0                         </td><td>0.0                           </td><td>2.0                     </td><td>7.0               </td><td>36154.0           </td><td>16222.0           </td><td>19932.0           </td><td>13799.0           </td><td>6937.0           </td><td>6862.0            </td><td>91795.0          </td><td>44734.0           </td><td>47061.0           </td><td>33728.0           </td><td>9653.0            </td><td>24075.0           </td><td>6400.0            </td><td>3209.0            </td><td>3191.0            </td><td>6558.0           </td><td>3317.0            </td><td>3241.0            </td><td>15514.0           </td><td>7813.0            </td><td>7701.0            </td><td>8137.0            </td><td>3787.0            </td><td>4350.0            </td><td>12162.0           </td><td>6117.0            </td><td>6045.0           </td><td>561.0                                 </td><td>111.0              </td><td>0.0               </td><td>0.0                </td><td>254.0              </td><td>3.0                   </td><td>189.0              </td><td>0.0                </td><td>4.0               </td><td>0.0               </td><td>561.0                                  </td><td>0.0                      </td><td>5.0                    </td><td>437.0                  </td><td>79.0                   </td><td>40.0                    </td><td>44.0              </td><td>1.585305524         </td><td>1.122213606         </td><td>13.46656327       </td><td>1.122213606         </td><td>0.06532425800000001   </td><td>0.19460843300000003</td><td>2.51300646        </td><td>0.5806375260000001  </td><td>0.9004082980000001 </td><td>11.7499             </td><td>3.3898479999999998</td><td>10.195630000000001</td><td>3.6282928500000002        </td><td>43.5395142                 </td><td>68.0                      </td><td>3.9776589170000003        </td><td>5.375048187                </td><td>59.0                      </td><td>0.11668572                   </td><td>1.400228634                        </td><td>1.38482393         </td><td>3.4993800260000003</td><td>5.627480688         </td><td>8.090528425       </td><td>8.67108556        </td><td>10.32072754       </td><td>0.5806375260000001</td><td>10.0              </td><td>3.499380002       </td><td>1.0               </td><td>2.220940794        </td><td>10.09331826         </td><td>5.0                   </td><td>7.921607132           </td><td>3.0               </td><td>1.823380766       </td><td>14.43125156         </td><td>0.8267432170000001</td><td>2.388288277                 </td><td>3.760642444             </td><td>3.29096617        </td><td>16.30459648       </td><td>0.644829977         </td><td>0.966253545       </td><td>1.332737145       </td><td>3.131143191         </td><td>1.464173524       </td><td>1.4995811250000002</td><td>0.487816878         </td><td>6.718081651            </td><td>0.7117682350000001    </td><td>4.862871782       </td><td>3.506298253       </td><td>1.4566607010000001   </td><td>1.223803607       </td><td>2.33099493               </td><td>0.19460843300000003</td><td>1.400093666       </td><td>1.1775274930000001   </td><td>9.938734512          </td><td>2.9838746460000003</td><td>1.988345881      </td><td>0.794245003        </td><td>0.32086447300000004</td><td>0.0               </td><td>0.0              </td><td>0.0               </td><td>0.0               </td><td>0.0               </td><td>0.0               </td><td>3.0               </td><td>400.0                       </td><td>750.0                       </td><td>575.0               </td><td>1.0                      </td><td>1.0                       </td><td>1.0                        </td><td>0.0                        </td><td>0.0                        </td><td>0.0                        </td><td>0.0                        </td><td>0.0                   </td><td>0.0               </td><td>0.0                 </td><td>0.0                </td><td>0.0               </td><td>1.0               </td><td>13.07             </td><td>0.8               </td><td>0.0                </td><td>0.0               </td><td>0.0              </td><td>0.0               </td><td>8.0               </td><td>485.71000000000004           </td><td>857.14                       </td><td>671.4300000000001    </td><td>1.0                       </td><td>3.0                        </td><td>3.0                         </td><td>1.0                         </td><td>0.0                         </td><td>0.0                         </td><td>0.0                         </td><td>0.0                    </td><td>0.0                </td><td>0.0                 </td><td>1.0                 </td><td>6.0               </td><td>2.0                </td><td>30.970000000000002</td><td>8.75              </td><td>2.0                </td><td>34100.0           </td><td>1.0               </td><td>0.0               </td><td>19.0              </td><td>655.5600000000001            </td><td>1111.1100000000001           </td><td>883.33               </td><td>1.0                       </td><td>6.0                        </td><td>6.0                         </td><td>4.0                         </td><td>2.0                         </td><td>0.0                         </td><td>0.0                         </td><td>1.0                    </td><td>1.0                </td><td>0.0                </td><td>1.0                 </td><td>12.0              </td><td>3.0                </td><td>40.9              </td><td>10.51             </td><td>6.0                </td><td>80237.0          </td><td>3.0              </td><td>14090.0           </td><td>28.0              </td><td>633.33                       </td><td>1092.59                      </td><td>862.96               </td><td>1.0                       </td><td>7.0                        </td><td>12.0                        </td><td>6.0                         </td><td>2.0                         </td><td>0.0                         </td><td>0.0                         </td><td>2.0                    </td><td>2.0                </td><td>0.0                </td><td>4.0                 </td><td>14.0              </td><td>4.0                </td><td>45.86             </td><td>9.08              </td><td>8.0                </td><td>215237.0         </td><td>6.0               </td><td>39106.0           </td><td>37.0              </td><td>608.33                       </td><td>1069.44                      </td><td>838.89               </td><td>1.0                       </td><td>8.0                        </td><td>19.0                        </td><td>7.0                         </td><td>2.0                         </td><td>0.0                         </td><td>0.0                         </td><td>2.0                    </td><td>3.0                </td><td>0.0                </td><td>5.0                 </td><td>22.0              </td><td>4.0                </td><td>25.62             </td><td>13.59             </td><td>27.0               </td><td>427889.0          </td><td>26.0              </td><td>1024431.0         </td><td>179.0            </td><td>668.97                       </td><td>1132.18                      </td><td>900.57               </td><td>5.0                       </td><td>53.0                       </td><td>64.0                        </td><td>42.0                        </td><td>11.0                        </td><td>4.0                         </td><td>0.0                         </td><td>10.0                   </td><td>21.0               </td><td>0.0                </td><td>10.0                </td><td>71.0              </td><td>11.0               </td><td>7495294.273858494     </td><td>6074523.510121457 </td><td>6924696.802578567               </td><td>7809766.912333736                  </td><td>7231713.127579471           </td><td>5941056.581081081            </td><td>7916845.889154633        </td><td>7069163.030850519                </td><td>7242389.0831856495        </td><td>7100172.404620374              </td><td>7063324.7332920125                </td><td>7176112.387182768    </td><td>7075624.33772314         </td><td>7144896.322942727       </td><td>7747995.892117736 </td></tr>\n",
       "<tr><td>3      </td><td>62.800000000000004</td><td>36.0              </td><td>17.0              </td><td>17.0              </td><td>1.0               </td><td>2016.0            </td><td>2.0               </td><td>62.800000000000004</td><td>3.0               </td><td>21494094.8        </td><td>7122.0           </td><td>0.262459141          </td><td>0.017647053000000003</td><td>489.0               </td><td>nan               </td><td>0.0                                </td><td>469.0            </td><td>nan              </td><td>0.0                             </td><td>0.0                                    </td><td>nan                  </td><td>0.0                       </td><td>0.0                      </td><td>0.0                  </td><td>2.0                         </td><td>0.0                           </td><td>0.0                     </td><td>0.0               </td><td>9553.0            </td><td>4529.0            </td><td>5024.0            </td><td>1021.0            </td><td>529.0            </td><td>493.0             </td><td>4568.0           </td><td>2414.0            </td><td>2155.0            </td><td>1533.0            </td><td>435.0             </td><td>1099.0            </td><td>489.0             </td><td>254.0             </td><td>236.0             </td><td>469.0            </td><td>242.0             </td><td>228.0             </td><td>1150.0            </td><td>597.0             </td><td>553.0             </td><td>2155.0            </td><td>1206.0            </td><td>950.0             </td><td>900.0             </td><td>465.0             </td><td>435.0            </td><td>nan                                   </td><td>nan                </td><td>nan               </td><td>nan                </td><td>nan                </td><td>nan                   </td><td>nan                </td><td>nan                </td><td>nan               </td><td>nan               </td><td>nan                                    </td><td>nan                      </td><td>nan                    </td><td>nan                    </td><td>nan                    </td><td>nan                     </td><td>45.0              </td><td>7.931398496000001   </td><td>6.038847546         </td><td>68.55979411       </td><td>5.713316176         </td><td>3.1890830520000004    </td><td>3.540104653        </td><td>5.612834701000001 </td><td>0.025446347         </td><td>0.46673846         </td><td>5.061916999999999   </td><td>2.701804          </td><td>14.62944          </td><td>10.28416672               </td><td>123.41000059999999         </td><td>39.0                      </td><td>10.60969809               </td><td>13.517418880000001         </td><td>39.0                      </td><td>3.093208665                  </td><td>37.11850398                        </td><td>0.23301744600000002</td><td>8.928836346       </td><td>22.09425175         </td><td>25.06292759       </td><td>26.22604543       </td><td>26.96046256       </td><td>2.722667459       </td><td>38.0              </td><td>8.601109955       </td><td>2.0               </td><td>4.476081182000001  </td><td>37.43677217         </td><td>50.0                  </td><td>13.97965041           </td><td>8.0               </td><td>26.89511787       </td><td>19.942295220000002  </td><td>9.434350866       </td><td>6.218331276000001           </td><td>13.34571483             </td><td>10.48079788       </td><td>10.72387001       </td><td>11.11262425         </td><td>4.480234176000001 </td><td>8.577222895       </td><td>15.20050938         </td><td>18.56023381       </td><td>12.25302098       </td><td>6.831965609         </td><td>30.36602218            </td><td>5.731266129000001     </td><td>15.382677710000001</td><td>11.30656606       </td><td>6.5893814740000005   </td><td>8.102093804       </td><td>0.403429427              </td><td>3.540104653        </td><td>5.411311676       </td><td>0.21385299           </td><td>6.153090564          </td><td>18.12121993       </td><td>16.93828965      </td><td>14.171228999999999 </td><td>0.45408660100000003</td><td>22.01             </td><td>0.15             </td><td>0.0               </td><td>0.0               </td><td>0.0               </td><td>0.0               </td><td>1.0               </td><td>300.0                       </td><td>500.0                       </td><td>400.0               </td><td>0.0                      </td><td>1.0                       </td><td>0.0                        </td><td>0.0                        </td><td>0.0                        </td><td>0.0                        </td><td>0.0                        </td><td>0.0                   </td><td>1.0               </td><td>0.0                 </td><td>0.0                </td><td>0.0               </td><td>0.0               </td><td>27.94             </td><td>7.9               </td><td>0.0                </td><td>0.0               </td><td>0.0              </td><td>0.0               </td><td>1.0               </td><td>300.0                        </td><td>500.0                        </td><td>400.0                </td><td>0.0                       </td><td>1.0                        </td><td>0.0                         </td><td>0.0                         </td><td>0.0                         </td><td>0.0                         </td><td>0.0                         </td><td>0.0                    </td><td>2.0                </td><td>0.0                 </td><td>0.0                 </td><td>0.0               </td><td>0.0                </td><td>28.82             </td><td>3.59              </td><td>0.0                </td><td>0.0               </td><td>0.0               </td><td>0.0               </td><td>1.0               </td><td>300.0                        </td><td>500.0                        </td><td>400.0                </td><td>0.0                       </td><td>1.0                        </td><td>0.0                         </td><td>0.0                         </td><td>0.0                         </td><td>0.0                         </td><td>0.0                         </td><td>0.0                    </td><td>3.0                </td><td>0.0                </td><td>0.0                 </td><td>0.0               </td><td>0.0                </td><td>31.35             </td><td>2.99              </td><td>0.0                </td><td>0.0              </td><td>0.0              </td><td>0.0               </td><td>1.0               </td><td>300.0                        </td><td>500.0                        </td><td>400.0                </td><td>0.0                       </td><td>1.0                        </td><td>0.0                         </td><td>0.0                         </td><td>0.0                         </td><td>0.0                         </td><td>0.0                         </td><td>0.0                    </td><td>3.0                </td><td>0.0                </td><td>0.0                 </td><td>0.0               </td><td>0.0                </td><td>34.87             </td><td>1.34              </td><td>0.0                </td><td>0.0              </td><td>0.0               </td><td>0.0               </td><td>1.0               </td><td>300.0                        </td><td>500.0                        </td><td>400.0                </td><td>0.0                       </td><td>1.0                        </td><td>0.0                         </td><td>0.0                         </td><td>0.0                         </td><td>0.0                         </td><td>0.0                         </td><td>0.0                    </td><td>4.0                </td><td>0.0                </td><td>0.0                 </td><td>0.0               </td><td>0.0                </td><td>24.25             </td><td>1.6600000000000001</td><td>0.0                </td><td>0.0               </td><td>0.0               </td><td>0.0               </td><td>5.0              </td><td>1560.0                       </td><td>2500.0                       </td><td>2030.0               </td><td>0.0                       </td><td>1.0                        </td><td>0.0                         </td><td>1.0                         </td><td>1.0                         </td><td>2.0                         </td><td>0.0                         </td><td>0.0                    </td><td>10.0               </td><td>0.0                </td><td>0.0                 </td><td>2.0               </td><td>0.0                </td><td>6466254.641204755     </td><td>5322552.771388499 </td><td>6924696.802578567               </td><td>7083619.164902663                  </td><td>7231713.127579471           </td><td>7134629.8326429175           </td><td>6682753.892193877        </td><td>7069163.030850519                </td><td>7242389.0831856495        </td><td>7100172.404620374              </td><td>7063324.7332920125                </td><td>7176112.387182768    </td><td>7075624.33772314         </td><td>7144896.322942727       </td><td>5241629.717215257 </td></tr>\n",
       "<tr><td>4      </td><td>40.0              </td><td>40.0              </td><td>17.0              </td><td>17.0              </td><td>1.0               </td><td>0.0               </td><td>1.0               </td><td>1.0               </td><td>1.0               </td><td>25536296.810000002</td><td>4001.0           </td><td>0.49631528300000005  </td><td>0.007122317         </td><td>275.0               </td><td>nan               </td><td>0.0                                </td><td>264.0            </td><td>nan              </td><td>0.0                             </td><td>0.0                                    </td><td>nan                  </td><td>0.0                       </td><td>0.0                      </td><td>0.0                  </td><td>0.0                         </td><td>0.0                           </td><td>1.0                     </td><td>0.0               </td><td>17790.0           </td><td>8350.0            </td><td>9443.0            </td><td>574.0             </td><td>297.0            </td><td>277.0             </td><td>2566.0           </td><td>1356.0            </td><td>1211.0            </td><td>861.0             </td><td>244.0             </td><td>617.0             </td><td>275.0             </td><td>143.0             </td><td>133.0             </td><td>264.0            </td><td>136.0             </td><td>128.0             </td><td>646.0             </td><td>336.0             </td><td>311.0             </td><td>3796.0            </td><td>2035.0            </td><td>1762.0            </td><td>506.0             </td><td>261.0             </td><td>245.0            </td><td>nan                                   </td><td>nan                </td><td>nan               </td><td>nan                </td><td>nan                </td><td>nan                   </td><td>nan                </td><td>nan                </td><td>nan               </td><td>nan               </td><td>nan                                    </td><td>nan                      </td><td>nan                    </td><td>nan                    </td><td>nan                    </td><td>nan                     </td><td>21.0              </td><td>2.1527916250000003  </td><td>1.722233308         </td><td>20.6667997        </td><td>1.722233308         </td><td>0.897888573           </td><td>1.234234528        </td><td>4.566595488       </td><td>0.42724771100000003 </td><td>0.35364175200000003</td><td>16.78463            </td><td>2.250137          </td><td>19.14919          </td><td>3.7356657180000004        </td><td>44.82798861                </td><td>24.0                      </td><td>3.7356657180000004        </td><td>4.782323183                </td><td>24.0                      </td><td>0.63001355                   </td><td>7.560162595                        </td><td>0.394422158        </td><td>7.12321525        </td><td>17.14873672         </td><td>19.86899739       </td><td>21.03856121       </td><td>21.90579236       </td><td>2.808076717       </td><td>13.0              </td><td>3.688405454       </td><td>27.0              </td><td>1.7272233350000001 </td><td>25.69946149         </td><td>50.0                  </td><td>17.36666121           </td><td>8.0               </td><td>29.96865962       </td><td>17.39766622         </td><td>9.036942213000001 </td><td>5.50676959                  </td><td>10.10232819             </td><td>3.729415652       </td><td>15.54602758       </td><td>6.433793791         </td><td>1.519553042       </td><td>2.521690593       </td><td>2.715850181         </td><td>13.898607140000001</td><td>8.355285069       </td><td>7.401423162         </td><td>25.0848127             </td><td>2.052908341           </td><td>12.8936841        </td><td>9.479092564       </td><td>1.806570293          </td><td>4.338453269       </td><td>1.3390784770000002       </td><td>1.234234528        </td><td>1.1925432070000002</td><td>1.186621297          </td><td>12.6529557           </td><td>13.459593270000001</td><td>9.89075781       </td><td>4.55538513         </td><td>0.066502712        </td><td>3.33              </td><td>3.7              </td><td>0.0               </td><td>0.0               </td><td>0.0               </td><td>0.0               </td><td>2.0               </td><td>1000.0                      </td><td>1750.0                      </td><td>1375.0              </td><td>0.0                      </td><td>0.0                       </td><td>1.0                        </td><td>0.0                        </td><td>1.0                        </td><td>0.0                        </td><td>0.0                        </td><td>0.0                   </td><td>0.0               </td><td>0.0                 </td><td>0.0                </td><td>0.0               </td><td>0.0               </td><td>36.660000000000004</td><td>2.92              </td><td>0.0                </td><td>0.0               </td><td>0.0              </td><td>0.0               </td><td>2.0               </td><td>1000.0                       </td><td>1750.0                       </td><td>1375.0               </td><td>0.0                       </td><td>0.0                        </td><td>1.0                         </td><td>0.0                         </td><td>1.0                         </td><td>0.0                         </td><td>0.0                         </td><td>0.0                    </td><td>0.0                </td><td>0.0                 </td><td>0.0                 </td><td>0.0               </td><td>0.0                </td><td>43.85             </td><td>1.55              </td><td>0.0                </td><td>0.0               </td><td>0.0               </td><td>0.0               </td><td>3.0               </td><td>833.33                       </td><td>1500.0                       </td><td>1166.67              </td><td>0.0                       </td><td>0.0                        </td><td>2.0                         </td><td>0.0                         </td><td>1.0                         </td><td>0.0                         </td><td>0.0                         </td><td>1.0                    </td><td>1.0                </td><td>0.0                </td><td>0.0                 </td><td>0.0               </td><td>0.0                </td><td>38.61             </td><td>3.12              </td><td>0.0                </td><td>0.0              </td><td>2.0              </td><td>22000.0           </td><td>7.0               </td><td>757.14                       </td><td>1285.71                      </td><td>1021.4300000000001   </td><td>0.0                       </td><td>1.0                        </td><td>3.0                         </td><td>2.0                         </td><td>1.0                         </td><td>0.0                         </td><td>0.0                         </td><td>1.0                    </td><td>2.0                </td><td>0.0                </td><td>0.0                 </td><td>3.0               </td><td>0.0                </td><td>41.64             </td><td>2.11              </td><td>0.0                </td><td>0.0              </td><td>2.0               </td><td>22000.0           </td><td>9.0               </td><td>700.0                        </td><td>1222.22                      </td><td>961.11               </td><td>0.0                       </td><td>1.0                        </td><td>5.0                         </td><td>2.0                         </td><td>1.0                         </td><td>0.0                         </td><td>0.0                         </td><td>1.0                    </td><td>4.0                </td><td>0.0                </td><td>0.0                 </td><td>6.0               </td><td>0.0                </td><td>35.62             </td><td>6.96              </td><td>1.0                </td><td>117300.0          </td><td>4.0               </td><td>201300.0          </td><td>20.0             </td><td>747.37                       </td><td>1263.16                      </td><td>1005.26              </td><td>1.0                       </td><td>4.0                        </td><td>8.0                         </td><td>5.0                         </td><td>1.0                         </td><td>1.0                         </td><td>0.0                         </td><td>2.0                    </td><td>12.0               </td><td>0.0                </td><td>1.0                 </td><td>11.0              </td><td>1.0                </td><td>6466254.641204755     </td><td>6215745.687317784 </td><td>6924696.802578567               </td><td>7083619.164902663                  </td><td>7231713.127579471           </td><td>7134629.8326429175           </td><td>6682753.892193877        </td><td>7069163.030850519                </td><td>7242389.0831856495        </td><td>7100172.404620374              </td><td>7063324.7332920125                </td><td>7176112.387182768    </td><td>7075624.33772314         </td><td>7144896.322942727       </td><td>5241629.717215257 </td></tr>\n",
       "<tr><td>5      </td><td>48.43             </td><td>nan               </td><td>21.0              </td><td>1.0               </td><td>1.0               </td><td>2015.0            </td><td>1.0               </td><td>1.0               </td><td>1.0               </td><td>9629358.472000001 </td><td>89467.0          </td><td>0.343753988          </td><td>0.23861713          </td><td>3903.0              </td><td>1522.0            </td><td>5.0                                </td><td>3889.0           </td><td>4904.0           </td><td>5.0                             </td><td>0.0                                    </td><td>705.0                </td><td>3.0                       </td><td>0.0                      </td><td>18.0                 </td><td>1.0                         </td><td>0.0                           </td><td>6.0                     </td><td>6.0               </td><td>112804.0          </td><td>51631.0           </td><td>61173.0           </td><td>8294.0            </td><td>4236.0           </td><td>4058.0            </td><td>65115.0          </td><td>38782.0           </td><td>26333.0           </td><td>16058.0           </td><td>4692.0            </td><td>11366.0           </td><td>3903.0            </td><td>1989.0            </td><td>1914.0            </td><td>3889.0           </td><td>1971.0            </td><td>1918.0            </td><td>9249.0            </td><td>4691.0            </td><td>4558.0            </td><td>23768.0           </td><td>11420.0           </td><td>12348.0           </td><td>7332.0            </td><td>3715.0            </td><td>3617.0           </td><td>295.0                                 </td><td>26.0               </td><td>16.0              </td><td>7.0                </td><td>170.0              </td><td>7.0                   </td><td>61.0               </td><td>0.0                </td><td>7.0               </td><td>1.0               </td><td>295.0                                  </td><td>1.0                      </td><td>10.0                   </td><td>179.0                  </td><td>67.0                   </td><td>38.0                    </td><td>67.0              </td><td>3.380114085         </td><td>2.1171119010000004  </td><td>25.00422581       </td><td>2.083685484         </td><td>0.726512217           </td><td>1.0712249660000002 </td><td>1.7178439230000002</td><td>0.39525368200000005 </td><td>0.0                </td><td>14.69541            </td><td>2.479746          </td><td>12.494230000000002</td><td>2.869832755               </td><td>34.437993060000004         </td><td>14.0                      </td><td>2.9532948290000003        </td><td>5.843855577                </td><td>14.0                      </td><td>0.264910498                  </td><td>3.1789259760000004                 </td><td>0.420685623        </td><td>8.70575784        </td><td>1.412825041         </td><td>4.62521798        </td><td>5.574358192       </td><td>6.514713376       </td><td>1.4128250450000002</td><td>4.0               </td><td>1.5998960500000001</td><td>32.0              </td><td>0.042635682        </td><td>7.586885058000001   </td><td>50.0                  </td><td>9.660968575           </td><td>5.0               </td><td>15.726400250000001</td><td>5.0632891220000005  </td><td>0.7408695390000001</td><td>0.480152505                 </td><td>3.0717260860000004      </td><td>1.3777863750000001</td><td>18.65404817       </td><td>5.42908642          </td><td>0.6348203210000001</td><td>1.3740118090000002</td><td>3.728173593         </td><td>1.4154869680000002</td><td>2.307619325       </td><td>2.0521169290000003  </td><td>4.1131508              </td><td>0.9810081570000001    </td><td>1.22375326        </td><td>2.2716883180000003</td><td>0.146428588          </td><td>0.146428588       </td><td>0.8589226870000001       </td><td>1.0712249660000002 </td><td>0.635581547       </td><td>0.47758615600000004  </td><td>3.3798790110000003   </td><td>2.7957909410000004</td><td>2.003605953      </td><td>3.8784932370000003 </td><td>0.38088443600000005</td><td>3.47              </td><td>56.84            </td><td>1.0               </td><td>4000.0            </td><td>1.0               </td><td>4000.0            </td><td>2.0               </td><td>400.0                       </td><td>750.0                       </td><td>575.0               </td><td>0.0                      </td><td>1.0                       </td><td>1.0                        </td><td>0.0                        </td><td>0.0                        </td><td>0.0                        </td><td>0.0                        </td><td>0.0                   </td><td>1.0               </td><td>0.0                 </td><td>0.0                </td><td>0.0               </td><td>0.0               </td><td>9.99              </td><td>40.87             </td><td>1.0                </td><td>4000.0            </td><td>1.0              </td><td>4000.0            </td><td>3.0               </td><td>766.6700000000001            </td><td>1333.33                      </td><td>1050.0               </td><td>0.0                       </td><td>1.0                        </td><td>1.0                         </td><td>0.0                         </td><td>1.0                         </td><td>0.0                         </td><td>0.0                         </td><td>1.0                    </td><td>1.0                </td><td>0.0                 </td><td>0.0                 </td><td>5.0               </td><td>0.0                </td><td>11.05             </td><td>43.52             </td><td>5.0                </td><td>29700.0           </td><td>5.0               </td><td>182141.0          </td><td>13.0              </td><td>575.0                        </td><td>1041.67                      </td><td>808.33               </td><td>1.0                       </td><td>3.0                        </td><td>7.0                         </td><td>1.0                         </td><td>1.0                         </td><td>0.0                         </td><td>0.0                         </td><td>1.0                    </td><td>1.0                </td><td>0.0                </td><td>0.0                 </td><td>7.0               </td><td>0.0                </td><td>11.89             </td><td>37.77             </td><td>28.0               </td><td>1996056.0        </td><td>10.0             </td><td>643741.0          </td><td>45.0              </td><td>895.24                       </td><td>1488.1000000000001           </td><td>1191.67              </td><td>3.0                       </td><td>7.0                        </td><td>15.0                        </td><td>11.0                        </td><td>7.0                         </td><td>1.0                         </td><td>1.0                         </td><td>1.0                    </td><td>2.0                </td><td>0.0                </td><td>1.0                 </td><td>16.0              </td><td>0.0                </td><td>13.66             </td><td>22.41             </td><td>52.0               </td><td>3207952.0        </td><td>16.0              </td><td>1101867.0         </td><td>157.0             </td><td>931.94                       </td><td>1548.6100000000001           </td><td>1240.28              </td><td>13.0                      </td><td>34.0                       </td><td>39.0                        </td><td>29.0                        </td><td>31.0                        </td><td>10.0                        </td><td>1.0                         </td><td>3.0                    </td><td>9.0                </td><td>0.0                </td><td>4.0                 </td><td>36.0              </td><td>2.0                </td><td>15.64             </td><td>11.84             </td><td>169.0              </td><td>4967675.0         </td><td>40.0              </td><td>2276854.0         </td><td>606.0            </td><td>1039.68                      </td><td>1699.29                      </td><td>1369.48              </td><td>44.0                      </td><td>116.0                      </td><td>135.0                       </td><td>143.0                       </td><td>99.0                        </td><td>57.0                        </td><td>12.0                        </td><td>23.0                   </td><td>42.0               </td><td>1.0                </td><td>13.0                </td><td>123.0             </td><td>7.0                </td><td>6466254.641204755     </td><td>8461923.459566329 </td><td>6924696.802578567               </td><td>7083619.164902663                  </td><td>7231713.127579471           </td><td>7134629.8326429175           </td><td>7916845.889154633        </td><td>7069163.030850519                </td><td>7242389.0831856495        </td><td>7100172.404620374              </td><td>7063324.7332920125                </td><td>7176112.387182768    </td><td>7075624.33772314         </td><td>6398952.416573348       </td><td>8599506.009769335 </td></tr>\n",
       "<tr><td>6      </td><td>38.800000000000004</td><td>nan               </td><td>15.0              </td><td>17.0              </td><td>1.0               </td><td>nan               </td><td>1.0               </td><td>1.0               </td><td>1.0               </td><td>11324091.93       </td><td>113897.0         </td><td>0.083809588          </td><td>0.37114899900000003 </td><td>8340.0              </td><td>3953.0            </td><td>5.0                                </td><td>7065.0           </td><td>9700.0           </td><td>5.0                             </td><td>0.0                                    </td><td>750.0                </td><td>2.0                       </td><td>0.0                      </td><td>4.0                  </td><td>3.0                         </td><td>0.0                           </td><td>5.0                     </td><td>1.0               </td><td>125111.0          </td><td>58773.0           </td><td>66338.0           </td><td>16287.0           </td><td>8039.0           </td><td>8248.0            </td><td>75334.0          </td><td>38138.0           </td><td>37196.0           </td><td>22276.0           </td><td>6180.0            </td><td>16096.0           </td><td>8340.0            </td><td>4048.0            </td><td>4292.0            </td><td>7065.0           </td><td>3531.0            </td><td>3534.0            </td><td>17908.0           </td><td>8858.0            </td><td>9050.0            </td><td>31549.0           </td><td>16302.0           </td><td>15247.0           </td><td>14555.0           </td><td>7157.0            </td><td>7398.0           </td><td>801.0                                 </td><td>43.0               </td><td>352.0             </td><td>79.0               </td><td>126.0              </td><td>16.0                  </td><td>157.0              </td><td>0.0                </td><td>23.0              </td><td>5.0               </td><td>800.0                                  </td><td>23.0                     </td><td>181.0                  </td><td>278.0                  </td><td>131.0                  </td><td>187.0                   </td><td>72.0              </td><td>3.3431570980000003  </td><td>2.037572376         </td><td>24.45086851       </td><td>2.037572376         </td><td>0.23008703800000002   </td><td>0.04459936         </td><td>0.625673389       </td><td>0.360319379         </td><td>0.631064057        </td><td>16.103650000000002  </td><td>2.151334          </td><td>15.569460000000001</td><td>2.29359307                </td><td>27.52311684                </td><td>34.0                      </td><td>2.29359307                </td><td>3.6631829660000004         </td><td>34.0                      </td><td>0.25728789                   </td><td>3.087454675                        </td><td>0.589156933        </td><td>2.1173846060000003</td><td>12.21383392         </td><td>14.929607110000001</td><td>16.10136105       </td><td>16.95715522       </td><td>1.794569802       </td><td>22.0              </td><td>2.117384601       </td><td>1.0               </td><td>0.8744451190000001 </td><td>20.07121948         </td><td>50.0                  </td><td>12.32776506           </td><td>8.0               </td><td>25.062515270000002</td><td>12.40586978         </td><td>4.687054293       </td><td>1.538219323                 </td><td>5.465041738             </td><td>0.949479998       </td><td>10.50713143       </td><td>1.3201208880000002  </td><td>0.5640692070000001</td><td>2.12828913        </td><td>5.574741661         </td><td>9.07362127        </td><td>3.945655003       </td><td>2.435398912         </td><td>20.22927931            </td><td>1.2427409230000002    </td><td>6.335964805000001 </td><td>6.167763708000001 </td><td>0.638040846          </td><td>1.052999269       </td><td>0.509984541              </td><td>0.04459936         </td><td>3.4077204030000003</td><td>2.002972701          </td><td>7.838955416          </td><td>8.634607397       </td><td>4.896656131      </td><td>0.45070324700000003</td><td>0.60116514         </td><td>8.93              </td><td>0.0              </td><td>0.0               </td><td>0.0               </td><td>0.0               </td><td>0.0               </td><td>0.0               </td><td>nan                         </td><td>nan                         </td><td>nan                 </td><td>0.0                      </td><td>0.0                       </td><td>0.0                        </td><td>0.0                        </td><td>0.0                        </td><td>0.0                        </td><td>0.0                        </td><td>0.0                   </td><td>0.0               </td><td>0.0                 </td><td>1.0                </td><td>0.0               </td><td>0.0               </td><td>15.52             </td><td>4.14              </td><td>0.0                </td><td>0.0               </td><td>4.0              </td><td>53350.0           </td><td>6.0               </td><td>660.0                        </td><td>1100.0                       </td><td>880.0                </td><td>1.0                       </td><td>1.0                        </td><td>2.0                         </td><td>2.0                         </td><td>0.0                         </td><td>0.0                         </td><td>0.0                         </td><td>0.0                    </td><td>0.0                </td><td>0.0                 </td><td>1.0                 </td><td>3.0               </td><td>1.0                </td><td>18.43             </td><td>18.12             </td><td>1.0                </td><td>60000.0           </td><td>5.0               </td><td>115350.0          </td><td>7.0               </td><td>660.0                        </td><td>1100.0                       </td><td>880.0                </td><td>2.0                       </td><td>1.0                        </td><td>2.0                         </td><td>2.0                         </td><td>0.0                         </td><td>0.0                         </td><td>0.0                         </td><td>0.0                    </td><td>0.0                </td><td>0.0                </td><td>1.0                 </td><td>3.0               </td><td>2.0                </td><td>21.72             </td><td>26.77             </td><td>2.0                </td><td>79000.0          </td><td>5.0              </td><td>115350.0          </td><td>7.0               </td><td>660.0                        </td><td>1100.0                       </td><td>880.0                </td><td>2.0                       </td><td>1.0                        </td><td>2.0                         </td><td>2.0                         </td><td>0.0                         </td><td>0.0                         </td><td>0.0                         </td><td>0.0                    </td><td>0.0                </td><td>0.0                </td><td>1.0                 </td><td>4.0               </td><td>2.0                </td><td>25.46             </td><td>17.39             </td><td>3.0                </td><td>183000.0         </td><td>7.0               </td><td>294350.0          </td><td>12.0              </td><td>566.67                       </td><td>1000.0                       </td><td>783.33               </td><td>3.0                       </td><td>2.0                        </td><td>5.0                         </td><td>2.0                         </td><td>0.0                         </td><td>0.0                         </td><td>0.0                         </td><td>0.0                    </td><td>3.0                </td><td>0.0                </td><td>1.0                 </td><td>5.0               </td><td>2.0                </td><td>26.11             </td><td>12.31             </td><td>11.0               </td><td>389504.0          </td><td>15.0              </td><td>473050.0          </td><td>52.0             </td><td>821.74                       </td><td>1369.57                      </td><td>1095.65              </td><td>6.0                       </td><td>11.0                       </td><td>14.0                        </td><td>12.0                        </td><td>7.0                         </td><td>2.0                         </td><td>0.0                         </td><td>5.0                    </td><td>14.0               </td><td>0.0                </td><td>3.0                 </td><td>17.0              </td><td>2.0                </td><td>6466254.641204755     </td><td>5585877.5700712595</td><td>6924696.802578567               </td><td>7083619.164902663                  </td><td>7231713.127579471           </td><td>7134629.8326429175           </td><td>6682753.892193877        </td><td>7069163.030850519                </td><td>7242389.0831856495        </td><td>7100172.404620374              </td><td>7063324.7332920125                </td><td>7176112.387182768    </td><td>7075624.33772314         </td><td>7144896.322942727       </td><td>7082094.536660163 </td></tr>\n",
       "<tr><td>7      </td><td>43.1              </td><td>nan               </td><td>5.0               </td><td>0.0               </td><td>1.0               </td><td>nan               </td><td>1.0               </td><td>0.0               </td><td>nan               </td><td>66772450.690000005</td><td>9553.0           </td><td>0.336176896          </td><td>0.072157581         </td><td>656.0               </td><td>nan               </td><td>0.0                                </td><td>629.0            </td><td>nan              </td><td>0.0                             </td><td>0.0                                    </td><td>nan                  </td><td>0.0                       </td><td>0.0                      </td><td>1.0                  </td><td>0.0                         </td><td>0.0                           </td><td>0.0                     </td><td>1.0               </td><td>13890.0           </td><td>6584.0            </td><td>7307.0            </td><td>1370.0            </td><td>709.0            </td><td>661.0             </td><td>6127.0           </td><td>3237.0            </td><td>2890.0            </td><td>2056.0            </td><td>583.0             </td><td>1473.0            </td><td>656.0             </td><td>340.0             </td><td>316.0             </td><td>629.0            </td><td>325.0             </td><td>305.0             </td><td>1542.0            </td><td>801.0             </td><td>742.0             </td><td>3134.0            </td><td>1753.0            </td><td>1381.0            </td><td>1207.0            </td><td>623.0             </td><td>584.0            </td><td>nan                                   </td><td>nan                </td><td>nan               </td><td>nan                </td><td>nan                </td><td>nan                   </td><td>nan                </td><td>nan                </td><td>nan               </td><td>nan               </td><td>nan                                    </td><td>nan                      </td><td>nan                    </td><td>nan                    </td><td>nan                    </td><td>nan                     </td><td>132.0             </td><td>6.1906479590000005  </td><td>5.145202233         </td><td>61.7424268        </td><td>5.145202233         </td><td>2.982878646           </td><td>3.117219065        </td><td>3.224568891       </td><td>0.111993116         </td><td>0.084082737        </td><td>7.064775999999999   </td><td>1.849308          </td><td>10.100750000000001</td><td>12.16996213               </td><td>146.0395456                </td><td>47.0                      </td><td>12.39466805               </td><td>11.00611918                </td><td>105.0                     </td><td>0.636130804                  </td><td>7.633569647000001                  </td><td>0.912455153        </td><td>2.633403854       </td><td>15.50489976         </td><td>18.46506813       </td><td>19.603297299999998</td><td>20.34154585       </td><td>0.312211693       </td><td>38.0              </td><td>2.6334038730000002</td><td>1.0               </td><td>5.608658343        </td><td>21.31080563         </td><td>32.0                  </td><td>6.281673642           </td><td>8.0               </td><td>22.22796402       </td><td>14.48536806         </td><td>4.087701653       </td><td>0.855418651                 </td><td>9.90791209              </td><td>3.921756724       </td><td>3.0258932410000003</td><td>5.156166987000001   </td><td>1.411454942       </td><td>6.965529497       </td><td>7.502532609         </td><td>10.86225703       </td><td>6.654691217000001 </td><td>4.835070709         </td><td>28.23085351            </td><td>6.378398441000001     </td><td>7.684700934       </td><td>4.808383116       </td><td>3.198820506          </td><td>2.4161067800000002</td><td>3.094514455              </td><td>3.117219065        </td><td>4.075378059       </td><td>1.318147368          </td><td>5.3397911360000005   </td><td>10.42324316       </td><td>10.59106818      </td><td>7.586633948        </td><td>1.884571049        </td><td>30.35             </td><td>14.0             </td><td>0.0               </td><td>0.0               </td><td>0.0               </td><td>0.0               </td><td>0.0               </td><td>nan                         </td><td>nan                         </td><td>nan                 </td><td>0.0                      </td><td>0.0                       </td><td>0.0                        </td><td>0.0                        </td><td>0.0                        </td><td>0.0                        </td><td>0.0                        </td><td>0.0                   </td><td>0.0               </td><td>0.0                 </td><td>0.0                </td><td>0.0               </td><td>0.0               </td><td>29.57             </td><td>5.3500000000000005</td><td>0.0                </td><td>0.0               </td><td>0.0              </td><td>0.0               </td><td>0.0               </td><td>nan                          </td><td>nan                          </td><td>nan                  </td><td>0.0                       </td><td>0.0                        </td><td>0.0                         </td><td>0.0                         </td><td>0.0                         </td><td>0.0                         </td><td>0.0                         </td><td>0.0                    </td><td>0.0                </td><td>0.0                 </td><td>0.0                 </td><td>0.0               </td><td>0.0                </td><td>35.21             </td><td>4.93              </td><td>0.0                </td><td>0.0               </td><td>0.0               </td><td>0.0               </td><td>0.0               </td><td>nan                          </td><td>nan                          </td><td>nan                  </td><td>0.0                       </td><td>0.0                        </td><td>0.0                         </td><td>0.0                         </td><td>0.0                         </td><td>0.0                         </td><td>0.0                         </td><td>0.0                    </td><td>2.0                </td><td>0.0                </td><td>0.0                 </td><td>1.0               </td><td>0.0                </td><td>37.22             </td><td>5.95              </td><td>0.0                </td><td>0.0              </td><td>0.0              </td><td>0.0               </td><td>1.0               </td><td>500.0                        </td><td>1000.0                       </td><td>750.0                </td><td>0.0                       </td><td>0.0                        </td><td>1.0                         </td><td>0.0                         </td><td>0.0                         </td><td>0.0                         </td><td>0.0                         </td><td>0.0                    </td><td>2.0                </td><td>0.0                </td><td>0.0                 </td><td>1.0               </td><td>0.0                </td><td>28.76             </td><td>11.07             </td><td>1.0                </td><td>85159.0          </td><td>0.0               </td><td>0.0               </td><td>4.0               </td><td>1375.0                       </td><td>2250.0                       </td><td>1812.5               </td><td>0.0                       </td><td>0.0                        </td><td>1.0                         </td><td>1.0                         </td><td>1.0                         </td><td>1.0                         </td><td>0.0                         </td><td>0.0                    </td><td>4.0                </td><td>0.0                </td><td>0.0                 </td><td>1.0               </td><td>0.0                </td><td>32.660000000000004</td><td>11.35             </td><td>3.0                </td><td>108859.0          </td><td>4.0               </td><td>335876.0          </td><td>26.0             </td><td>760.0                        </td><td>1260.0                       </td><td>1010.0               </td><td>1.0                       </td><td>10.0                       </td><td>6.0                         </td><td>5.0                         </td><td>2.0                         </td><td>2.0                         </td><td>0.0                         </td><td>3.0                    </td><td>12.0               </td><td>0.0                </td><td>0.0                 </td><td>6.0               </td><td>3.0                </td><td>6466254.641204755     </td><td>5303809.60078829  </td><td>6924696.802578567               </td><td>7083619.164902663                  </td><td>7231713.127579471           </td><td>7134629.8326429175           </td><td>6682753.892193877        </td><td>7069163.030850519                </td><td>5953647.125088589         </td><td>7100172.404620374              </td><td>7063324.7332920125                </td><td>7176112.387182768    </td><td>7075624.33772314         </td><td>7144896.322942727       </td><td>5241629.717215257 </td></tr>\n",
       "<tr><td>8      </td><td>45.4              </td><td>28.5              </td><td>9.0               </td><td>12.0              </td><td>5.0               </td><td>1972.0            </td><td>2.0               </td><td>6.0               </td><td>2.0               </td><td>15319902.35       </td><td>21040.0          </td><td>0.051548926          </td><td>0.036270089000000005</td><td>1491.0              </td><td>1105.0            </td><td>1.0                                </td><td>1318.0           </td><td>2231.0           </td><td>1.0                             </td><td>0.0                                    </td><td>200.0                </td><td>1.0                       </td><td>0.0                      </td><td>0.0                  </td><td>0.0                         </td><td>0.0                           </td><td>1.0                     </td><td>1.0               </td><td>1285626.0         </td><td>611775.0          </td><td>673851.0          </td><td>2981.0            </td><td>1549.0           </td><td>1432.0            </td><td>13457.0          </td><td>6933.0            </td><td>6524.0            </td><td>4602.0            </td><td>1234.0            </td><td>3368.0            </td><td>1491.0            </td><td>778.0             </td><td>713.0             </td><td>1318.0           </td><td>685.0             </td><td>633.0             </td><td>3307.0            </td><td>1699.0            </td><td>1608.0            </td><td>281232.0          </td><td>142554.0          </td><td>138678.0          </td><td>2645.0            </td><td>1379.0            </td><td>1266.0           </td><td>1233.0                                </td><td>25.0               </td><td>774.0             </td><td>97.0               </td><td>254.0              </td><td>18.0                  </td><td>18.0               </td><td>0.0                </td><td>41.0              </td><td>6.0               </td><td>1233.0                                 </td><td>1.0                      </td><td>173.0                  </td><td>845.0                  </td><td>101.0                  </td><td>113.0                   </td><td>21.0              </td><td>6.342394252         </td><td>5.232565421         </td><td>62.790785050000004</td><td>5.232565421         </td><td>1.2846975120000002    </td><td>0.8441755830000001 </td><td>7.115853684       </td><td>0.039066737000000004</td><td>1.5745516          </td><td>16.64789            </td><td>1.604601          </td><td>20.497390000000003</td><td>2.322952189               </td><td>27.875426270000002         </td><td>103.0                     </td><td>3.920575179               </td><td>5.283553723000001          </td><td>19.0                      </td><td>0.284019393                  </td><td>3.408232712                        </td><td>0.255965909        </td><td>9.566539461000001 </td><td>19.70019305         </td><td>22.41780526       </td><td>23.58910384       </td><td>24.44837118       </td><td>1.5856726540000001</td><td>13.0              </td><td>4.89916633        </td><td>27.0              </td><td>1.4230139720000001 </td><td>29.31691013         </td><td>50.0                  </td><td>19.25933504           </td><td>8.0               </td><td>31.77542078       </td><td>19.77540727         </td><td>11.07948163       </td><td>7.36607158                  </td><td>12.71807119             </td><td>6.328821575       </td><td>17.43870141       </td><td>10.05124243         </td><td>4.013971537000001 </td><td>6.032022706       </td><td>6.226182294         </td><td>15.79128097       </td><td>10.98210094       </td><td>6.563021928         </td><td>28.70226134            </td><td>5.563240454000001     </td><td>14.78635793       </td><td>12.067426750000001</td><td>1.381762879          </td><td>3.472709957       </td><td>2.9203717470000004       </td><td>0.8441755830000001 </td><td>3.73651269        </td><td>1.399668033          </td><td>14.86219717          </td><td>15.352267099999999</td><td>12.38731665      </td><td>7.050133823        </td><td>0.9101565450000001 </td><td>25.29             </td><td>0.0              </td><td>0.0               </td><td>0.0               </td><td>0.0               </td><td>0.0               </td><td>0.0               </td><td>nan                         </td><td>nan                         </td><td>nan                 </td><td>0.0                      </td><td>0.0                       </td><td>0.0                        </td><td>0.0                        </td><td>0.0                        </td><td>0.0                        </td><td>0.0                        </td><td>0.0                   </td><td>0.0               </td><td>0.0                 </td><td>0.0                </td><td>0.0               </td><td>0.0               </td><td>20.400000000000002</td><td>0.0               </td><td>0.0                </td><td>0.0               </td><td>0.0              </td><td>0.0               </td><td>1.0               </td><td>1000.0                       </td><td>1500.0                       </td><td>1250.0               </td><td>0.0                       </td><td>0.0                        </td><td>0.0                         </td><td>1.0                         </td><td>0.0                         </td><td>0.0                         </td><td>0.0                         </td><td>0.0                    </td><td>0.0                </td><td>0.0                 </td><td>0.0                 </td><td>0.0               </td><td>0.0                </td><td>27.8              </td><td>0.0               </td><td>0.0                </td><td>0.0               </td><td>1.0               </td><td>17000.0           </td><td>2.0               </td><td>650.0                        </td><td>1000.0                       </td><td>825.0                </td><td>0.0                       </td><td>1.0                        </td><td>0.0                         </td><td>1.0                         </td><td>0.0                         </td><td>0.0                         </td><td>0.0                         </td><td>0.0                    </td><td>1.0                </td><td>0.0                </td><td>0.0                 </td><td>0.0               </td><td>0.0                </td><td>32.31             </td><td>0.14              </td><td>0.0                </td><td>0.0              </td><td>1.0              </td><td>17000.0           </td><td>2.0               </td><td>650.0                        </td><td>1000.0                       </td><td>825.0                </td><td>0.0                       </td><td>1.0                        </td><td>0.0                         </td><td>1.0                         </td><td>0.0                         </td><td>0.0                         </td><td>0.0                         </td><td>0.0                    </td><td>1.0                </td><td>0.0                </td><td>0.0                 </td><td>0.0               </td><td>0.0                </td><td>38.36             </td><td>1.57              </td><td>0.0                </td><td>0.0              </td><td>1.0               </td><td>17000.0           </td><td>5.0               </td><td>760.0                        </td><td>1300.0                       </td><td>1030.0               </td><td>0.0                       </td><td>1.0                        </td><td>2.0                         </td><td>1.0                         </td><td>1.0                         </td><td>0.0                         </td><td>0.0                         </td><td>0.0                    </td><td>2.0                </td><td>0.0                </td><td>0.0                 </td><td>0.0               </td><td>0.0                </td><td>44.28             </td><td>3.75              </td><td>1.0                </td><td>117300.0          </td><td>3.0               </td><td>139300.0          </td><td>13.0             </td><td>675.0                        </td><td>1166.67                      </td><td>920.83               </td><td>1.0                       </td><td>2.0                        </td><td>6.0                         </td><td>3.0                         </td><td>1.0                         </td><td>0.0                         </td><td>0.0                         </td><td>1.0                    </td><td>7.0                </td><td>0.0                </td><td>0.0                 </td><td>7.0               </td><td>0.0                </td><td>7495294.273858494     </td><td>5338932.564388196 </td><td>6924696.802578567               </td><td>7083619.164902663                  </td><td>7231713.127579471           </td><td>7134629.8326429175           </td><td>6682753.892193877        </td><td>7069163.030850519                </td><td>7242389.0831856495        </td><td>7100172.404620374              </td><td>7063324.7332920125                </td><td>7176112.387182768    </td><td>7075624.33772314         </td><td>7144896.322942727       </td><td>5241629.717215257 </td></tr>\n",
       "<tr><td>9      </td><td>43.300000000000004</td><td>43.300000000000004</td><td>7.0               </td><td>22.0              </td><td>1.0               </td><td>0.0               </td><td>1.0               </td><td>1.0               </td><td>1.0               </td><td>25536296.810000002</td><td>4001.0           </td><td>0.49631528300000005  </td><td>0.007122317         </td><td>275.0               </td><td>nan               </td><td>0.0                                </td><td>264.0            </td><td>nan              </td><td>0.0                             </td><td>0.0                                    </td><td>nan                  </td><td>0.0                       </td><td>0.0                      </td><td>0.0                  </td><td>0.0                         </td><td>0.0                           </td><td>1.0                     </td><td>0.0               </td><td>17790.0           </td><td>8350.0            </td><td>9443.0            </td><td>574.0             </td><td>297.0            </td><td>277.0             </td><td>2566.0           </td><td>1356.0            </td><td>1211.0            </td><td>861.0             </td><td>244.0             </td><td>617.0             </td><td>275.0             </td><td>143.0             </td><td>133.0             </td><td>264.0            </td><td>136.0             </td><td>128.0             </td><td>646.0             </td><td>336.0             </td><td>311.0             </td><td>3796.0            </td><td>2035.0            </td><td>1762.0            </td><td>506.0             </td><td>261.0             </td><td>245.0            </td><td>nan                                   </td><td>nan                </td><td>nan               </td><td>nan                </td><td>nan                </td><td>nan                   </td><td>nan                </td><td>nan                </td><td>nan               </td><td>nan               </td><td>nan                                    </td><td>nan                      </td><td>nan                    </td><td>nan                    </td><td>nan                    </td><td>nan                     </td><td>21.0              </td><td>10.31640014         </td><td>9.19759681          </td><td>51.043790460000004</td><td>4.253649205         </td><td>2.4627042620000004    </td><td>2.1610943220000003 </td><td>6.883656223       </td><td>0.0                 </td><td>1.637731129        </td><td>18.94649            </td><td>0.586676          </td><td>21.851580000000002</td><td>2.479131772               </td><td>29.74958126                </td><td>118.0                     </td><td>2.479131772               </td><td>2.924011462                </td><td>118.0                     </td><td>0.97112606                   </td><td>11.65351272                        </td><td>1.0946886740000001 </td><td>9.460119171       </td><td>19.239835760000002  </td><td>21.95941489       </td><td>23.11817841       </td><td>23.99671721       </td><td>2.343856575       </td><td>27.0              </td><td>4.16146673        </td><td>13.0              </td><td>1.587344384        </td><td>26.00851827         </td><td>50.0                  </td><td>24.12262636           </td><td>8.0               </td><td>32.39519748       </td><td>19.78651472         </td><td>11.69117254       </td><td>8.214739693                 </td><td>12.03065397             </td><td>5.956635692000001 </td><td>22.301992730000002</td><td>10.36382482         </td><td>3.6693986580000004</td><td>9.997054095000001 </td><td>8.042623089000001   </td><td>20.65457229       </td><td>10.23590185       </td><td>6.0495945220000005  </td><td>27.24052968            </td><td>9.462055931           </td><td>19.64964925       </td><td>10.72170789       </td><td>1.3957760750000001   </td><td>5.87515798        </td><td>3.3685569350000004       </td><td>2.1610943220000003 </td><td>3.061736438       </td><td>1.222031188          </td><td>15.20862619          </td><td>20.21555842       </td><td>12.17400864      </td><td>6.968701267        </td><td>2.652313984        </td><td>91.53             </td><td>0.0              </td><td>0.0               </td><td>0.0               </td><td>0.0               </td><td>0.0               </td><td>0.0               </td><td>nan                         </td><td>nan                         </td><td>nan                 </td><td>0.0                      </td><td>0.0                       </td><td>0.0                        </td><td>0.0                        </td><td>0.0                        </td><td>0.0                        </td><td>0.0                        </td><td>0.0                   </td><td>0.0               </td><td>0.0                 </td><td>0.0                </td><td>0.0               </td><td>0.0               </td><td>79.14             </td><td>0.0               </td><td>0.0                </td><td>0.0               </td><td>0.0              </td><td>0.0               </td><td>0.0               </td><td>nan                          </td><td>nan                          </td><td>nan                  </td><td>0.0                       </td><td>0.0                        </td><td>0.0                         </td><td>0.0                         </td><td>0.0                         </td><td>0.0                         </td><td>0.0                         </td><td>0.0                    </td><td>0.0                </td><td>0.0                 </td><td>0.0                 </td><td>0.0               </td><td>0.0                </td><td>63.17             </td><td>0.0               </td><td>0.0                </td><td>0.0               </td><td>1.0               </td><td>17000.0           </td><td>0.0               </td><td>nan                          </td><td>nan                          </td><td>nan                  </td><td>0.0                       </td><td>0.0                        </td><td>0.0                         </td><td>0.0                         </td><td>0.0                         </td><td>0.0                         </td><td>0.0                         </td><td>0.0                    </td><td>1.0                </td><td>0.0                </td><td>0.0                 </td><td>0.0               </td><td>0.0                </td><td>49.07             </td><td>0.2               </td><td>0.0                </td><td>0.0              </td><td>1.0              </td><td>17000.0           </td><td>0.0               </td><td>nan                          </td><td>nan                          </td><td>nan                  </td><td>0.0                       </td><td>0.0                        </td><td>0.0                         </td><td>0.0                         </td><td>0.0                         </td><td>0.0                         </td><td>0.0                         </td><td>0.0                    </td><td>2.0                </td><td>0.0                </td><td>0.0                 </td><td>0.0               </td><td>0.0                </td><td>38.92             </td><td>0.51              </td><td>0.0                </td><td>0.0              </td><td>1.0               </td><td>17000.0           </td><td>4.0               </td><td>825.0                        </td><td>1375.0                       </td><td>1100.0               </td><td>0.0                       </td><td>1.0                        </td><td>1.0                         </td><td>1.0                         </td><td>1.0                         </td><td>0.0                         </td><td>0.0                         </td><td>0.0                    </td><td>3.0                </td><td>0.0                </td><td>0.0                 </td><td>0.0               </td><td>0.0                </td><td>30.25             </td><td>1.57              </td><td>0.0                </td><td>0.0               </td><td>2.0               </td><td>22000.0           </td><td>18.0             </td><td>838.89                       </td><td>1416.67                      </td><td>1127.78              </td><td>0.0                       </td><td>2.0                        </td><td>8.0                         </td><td>5.0                         </td><td>2.0                         </td><td>1.0                         </td><td>0.0                         </td><td>2.0                    </td><td>9.0                </td><td>0.0                </td><td>0.0                 </td><td>7.0               </td><td>0.0                </td><td>6466254.641204755     </td><td>6215745.687317784 </td><td>6924696.802578567               </td><td>7083619.164902663                  </td><td>7231713.127579471           </td><td>7134629.8326429175           </td><td>6682753.892193877        </td><td>7069163.030850519                </td><td>7242389.0831856495        </td><td>7100172.404620374              </td><td>7063324.7332920125                </td><td>7176112.387182768    </td><td>7075624.33772314         </td><td>7144896.322942727       </td><td>5241629.717215257 </td></tr>\n",
       "</tbody>\n",
       "</table>"
      ]
     },
     "metadata": {},
     "output_type": "display_data"
    }
   ],
   "source": [
    "print('Imputed and encoded numeric training data:')\n",
    "train[encoded_nums].describe() #79 numeric columns w/ no missing\n",
    "print('--------------------------------------------------------------------------------')\n",
    "print('Imputed and encoded numeric test data:')\n",
    "test[encoded_nums].describe() #79 numeric columns w/ no missing"
   ]
  },
  {
   "cell_type": "markdown",
   "metadata": {},
   "source": [
    "# Create combination features"
   ]
  },
  {
   "cell_type": "code",
   "execution_count": null,
   "metadata": {
    "collapsed": true
   },
   "outputs": [],
   "source": [
    "def feature_combiner(training_frame, test_frame, nums):\n",
    "    \n",
    "    \"\"\" Combines numeric features using simple arithmatic operations.\n",
    "    \n",
    "    :param training_frame: Training frame from which to generate features and onto which generated \n",
    "                           feeatures will be cbound.\n",
    "    :param test_frame: Test frame from which to generate features and onto which generated \n",
    "                       feeatures will be cbound.\n",
    "    :param nums: List of original numeric features from which to generate combined features.\n",
    "    \n",
    "    \"\"\"\n",
    "\n",
    "    total = len(nums)\n",
    "    \n",
    "    # convert to pandas\n",
    "    train_df = training_frame.as_data_frame()\n",
    "    test_df = test_frame.as_data_frame()\n",
    "    \n",
    "    for i, col_i in enumerate(nums):\n",
    "        \n",
    "        print('Combining: ' + col_i + ' (' + str(i+1) + '/' + str(total) + ') ...')        \n",
    "        \n",
    "        for j, col_j in enumerate(nums):\n",
    "            \n",
    "            # don't repeat (i*j = j*i)\n",
    "            if i < j:\n",
    "                \n",
    "                # convert to pandas\n",
    "                col_i_train_df = train_df[col_i]\n",
    "                col_j_train_df = train_df[col_j]\n",
    "                col_i_test_df = test_df[col_i]\n",
    "                col_j_test_df = test_df[col_j] \n",
    "\n",
    "                # multiply, convert back to h2o\n",
    "                train_df[str(col_i + '|' + col_j)] = col_i_train_df.values*col_j_train_df.values\n",
    "                test_df[str(col_i + '|' + col_j)] = col_i_test_df.values*col_j_test_df.values\n",
    "                \n",
    "    print('Done.')\n",
    "    \n",
    "    # convert back to h2o\n",
    "    \n",
    "    print('Converting to H2OFrame ...')\n",
    "    \n",
    "    training_frame = h2o.H2OFrame(train_df)\n",
    "    training_frame.columns = list(train_df)\n",
    "    test_frame = h2o.H2OFrame(test_df)\n",
    "    test_frame.columns = list(test_df)\n",
    "    \n",
    "    print('Done.')\n",
    "    \n",
    "    # conserve memory \n",
    "    del train_df\n",
    "    del test_df \n",
    "    \n",
    "    return training_frame, test_frame"
   ]
  },
  {
   "cell_type": "code",
   "execution_count": null,
   "metadata": {
    "collapsed": false
   },
   "outputs": [],
   "source": [
    "#train, test = feature_combiner(train, test, encoded_nums)"
   ]
  },
  {
   "cell_type": "markdown",
   "metadata": {},
   "source": [
    "#### Redefine numerics and explore"
   ]
  },
  {
   "cell_type": "code",
   "execution_count": null,
   "metadata": {
    "collapsed": false
   },
   "outputs": [],
   "source": [
    "encoded_combined_nums, cats = get_type_lists(frame=train)"
   ]
  },
  {
   "cell_type": "markdown",
   "metadata": {},
   "source": [
    "# Train constituent models (for inspection purposes)"
   ]
  },
  {
   "cell_type": "code",
   "execution_count": 28,
   "metadata": {
    "collapsed": true
   },
   "outputs": [],
   "source": [
    "h2o.show_progress()                                          # turn on progress bars\n",
    "from h2o.estimators.glm import H2OGeneralizedLinearEstimator # import GLM models\n",
    "from h2o.grid.grid_search import H2OGridSearch               # grid search\n",
    "from h2o.estimators.stackedensemble import H2OStackedEnsembleEstimator\n"
   ]
  },
  {
   "cell_type": "markdown",
   "metadata": {
    "collapsed": false
   },
   "source": [
    "# Check log transform - looks good\n",
    "%matplotlib inline\n",
    "train['price_doc'].log().as_data_frame().hist()\n",
    "\n",
    "# Execute log transform\n",
    "train['price_doc'] = train['price_doc'].log()\n",
    "print(train[0:3, 'price_doc'])"
   ]
  },
  {
   "cell_type": "code",
   "execution_count": 29,
   "metadata": {
    "collapsed": true
   },
   "outputs": [],
   "source": [
    "train[\"price_doc\"] = train[\"price_doc\"] * .968 + 10.\n",
    "train = train.drop([\"id\", \"timestamp\"], axis=1)\n",
    "test = test.drop([\"id\", \"timestamp\"], axis=1)"
   ]
  },
  {
   "cell_type": "markdown",
   "metadata": {},
   "source": [
    "### Spliting Training Data"
   ]
  },
  {
   "cell_type": "code",
   "execution_count": 30,
   "metadata": {
    "collapsed": false
   },
   "outputs": [
    {
     "name": "stdout",
     "output_type": "stream",
     "text": [
      "(21382, 305)\n",
      "(9089, 305)\n"
     ]
    }
   ],
   "source": [
    "train, valid = train.split_frame([0.7], seed=12345)\n",
    "print(train.shape)\n",
    "print(valid.shape)"
   ]
  },
  {
   "cell_type": "markdown",
   "metadata": {},
   "source": [
    "### Define model with grid search function"
   ]
  },
  {
   "cell_type": "code",
   "execution_count": 31,
   "metadata": {
    "collapsed": true
   },
   "outputs": [],
   "source": [
    "def glm_grid(X, y, train, valid):\n",
    "    \n",
    "    \"\"\" Wrapper function for penalized GLM with alpha and lambda search.\n",
    "    \n",
    "    :param X: List of inputs.\n",
    "    :param y: Name of target variable.\n",
    "    :param train: Name of training H2OFrame.\n",
    "    :param valid: Name of validation H2OFrame.\n",
    "    :return: Best H2Omodel from H2OGeneralizedLinearEstimator\n",
    "\n",
    "    \"\"\"\n",
    "    \n",
    "    alpha_opts = [0.01, 0.25, 0.5, 0.99] # always keep some L2\n",
    "    hyper_parameters = {\"alpha\":alpha_opts}\n",
    "\n",
    "    # initialize grid search\n",
    "    grid = H2OGridSearch(\n",
    "        H2OGeneralizedLinearEstimator(\n",
    "            family=\"gaussian\",\n",
    "            lambda_search=True,\n",
    "            seed=12345),\n",
    "        hyper_params=hyper_parameters)\n",
    "    \n",
    "    # train grid\n",
    "    grid.train(y=y,\n",
    "               x=X, \n",
    "               training_frame=train,\n",
    "               validation_frame=valid,\n",
    "               nfolds = 5,\n",
    "               fold_assignment = \"Modulo\",\n",
    "               keep_cross_validation_predictions = True)\n",
    "\n",
    "    # show grid search results\n",
    "    print(grid.show())\n",
    "\n",
    "    best = grid.get_grid()[0]\n",
    "    print(best)\n",
    "    \n",
    "    # plot top frame values\n",
    "    yhat_frame = valid.cbind(best.predict(valid))\n",
    "    print(yhat_frame[0:10, [y, 'predict']])\n",
    "\n",
    "    # plot sorted predictions\n",
    "    yhat_frame_df = yhat_frame[[y, 'predict']].as_data_frame()\n",
    "    yhat_frame_df.sort_values(by='predict', inplace=True)\n",
    "    yhat_frame_df.reset_index(inplace=True, drop=True)\n",
    "    _ = yhat_frame_df.plot(title='Ranked Predictions Plot')\n",
    "    \n",
    "    # select best model\n",
    "    return best"
   ]
  },
  {
   "cell_type": "code",
   "execution_count": 73,
   "metadata": {
    "collapsed": false
   },
   "outputs": [],
   "source": [
    "def gbm_grid (X, y, train, valid):\n",
    "    \"\"\" Wrapper function for penalized GLM with alpha and lambda search.\n",
    "    \n",
    "    :param X: List of inputs.\n",
    "    :param y: Name of target variable.\n",
    "    :param train: Name of training H2OFrame.\n",
    "    :param valid: Name of validation H2OFrame.\n",
    "    :return: Best H2Omodel from H2O Graident Boosting Model\n",
    "\n",
    "    \"\"\"\n",
    "    from h2o.estimators.gbm import H2OGradientBoostingEstimator\n",
    "    from h2o.grid import H2OGridSearch\n",
    "    # GBM with random hyperparameter search\n",
    "    # train many different GBM models with random hyperparameters\n",
    "    # and select best model based on validation error\n",
    "\n",
    "    # define random grid search parameters\n",
    "    hyper_parameters = {'ntrees':list(range(0, 500, 50)),\n",
    "                        'max_depth':list(range(0, 20, 2)),\n",
    "                        'sample_rate':[s/float(10) for s in range(1, 11)],\n",
    "                        'col_sample_rate':[s/float(10) for s in range(1, 11)]}\n",
    "\n",
    "    # define search strategy\n",
    "    search_criteria = {'strategy':'RandomDiscrete',\n",
    "                       'max_models':20,\n",
    "                       'max_runtime_secs':600}\n",
    "\n",
    "    # initialize grid search\n",
    "    gsearch = H2OGridSearch(H2OGradientBoostingEstimator,\n",
    "                            hyper_params=hyper_parameters,\n",
    "                            search_criteria=search_criteria)\n",
    "    #X = encoded_nums\n",
    "    #y = \"price_doc\"\n",
    "\n",
    "    # execute training w/ grid search\n",
    "    gsearch.train(x=X,\n",
    "                  y=y,\n",
    "                  training_frame=train,\n",
    "                  validation_frame=valid,\n",
    "                  nfolds = 5,\n",
    "                  fold_assignment = \"Modulo\",\n",
    "                  keep_cross_validation_predictions = True)\n",
    "     # show grid search results\n",
    "    print(gsearch.show())\n",
    "\n",
    "    best = gsearch.get_grid()[0]\n",
    "    print(best)\n",
    "    \n",
    "    # plot top frame values\n",
    "    yhat_frame = valid.cbind(best.predict(valid))\n",
    "    print(yhat_frame[0:10, [y, 'predict']])\n",
    "\n",
    "    # plot sorted predictions\n",
    "    yhat_frame_df = yhat_frame[[y, 'predict']].as_data_frame()\n",
    "    yhat_frame_df.sort_values(by='predict', inplace=True)\n",
    "    yhat_frame_df.reset_index(inplace=True, drop=True)\n",
    "    _ = yhat_frame_df.plot(title='Ranked Predictions Plot')\n",
    "    \n",
    "    # select best model\n",
    "    return best"
   ]
  },
  {
   "cell_type": "code",
   "execution_count": 62,
   "metadata": {
    "collapsed": false
   },
   "outputs": [
    {
     "name": "stdout",
     "output_type": "stream",
     "text": [
      "gbm Grid Build progress: |████████████████████████████████████████████████| 100%\n"
     ]
    }
   ],
   "source": [
    "from h2o.estimators.gbm import H2OGradientBoostingEstimator\n",
    "from h2o.grid import H2OGridSearch\n",
    "# GBM with random hyperparameter search\n",
    "# train many different GBM models with random hyperparameters\n",
    "# and select best model based on validation error\n",
    "\n",
    "# define random grid search parameters\n",
    "hyper_parameters = {'ntrees':list(range(0, 500, 50)),\n",
    "                    'max_depth':list(range(0, 20, 2)),\n",
    "                    'sample_rate':[s/float(10) for s in range(1, 11)],\n",
    "                    'col_sample_rate':[s/float(10) for s in range(1, 11)]}\n",
    "\n",
    "# define search strategy\n",
    "search_criteria = {'strategy':'RandomDiscrete',\n",
    "                   'max_models':20,\n",
    "                   'max_runtime_secs':600}\n",
    "\n",
    "# initialize grid search\n",
    "gsearch = H2OGridSearch(H2OGradientBoostingEstimator,\n",
    "                        hyper_params=hyper_parameters,\n",
    "                        search_criteria=search_criteria)\n",
    "#X = encoded_nums\n",
    "#y = \"price_doc\"\n",
    "\n",
    "# execute training w/ grid search\n",
    "gsearch.train(x=X,\n",
    "              y=y,\n",
    "              training_frame=train,\n",
    "              validation_frame=valid)"
   ]
  },
  {
   "cell_type": "code",
   "execution_count": 63,
   "metadata": {
    "collapsed": false
   },
   "outputs": [
    {
     "name": "stdout",
     "output_type": "stream",
     "text": [
      "    col_sample_rate max_depth ntrees sample_rate  \\\n",
      "0               0.6         4    350         0.6   \n",
      "1               0.4         8    200         0.6   \n",
      "2               0.6         4    350         0.3   \n",
      "3               0.4         4    100         1.0   \n",
      "4               0.3         8    250         0.6   \n",
      "5               0.9         2    450         0.9   \n",
      "6               0.4        14    300         0.8   \n",
      "7               0.2         2    450         0.8   \n",
      "8               1.0        16    400         0.6   \n",
      "\n",
      "                                                        model_ids  \\\n",
      "0  Grid_GBM_py_134_sid_a21a_model_python_1496289486384_27_model_3   \n",
      "1  Grid_GBM_py_134_sid_a21a_model_python_1496289486384_27_model_8   \n",
      "2  Grid_GBM_py_134_sid_a21a_model_python_1496289486384_27_model_2   \n",
      "3  Grid_GBM_py_134_sid_a21a_model_python_1496289486384_27_model_0   \n",
      "4  Grid_GBM_py_134_sid_a21a_model_python_1496289486384_27_model_6   \n",
      "5  Grid_GBM_py_134_sid_a21a_model_python_1496289486384_27_model_7   \n",
      "6  Grid_GBM_py_134_sid_a21a_model_python_1496289486384_27_model_1   \n",
      "7  Grid_GBM_py_134_sid_a21a_model_python_1496289486384_27_model_5   \n",
      "8  Grid_GBM_py_134_sid_a21a_model_python_1496289486384_27_model_9   \n",
      "\n",
      "      residual_deviance  \n",
      "0  5.883256166198582E12  \n",
      "1  5.940792887795702E12  \n",
      "2  5.948800263375152E12  \n",
      "3  5.962379602423939E12  \n",
      "4  5.963442240533311E12  \n",
      "5   5.99958662147572E12  \n",
      "6  6.096260554044496E12  \n",
      "7  6.243842462437426E12  \n",
      "8  6.310474740760587E12  \n",
      "Model Details\n",
      "=============\n",
      "H2OGradientBoostingEstimator :  Gradient Boosting Machine\n",
      "Model Key:  Grid_GBM_py_134_sid_a21a_model_python_1496289486384_27_model_3\n",
      "\n",
      "\n",
      "ModelMetricsRegression: gbm\n",
      "** Reported on train data. **\n",
      "\n",
      "MSE: 4022148172188.958\n",
      "RMSE: 2005529.39948258\n",
      "MAE: 1210187.2639998011\n",
      "RMSLE: 0.44506747843465\n",
      "Mean Residual Deviance: 4022148172188.958\n",
      "\n",
      "ModelMetricsRegression: gbm\n",
      "** Reported on validation data. **\n",
      "\n",
      "MSE: 5883256166198.582\n",
      "RMSE: 2425542.447824524\n",
      "MAE: 1364670.0677981752\n",
      "RMSLE: NaN\n",
      "Mean Residual Deviance: 5883256166198.582\n",
      "Scoring History: \n"
     ]
    },
    {
     "data": {
      "text/html": [
       "<div style=\"overflow:auto\"><table style=\"width:50%\"><tr><td><b></b></td>\n",
       "<td><b>timestamp</b></td>\n",
       "<td><b>duration</b></td>\n",
       "<td><b>number_of_trees</b></td>\n",
       "<td><b>training_rmse</b></td>\n",
       "<td><b>training_mae</b></td>\n",
       "<td><b>training_deviance</b></td>\n",
       "<td><b>validation_rmse</b></td>\n",
       "<td><b>validation_mae</b></td>\n",
       "<td><b>validation_deviance</b></td></tr>\n",
       "<tr><td></td>\n",
       "<td>2017-06-05 02:51:42</td>\n",
       "<td> 3 min 30.043 sec</td>\n",
       "<td>0.0</td>\n",
       "<td>4730405.4347707</td>\n",
       "<td>2834637.9286755</td>\n",
       "<td>22376735577307.9921875</td>\n",
       "<td>4374547.2089876</td>\n",
       "<td>2768384.1192242</td>\n",
       "<td>19136663283660.9765625</td></tr>\n",
       "<tr><td></td>\n",
       "<td>2017-06-05 02:51:42</td>\n",
       "<td> 3 min 30.281 sec</td>\n",
       "<td>1.0</td>\n",
       "<td>4480881.1249123</td>\n",
       "<td>2690542.7395166</td>\n",
       "<td>20078295655595.3515625</td>\n",
       "<td>4135065.2937039</td>\n",
       "<td>2626422.9327237</td>\n",
       "<td>17098764983194.8808594</td></tr>\n",
       "<tr><td></td>\n",
       "<td>2017-06-05 02:51:43</td>\n",
       "<td> 3 min 30.489 sec</td>\n",
       "<td>2.0</td>\n",
       "<td>4265637.7696954</td>\n",
       "<td>2554173.9293258</td>\n",
       "<td>18195665582251.6289062</td>\n",
       "<td>3931236.3012344</td>\n",
       "<td>2491024.2617870</td>\n",
       "<td>15454618856142.7519531</td></tr>\n",
       "<tr><td></td>\n",
       "<td>2017-06-05 02:51:43</td>\n",
       "<td> 3 min 30.736 sec</td>\n",
       "<td>3.0</td>\n",
       "<td>4070569.9593671</td>\n",
       "<td>2414759.4298402</td>\n",
       "<td>16569539794101.8945312</td>\n",
       "<td>3750408.8986390</td>\n",
       "<td>2357636.6074576</td>\n",
       "<td>14065566906990.5917969</td></tr>\n",
       "<tr><td></td>\n",
       "<td>2017-06-05 02:51:43</td>\n",
       "<td> 3 min 30.921 sec</td>\n",
       "<td>4.0</td>\n",
       "<td>3898411.7333849</td>\n",
       "<td>2307953.6742514</td>\n",
       "<td>15197614042993.4082031</td>\n",
       "<td>3588557.0262245</td>\n",
       "<td>2255257.4463160</td>\n",
       "<td>12877741530465.2460938</td></tr>\n",
       "<tr><td>---</td>\n",
       "<td>---</td>\n",
       "<td>---</td>\n",
       "<td>---</td>\n",
       "<td>---</td>\n",
       "<td>---</td>\n",
       "<td>---</td>\n",
       "<td>---</td>\n",
       "<td>---</td>\n",
       "<td>---</td></tr>\n",
       "<tr><td></td>\n",
       "<td>2017-06-05 02:52:34</td>\n",
       "<td> 4 min 22.200 sec</td>\n",
       "<td>244.0</td>\n",
       "<td>2113521.9220847</td>\n",
       "<td>1257494.8364556</td>\n",
       "<td>4466974915132.6591797</td>\n",
       "<td>2431064.0493944</td>\n",
       "<td>1372041.7007854</td>\n",
       "<td>5910072412257.7431641</td></tr>\n",
       "<tr><td></td>\n",
       "<td>2017-06-05 02:52:39</td>\n",
       "<td> 4 min 26.817 sec</td>\n",
       "<td>269.0</td>\n",
       "<td>2084632.4875113</td>\n",
       "<td>1246469.8178535</td>\n",
       "<td>4345692607987.3540039</td>\n",
       "<td>2425829.7260244</td>\n",
       "<td>1370259.7790561</td>\n",
       "<td>5884649859663.7333984</td></tr>\n",
       "<tr><td></td>\n",
       "<td>2017-06-05 02:52:44</td>\n",
       "<td> 4 min 32.254 sec</td>\n",
       "<td>300.0</td>\n",
       "<td>2051017.2281873</td>\n",
       "<td>1231395.9082567</td>\n",
       "<td>4206671670321.0634766</td>\n",
       "<td>2429360.0631862</td>\n",
       "<td>1368737.4034050</td>\n",
       "<td>5901790316604.2119141</td></tr>\n",
       "<tr><td></td>\n",
       "<td>2017-06-05 02:52:49</td>\n",
       "<td> 4 min 37.317 sec</td>\n",
       "<td>325.0</td>\n",
       "<td>2027117.9791330</td>\n",
       "<td>1221602.9679272</td>\n",
       "<td>4109207301324.2583008</td>\n",
       "<td>2425964.0890989</td>\n",
       "<td>1368682.8628370</td>\n",
       "<td>5885301761597.5957031</td></tr>\n",
       "<tr><td></td>\n",
       "<td>2017-06-05 02:52:54</td>\n",
       "<td> 4 min 42.299 sec</td>\n",
       "<td>350.0</td>\n",
       "<td>2005529.3994826</td>\n",
       "<td>1210187.2639998</td>\n",
       "<td>4022148172188.9580078</td>\n",
       "<td>2425542.4478245</td>\n",
       "<td>1364670.0677982</td>\n",
       "<td>5883256166198.5820312</td></tr></table></div>"
      ],
      "text/plain": [
       "     timestamp            duration          number_of_trees    training_rmse       training_mae        training_deviance    validation_rmse     validation_mae      validation_deviance\n",
       "---  -------------------  ----------------  -----------------  ------------------  ------------------  -------------------  ------------------  ------------------  ---------------------\n",
       "     2017-06-05 02:51:42  3 min 30.043 sec  0.0                4730405.434770681   2834637.9286755137  22376735577307.992   4374547.208987574   2768384.1192242024  19136663283660.977\n",
       "     2017-06-05 02:51:42  3 min 30.281 sec  1.0                4480881.124912304   2690542.739516591   20078295655595.35    4135065.2937039435  2626422.932723671   17098764983194.88\n",
       "     2017-06-05 02:51:43  3 min 30.489 sec  2.0                4265637.769695363   2554173.929325776   18195665582251.63    3931236.3012343524  2491024.261787048   15454618856142.752\n",
       "     2017-06-05 02:51:43  3 min 30.736 sec  3.0                4070569.9593671025  2414759.4298402276  16569539794101.895   3750408.898638999   2357636.6074575833  14065566906990.592\n",
       "     2017-06-05 02:51:43  3 min 30.921 sec  4.0                3898411.7333849445  2307953.674251415   15197614042993.408   3588557.026224503   2255257.446315967   12877741530465.246\n",
       "---  ---                  ---               ---                ---                 ---                 ---                  ---                 ---                 ---\n",
       "     2017-06-05 02:52:34  4 min 22.200 sec  244.0              2113521.922084713   1257494.8364556052  4466974915132.659    2431064.049394368   1372041.700785426   5910072412257.743\n",
       "     2017-06-05 02:52:39  4 min 26.817 sec  269.0              2084632.487511253   1246469.81785351    4345692607987.354    2425829.726024424   1370259.7790560783  5884649859663.733\n",
       "     2017-06-05 02:52:44  4 min 32.254 sec  300.0              2051017.2281872875  1231395.9082566528  4206671670321.0635   2429360.0631862315  1368737.403405035   5901790316604.212\n",
       "     2017-06-05 02:52:49  4 min 37.317 sec  325.0              2027117.9791330001  1221602.96792717    4109207301324.2583   2425964.089098929   1368682.862836979   5885301761597.596\n",
       "     2017-06-05 02:52:54  4 min 42.299 sec  350.0              2005529.39948258    1210187.2639998011  4022148172188.958    2425542.447824524   1364670.0677981752  5883256166198.582"
      ]
     },
     "metadata": {},
     "output_type": "display_data"
    },
    {
     "name": "stdout",
     "output_type": "stream",
     "text": [
      "\n",
      "See the whole table with table.as_data_frame()\n",
      "Variable Importances: \n"
     ]
    },
    {
     "data": {
      "text/html": [
       "<div style=\"overflow:auto\"><table style=\"width:50%\"><tr><td><b>variable</b></td>\n",
       "<td><b>relative_importance</b></td>\n",
       "<td><b>scaled_importance</b></td>\n",
       "<td><b>percentage</b></td></tr>\n",
       "<tr><td>full_sq</td>\n",
       "<td>685058484986707968.0000000</td>\n",
       "<td>1.0</td>\n",
       "<td>0.4050335</td></tr>\n",
       "<tr><td>sub_area_Tencode</td>\n",
       "<td>184421463283990528.0000000</td>\n",
       "<td>0.2692054</td>\n",
       "<td>0.1090372</td></tr>\n",
       "<tr><td>num_room</td>\n",
       "<td>150376580378525696.0000000</td>\n",
       "<td>0.2195091</td>\n",
       "<td>0.0889086</td></tr>\n",
       "<tr><td>life_sq</td>\n",
       "<td>29814771763118080.0000000</td>\n",
       "<td>0.0435215</td>\n",
       "<td>0.0176277</td></tr>\n",
       "<tr><td>cafe_count_3000_price_2500</td>\n",
       "<td>27697183234981888.0000000</td>\n",
       "<td>0.0404304</td>\n",
       "<td>0.0163757</td></tr>\n",
       "<tr><td>---</td>\n",
       "<td>---</td>\n",
       "<td>---</td>\n",
       "<td>---</td></tr>\n",
       "<tr><td>incineration_raion_Tencode</td>\n",
       "<td>0.0</td>\n",
       "<td>0.0</td>\n",
       "<td>0.0</td></tr>\n",
       "<tr><td>oil_chemistry_raion_Tencode</td>\n",
       "<td>0.0</td>\n",
       "<td>0.0</td>\n",
       "<td>0.0</td></tr>\n",
       "<tr><td>radiation_raion_Tencode</td>\n",
       "<td>0.0</td>\n",
       "<td>0.0</td>\n",
       "<td>0.0</td></tr>\n",
       "<tr><td>railroad_terminal_raion_Tencode</td>\n",
       "<td>0.0</td>\n",
       "<td>0.0</td>\n",
       "<td>0.0</td></tr>\n",
       "<tr><td>big_market_raion_Tencode</td>\n",
       "<td>0.0</td>\n",
       "<td>0.0</td>\n",
       "<td>0.0</td></tr></table></div>"
      ],
      "text/plain": [
       "variable                         relative_importance     scaled_importance     percentage\n",
       "-------------------------------  ----------------------  --------------------  --------------------\n",
       "full_sq                          6.85058484986708e+17    1.0                   0.4050335309083258\n",
       "sub_area_Tencode                 1.8442146328399053e+17  0.2692054289168739    0.10903722541389173\n",
       "num_room                         1.503765803785257e+17   0.21950911297951944   0.08890855109664936\n",
       "life_sq                          2.981477176311808e+16   0.043521498407098146  0.017627666170248038\n",
       "cafe_count_3000_price_2500       2.769718323498189e+16   0.040430392210264045  0.016375664512931716\n",
       "---                              ---                     ---                   ---\n",
       "incineration_raion_Tencode       0.0                     0.0                   0.0\n",
       "oil_chemistry_raion_Tencode      0.0                     0.0                   0.0\n",
       "radiation_raion_Tencode          0.0                     0.0                   0.0\n",
       "railroad_terminal_raion_Tencode  0.0                     0.0                   0.0\n",
       "big_market_raion_Tencode         0.0                     0.0                   0.0"
      ]
     },
     "metadata": {},
     "output_type": "display_data"
    },
    {
     "name": "stdout",
     "output_type": "stream",
     "text": [
      "\n",
      "See the whole table with table.as_data_frame()\n"
     ]
    },
    {
     "data": {
      "text/plain": []
     },
     "execution_count": 63,
     "metadata": {},
     "output_type": "execute_result"
    }
   ],
   "source": [
    "\n",
    "# show grid search results\n",
    "gsearch.show()\n",
    "\n",
    "# select best model\n",
    "gbm_model = gsearch.get_grid()[0]\n",
    "\n",
    "# print model information\n",
    "gbm_model\n"
   ]
  },
  {
   "cell_type": "code",
   "execution_count": 68,
   "metadata": {
    "collapsed": false
   },
   "outputs": [],
   "source": [
    "def rmf_grid (X, y, train, valid):\n",
    "    \"\"\" Wrapper function for penalized GLM with alpha and lambda search.\n",
    "    \n",
    "    :param X: List of inputs.\n",
    "    :param y: Name of target variable.\n",
    "    :param train: Name of training H2OFrame.\n",
    "    :param valid: Name of validation H2OFrame.\n",
    "    :return: Best H2Omodel from H2O Random Forest Model\n",
    "\n",
    "    \"\"\"\n",
    "    ## Hyper-Parameter Search\n",
    "    from h2o.estimators.random_forest import H2ORandomForestEstimator\n",
    "    from h2o.grid import H2OGridSearch\n",
    "\n",
    "    # define random grid search parameters\n",
    "    hyper_parameters = {'ntrees':list(range(0, 500, 50)),\n",
    "                        'max_depth':list(range(0, 20, 2)),\n",
    "                        'sample_rate':[s/float(10) for s in range(1, 11)]}\n",
    "\n",
    "    # define search strategy\n",
    "    search_criteria = {'strategy':'RandomDiscrete',\n",
    "                       'max_models':20,\n",
    "                       'max_runtime_secs':600}\n",
    "\n",
    "    grid = H2OGridSearch(H2ORandomForestEstimator, hyper_parameters, search_criteria=search_criteria)\n",
    "    grid.train(x=X, \n",
    "               y=y, \n",
    "               training_frame=train,\n",
    "               validation_frame=valid,\n",
    "               nfolds = 5,\n",
    "               fold_assignment = \"Modulo\",\n",
    "               keep_cross_validation_predictions = True)\n",
    "     # show grid search results\n",
    "    print(grid.show())\n",
    "\n",
    "    best = grid.get_grid()[0]\n",
    "    print(best)\n",
    "    \n",
    "    # plot top frame values\n",
    "    yhat_frame = valid.cbind(best.predict(valid))\n",
    "    print(yhat_frame[0:10, [y, 'predict']])\n",
    "\n",
    "    # plot sorted predictions\n",
    "    yhat_frame_df = yhat_frame[[y, 'predict']].as_data_frame()\n",
    "    yhat_frame_df.sort_values(by='predict', inplace=True)\n",
    "    yhat_frame_df.reset_index(inplace=True, drop=True)\n",
    "    _ = yhat_frame_df.plot(title='Ranked Predictions Plot')\n",
    "    \n",
    "    # select best model\n",
    "    return best"
   ]
  },
  {
   "cell_type": "markdown",
   "metadata": {},
   "source": [
    "# Train base level models"
   ]
  },
  {
   "cell_type": "markdown",
   "metadata": {},
   "source": [
    "### First  GLM model on encoded numeric inputs"
   ]
  },
  {
   "cell_type": "code",
   "execution_count": 34,
   "metadata": {
    "collapsed": false
   },
   "outputs": [
    {
     "name": "stdout",
     "output_type": "stream",
     "text": [
      "glm Grid Build progress: |████████████████████████████████████████████████| 100%\n",
      "      alpha                                                       model_ids  \\\n",
      "0    [0.25]  Grid_GLM_py_134_sid_a21a_model_python_1496289486384_19_model_1   \n",
      "1    [0.01]  Grid_GLM_py_134_sid_a21a_model_python_1496289486384_19_model_0   \n",
      "2     [0.5]  Grid_GLM_py_134_sid_a21a_model_python_1496289486384_19_model_2   \n",
      "3    [0.99]  Grid_GLM_py_134_sid_a21a_model_python_1496289486384_19_model_3   \n",
      "\n",
      "       residual_deviance  \n",
      "0  4.7845936011399949E17  \n",
      "1  4.7845936011399949E17  \n",
      "2  4.7845936011399949E17  \n",
      "3  4.7845936011399949E17  \n",
      "None\n",
      "Model Details\n",
      "=============\n",
      "H2OGeneralizedLinearEstimator :  Generalized Linear Modeling\n",
      "Model Key:  Grid_GLM_py_134_sid_a21a_model_python_1496289486384_19_model_1\n",
      "\n",
      "\n",
      "ModelMetricsRegressionGLM: glm\n",
      "** Reported on train data. **\n",
      "\n",
      "MSE: 22376735577307.992\n",
      "RMSE: 4730405.434770681\n",
      "MAE: 2834637.9286755137\n",
      "RMSLE: 0.6299082597200081\n",
      "R^2: -5.81756864903582e-14\n",
      "Mean Residual Deviance: 22376735577307.992\n",
      "Null degrees of freedom: 21381\n",
      "Residual degrees of freedom: 21381\n",
      "Null deviance: 4.784593601139995e+17\n",
      "Residual deviance: 4.784593601139995e+17\n",
      "AIC: 717945.7036792969\n",
      "\n",
      "ModelMetricsRegressionGLM: glm\n",
      "** Reported on validation data. **\n",
      "\n",
      "MSE: 19136663283660.977\n",
      "RMSE: 4374547.208987574\n",
      "MAE: 2768384.1192242024\n",
      "RMSLE: 0.6258538642524093\n",
      "R^2: -0.0002829848868008966\n",
      "Mean Residual Deviance: 19136663283660.977\n",
      "Null degrees of freedom: 9088\n",
      "Residual degrees of freedom: 9088\n",
      "Null deviance: 1.7393313258519462e+17\n",
      "Residual deviance: 1.7393313258519462e+17\n",
      "AIC: 303762.96286528674\n",
      "\n",
      "ModelMetricsRegressionGLM: glm\n",
      "** Reported on cross-validation data. **\n",
      "\n",
      "MSE: 22376735577307.992\n",
      "RMSE: 4730405.434770681\n",
      "MAE: 2834637.9286755114\n",
      "RMSLE: 0.6299082597200079\n",
      "R^2: -1.9984014443252818e-15\n",
      "Mean Residual Deviance: 22376735577307.992\n",
      "Null degrees of freedom: 21381\n",
      "Residual degrees of freedom: 21092\n",
      "Null deviance: 4.7859918360199034e+17\n",
      "Residual deviance: 4.784593601139995e+17\n",
      "AIC: 718523.7036792969\n",
      "Cross-Validation Metrics Summary: \n"
     ]
    },
    {
     "data": {
      "text/html": [
       "<div style=\"overflow:auto\"><table style=\"width:50%\"><tr><td><b></b></td>\n",
       "<td><b>mean</b></td>\n",
       "<td><b>sd</b></td>\n",
       "<td><b>cv_1_valid</b></td>\n",
       "<td><b>cv_2_valid</b></td>\n",
       "<td><b>cv_3_valid</b></td>\n",
       "<td><b>cv_4_valid</b></td>\n",
       "<td><b>cv_5_valid</b></td></tr>\n",
       "<tr><td>mae</td>\n",
       "<td>2813414.8</td>\n",
       "<td>56642.71</td>\n",
       "<td>2807834.2</td>\n",
       "<td>2724342.5</td>\n",
       "<td>2904414.8</td>\n",
       "<td>2726271.0</td>\n",
       "<td>2904210.8</td></tr>\n",
       "<tr><td>mse</td>\n",
       "<td>22139241500000.0000000</td>\n",
       "<td>2454044540000.0000000</td>\n",
       "<td>21536780100000.0000000</td>\n",
       "<td>17621818800000.0000000</td>\n",
       "<td>24660693500000.0000000</td>\n",
       "<td>19583616400000.0000000</td>\n",
       "<td>27293302900000.0000000</td></tr>\n",
       "<tr><td>null_deviance</td>\n",
       "<td>95719840000000000.0000000</td>\n",
       "<td>10584828800000000.0000000</td>\n",
       "<td>92222474000000000.0000000</td>\n",
       "<td>76508563000000000.0000000</td>\n",
       "<td>106736861000000000.0000000</td>\n",
       "<td>84992172000000000.0000000</td>\n",
       "<td>118139114000000000.0000000</td></tr>\n",
       "<tr><td>r2</td>\n",
       "<td>0.0102139</td>\n",
       "<td>0.0033648</td>\n",
       "<td>0.0010435</td>\n",
       "<td>0.0135861</td>\n",
       "<td>0.0115005</td>\n",
       "<td>0.0141898</td>\n",
       "<td>0.0107495</td></tr>\n",
       "<tr><td>residual_deviance</td>\n",
       "<td>94675227000000000.0000000</td>\n",
       "<td>10489723200000000.0000000</td>\n",
       "<td>92112806000000000.0000000</td>\n",
       "<td>75368524000000000.0000000</td>\n",
       "<td>105449118000000000.0000000</td>\n",
       "<td>83739544000000000.0000000</td>\n",
       "<td>116706158000000000.0000000</td></tr>\n",
       "<tr><td>rmse</td>\n",
       "<td>4690840.0</td>\n",
       "<td>260061.12</td>\n",
       "<td>4640773.5</td>\n",
       "<td>4197835.0</td>\n",
       "<td>4965953.5</td>\n",
       "<td>4425338.0</td>\n",
       "<td>5224299.0</td></tr>\n",
       "<tr><td>rmsle</td>\n",
       "<td>0.6285401</td>\n",
       "<td>0.0025097</td>\n",
       "<td>NaN</td>\n",
       "<td>0.6286179</td>\n",
       "<td>0.6243859</td>\n",
       "<td>0.6330500</td>\n",
       "<td>0.6281065</td></tr></table></div>"
      ],
      "text/plain": [
       "                   mean         sd           cv_1_valid    cv_2_valid    cv_3_valid    cv_4_valid    cv_5_valid\n",
       "-----------------  -----------  -----------  ------------  ------------  ------------  ------------  ------------\n",
       "mae                2.81341e+06  56642.7      2.80783e+06   2.72434e+06   2.90441e+06   2.72627e+06   2.90421e+06\n",
       "mse                2.21392e+13  2.45404e+12  2.15368e+13   1.76218e+13   2.46607e+13   1.95836e+13   2.72933e+13\n",
       "null_deviance      9.57198e+16  1.05848e+16  9.22225e+16   7.65086e+16   1.06737e+17   8.49922e+16   1.18139e+17\n",
       "r2                 0.0102139    0.00336478   0.00104353    0.0135861     0.0115005     0.0141898     0.0107495\n",
       "residual_deviance  9.46752e+16  1.04897e+16  9.21128e+16   7.53685e+16   1.05449e+17   8.37395e+16   1.16706e+17\n",
       "rmse               4.69084e+06  260061       4.64077e+06   4.19784e+06   4.96595e+06   4.42534e+06   5.2243e+06\n",
       "rmsle              0.62854      0.00250966   nan           0.628618      0.624386      0.63305       0.628107"
      ]
     },
     "metadata": {},
     "output_type": "display_data"
    },
    {
     "name": "stdout",
     "output_type": "stream",
     "text": [
      "Scoring History: \n"
     ]
    },
    {
     "data": {
      "text/html": [
       "<div style=\"overflow:auto\"><table style=\"width:50%\"><tr><td><b></b></td>\n",
       "<td><b>timestamp</b></td>\n",
       "<td><b>duration</b></td>\n",
       "<td><b>iteration</b></td>\n",
       "<td><b>lambda</b></td>\n",
       "<td><b>predictors</b></td>\n",
       "<td><b>deviance_train</b></td>\n",
       "<td><b>deviance_test</b></td>\n",
       "<td><b>deviance_xval</b></td>\n",
       "<td><b>deviance_se</b></td></tr>\n",
       "<tr><td></td>\n",
       "<td>2017-06-04 22:17:13</td>\n",
       "<td> 0.000 sec</td>\n",
       "<td>0</td>\n",
       "<td>.79E7</td>\n",
       "<td>2</td>\n",
       "<td>22376735827850.5976562</td>\n",
       "<td>19136663536547.0859375</td>\n",
       "<td>22379758948505.5781250</td>\n",
       "<td>1752066199209.5925293</td></tr>\n",
       "<tr><td></td>\n",
       "<td>2017-06-04 22:17:13</td>\n",
       "<td> 0.036 sec</td>\n",
       "<td>0</td>\n",
       "<td>.72E7</td>\n",
       "<td>2</td>\n",
       "<td>22376735672772.4414062</td>\n",
       "<td>19136663390398.8242188</td>\n",
       "<td>22379758906821.1757812</td>\n",
       "<td>1752066167991.1430664</td></tr>\n",
       "<tr><td></td>\n",
       "<td>2017-06-04 22:17:13</td>\n",
       "<td> 0.072 sec</td>\n",
       "<td>0</td>\n",
       "<td>.66E7</td>\n",
       "<td>2</td>\n",
       "<td>22376735502574.3828125</td>\n",
       "<td>19136663230001.2851562</td>\n",
       "<td>22383523704721.2304688</td>\n",
       "<td>1751030036618.1613770</td></tr></table></div>"
      ],
      "text/plain": [
       "    timestamp            duration    iteration    lambda    predictors    deviance_train    deviance_test    deviance_xval    deviance_se\n",
       "--  -------------------  ----------  -----------  --------  ------------  ----------------  ---------------  ---------------  -------------\n",
       "    2017-06-04 22:17:13  0.000 sec   0            7.9e+06   2             2.23767e+13       1.91367e+13      2.23798e+13      1.75207e+12\n",
       "    2017-06-04 22:17:13  0.036 sec   0            7.2e+06   2             2.23767e+13       1.91367e+13      2.23798e+13      1.75207e+12\n",
       "    2017-06-04 22:17:13  0.072 sec   0            6.6e+06   2             2.23767e+13       1.91367e+13      2.23835e+13      1.75103e+12"
      ]
     },
     "metadata": {},
     "output_type": "display_data"
    },
    {
     "name": "stdout",
     "output_type": "stream",
     "text": [
      "\n",
      "glm prediction progress: |████████████████████████████████████████████████| 100%\n"
     ]
    },
    {
     "data": {
      "text/html": [
       "<table>\n",
       "<thead>\n",
       "<tr><th style=\"text-align: right;\">  price_doc</th><th style=\"text-align: right;\">    predict</th></tr>\n",
       "</thead>\n",
       "<tbody>\n",
       "<tr><td style=\"text-align: right;\">1.26808e+07</td><td style=\"text-align: right;\">6.91706e+06</td></tr>\n",
       "<tr><td style=\"text-align: right;\">1.93601e+06</td><td style=\"text-align: right;\">6.91706e+06</td></tr>\n",
       "<tr><td style=\"text-align: right;\">1.93601e+06</td><td style=\"text-align: right;\">6.91706e+06</td></tr>\n",
       "<tr><td style=\"text-align: right;\">1.79081e+06</td><td style=\"text-align: right;\">6.91706e+06</td></tr>\n",
       "<tr><td style=\"text-align: right;\">6.09841e+06</td><td style=\"text-align: right;\">6.91706e+06</td></tr>\n",
       "<tr><td style=\"text-align: right;\">7.64721e+06</td><td style=\"text-align: right;\">6.91706e+06</td></tr>\n",
       "<tr><td style=\"text-align: right;\">5.03361e+06</td><td style=\"text-align: right;\">6.91706e+06</td></tr>\n",
       "<tr><td style=\"text-align: right;\">5.71121e+06</td><td style=\"text-align: right;\">6.91706e+06</td></tr>\n",
       "<tr><td style=\"text-align: right;\">1.77144e+07</td><td style=\"text-align: right;\">6.91706e+06</td></tr>\n",
       "<tr><td style=\"text-align: right;\">5.51761e+06</td><td style=\"text-align: right;\">6.91706e+06</td></tr>\n",
       "</tbody>\n",
       "</table>"
      ]
     },
     "metadata": {},
     "output_type": "display_data"
    },
    {
     "name": "stdout",
     "output_type": "stream",
     "text": [
      "\n"
     ]
    },
    {
     "data": {
      "image/png": "[encoded data removed]",
      "text/plain": [
       "<matplotlib.figure.Figure at 0x11729d978>"
      ]
     },
     "metadata": {},
     "output_type": "display_data"
    }
   ],
   "source": [
    "#glm_base1 = glm_grid(encoded_nums, 'price_doc', train, valid)"
   ]
  },
  {
   "cell_type": "markdown",
   "metadata": {},
   "source": [
    "### Second model on encoded numeric inputs"
   ]
  },
  {
   "cell_type": "code",
   "execution_count": 74,
   "metadata": {
    "collapsed": false
   },
   "outputs": [
    {
     "name": "stdout",
     "output_type": "stream",
     "text": [
      "gbm Grid Build progress: |████████████████████████████████████████████████| 100%\n",
      "    col_sample_rate max_depth ntrees sample_rate  \\\n",
      "0               1.0        18     62         0.9   \n",
      "1               0.1         4     56         0.7   \n",
      "2               0.7        10      0         0.9   \n",
      "3               0.6        16      0         0.7   \n",
      "4               0.5        14      0         0.5   \n",
      "\n",
      "                                                        model_ids  \\\n",
      "0  Grid_GBM_py_134_sid_a21a_model_python_1496289486384_32_model_1   \n",
      "1  Grid_GBM_py_134_sid_a21a_model_python_1496289486384_32_model_5   \n",
      "2  Grid_GBM_py_134_sid_a21a_model_python_1496289486384_32_model_4   \n",
      "3  Grid_GBM_py_134_sid_a21a_model_python_1496289486384_32_model_2   \n",
      "4  Grid_GBM_py_134_sid_a21a_model_python_1496289486384_32_model_0   \n",
      "\n",
      "       residual_deviance  \n",
      "0   7.581012817903972E12  \n",
      "1   8.457322568689442E12  \n",
      "2  2.2383274885510727E13  \n",
      "3  2.2383274885510727E13  \n",
      "4  2.2383274885510727E13  \n",
      "None\n",
      "Model Details\n",
      "=============\n",
      "H2OGradientBoostingEstimator :  Gradient Boosting Machine\n",
      "Model Key:  Grid_GBM_py_134_sid_a21a_model_python_1496289486384_32_model_1\n",
      "\n",
      "\n",
      "ModelMetricsRegression: gbm\n",
      "** Reported on train data. **\n",
      "\n",
      "MSE: 944292512339.2222\n",
      "RMSE: 971747.1442403225\n",
      "MAE: 529986.6045081727\n",
      "RMSLE: 0.2715799699382008\n",
      "Mean Residual Deviance: 944292512339.2222\n",
      "\n",
      "ModelMetricsRegression: gbm\n",
      "** Reported on validation data. **\n",
      "\n",
      "MSE: 6272997385988.568\n",
      "RMSE: 2504595.2539259847\n",
      "MAE: 1352616.1393108633\n",
      "RMSLE: 0.47360680887977147\n",
      "Mean Residual Deviance: 6272997385988.568\n",
      "\n",
      "ModelMetricsRegression: gbm\n",
      "** Reported on cross-validation data. **\n",
      "\n",
      "MSE: 7581012817903.972\n",
      "RMSE: 2753363.9094576603\n",
      "MAE: 1407437.8399578498\n",
      "RMSLE: 0.475293449833268\n",
      "Mean Residual Deviance: 7581012817903.972\n",
      "Cross-Validation Metrics Summary: \n"
     ]
    },
    {
     "data": {
      "text/html": [
       "<div style=\"overflow:auto\"><table style=\"width:50%\"><tr><td><b></b></td>\n",
       "<td><b>mean</b></td>\n",
       "<td><b>sd</b></td>\n",
       "<td><b>cv_1_valid</b></td>\n",
       "<td><b>cv_2_valid</b></td>\n",
       "<td><b>cv_3_valid</b></td>\n",
       "<td><b>cv_4_valid</b></td>\n",
       "<td><b>cv_5_valid</b></td></tr>\n",
       "<tr><td>mae</td>\n",
       "<td>1407440.2</td>\n",
       "<td>22437.092</td>\n",
       "<td>1380342.1</td>\n",
       "<td>1383115.9</td>\n",
       "<td>1418501.2</td>\n",
       "<td>1390396.1</td>\n",
       "<td>1464845.8</td></tr>\n",
       "<tr><td>mse</td>\n",
       "<td>7581061300000.0000000</td>\n",
       "<td>790395680000.0000000</td>\n",
       "<td>7047432100000.0000000</td>\n",
       "<td>7081932900000.0000000</td>\n",
       "<td>7303691000000.0000000</td>\n",
       "<td>6690451200000.0000000</td>\n",
       "<td>9781798500000.0000000</td></tr>\n",
       "<tr><td>r2</td>\n",
       "<td>0.6585196</td>\n",
       "<td>0.0240791</td>\n",
       "<td>0.6731137</td>\n",
       "<td>0.6035757</td>\n",
       "<td>0.7072387</td>\n",
       "<td>0.6632126</td>\n",
       "<td>0.6454570</td></tr>\n",
       "<tr><td>residual_deviance</td>\n",
       "<td>7581061300000.0000000</td>\n",
       "<td>790395680000.0000000</td>\n",
       "<td>7047432100000.0000000</td>\n",
       "<td>7081932900000.0000000</td>\n",
       "<td>7303691000000.0000000</td>\n",
       "<td>6690451200000.0000000</td>\n",
       "<td>9781798500000.0000000</td></tr>\n",
       "<tr><td>rmse</td>\n",
       "<td>2746520.2</td>\n",
       "<td>137272.02</td>\n",
       "<td>2654700.0</td>\n",
       "<td>2661190.0</td>\n",
       "<td>2702534.2</td>\n",
       "<td>2586590.5</td>\n",
       "<td>3127586.8</td></tr>\n",
       "<tr><td>rmsle</td>\n",
       "<td>0.4750802</td>\n",
       "<td>0.0100756</td>\n",
       "<td>0.4567083</td>\n",
       "<td>0.4845509</td>\n",
       "<td>0.4597474</td>\n",
       "<td>0.4926385</td>\n",
       "<td>0.4817560</td></tr></table></div>"
      ],
      "text/plain": [
       "                   mean         sd           cv_1_valid    cv_2_valid    cv_3_valid    cv_4_valid    cv_5_valid\n",
       "-----------------  -----------  -----------  ------------  ------------  ------------  ------------  ------------\n",
       "mae                1.40744e+06  22437.1      1.38034e+06   1.38312e+06   1.4185e+06    1.3904e+06    1.46485e+06\n",
       "mse                7.58106e+12  7.90396e+11  7.04743e+12   7.08193e+12   7.30369e+12   6.69045e+12   9.7818e+12\n",
       "r2                 0.65852      0.0240791    0.673114      0.603576      0.707239      0.663213      0.645457\n",
       "residual_deviance  7.58106e+12  7.90396e+11  7.04743e+12   7.08193e+12   7.30369e+12   6.69045e+12   9.7818e+12\n",
       "rmse               2.74652e+06  137272       2.6547e+06    2.66119e+06   2.70253e+06   2.58659e+06   3.12759e+06\n",
       "rmsle              0.47508      0.0100756    0.456708      0.484551      0.459747      0.492638      0.481756"
      ]
     },
     "metadata": {},
     "output_type": "display_data"
    },
    {
     "name": "stdout",
     "output_type": "stream",
     "text": [
      "Scoring History: \n"
     ]
    },
    {
     "data": {
      "text/html": [
       "<div style=\"overflow:auto\"><table style=\"width:50%\"><tr><td><b></b></td>\n",
       "<td><b>timestamp</b></td>\n",
       "<td><b>duration</b></td>\n",
       "<td><b>number_of_trees</b></td>\n",
       "<td><b>training_rmse</b></td>\n",
       "<td><b>training_mae</b></td>\n",
       "<td><b>training_deviance</b></td>\n",
       "<td><b>validation_rmse</b></td>\n",
       "<td><b>validation_mae</b></td>\n",
       "<td><b>validation_deviance</b></td></tr>\n",
       "<tr><td></td>\n",
       "<td>2017-06-05 03:38:50</td>\n",
       "<td> 8 min 23.375 sec</td>\n",
       "<td>0.0</td>\n",
       "<td>4730405.4347707</td>\n",
       "<td>2834637.9286755</td>\n",
       "<td>22376735577307.9921875</td>\n",
       "<td>4374547.2089876</td>\n",
       "<td>2768384.1192242</td>\n",
       "<td>19136663283660.9765625</td></tr>\n",
       "<tr><td></td>\n",
       "<td>2017-06-05 03:38:51</td>\n",
       "<td> 8 min 24.636 sec</td>\n",
       "<td>1.0</td>\n",
       "<td>4369517.2428974</td>\n",
       "<td>2609415.9591406</td>\n",
       "<td>19092680935977.5781250</td>\n",
       "<td>4078521.2743544</td>\n",
       "<td>2574364.2075570</td>\n",
       "<td>16634335785361.5507812</td></tr>\n",
       "<tr><td></td>\n",
       "<td>2017-06-05 03:38:52</td>\n",
       "<td> 8 min 25.900 sec</td>\n",
       "<td>2.0</td>\n",
       "<td>4047236.4487165</td>\n",
       "<td>2404892.5440017</td>\n",
       "<td>16380122871819.3593750</td>\n",
       "<td>3817703.2754373</td>\n",
       "<td>2402912.1722928</td>\n",
       "<td>14574858299285.0683594</td></tr>\n",
       "<tr><td></td>\n",
       "<td>2017-06-05 03:38:57</td>\n",
       "<td> 8 min 30.536 sec</td>\n",
       "<td>5.0</td>\n",
       "<td>3266419.4931117</td>\n",
       "<td>1907252.5277497</td>\n",
       "<td>10669496304979.8300781</td>\n",
       "<td>3244172.1374451</td>\n",
       "<td>2005577.9864210</td>\n",
       "<td>10524652857375.0156250</td></tr>\n",
       "<tr><td></td>\n",
       "<td>2017-06-05 03:39:02</td>\n",
       "<td> 8 min 35.490 sec</td>\n",
       "<td>9.0</td>\n",
       "<td>2547186.2546110</td>\n",
       "<td>1446792.2831982</td>\n",
       "<td>6488157815679.0244141</td>\n",
       "<td>2815051.6411623</td>\n",
       "<td>1683245.9306727</td>\n",
       "<td>7924515742410.6748047</td></tr>\n",
       "<tr><td></td>\n",
       "<td>2017-06-05 03:39:06</td>\n",
       "<td> 8 min 39.890 sec</td>\n",
       "<td>13.0</td>\n",
       "<td>2082605.4674471</td>\n",
       "<td>1146272.1221749</td>\n",
       "<td>4337245533040.4731445</td>\n",
       "<td>2629811.8143791</td>\n",
       "<td>1512831.6636885</td>\n",
       "<td>6915910179048.0429688</td></tr>\n",
       "<tr><td></td>\n",
       "<td>2017-06-05 03:39:11</td>\n",
       "<td> 8 min 44.768 sec</td>\n",
       "<td>18.0</td>\n",
       "<td>1727688.1307372</td>\n",
       "<td>917048.9742234</td>\n",
       "<td>2984906277090.3339844</td>\n",
       "<td>2546750.7797570</td>\n",
       "<td>1409578.9062049</td>\n",
       "<td>6485939534193.0732422</td></tr>\n",
       "<tr><td></td>\n",
       "<td>2017-06-05 03:39:16</td>\n",
       "<td> 8 min 49.561 sec</td>\n",
       "<td>23.0</td>\n",
       "<td>1493076.3247757</td>\n",
       "<td>773296.1674583</td>\n",
       "<td>2229276911605.6176758</td>\n",
       "<td>2515653.5620710</td>\n",
       "<td>1369084.2538024</td>\n",
       "<td>6328512844360.2880859</td></tr>\n",
       "<tr><td></td>\n",
       "<td>2017-06-05 03:39:20</td>\n",
       "<td> 8 min 54.173 sec</td>\n",
       "<td>28.0</td>\n",
       "<td>1332404.8933387</td>\n",
       "<td>683556.7399141</td>\n",
       "<td>1775302799792.7895508</td>\n",
       "<td>2507835.2267937</td>\n",
       "<td>1354314.1533235</td>\n",
       "<td>6289237524747.4531250</td></tr>\n",
       "<tr><td></td>\n",
       "<td>2017-06-05 03:39:25</td>\n",
       "<td> 8 min 58.691 sec</td>\n",
       "<td>33.0</td>\n",
       "<td>1211058.9381311</td>\n",
       "<td>620868.0778502</td>\n",
       "<td>1466663751627.1567383</td>\n",
       "<td>2506056.7017159</td>\n",
       "<td>1350770.1779366</td>\n",
       "<td>6280320192215.0029297</td></tr>\n",
       "<tr><td></td>\n",
       "<td>2017-06-05 03:39:29</td>\n",
       "<td> 9 min  2.890 sec</td>\n",
       "<td>38.0</td>\n",
       "<td>1129225.3285995</td>\n",
       "<td>582915.8691291</td>\n",
       "<td>1275149842750.7431641</td>\n",
       "<td>2507236.5193164</td>\n",
       "<td>1352048.0539575</td>\n",
       "<td>6286234963793.9062500</td></tr>\n",
       "<tr><td></td>\n",
       "<td>2017-06-05 03:39:34</td>\n",
       "<td> 9 min  7.344 sec</td>\n",
       "<td>42.0</td>\n",
       "<td>1091501.5639035</td>\n",
       "<td>567783.7218616</td>\n",
       "<td>1191375664003.7314453</td>\n",
       "<td>2507235.1054369</td>\n",
       "<td>1352519.3018227</td>\n",
       "<td>6286227873935.1015625</td></tr>\n",
       "<tr><td></td>\n",
       "<td>2017-06-05 03:39:38</td>\n",
       "<td> 9 min 11.761 sec</td>\n",
       "<td>47.0</td>\n",
       "<td>1054364.7687024</td>\n",
       "<td>554929.9156168</td>\n",
       "<td>1111685065480.9533691</td>\n",
       "<td>2507390.4055750</td>\n",
       "<td>1353002.0272942</td>\n",
       "<td>6287006645969.6796875</td></tr>\n",
       "<tr><td></td>\n",
       "<td>2017-06-05 03:39:42</td>\n",
       "<td> 9 min 15.802 sec</td>\n",
       "<td>51.0</td>\n",
       "<td>1032225.3514415</td>\n",
       "<td>549474.9121618</td>\n",
       "<td>1065489176158.5655518</td>\n",
       "<td>2505823.0976949</td>\n",
       "<td>1352980.2050900</td>\n",
       "<td>6279149396941.4707031</td></tr>\n",
       "<tr><td></td>\n",
       "<td>2017-06-05 03:39:47</td>\n",
       "<td> 9 min 20.463 sec</td>\n",
       "<td>55.0</td>\n",
       "<td>1010659.5104418</td>\n",
       "<td>541852.9200072</td>\n",
       "<td>1021432646046.4261475</td>\n",
       "<td>2504680.2752531</td>\n",
       "<td>1352319.2379757</td>\n",
       "<td>6273423281242.0097656</td></tr>\n",
       "<tr><td></td>\n",
       "<td>2017-06-05 03:39:51</td>\n",
       "<td> 9 min 24.982 sec</td>\n",
       "<td>60.0</td>\n",
       "<td>981532.9831665</td>\n",
       "<td>532315.4352829</td>\n",
       "<td>963406997043.6711426</td>\n",
       "<td>2504484.9420371</td>\n",
       "<td>1352381.8399406</td>\n",
       "<td>6272444824890.5683594</td></tr>\n",
       "<tr><td></td>\n",
       "<td>2017-06-05 03:39:53</td>\n",
       "<td> 9 min 26.981 sec</td>\n",
       "<td>62.0</td>\n",
       "<td>971747.1442403</td>\n",
       "<td>529986.6045082</td>\n",
       "<td>944292512339.2221680</td>\n",
       "<td>2504595.2539260</td>\n",
       "<td>1352616.1393109</td>\n",
       "<td>6272997385988.5683594</td></tr></table></div>"
      ],
      "text/plain": [
       "    timestamp            duration          number_of_trees    training_rmse    training_mae    training_deviance    validation_rmse    validation_mae    validation_deviance\n",
       "--  -------------------  ----------------  -----------------  ---------------  --------------  -------------------  -----------------  ----------------  ---------------------\n",
       "    2017-06-05 03:38:50  8 min 23.375 sec  0                  4.73041e+06      2.83464e+06     2.23767e+13          4.37455e+06        2.76838e+06       1.91367e+13\n",
       "    2017-06-05 03:38:51  8 min 24.636 sec  1                  4.36952e+06      2.60942e+06     1.90927e+13          4.07852e+06        2.57436e+06       1.66343e+13\n",
       "    2017-06-05 03:38:52  8 min 25.900 sec  2                  4.04724e+06      2.40489e+06     1.63801e+13          3.8177e+06         2.40291e+06       1.45749e+13\n",
       "    2017-06-05 03:38:57  8 min 30.536 sec  5                  3.26642e+06      1.90725e+06     1.06695e+13          3.24417e+06        2.00558e+06       1.05247e+13\n",
       "    2017-06-05 03:39:02  8 min 35.490 sec  9                  2.54719e+06      1.44679e+06     6.48816e+12          2.81505e+06        1.68325e+06       7.92452e+12\n",
       "    2017-06-05 03:39:06  8 min 39.890 sec  13                 2.08261e+06      1.14627e+06     4.33725e+12          2.62981e+06        1.51283e+06       6.91591e+12\n",
       "    2017-06-05 03:39:11  8 min 44.768 sec  18                 1.72769e+06      917049          2.98491e+12          2.54675e+06        1.40958e+06       6.48594e+12\n",
       "    2017-06-05 03:39:16  8 min 49.561 sec  23                 1.49308e+06      773296          2.22928e+12          2.51565e+06        1.36908e+06       6.32851e+12\n",
       "    2017-06-05 03:39:20  8 min 54.173 sec  28                 1.3324e+06       683557          1.7753e+12           2.50784e+06        1.35431e+06       6.28924e+12\n",
       "    2017-06-05 03:39:25  8 min 58.691 sec  33                 1.21106e+06      620868          1.46666e+12          2.50606e+06        1.35077e+06       6.28032e+12\n",
       "    2017-06-05 03:39:29  9 min  2.890 sec  38                 1.12923e+06      582916          1.27515e+12          2.50724e+06        1.35205e+06       6.28623e+12\n",
       "    2017-06-05 03:39:34  9 min  7.344 sec  42                 1.0915e+06       567784          1.19138e+12          2.50724e+06        1.35252e+06       6.28623e+12\n",
       "    2017-06-05 03:39:38  9 min 11.761 sec  47                 1.05436e+06      554930          1.11169e+12          2.50739e+06        1.353e+06         6.28701e+12\n",
       "    2017-06-05 03:39:42  9 min 15.802 sec  51                 1.03223e+06      549475          1.06549e+12          2.50582e+06        1.35298e+06       6.27915e+12\n",
       "    2017-06-05 03:39:47  9 min 20.463 sec  55                 1.01066e+06      541853          1.02143e+12          2.50468e+06        1.35232e+06       6.27342e+12\n",
       "    2017-06-05 03:39:51  9 min 24.982 sec  60                 981533           532315          9.63407e+11          2.50448e+06        1.35238e+06       6.27244e+12\n",
       "    2017-06-05 03:39:53  9 min 26.981 sec  62                 971747           529987          9.44293e+11          2.5046e+06         1.35262e+06       6.273e+12"
      ]
     },
     "metadata": {},
     "output_type": "display_data"
    },
    {
     "name": "stdout",
     "output_type": "stream",
     "text": [
      "Variable Importances: \n"
     ]
    },
    {
     "data": {
      "text/html": [
       "<div style=\"overflow:auto\"><table style=\"width:50%\"><tr><td><b>variable</b></td>\n",
       "<td><b>relative_importance</b></td>\n",
       "<td><b>scaled_importance</b></td>\n",
       "<td><b>percentage</b></td></tr>\n",
       "<tr><td>full_sq</td>\n",
       "<td>978173922581151744.0000000</td>\n",
       "<td>1.0</td>\n",
       "<td>0.4238454</td></tr>\n",
       "<tr><td>cafe_count_3000_price_2500</td>\n",
       "<td>127470815414321152.0000000</td>\n",
       "<td>0.1303151</td>\n",
       "<td>0.0552334</td></tr>\n",
       "<tr><td>cafe_count_3000</td>\n",
       "<td>108288976074309632.0000000</td>\n",
       "<td>0.1107052</td>\n",
       "<td>0.0469219</td></tr>\n",
       "<tr><td>sport_count_2000</td>\n",
       "<td>37427006442307584.0000000</td>\n",
       "<td>0.0382621</td>\n",
       "<td>0.0162172</td></tr>\n",
       "<tr><td>cafe_count_2000</td>\n",
       "<td>31432142630158336.0000000</td>\n",
       "<td>0.0321335</td>\n",
       "<td>0.0136196</td></tr>\n",
       "<tr><td>---</td>\n",
       "<td>---</td>\n",
       "<td>---</td>\n",
       "<td>---</td></tr>\n",
       "<tr><td>0_13_male</td>\n",
       "<td>3208421834752.0000000</td>\n",
       "<td>0.0000033</td>\n",
       "<td>0.0000014</td></tr>\n",
       "<tr><td>metro_km_walk</td>\n",
       "<td>732999712768.0000000</td>\n",
       "<td>0.0000007</td>\n",
       "<td>0.0000003</td></tr>\n",
       "<tr><td>railroad_station_walk_min</td>\n",
       "<td>61365862400.0000000</td>\n",
       "<td>0.0000001</td>\n",
       "<td>0.0000000</td></tr>\n",
       "<tr><td>0_6_all</td>\n",
       "<td>0.0</td>\n",
       "<td>0.0</td>\n",
       "<td>0.0</td></tr>\n",
       "<tr><td>7_14_all</td>\n",
       "<td>0.0</td>\n",
       "<td>0.0</td>\n",
       "<td>0.0</td></tr></table></div>"
      ],
      "text/plain": [
       "variable                    relative_importance     scaled_importance      percentage\n",
       "--------------------------  ----------------------  ---------------------  ----------------------\n",
       "full_sq                     9.781739225811517e+17   1.0                    0.42384538499495006\n",
       "cafe_count_3000_price_2500  1.2747081541432115e+17  0.13031508249367163    0.05523344631017893\n",
       "cafe_count_3000             1.0828897607430963e+17  0.11070523715104019    0.04692190386123988\n",
       "sport_count_2000            3.742700644230758e+16   0.03826211840073108    0.016217222304280226\n",
       "cafe_count_2000             3.1432142630158336e+16  0.032133490685600084   0.01361963173086981\n",
       "---                         ---                     ---                    ---\n",
       "0_13_male                   3208421834752.0         3.28001162235627e-06   1.390217788865504e-06\n",
       "metro_km_walk               732999712768.0          7.493551973188986e-07  3.1761074210559535e-07\n",
       "railroad_station_walk_min   61365862400.0           6.273512407494071e-08  2.6589992816249205e-08\n",
       "0_6_all                     0.0                     0.0                    0.0\n",
       "7_14_all                    0.0                     0.0                    0.0"
      ]
     },
     "metadata": {},
     "output_type": "display_data"
    },
    {
     "name": "stdout",
     "output_type": "stream",
     "text": [
      "\n",
      "See the whole table with table.as_data_frame()\n",
      "\n",
      "gbm prediction progress: |████████████████████████████████████████████████| 100%\n"
     ]
    },
    {
     "data": {
      "text/html": [
       "<table>\n",
       "<thead>\n",
       "<tr><th style=\"text-align: right;\">  price_doc</th><th style=\"text-align: right;\">    predict</th></tr>\n",
       "</thead>\n",
       "<tbody>\n",
       "<tr><td style=\"text-align: right;\">1.26808e+07</td><td style=\"text-align: right;\">1.09318e+07</td></tr>\n",
       "<tr><td style=\"text-align: right;\">1.93601e+06</td><td style=\"text-align: right;\">5.51239e+06</td></tr>\n",
       "<tr><td style=\"text-align: right;\">1.93601e+06</td><td style=\"text-align: right;\">5.75359e+06</td></tr>\n",
       "<tr><td style=\"text-align: right;\">1.79081e+06</td><td style=\"text-align: right;\">7.05982e+06</td></tr>\n",
       "<tr><td style=\"text-align: right;\">6.09841e+06</td><td style=\"text-align: right;\">5.0796e+06 </td></tr>\n",
       "<tr><td style=\"text-align: right;\">7.64721e+06</td><td style=\"text-align: right;\">6.30268e+06</td></tr>\n",
       "<tr><td style=\"text-align: right;\">5.03361e+06</td><td style=\"text-align: right;\">5.86016e+06</td></tr>\n",
       "<tr><td style=\"text-align: right;\">5.71121e+06</td><td style=\"text-align: right;\">4.43431e+06</td></tr>\n",
       "<tr><td style=\"text-align: right;\">1.77144e+07</td><td style=\"text-align: right;\">1.06553e+07</td></tr>\n",
       "<tr><td style=\"text-align: right;\">5.51761e+06</td><td style=\"text-align: right;\">5.04782e+06</td></tr>\n",
       "</tbody>\n",
       "</table>"
      ]
     },
     "metadata": {},
     "output_type": "display_data"
    },
    {
     "name": "stdout",
     "output_type": "stream",
     "text": [
      "\n"
     ]
    },
    {
     "data": {
      "image/png": "[encoded data removed]",
      "text/plain": [
       "<matplotlib.figure.Figure at 0x1172c4c88>"
      ]
     },
     "metadata": {},
     "output_type": "display_data"
    }
   ],
   "source": [
    "gbm_base2 = gbm_grid(original_nums, 'price_doc', train, valid)"
   ]
  },
  {
   "cell_type": "code",
   "execution_count": 47,
   "metadata": {
    "collapsed": false
   },
   "outputs": [
    {
     "data": {
      "text/plain": [
       "(21382, 305)"
      ]
     },
     "execution_count": 47,
     "metadata": {},
     "output_type": "execute_result"
    }
   ],
   "source": [
    "train.shape"
   ]
  },
  {
   "cell_type": "code",
   "execution_count": 48,
   "metadata": {
    "collapsed": false
   },
   "outputs": [
    {
     "data": {
      "text/html": [
       "<table>\n",
       "<thead>\n",
       "<tr><th style=\"text-align: right;\">  price_doc</th></tr>\n",
       "</thead>\n",
       "<tbody>\n",
       "<tr><td style=\"text-align: right;\">5.66281e+06</td></tr>\n",
       "<tr><td style=\"text-align: right;\">5.80801e+06</td></tr>\n",
       "<tr><td style=\"text-align: right;\">5.51761e+06</td></tr>\n",
       "<tr><td style=\"text-align: right;\">1.58089e+07</td></tr>\n",
       "<tr><td style=\"text-align: right;\">8.80881e+06</td></tr>\n",
       "<tr><td style=\"text-align: right;\">5.32401e+06</td></tr>\n",
       "<tr><td style=\"text-align: right;\">5.13041e+06</td></tr>\n",
       "<tr><td style=\"text-align: right;\">4.50121e+06</td></tr>\n",
       "<tr><td style=\"text-align: right;\">4.64641e+06</td></tr>\n",
       "<tr><td style=\"text-align: right;\">4.93681e+06</td></tr>\n",
       "</tbody>\n",
       "</table>"
      ]
     },
     "metadata": {},
     "output_type": "display_data"
    },
    {
     "data": {
      "text/plain": []
     },
     "execution_count": 48,
     "metadata": {},
     "output_type": "execute_result"
    }
   ],
   "source": [
    "train[\"price_doc\"]"
   ]
  },
  {
   "cell_type": "code",
   "execution_count": 69,
   "metadata": {
    "collapsed": false
   },
   "outputs": [
    {
     "name": "stdout",
     "output_type": "stream",
     "text": [
      "drf Grid Build progress: |████████████████████████████████████████████████| 100%\n",
      "    max_depth ntrees sample_rate  \\\n",
      "0          16     29         0.9   \n",
      "1           8      1         0.7   \n",
      "2           2    450         0.4   \n",
      "\n",
      "                                                        model_ids  \\\n",
      "0  Grid_DRF_py_134_sid_a21a_model_python_1496289486384_29_model_1   \n",
      "1  Grid_DRF_py_134_sid_a21a_model_python_1496289486384_29_model_2   \n",
      "2  Grid_DRF_py_134_sid_a21a_model_python_1496289486384_29_model_0   \n",
      "\n",
      "       residual_deviance  \n",
      "0   7.771805821029601E12  \n",
      "1   1.104658714756256E13  \n",
      "2  1.3236540527819473E13  \n",
      "None\n",
      "Model Details\n",
      "=============\n",
      "H2ORandomForestEstimator :  Distributed Random Forest\n",
      "Model Key:  Grid_DRF_py_134_sid_a21a_model_python_1496289486384_29_model_1\n",
      "\n",
      "\n",
      "ModelMetricsRegression: drf\n",
      "** Reported on train data. **\n",
      "\n",
      "MSE: 9897932074837.973\n",
      "RMSE: 3146097.912468392\n",
      "MAE: 1592747.9586109624\n",
      "RMSLE: 0.5155243470052072\n",
      "Mean Residual Deviance: 9897932074837.973\n",
      "\n",
      "ModelMetricsRegression: drf\n",
      "** Reported on validation data. **\n",
      "\n",
      "MSE: 6185037362215.34\n",
      "RMSE: 2486973.534683339\n",
      "MAE: 1349879.7690313887\n",
      "RMSLE: 0.4723488350605926\n",
      "Mean Residual Deviance: 6185037362215.34\n",
      "\n",
      "ModelMetricsRegression: drf\n",
      "** Reported on cross-validation data. **\n",
      "\n",
      "MSE: 7771805821029.601\n",
      "RMSE: 2787795.8714779676\n",
      "MAE: 1417035.3059275479\n",
      "RMSLE: 0.475268762851792\n",
      "Mean Residual Deviance: 7771805821029.601\n",
      "Cross-Validation Metrics Summary: \n"
     ]
    },
    {
     "data": {
      "text/html": [
       "<div style=\"overflow:auto\"><table style=\"width:50%\"><tr><td><b></b></td>\n",
       "<td><b>mean</b></td>\n",
       "<td><b>sd</b></td>\n",
       "<td><b>cv_1_valid</b></td>\n",
       "<td><b>cv_2_valid</b></td>\n",
       "<td><b>cv_3_valid</b></td>\n",
       "<td><b>cv_4_valid</b></td>\n",
       "<td><b>cv_5_valid</b></td></tr>\n",
       "<tr><td>mae</td>\n",
       "<td>1417038.1</td>\n",
       "<td>24782.594</td>\n",
       "<td>1364770.6</td>\n",
       "<td>1407738.0</td>\n",
       "<td>1426840.9</td>\n",
       "<td>1412200.5</td>\n",
       "<td>1473641.0</td></tr>\n",
       "<tr><td>mse</td>\n",
       "<td>7771873900000.0000000</td>\n",
       "<td>827085290000.0000000</td>\n",
       "<td>6723970000000.0000000</td>\n",
       "<td>7361461200000.0000000</td>\n",
       "<td>7801444800000.0000000</td>\n",
       "<td>6977501000000.0000000</td>\n",
       "<td>9994992900000.0000000</td></tr>\n",
       "<tr><td>r2</td>\n",
       "<td>0.6499651</td>\n",
       "<td>0.0261690</td>\n",
       "<td>0.6881171</td>\n",
       "<td>0.5879286</td>\n",
       "<td>0.6872868</td>\n",
       "<td>0.6487629</td>\n",
       "<td>0.6377297</td></tr>\n",
       "<tr><td>residual_deviance</td>\n",
       "<td>7771873900000.0000000</td>\n",
       "<td>827085290000.0000000</td>\n",
       "<td>6723970000000.0000000</td>\n",
       "<td>7361461200000.0000000</td>\n",
       "<td>7801444800000.0000000</td>\n",
       "<td>6977501000000.0000000</td>\n",
       "<td>9994992900000.0000000</td></tr>\n",
       "<tr><td>rmse</td>\n",
       "<td>2780470.2</td>\n",
       "<td>142931.25</td>\n",
       "<td>2593061.8</td>\n",
       "<td>2713201.2</td>\n",
       "<td>2793106.8</td>\n",
       "<td>2641496.0</td>\n",
       "<td>3161485.8</td></tr>\n",
       "<tr><td>rmsle</td>\n",
       "<td>0.4750491</td>\n",
       "<td>0.0102247</td>\n",
       "<td>0.4555563</td>\n",
       "<td>0.4858411</td>\n",
       "<td>0.4608476</td>\n",
       "<td>0.4930221</td>\n",
       "<td>0.4799787</td></tr></table></div>"
      ],
      "text/plain": [
       "                   mean         sd           cv_1_valid    cv_2_valid    cv_3_valid    cv_4_valid    cv_5_valid\n",
       "-----------------  -----------  -----------  ------------  ------------  ------------  ------------  ------------\n",
       "mae                1.41704e+06  24782.6      1.36477e+06   1.40774e+06   1.42684e+06   1.4122e+06    1.47364e+06\n",
       "mse                7.77187e+12  8.27085e+11  6.72397e+12   7.36146e+12   7.80144e+12   6.9775e+12    9.99499e+12\n",
       "r2                 0.649965     0.026169     0.688117      0.587929      0.687287      0.648763      0.63773\n",
       "residual_deviance  7.77187e+12  8.27085e+11  6.72397e+12   7.36146e+12   7.80144e+12   6.9775e+12    9.99499e+12\n",
       "rmse               2.78047e+06  142931       2.59306e+06   2.7132e+06    2.79311e+06   2.6415e+06    3.16149e+06\n",
       "rmsle              0.475049     0.0102247    0.455556      0.485841      0.460848      0.493022      0.479979"
      ]
     },
     "metadata": {},
     "output_type": "display_data"
    },
    {
     "name": "stdout",
     "output_type": "stream",
     "text": [
      "Scoring History: \n"
     ]
    },
    {
     "data": {
      "text/html": [
       "<div style=\"overflow:auto\"><table style=\"width:50%\"><tr><td><b></b></td>\n",
       "<td><b>timestamp</b></td>\n",
       "<td><b>duration</b></td>\n",
       "<td><b>number_of_trees</b></td>\n",
       "<td><b>training_rmse</b></td>\n",
       "<td><b>training_mae</b></td>\n",
       "<td><b>training_deviance</b></td>\n",
       "<td><b>validation_rmse</b></td>\n",
       "<td><b>validation_mae</b></td>\n",
       "<td><b>validation_deviance</b></td></tr>\n",
       "<tr><td></td>\n",
       "<td>2017-06-05 03:26:44</td>\n",
       "<td> 8 min 57.291 sec</td>\n",
       "<td>0.0</td>\n",
       "<td>nan</td>\n",
       "<td>nan</td>\n",
       "<td>nan</td>\n",
       "<td>nan</td>\n",
       "<td>nan</td>\n",
       "<td>nan</td></tr>\n",
       "<tr><td></td>\n",
       "<td>2017-06-05 03:26:46</td>\n",
       "<td> 8 min 59.245 sec</td>\n",
       "<td>1.0</td>\n",
       "<td>3428599.4083627</td>\n",
       "<td>1734295.5815805</td>\n",
       "<td>11755293903025.0917969</td>\n",
       "<td>3510478.0400113</td>\n",
       "<td>1765267.7066853</td>\n",
       "<td>12323456069401.3593750</td></tr>\n",
       "<tr><td></td>\n",
       "<td>2017-06-05 03:26:48</td>\n",
       "<td> 9 min  0.986 sec</td>\n",
       "<td>2.0</td>\n",
       "<td>3396352.7079749</td>\n",
       "<td>1770604.6561886</td>\n",
       "<td>11535211716968.3183594</td>\n",
       "<td>2859874.0361189</td>\n",
       "<td>1544154.6780036</td>\n",
       "<td>8178879502466.7636719</td></tr>\n",
       "<tr><td></td>\n",
       "<td>2017-06-05 03:26:52</td>\n",
       "<td> 9 min  5.073 sec</td>\n",
       "<td>4.0</td>\n",
       "<td>3647711.4944021</td>\n",
       "<td>1768919.9123022</td>\n",
       "<td>13305799146392.9414062</td>\n",
       "<td>2708830.1783367</td>\n",
       "<td>1466679.8995300</td>\n",
       "<td>7337760935067.7353516</td></tr>\n",
       "<tr><td></td>\n",
       "<td>2017-06-05 03:26:56</td>\n",
       "<td> 9 min  9.342 sec</td>\n",
       "<td>6.0</td>\n",
       "<td>3565442.5341171</td>\n",
       "<td>1744458.1061040</td>\n",
       "<td>12712380464091.4960938</td>\n",
       "<td>2661197.8385555</td>\n",
       "<td>1427056.5928532</td>\n",
       "<td>7081973935932.3574219</td></tr>\n",
       "<tr><td></td>\n",
       "<td>2017-06-05 03:27:01</td>\n",
       "<td> 9 min 13.955 sec</td>\n",
       "<td>8.0</td>\n",
       "<td>3591498.8643313</td>\n",
       "<td>1755273.2833126</td>\n",
       "<td>12898864092493.2597656</td>\n",
       "<td>2641454.4294828</td>\n",
       "<td>1413570.9159118</td>\n",
       "<td>6977281503034.1894531</td></tr>\n",
       "<tr><td></td>\n",
       "<td>2017-06-05 03:27:05</td>\n",
       "<td> 9 min 18.037 sec</td>\n",
       "<td>10.0</td>\n",
       "<td>3730159.7371434</td>\n",
       "<td>1755924.5927201</td>\n",
       "<td>13914091664605.6445312</td>\n",
       "<td>2613744.0231559</td>\n",
       "<td>1397553.2252025</td>\n",
       "<td>6831657818583.1259766</td></tr>\n",
       "<tr><td></td>\n",
       "<td>2017-06-05 03:27:11</td>\n",
       "<td> 9 min 24.317 sec</td>\n",
       "<td>13.0</td>\n",
       "<td>3529458.9073459</td>\n",
       "<td>1724511.3412904</td>\n",
       "<td>12457080178643.0039062</td>\n",
       "<td>2569332.4936938</td>\n",
       "<td>1384894.9929575</td>\n",
       "<td>6601469463150.9755859</td></tr>\n",
       "<tr><td></td>\n",
       "<td>2017-06-05 03:27:15</td>\n",
       "<td> 9 min 28.589 sec</td>\n",
       "<td>15.0</td>\n",
       "<td>3433591.9715360</td>\n",
       "<td>1702973.8448800</td>\n",
       "<td>11789553826996.1484375</td>\n",
       "<td>2546998.9791539</td>\n",
       "<td>1377210.8464678</td>\n",
       "<td>6487203799810.8203125</td></tr>\n",
       "<tr><td></td>\n",
       "<td>2017-06-05 03:27:21</td>\n",
       "<td> 9 min 34.151 sec</td>\n",
       "<td>18.0</td>\n",
       "<td>3351937.9635663</td>\n",
       "<td>1675735.1508109</td>\n",
       "<td>11235488111597.0000000</td>\n",
       "<td>2538223.5783087</td>\n",
       "<td>1367020.3340523</td>\n",
       "<td>6442578933482.0097656</td></tr>\n",
       "<tr><td></td>\n",
       "<td>2017-06-05 03:27:27</td>\n",
       "<td> 9 min 40.141 sec</td>\n",
       "<td>21.0</td>\n",
       "<td>3298387.4182455</td>\n",
       "<td>1649226.0704827</td>\n",
       "<td>10879359560840.5019531</td>\n",
       "<td>2516944.6525144</td>\n",
       "<td>1361764.9151005</td>\n",
       "<td>6335010383820.6767578</td></tr>\n",
       "<tr><td></td>\n",
       "<td>2017-06-05 03:27:31</td>\n",
       "<td> 9 min 44.697 sec</td>\n",
       "<td>23.0</td>\n",
       "<td>3300012.7735667</td>\n",
       "<td>1636060.5209331</td>\n",
       "<td>10890084305703.2207031</td>\n",
       "<td>2500352.1464905</td>\n",
       "<td>1358291.5486589</td>\n",
       "<td>6251760856459.6611328</td></tr>\n",
       "<tr><td></td>\n",
       "<td>2017-06-05 03:27:35</td>\n",
       "<td> 9 min 48.826 sec</td>\n",
       "<td>25.0</td>\n",
       "<td>3237630.7290678</td>\n",
       "<td>1623070.8213451</td>\n",
       "<td>10482252737804.3535156</td>\n",
       "<td>2496109.7451260</td>\n",
       "<td>1355638.0465354</td>\n",
       "<td>6230563859712.9492188</td></tr>\n",
       "<tr><td></td>\n",
       "<td>2017-06-05 03:27:40</td>\n",
       "<td> 9 min 52.938 sec</td>\n",
       "<td>27.0</td>\n",
       "<td>3167874.8709959</td>\n",
       "<td>1602047.3742510</td>\n",
       "<td>10035431198287.2519531</td>\n",
       "<td>2493183.6478183</td>\n",
       "<td>1353099.2894680</td>\n",
       "<td>6215964701748.7089844</td></tr>\n",
       "<tr><td></td>\n",
       "<td>2017-06-05 03:27:44</td>\n",
       "<td> 9 min 57.228 sec</td>\n",
       "<td>29.0</td>\n",
       "<td>3146097.9124684</td>\n",
       "<td>1592747.9586110</td>\n",
       "<td>9897932074837.9726562</td>\n",
       "<td>2486973.5346833</td>\n",
       "<td>1349879.7690314</td>\n",
       "<td>6185037362215.3398438</td></tr></table></div>"
      ],
      "text/plain": [
       "    timestamp            duration          number_of_trees    training_rmse    training_mae    training_deviance    validation_rmse    validation_mae    validation_deviance\n",
       "--  -------------------  ----------------  -----------------  ---------------  --------------  -------------------  -----------------  ----------------  ---------------------\n",
       "    2017-06-05 03:26:44  8 min 57.291 sec  0                  nan              nan             nan                  nan                nan               nan\n",
       "    2017-06-05 03:26:46  8 min 59.245 sec  1                  3.4286e+06       1.7343e+06      1.17553e+13          3.51048e+06        1.76527e+06       1.23235e+13\n",
       "    2017-06-05 03:26:48  9 min  0.986 sec  2                  3.39635e+06      1.7706e+06      1.15352e+13          2.85987e+06        1.54415e+06       8.17888e+12\n",
       "    2017-06-05 03:26:52  9 min  5.073 sec  4                  3.64771e+06      1.76892e+06     1.33058e+13          2.70883e+06        1.46668e+06       7.33776e+12\n",
       "    2017-06-05 03:26:56  9 min  9.342 sec  6                  3.56544e+06      1.74446e+06     1.27124e+13          2.6612e+06         1.42706e+06       7.08197e+12\n",
       "    2017-06-05 03:27:01  9 min 13.955 sec  8                  3.5915e+06       1.75527e+06     1.28989e+13          2.64145e+06        1.41357e+06       6.97728e+12\n",
       "    2017-06-05 03:27:05  9 min 18.037 sec  10                 3.73016e+06      1.75592e+06     1.39141e+13          2.61374e+06        1.39755e+06       6.83166e+12\n",
       "    2017-06-05 03:27:11  9 min 24.317 sec  13                 3.52946e+06      1.72451e+06     1.24571e+13          2.56933e+06        1.38489e+06       6.60147e+12\n",
       "    2017-06-05 03:27:15  9 min 28.589 sec  15                 3.43359e+06      1.70297e+06     1.17896e+13          2.547e+06          1.37721e+06       6.4872e+12\n",
       "    2017-06-05 03:27:21  9 min 34.151 sec  18                 3.35194e+06      1.67574e+06     1.12355e+13          2.53822e+06        1.36702e+06       6.44258e+12\n",
       "    2017-06-05 03:27:27  9 min 40.141 sec  21                 3.29839e+06      1.64923e+06     1.08794e+13          2.51694e+06        1.36176e+06       6.33501e+12\n",
       "    2017-06-05 03:27:31  9 min 44.697 sec  23                 3.30001e+06      1.63606e+06     1.08901e+13          2.50035e+06        1.35829e+06       6.25176e+12\n",
       "    2017-06-05 03:27:35  9 min 48.826 sec  25                 3.23763e+06      1.62307e+06     1.04823e+13          2.49611e+06        1.35564e+06       6.23056e+12\n",
       "    2017-06-05 03:27:40  9 min 52.938 sec  27                 3.16787e+06      1.60205e+06     1.00354e+13          2.49318e+06        1.3531e+06        6.21596e+12\n",
       "    2017-06-05 03:27:44  9 min 57.228 sec  29                 3.1461e+06       1.59275e+06     9.89793e+12          2.48697e+06        1.34988e+06       6.18504e+12"
      ]
     },
     "metadata": {},
     "output_type": "display_data"
    },
    {
     "name": "stdout",
     "output_type": "stream",
     "text": [
      "Variable Importances: \n"
     ]
    },
    {
     "data": {
      "text/html": [
       "<div style=\"overflow:auto\"><table style=\"width:50%\"><tr><td><b>variable</b></td>\n",
       "<td><b>relative_importance</b></td>\n",
       "<td><b>scaled_importance</b></td>\n",
       "<td><b>percentage</b></td></tr>\n",
       "<tr><td>full_sq</td>\n",
       "<td>3870718535399374848.0000000</td>\n",
       "<td>1.0</td>\n",
       "<td>0.3264836</td></tr>\n",
       "<tr><td>num_room</td>\n",
       "<td>855140014542028800.0000000</td>\n",
       "<td>0.2209254</td>\n",
       "<td>0.0721285</td></tr>\n",
       "<tr><td>cafe_count_3000_price_2500</td>\n",
       "<td>542297998315487232.0000000</td>\n",
       "<td>0.1401027</td>\n",
       "<td>0.0457412</td></tr>\n",
       "<tr><td>life_sq</td>\n",
       "<td>537802782464278528.0000000</td>\n",
       "<td>0.1389413</td>\n",
       "<td>0.0453621</td></tr>\n",
       "<tr><td>cafe_count_3000</td>\n",
       "<td>391951740406071296.0000000</td>\n",
       "<td>0.1012607</td>\n",
       "<td>0.0330600</td></tr>\n",
       "<tr><td>---</td>\n",
       "<td>---</td>\n",
       "<td>---</td>\n",
       "<td>---</td></tr>\n",
       "<tr><td>0_6_all</td>\n",
       "<td>936498090213376.0000000</td>\n",
       "<td>0.0002419</td>\n",
       "<td>0.0000790</td></tr>\n",
       "<tr><td>mosque_count_1500</td>\n",
       "<td>921582272774144.0000000</td>\n",
       "<td>0.0002381</td>\n",
       "<td>0.0000777</td></tr>\n",
       "<tr><td>mosque_count_1000</td>\n",
       "<td>917919739412480.0000000</td>\n",
       "<td>0.0002371</td>\n",
       "<td>0.0000774</td></tr>\n",
       "<tr><td>mosque_count_2000</td>\n",
       "<td>455070743265280.0000000</td>\n",
       "<td>0.0001176</td>\n",
       "<td>0.0000384</td></tr>\n",
       "<tr><td>mosque_count_500</td>\n",
       "<td>381797594562560.0000000</td>\n",
       "<td>0.0000986</td>\n",
       "<td>0.0000322</td></tr></table></div>"
      ],
      "text/plain": [
       "variable                    relative_importance    scaled_importance       percentage\n",
       "--------------------------  ---------------------  ----------------------  ----------------------\n",
       "full_sq                     3.870718535399375e+18  1.0                     0.32648357036417514\n",
       "num_room                    8.551400145420288e+17  0.22092539323678742     0.07212851116805576\n",
       "cafe_count_3000_price_2500  5.422979983154872e+17  0.14010266914422745     0.04574121963975813\n",
       "life_sq                     5.378027824642785e+17  0.13894133028424627     0.04536206158234882\n",
       "cafe_count_3000             3.919517404060713e+17  0.1012607186034079      0.03305996094728267\n",
       "---                         ---                    ---                     ---\n",
       "0_6_all                     936498090213376.0      0.00024194424927793143  7.899082233333905e-05\n",
       "mosque_count_1500           921582272774144.0      0.0002380907483574123   7.773271759440633e-05\n",
       "mosque_count_1000           917919739412480.0      0.0002371445329898601   7.742379382287444e-05\n",
       "mosque_count_2000           455070743265280.0      0.00011756751081316391  3.8383860689110526e-05\n",
       "mosque_count_500            381797594562560.0      9.863739537526634e-05   3.2203489013539734e-05"
      ]
     },
     "metadata": {},
     "output_type": "display_data"
    },
    {
     "name": "stdout",
     "output_type": "stream",
     "text": [
      "\n",
      "See the whole table with table.as_data_frame()\n",
      "\n",
      "drf prediction progress: |████████████████████████████████████████████████| 100%\n"
     ]
    },
    {
     "data": {
      "text/html": [
       "<table>\n",
       "<thead>\n",
       "<tr><th style=\"text-align: right;\">  price_doc</th><th style=\"text-align: right;\">    predict</th></tr>\n",
       "</thead>\n",
       "<tbody>\n",
       "<tr><td style=\"text-align: right;\">1.26808e+07</td><td style=\"text-align: right;\">1.07788e+07</td></tr>\n",
       "<tr><td style=\"text-align: right;\">1.93601e+06</td><td style=\"text-align: right;\">6.43212e+06</td></tr>\n",
       "<tr><td style=\"text-align: right;\">1.93601e+06</td><td style=\"text-align: right;\">5.51126e+06</td></tr>\n",
       "<tr><td style=\"text-align: right;\">1.79081e+06</td><td style=\"text-align: right;\">7.176e+06  </td></tr>\n",
       "<tr><td style=\"text-align: right;\">6.09841e+06</td><td style=\"text-align: right;\">5.5673e+06 </td></tr>\n",
       "<tr><td style=\"text-align: right;\">7.64721e+06</td><td style=\"text-align: right;\">6.6827e+06 </td></tr>\n",
       "<tr><td style=\"text-align: right;\">5.03361e+06</td><td style=\"text-align: right;\">5.68846e+06</td></tr>\n",
       "<tr><td style=\"text-align: right;\">5.71121e+06</td><td style=\"text-align: right;\">5.31258e+06</td></tr>\n",
       "<tr><td style=\"text-align: right;\">1.77144e+07</td><td style=\"text-align: right;\">1.02017e+07</td></tr>\n",
       "<tr><td style=\"text-align: right;\">5.51761e+06</td><td style=\"text-align: right;\">5.18272e+06</td></tr>\n",
       "</tbody>\n",
       "</table>"
      ]
     },
     "metadata": {},
     "output_type": "display_data"
    },
    {
     "name": "stdout",
     "output_type": "stream",
     "text": [
      "\n"
     ]
    },
    {
     "data": {
      "image/png": "[encoded data removed]",
      "text/plain": [
       "<matplotlib.figure.Figure at 0x1168d0e80>"
      ]
     },
     "metadata": {},
     "output_type": "display_data"
    }
   ],
   "source": [
    "rmf_base3 = rmf_grid(original_nums, 'price_doc', train, valid)"
   ]
  },
  {
   "cell_type": "markdown",
   "metadata": {},
   "source": [
    "### Third model on encoded numeric inputs"
   ]
  },
  {
   "cell_type": "code",
   "execution_count": null,
   "metadata": {
    "collapsed": false
   },
   "outputs": [],
   "source": [
    "#glm2 = glm_grid(encoded_combined_nums, 'price_doc', train, valid)"
   ]
  },
  {
   "cell_type": "markdown",
   "metadata": {},
   "source": [
    "## Train combiner model"
   ]
  },
  {
   "cell_type": "code",
   "execution_count": 75,
   "metadata": {
    "collapsed": false
   },
   "outputs": [],
   "source": [
    "ensemble = H2OStackedEnsembleEstimator(base_models=list\n",
    "                                       ([gbm_base2.model_id,rmf_base3.model_id]))\n"
   ]
  },
  {
   "cell_type": "code",
   "execution_count": 76,
   "metadata": {
    "collapsed": false
   },
   "outputs": [
    {
     "name": "stdout",
     "output_type": "stream",
     "text": [
      "stackedensemble Model Build progress: |███████████████████████████████████| 100%\n"
     ]
    }
   ],
   "source": [
    "ensemble.train(training_frame=train, validation_frame=valid, x=original_nums, y='price_doc')"
   ]
  },
  {
   "cell_type": "code",
   "execution_count": 77,
   "metadata": {
    "collapsed": false
   },
   "outputs": [
    {
     "name": "stdout",
     "output_type": "stream",
     "text": [
      "stackedensemble prediction progress: |████████████████████████████████████| 100%\n"
     ]
    }
   ],
   "source": [
    "preds = ensemble.predict(test)"
   ]
  },
  {
   "cell_type": "code",
   "execution_count": 81,
   "metadata": {
    "collapsed": false
   },
   "outputs": [
    {
     "data": {
      "text/html": [
       "<table>\n",
       "<thead>\n",
       "<tr><th style=\"text-align: right;\">    predict</th></tr>\n",
       "</thead>\n",
       "<tbody>\n",
       "<tr><td style=\"text-align: right;\">6.91622e+06</td></tr>\n",
       "<tr><td style=\"text-align: right;\">6.91761e+06</td></tr>\n",
       "<tr><td style=\"text-align: right;\">6.91633e+06</td></tr>\n",
       "<tr><td style=\"text-align: right;\">6.9167e+06 </td></tr>\n",
       "<tr><td style=\"text-align: right;\">6.91609e+06</td></tr>\n",
       "<tr><td style=\"text-align: right;\">6.91837e+06</td></tr>\n",
       "<tr><td style=\"text-align: right;\">6.91571e+06</td></tr>\n",
       "<tr><td style=\"text-align: right;\">6.91568e+06</td></tr>\n",
       "<tr><td style=\"text-align: right;\">6.9157e+06 </td></tr>\n",
       "<tr><td style=\"text-align: right;\">6.9159e+06 </td></tr>\n",
       "</tbody>\n",
       "</table>"
      ]
     },
     "metadata": {},
     "output_type": "display_data"
    },
    {
     "data": {
      "text/plain": []
     },
     "execution_count": 81,
     "metadata": {},
     "output_type": "execute_result"
    }
   ],
   "source": [
    "preds"
   ]
  },
  {
   "cell_type": "code",
   "execution_count": null,
   "metadata": {
    "collapsed": true
   },
   "outputs": [],
   "source": []
  }
 ],
 "metadata": {
  "kernelspec": {
   "display_name": "Python 3",
   "language": "python",
   "name": "python3"
  },
  "language_info": {
   "codemirror_mode": {
    "name": "ipython",
    "version": 3
   },
   "file_extension": ".py",
   "mimetype": "text/x-python",
   "name": "python",
   "nbconvert_exporter": "python",
   "pygments_lexer": "ipython3",
   "version": "3.6.0"
  }
 },
 "nbformat": 4,
 "nbformat_minor": 0
}
