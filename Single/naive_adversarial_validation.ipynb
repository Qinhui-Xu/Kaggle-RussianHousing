{
 "cells": [
  {
   "cell_type": "code",
   "execution_count": null,
   "metadata": {
    "collapsed": true
   },
   "outputs": [],
   "source": [
    "#Load data\n",
    "train = pd.read_csv('train.csv')\n",
    "test = pd.read_csv('test.csv')\n",
    "id_test = test.id\n",
    "\n",
    "y_train = train[\"price_doc\"]\n",
    "x_train = train.drop([\"id\", \"timestamp\", \"price_doc\"], axis=1)\n",
    "x_test = test.drop([\"id\", \"timestamp\"], axis=1)\n",
    "\n",
    "for c in x_train.columns:\n",
    "    if x_train[c].dtype == 'object':\n",
    "        lbl = preprocessing.LabelEncoder()\n",
    "        lbl.fit(list(x_train[c].values)) \n",
    "        x_train[c] = lbl.transform(list(x_train[c].values))\n",
    "        \n",
    "for c in x_test.columns:\n",
    "    if x_test[c].dtype == 'object':\n",
    "        lbl = preprocessing.LabelEncoder()\n",
    "        lbl.fit(list(x_test[c].values)) \n",
    "        x_test[c] = lbl.transform(list(x_test[c].values))\n",
    "\n",
    "xgb_params = {\n",
    "    'eta': 0.05,\n",
    "    'max_depth': 5,\n",
    "    'subsample': 0.7,\n",
    "    'colsample_bytree': 0.7,\n",
    "    'objective': 'reg:linear',\n",
    "    'eval_metric': 'rmse',\n",
    "    'silent': 1\n",
    "}"
   ]
  },
  {
   "cell_type": "code",
   "execution_count": null,
   "metadata": {
    "collapsed": true
   },
   "outputs": [],
   "source": [
    "#Adversarial validation\n",
    "xtrain = x_train\n",
    "xtest = x_test\n",
    "\n",
    "xtrain.fillna(-1,inplace = True)\n",
    "xtest.fillna(-1, inplace = True)"
   ]
  },
  {
   "cell_type": "code",
   "execution_count": null,
   "metadata": {
    "collapsed": true
   },
   "outputs": [],
   "source": [
    "# add identifier and combine\n",
    "xtrain['istrain'] = 1\n",
    "xtest['istrain'] = 0\n",
    "xdat = pd.concat([xtrain, xtest], axis = 0)\n",
    "\n",
    "# convert non-numerical columns to integers\n",
    "df_numeric = xdat.select_dtypes(exclude=['object'])\n",
    "df_obj = xdat.select_dtypes(include=['object']).copy()\n",
    "    \n",
    "for c in df_obj:\n",
    "    df_obj[c] = pd.factorize(df_obj[c])[0]\n",
    "    \n",
    "xdat = pd.concat([df_numeric, df_obj], axis=1)\n",
    "y = xdat['istrain']; xdat.drop('istrain', axis = 1, inplace = True)"
   ]
  },
  {
   "cell_type": "code",
   "execution_count": null,
   "metadata": {
    "collapsed": true
   },
   "outputs": [],
   "source": [
    "x_train = x_train.drop('istrain',axis=1)\n",
    "x_test = x_test.drop('istrain',axis=1)\n",
    "\n",
    "#use XGboost to predict\n",
    "skf = StratifiedKFold(n_splits = 5, shuffle = True, random_state = 44)\n",
    "xgb_params = {\n",
    "        'learning_rate': 0.05, 'max_depth': 4,'subsample': 0.9,\n",
    "        'colsample_bytree': 0.9,'objective': 'binary:logistic',\n",
    "        'silent': 1, 'n_estimators':100, 'gamma':1,\n",
    "        'min_child_weight':4\n",
    "        }   \n",
    "clf = xgb.XGBClassifier(**xgb_params, seed = 10)  "
   ]
  },
  {
   "cell_type": "code",
   "execution_count": null,
   "metadata": {
    "collapsed": true
   },
   "outputs": [],
   "source": [
    "for train_index, test_index in skf.split(xdat, y):\n",
    "        x0, x1 = xdat.iloc[train_index], xdat.iloc[test_index]\n",
    "        y0, y1 = y.iloc[train_index], y.iloc[test_index]        \n",
    "        print(x0.shape)\n",
    "        clf.fit(x0, y0, eval_set=[(x1, y1)],\n",
    "               eval_metric='logloss', verbose=False,early_stopping_rounds=10)\n",
    "                \n",
    "        prval = clf.predict_proba(x1)[:,1]\n",
    "        print(roc_auc_score(y1,prval))"
   ]
  },
  {
   "cell_type": "code",
   "execution_count": null,
   "metadata": {
    "collapsed": true
   },
   "outputs": [],
   "source": [
    "rt = xdat.iloc[train_index]\n",
    "rt['y'] = clf.predict_proba(rt)[:,1]\n",
    "\n",
    "#set validation set as 0.3\n",
    "dev = rt.sort(['y'],ascending = 0).head(21277)\n",
    "dev_index = dev.index"
   ]
  },
  {
   "cell_type": "code",
   "execution_count": null,
   "metadata": {
    "collapsed": true
   },
   "outputs": [],
   "source": [
    "val_X = x_train[~x_train.index.isin(dev_index)]\n",
    "val_y = y_train[~y_train.index.isin(dev_index)]\n",
    "\n",
    "dev_X = x_train.ix[dev_index]\n",
    "dev_y = y_train.ix[dev_index]"
   ]
  },
  {
   "cell_type": "code",
   "execution_count": null,
   "metadata": {
    "collapsed": true
   },
   "outputs": [],
   "source": [
    "xgtrain = xgb.DMatrix(dev_X, dev_y, feature_names=dev_X.columns)\n",
    "xgtest = xgb.DMatrix(val_X, val_y, feature_names=val_X.columns)\n",
    "watchlist = [ (xgtrain,'train'), (xgtest, 'test') ]\n",
    "\n",
    "\n",
    "num_boost_rounds = 384  # This was the CV output, as earlier version shows\n",
    "#model = xgb.train(dict(xgb_params, silent=0), dtrain, num_boost_round= num_boost_rounds)\n",
    "model = xgb.train(xgb_params, xgtrain, num_boost_rounds, watchlist, early_stopping_rounds=20, verbose_eval=5)"
   ]
  },
  {
   "cell_type": "code",
   "execution_count": null,
   "metadata": {
    "collapsed": true
   },
   "outputs": [],
   "source": [
    "dtest = xgb.DMatrix(x_test)\n",
    "y_predict = model.predict(dtest)\n",
    "\n",
    "op2 = pd.DataFrame({'id': id_test, 'price_doc': y_predict})\n",
    "op2.head()"
   ]
  }
 ],
 "metadata": {
  "anaconda-cloud": {},
  "kernelspec": {
   "display_name": "Python [conda root]",
   "language": "python",
   "name": "conda-root-py"
  },
  "language_info": {
   "codemirror_mode": {
    "name": "ipython",
    "version": 3
   },
   "file_extension": ".py",
   "mimetype": "text/x-python",
   "name": "python",
   "nbconvert_exporter": "python",
   "pygments_lexer": "ipython3",
   "version": "3.5.2"
  }
 },
 "nbformat": 4,
 "nbformat_minor": 2
}
