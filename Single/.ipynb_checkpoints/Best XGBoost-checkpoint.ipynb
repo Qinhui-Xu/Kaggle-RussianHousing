{
 "cells": [
  {
   "cell_type": "markdown",
   "metadata": {},
   "source": [
    "# Best Single Model using training dataset and macro dataset"
   ]
  },
  {
   "cell_type": "code",
   "execution_count": 1,
   "metadata": {
    "collapsed": true
   },
   "outputs": [],
   "source": [
    "import numpy as np\n",
    "import pandas as pd\n",
    "import matplotlib.pyplot as plt\n",
    "import seaborn as sns\n",
    "from sklearn import model_selection, preprocessing\n",
    "import xgboost as xgb\n",
    "import datetime\n",
    "import math\n",
    "from numpy.random import uniform "
   ]
  },
  {
   "cell_type": "markdown",
   "metadata": {},
   "source": [
    "# Load Files"
   ]
  },
  {
   "cell_type": "code",
   "execution_count": 2,
   "metadata": {
    "collapsed": true
   },
   "outputs": [],
   "source": [
    "train = pd.read_csv('/Users/qinhuixu/Desktop/Kaggle/RussianHousing/xqh/data/train.csv', parse_dates=['timestamp'])\n",
    "test = pd.read_csv('/Users/qinhuixu/Desktop/Kaggle/RussianHousing/xqh/data/test.csv', parse_dates=['timestamp'])\n",
    "macro = pd.read_csv('/Users/qinhuixu/Desktop/Kaggle/RussianHousing/xqh/data/macro.csv', parse_dates=['timestamp'])\n",
    "id_test = test.id"
   ]
  },
  {
   "cell_type": "code",
   "execution_count": 10,
   "metadata": {
    "collapsed": true
   },
   "outputs": [],
   "source": [
    "#Make an inner join for train dataset and macro dataset\n",
    "train_macro = pd.merge(train,macro)\n",
    "test_macro = pd.merge(test,macro)"
   ]
  },
  {
   "cell_type": "code",
   "execution_count": 19,
   "metadata": {
    "collapsed": true
   },
   "outputs": [],
   "source": [
    "train = train_macro\n",
    "test = test_macro"
   ]
  },
  {
   "cell_type": "markdown",
   "metadata": {},
   "source": [
    "# Remove Outliers"
   ]
  },
  {
   "cell_type": "code",
   "execution_count": 20,
   "metadata": {
    "collapsed": false
   },
   "outputs": [
    {
     "data": {
      "text/plain": [
       "2.0    2662\n",
       "1.0    2266\n",
       "3.0    1913\n",
       "4.0     127\n",
       "Name: state, dtype: int64"
      ]
     },
     "execution_count": 20,
     "metadata": {},
     "output_type": "execute_result"
    }
   ],
   "source": [
    "#multiplier = 0.969\n",
    "#clean data\n",
    "bad_index = train[train.life_sq > train.full_sq].index\n",
    "train.ix[bad_index, \"life_sq\"] = np.NaN\n",
    "equal_index = [601,1896,2791]\n",
    "test.ix[equal_index, \"life_sq\"] = test.ix[equal_index, \"full_sq\"]\n",
    "bad_index = test[test.life_sq > test.full_sq].index\n",
    "test.ix[bad_index, \"life_sq\"] = np.NaN\n",
    "bad_index = train[train.life_sq < 5].index\n",
    "train.ix[bad_index, \"life_sq\"] = np.NaN\n",
    "bad_index = test[test.life_sq < 5].index\n",
    "test.ix[bad_index, \"life_sq\"] = np.NaN\n",
    "bad_index = train[train.full_sq < 5].index\n",
    "train.ix[bad_index, \"full_sq\"] = np.NaN\n",
    "bad_index = test[test.full_sq < 5].index\n",
    "test.ix[bad_index, \"full_sq\"] = np.NaN\n",
    "kitch_is_build_year = [13117]\n",
    "train.ix[kitch_is_build_year, \"build_year\"] = train.ix[kitch_is_build_year, \"kitch_sq\"]\n",
    "bad_index = train[train.kitch_sq >= train.life_sq].index\n",
    "train.ix[bad_index, \"kitch_sq\"] = np.NaN\n",
    "bad_index = test[test.kitch_sq >= test.life_sq].index\n",
    "test.ix[bad_index, \"kitch_sq\"] = np.NaN\n",
    "bad_index = train[(train.kitch_sq == 0).values + (train.kitch_sq == 1).values].index\n",
    "train.ix[bad_index, \"kitch_sq\"] = np.NaN\n",
    "bad_index = test[(test.kitch_sq == 0).values + (test.kitch_sq == 1).values].index\n",
    "test.ix[bad_index, \"kitch_sq\"] = np.NaN\n",
    "bad_index = train[(train.full_sq > 210) & (train.life_sq / train.full_sq < 0.3)].index\n",
    "train.ix[bad_index, \"full_sq\"] = np.NaN\n",
    "bad_index = test[(test.full_sq > 150) & (test.life_sq / test.full_sq < 0.3)].index\n",
    "test.ix[bad_index, \"full_sq\"] = np.NaN\n",
    "bad_index = train[train.life_sq > 300].index\n",
    "train.ix[bad_index, [\"life_sq\", \"full_sq\"]] = np.NaN\n",
    "bad_index = test[test.life_sq > 200].index\n",
    "test.ix[bad_index, [\"life_sq\", \"full_sq\"]] = np.NaN\n",
    "train.product_type.value_counts(normalize= True)\n",
    "test.product_type.value_counts(normalize= True)\n",
    "bad_index = train[train.build_year < 1500].index\n",
    "train.ix[bad_index, \"build_year\"] = np.NaN\n",
    "bad_index = test[test.build_year < 1500].index\n",
    "test.ix[bad_index, \"build_year\"] = np.NaN\n",
    "bad_index = train[train.num_room == 0].index \n",
    "train.ix[bad_index, \"num_room\"] = np.NaN\n",
    "bad_index = test[test.num_room == 0].index \n",
    "test.ix[bad_index, \"num_room\"] = np.NaN\n",
    "bad_index = [10076, 11621, 17764, 19390, 24007, 26713, 29172]\n",
    "train.ix[bad_index, \"num_room\"] = np.NaN\n",
    "bad_index = [3174, 7313]\n",
    "test.ix[bad_index, \"num_room\"] = np.NaN\n",
    "bad_index = train[(train.floor == 0).values * (train.max_floor == 0).values].index\n",
    "train.ix[bad_index, [\"max_floor\", \"floor\"]] = np.NaN\n",
    "bad_index = train[train.floor == 0].index\n",
    "train.ix[bad_index, \"floor\"] = np.NaN\n",
    "bad_index = train[train.max_floor == 0].index\n",
    "train.ix[bad_index, \"max_floor\"] = np.NaN\n",
    "bad_index = test[test.max_floor == 0].index\n",
    "test.ix[bad_index, \"max_floor\"] = np.NaN\n",
    "bad_index = train[train.floor > train.max_floor].index\n",
    "train.ix[bad_index, \"max_floor\"] = np.NaN\n",
    "bad_index = test[test.floor > test.max_floor].index\n",
    "test.ix[bad_index, \"max_floor\"] = np.NaN\n",
    "train.floor.describe(percentiles= [0.9999])\n",
    "bad_index = [23584]\n",
    "train.ix[bad_index, \"floor\"] = np.NaN\n",
    "train.material.value_counts()\n",
    "test.material.value_counts()\n",
    "train.state.value_counts()\n",
    "bad_index = train[train.state == 33].index\n",
    "train.ix[bad_index, \"state\"] = np.NaN\n",
    "test.state.value_counts()"
   ]
  },
  {
   "cell_type": "code",
   "execution_count": 21,
   "metadata": {
    "collapsed": true
   },
   "outputs": [],
   "source": [
    "# brings error down a lot by removing extreme price per sqm\n",
    "train.loc[train.full_sq == 0, 'full_sq'] = 50\n",
    "train = train[train.price_doc/train.full_sq <= 600000]\n",
    "train = train[train.price_doc/train.full_sq >= 10000]"
   ]
  },
  {
   "cell_type": "markdown",
   "metadata": {},
   "source": [
    "# Feature Creation"
   ]
  },
  {
   "cell_type": "code",
   "execution_count": 29,
   "metadata": {
    "collapsed": false
   },
   "outputs": [],
   "source": [
    "# Add month-year\n",
    "month_year = (train.timestamp.dt.month + train.timestamp.dt.year * 100)\n",
    "month_year_cnt_map = month_year.value_counts().to_dict()\n",
    "train['month_year_cnt'] = month_year.map(month_year_cnt_map)\n",
    "\n",
    "month_year = (test.timestamp.dt.month + test.timestamp.dt.year * 100)\n",
    "month_year_cnt_map = month_year.value_counts().to_dict()\n",
    "test['month_year_cnt'] = month_year.map(month_year_cnt_map)\n",
    "\n",
    "# Add week-year count\n",
    "week_year = (train.timestamp.dt.weekofyear + train.timestamp.dt.year * 100)\n",
    "week_year_cnt_map = week_year.value_counts().to_dict()\n",
    "train['week_year_cnt'] = week_year.map(week_year_cnt_map)\n",
    "\n",
    "week_year = (test.timestamp.dt.weekofyear + test.timestamp.dt.year * 100)\n",
    "week_year_cnt_map = week_year.value_counts().to_dict()\n",
    "test['week_year_cnt'] = week_year.map(week_year_cnt_map)\n",
    "\n",
    "# Add month and day-of-week\n",
    "train['month'] = train.timestamp.dt.month\n",
    "train['dow'] = train.timestamp.dt.dayofweek\n",
    "\n",
    "test['month'] = test.timestamp.dt.month\n",
    "test['dow'] = test.timestamp.dt.dayofweek\n",
    "\n",
    "# Add how many years passed\n",
    "#print(\"duration creating\")\n",
    "train['duration'] = train.timestamp.dt.year - train[\"build_year\"]\n",
    "test['duration'] = test.timestamp.dt.year - test[\"build_year\"]\n"
   ]
  },
  {
   "cell_type": "code",
   "execution_count": 30,
   "metadata": {
    "collapsed": true
   },
   "outputs": [],
   "source": [
    "# Feature Engineering based on house itself\n",
    "train['rel_floor'] = train['floor'] / train['max_floor'].astype(float)\n",
    "train['rel_kitch_sq'] = train['kitch_sq'] / train['full_sq'].astype(float)\n",
    "train['rel_kitchlife_sq'] = train['kitch_sq'] / train['life_sq'].astype(float)\n",
    "\n",
    "test['rel_floor'] = test['floor'] / test['max_floor'].astype(float)\n",
    "test['rel_kitch_sq'] = test['kitch_sq'] / test['full_sq'].astype(float)\n",
    "test['rel_kitchlife_sq'] = test['kitch_sq'] / test['life_sq'].astype(float)\n",
    "\n",
    "train.apartment_name=train.sub_area + train['metro_km_avto'].astype(str)\n",
    "test.apartment_name=test.sub_area + train['metro_km_avto'].astype(str)\n",
    "\n",
    "train['room_size'] = train['life_sq'] / train['num_room'].astype(float)\n",
    "test['room_size'] = test['life_sq'] / test['num_room'].astype(float)\n",
    "\n",
    "train['avg_room_size'] = train['full_sq'] / train['num_room'].astype(float)\n",
    "test['avg_room_size'] = test['full_sq'] / test['num_room'].astype(float)"
   ]
  },
  {
   "cell_type": "code",
   "execution_count": 31,
   "metadata": {
    "collapsed": true
   },
   "outputs": [],
   "source": [
    "# Feature Engineering based on neighbor\n",
    "train['green_zone'] = train[\"green_zone_part\"]*train[\"area_m\"]\n",
    "test['green_zone'] = test[\"green_zone_part\"]*test[\"area_m\"]\n",
    "\n",
    "train['neighbor_density'] = train['raion_popul']/train[\"area_m\"]\n",
    "test['neighbor_density'] = test['raion_popul']/test[\"area_m\"]\n",
    "\n",
    "train['industry_zone'] = train[\"indust_part\"]*train[\"area_m\"]\n",
    "test['industry_zone'] = test[\"indust_part\"]*test[\"area_m\"]\n",
    "\n",
    "#preschool\n",
    "train['rel_preschoolseat'] = train['children_preschool']/train['preschool_quota']\n",
    "test['rel_preschoolseat'] = test['children_preschool']/test['preschool_quota']\n",
    "\n",
    "train['rel_preschoolcenter'] = train['children_preschool']/train['preschool_education_centers_raion']\n",
    "test['rel_preschoolcenter'] = test['children_preschool']/test['preschool_education_centers_raion']\n",
    "\n",
    "#school\n",
    "train['rel_schoolseat'] = train['children_school']/train['school_quota']\n",
    "test['rel_schoolseat'] = test['children_school']/test['school_quota']\n",
    "\n",
    "train['rel_schoolcenter'] = train['children_school']/train['school_education_centers_raion']\n",
    "test['rel_schoolcenter'] = test['children_school']/test['school_education_centers_raion']\n",
    "\n",
    "train['rel_schooltopcenter'] = train['children_school']/train['school_education_centers_top_20_raion']\n",
    "test['rel_schooltopcenter'] = test['children_school']/test['school_education_centers_top_20_raion']"
   ]
  },
  {
   "cell_type": "code",
   "execution_count": 32,
   "metadata": {
    "collapsed": true
   },
   "outputs": [],
   "source": [
    "# Female percent and male percent\n",
    "train['male_percent'] = train['male_f']/train['full_all']\n",
    "test['male_percent'] = test['male_f']/test['full_all']\n",
    "\n",
    "train['female_percent'] = train['female_f']/train['full_all']\n",
    "test['female_percent'] = test['female_f']/test['full_all']\n",
    "\n",
    "train['young_percent'] = train['young_all']/train['full_all']\n",
    "test['young_percent'] = test['young_all']/test['full_all']\n",
    "\n",
    "train['work_percent'] = train['work_all']/train['full_all']\n",
    "test['work_percent'] = test['work_all']/test['full_all']\n",
    "\n",
    "train['elder_percent'] = train['ekder_all']/train['full_all']\n",
    "test['elder_percent'] = test['ekder_all']/test['full_all']"
   ]
  },
  {
   "cell_type": "code",
   "execution_count": 33,
   "metadata": {
    "collapsed": true
   },
   "outputs": [],
   "source": [
    "# hospitals\n",
    "train['hospitals_people'] = train['full_all']/train['healthcare_centers_raion']\n",
    "test['hospitals_people'] = test['full_all']/test['healthcare_centers_raion']"
   ]
  },
  {
   "cell_type": "code",
   "execution_count": 34,
   "metadata": {
    "collapsed": true
   },
   "outputs": [],
   "source": [
    "# Weight distance based on population\n",
    "train[\"weight_kindergarten_km\"] = train[\"kindergarten_km\"]*train['0_6_all']/train['full_all']\n",
    "test[\"weight_kindergarten_km\"] = test[\"kindergarten_km\"]*test['0_6_all']/test['full_all']\n",
    "\n",
    "train[\"weight_school_km\"] = train[\"school_km\"]*train['7_14_all']/train['full_all']\n",
    "test[\"weight_school_km\"] = test[\"school_km\"]*test['7_14_all']/test['full_all']\n",
    "\n",
    "train[\"weight_school_km\"] = train[\"school_km\"]*train['7_14_all']/train['full_all']\n",
    "test[\"weight_school_km\"] = test[\"school_km\"]*test['7_14_all']/test['full_all']\n",
    "\n",
    "train[\"weight_school_km\"] = train[\"school_km\"]*train['7_14_all']/train['full_all']\n",
    "test[\"weight_school_km\"] = test[\"school_km\"]*test['7_14_all']/test['full_all']"
   ]
  },
  {
   "cell_type": "code",
   "execution_count": 36,
   "metadata": {
    "collapsed": true
   },
   "outputs": [],
   "source": [
    "# Creating Apartment Name Feature\n",
    "train['apartment_name'] = train.sub_area + train['metro_km_avto'].astype(str)\n",
    "test['apartment_name'] = test.sub_area + test['metro_km_avto'].astype(str)"
   ]
  },
  {
   "cell_type": "code",
   "execution_count": 37,
   "metadata": {
    "collapsed": true
   },
   "outputs": [],
   "source": [
    "rate_2016_q2 = 1\n",
    "rate_2016_q1 = rate_2016_q2 / .99903\n",
    "rate_2015_q4 = rate_2016_q1 / .9831\n",
    "rate_2015_q3 = rate_2015_q4 / .9834\n",
    "rate_2015_q2 = rate_2015_q3 / .9815\n",
    "rate_2015_q1 = rate_2015_q2 / .9932\n",
    "rate_2014_q4 = rate_2015_q1 / 1.0112\n",
    "rate_2014_q3 = rate_2014_q4 / 1.0169\n",
    "rate_2014_q2 = rate_2014_q3 / 1.0086\n",
    "rate_2014_q1 = rate_2014_q2 / 1.0126\n",
    "rate_2013_q4 = rate_2014_q1 / 0.9902\n",
    "rate_2013_q3 = rate_2013_q4 / 1.0041\n",
    "rate_2013_q2 = rate_2013_q3 / 1.0044\n",
    "rate_2013_q1 = rate_2013_q2 / 1.0104\n",
    "rate_2012_q4 = rate_2013_q1 / 0.9832\n",
    "rate_2012_q3 = rate_2012_q4 / 1.0277\n",
    "rate_2012_q2 = rate_2012_q3 / 1.0279\n",
    "rate_2012_q1 = rate_2012_q2 / 1.0279\n",
    "rate_2011_q4 = rate_2012_q1 / 1.076\n",
    "rate_2011_q3 = rate_2011_q4 / 1.0236\n",
    "rate_2011_q2 = rate_2011_q3 / 1\n",
    "rate_2011_q1 = rate_2011_q2 / 1.011\n"
   ]
  },
  {
   "cell_type": "code",
   "execution_count": 38,
   "metadata": {
    "collapsed": false
   },
   "outputs": [
    {
     "name": "stdout",
     "output_type": "stream",
     "text": [
      "price changed done\n"
     ]
    }
   ],
   "source": [
    "# test data\n",
    "test['average_q_price'] = 1\n",
    "\n",
    "test_2016_q2_index = test.loc[test['timestamp'].dt.year == 2016].loc[test['timestamp'].dt.month >= 4].loc[test['timestamp'].dt.month <= 7].index\n",
    "test.loc[test_2016_q2_index, 'average_q_price'] = rate_2016_q2\n",
    "# test.loc[test_2016_q2_index, 'year_q'] = '2016_q2'\n",
    "\n",
    "test_2016_q1_index = test.loc[test['timestamp'].dt.year == 2016].loc[test['timestamp'].dt.month >= 1].loc[test['timestamp'].dt.month < 4].index\n",
    "test.loc[test_2016_q1_index, 'average_q_price'] = rate_2016_q1\n",
    "# test.loc[test_2016_q2_index, 'year_q'] = '2016_q1'\n",
    "\n",
    "test_2015_q4_index = test.loc[test['timestamp'].dt.year == 2015].loc[test['timestamp'].dt.month >= 10].loc[test['timestamp'].dt.month < 12].index\n",
    "test.loc[test_2015_q4_index, 'average_q_price'] = rate_2015_q4\n",
    "# test.loc[test_2015_q4_index, 'year_q'] = '2015_q4'\n",
    "\n",
    "test_2015_q3_index = test.loc[test['timestamp'].dt.year == 2015].loc[test['timestamp'].dt.month >= 7].loc[test['timestamp'].dt.month < 10].index\n",
    "test.loc[test_2015_q3_index, 'average_q_price'] = rate_2015_q3\n",
    "# test.loc[test_2015_q3_index, 'year_q'] = '2015_q3'\n",
    "\n",
    "# test_2015_q2_index = test.loc[test['timestamp'].dt.year == 2015].loc[test['timestamp'].dt.month >= 4].loc[test['timestamp'].dt.month < 7].index\n",
    "# test.loc[test_2015_q2_index, 'average_q_price'] = rate_2015_q2\n",
    "\n",
    "# test_2015_q1_index = test.loc[test['timestamp'].dt.year == 2015].loc[test['timestamp'].dt.month >= 4].loc[test['timestamp'].dt.month < 7].index\n",
    "# test.loc[test_2015_q1_index, 'average_q_price'] = rate_2015_q1\n",
    "\n",
    "\n",
    "# train 2015\n",
    "train['average_q_price'] = 1\n",
    "\n",
    "train_2015_q4_index = train.loc[train['timestamp'].dt.year == 2015].loc[train['timestamp'].dt.month >= 10].loc[train['timestamp'].dt.month <= 12].index\n",
    "# train.loc[train_2015_q4_index, 'price_doc'] = train.loc[train_2015_q4_index, 'price_doc'] * rate_2015_q4\n",
    "train.loc[train_2015_q4_index, 'average_q_price'] = rate_2015_q4\n",
    "\n",
    "train_2015_q3_index = train.loc[train['timestamp'].dt.year == 2015].loc[train['timestamp'].dt.month >= 7].loc[train['timestamp'].dt.month < 10].index\n",
    "#train.loc[train_2015_q3_index, 'price_doc'] = train.loc[train_2015_q3_index, 'price_doc'] * rate_2015_q3\n",
    "train.loc[train_2015_q3_index, 'average_q_price'] = rate_2015_q3\n",
    "\n",
    "train_2015_q2_index = train.loc[train['timestamp'].dt.year == 2015].loc[train['timestamp'].dt.month >= 4].loc[train['timestamp'].dt.month < 7].index\n",
    "#train.loc[train_2015_q2_index, 'price_doc'] = train.loc[train_2015_q2_index, 'price_doc'] * rate_2015_q2\n",
    "train.loc[train_2015_q2_index, 'average_q_price'] = rate_2015_q2\n",
    "\n",
    "train_2015_q1_index = train.loc[train['timestamp'].dt.year == 2015].loc[train['timestamp'].dt.month >= 1].loc[train['timestamp'].dt.month < 4].index\n",
    "#train.loc[train_2015_q1_index, 'price_doc'] = train.loc[train_2015_q1_index, 'price_doc'] * rate_2015_q1\n",
    "train.loc[train_2015_q1_index, 'average_q_price'] = rate_2015_q1\n",
    "\n",
    "\n",
    "# train 2014\n",
    "train_2014_q4_index = train.loc[train['timestamp'].dt.year == 2014].loc[train['timestamp'].dt.month >= 10].loc[train['timestamp'].dt.month <= 12].index\n",
    "#train.loc[train_2014_q4_index, 'price_doc'] = train.loc[train_2014_q4_index, 'price_doc'] * rate_2014_q4\n",
    "train.loc[train_2014_q4_index, 'average_q_price'] = rate_2014_q4\n",
    "\n",
    "train_2014_q3_index = train.loc[train['timestamp'].dt.year == 2014].loc[train['timestamp'].dt.month >= 7].loc[train['timestamp'].dt.month < 10].index\n",
    "#train.loc[train_2014_q3_index, 'price_doc'] = train.loc[train_2014_q3_index, 'price_doc'] * rate_2014_q3\n",
    "train.loc[train_2014_q3_index, 'average_q_price'] = rate_2014_q3\n",
    "\n",
    "train_2014_q2_index = train.loc[train['timestamp'].dt.year == 2014].loc[train['timestamp'].dt.month >= 4].loc[train['timestamp'].dt.month < 7].index\n",
    "#train.loc[train_2014_q2_index, 'price_doc'] = train.loc[train_2014_q2_index, 'price_doc'] * rate_2014_q2\n",
    "train.loc[train_2014_q2_index, 'average_q_price'] = rate_2014_q2\n",
    "\n",
    "train_2014_q1_index = train.loc[train['timestamp'].dt.year == 2014].loc[train['timestamp'].dt.month >= 1].loc[train['timestamp'].dt.month < 4].index\n",
    "#train.loc[train_2014_q1_index, 'price_doc'] = train.loc[train_2014_q1_index, 'price_doc'] * rate_2014_q1\n",
    "train.loc[train_2014_q1_index, 'average_q_price'] = rate_2014_q1\n",
    "\n",
    "\n",
    "# train 2013\n",
    "train_2013_q4_index = train.loc[train['timestamp'].dt.year == 2013].loc[train['timestamp'].dt.month >= 10].loc[train['timestamp'].dt.month <= 12].index\n",
    "# train.loc[train_2013_q4_index, 'price_doc'] = train.loc[train_2013_q4_index, 'price_doc'] * rate_2013_q4\n",
    "train.loc[train_2013_q4_index, 'average_q_price'] = rate_2013_q4\n",
    "\n",
    "train_2013_q3_index = train.loc[train['timestamp'].dt.year == 2013].loc[train['timestamp'].dt.month >= 7].loc[train['timestamp'].dt.month < 10].index\n",
    "# train.loc[train_2013_q3_index, 'price_doc'] = train.loc[train_2013_q3_index, 'price_doc'] * rate_2013_q3\n",
    "train.loc[train_2013_q3_index, 'average_q_price'] = rate_2013_q3\n",
    "\n",
    "train_2013_q2_index = train.loc[train['timestamp'].dt.year == 2013].loc[train['timestamp'].dt.month >= 4].loc[train['timestamp'].dt.month < 7].index\n",
    "# train.loc[train_2013_q2_index, 'price_doc'] = train.loc[train_2013_q2_index, 'price_doc'] * rate_2013_q2\n",
    "train.loc[train_2013_q2_index, 'average_q_price'] = rate_2013_q2\n",
    "\n",
    "train_2013_q1_index = train.loc[train['timestamp'].dt.year == 2013].loc[train['timestamp'].dt.month >= 1].loc[train['timestamp'].dt.month < 4].index\n",
    "# train.loc[train_2013_q1_index, 'price_doc'] = train.loc[train_2013_q1_index, 'price_doc'] * rate_2013_q1\n",
    "train.loc[train_2013_q1_index, 'average_q_price'] = rate_2013_q1\n",
    "\n",
    "\n",
    "# train 2012\n",
    "train_2012_q4_index = train.loc[train['timestamp'].dt.year == 2012].loc[train['timestamp'].dt.month >= 10].loc[train['timestamp'].dt.month <= 12].index\n",
    "# train.loc[train_2012_q4_index, 'price_doc'] = train.loc[train_2012_q4_index, 'price_doc'] * rate_2012_q4\n",
    "train.loc[train_2012_q4_index, 'average_q_price'] = rate_2012_q4\n",
    "\n",
    "train_2012_q3_index = train.loc[train['timestamp'].dt.year == 2012].loc[train['timestamp'].dt.month >= 7].loc[train['timestamp'].dt.month < 10].index\n",
    "# train.loc[train_2012_q3_index, 'price_doc'] = train.loc[train_2012_q3_index, 'price_doc'] * rate_2012_q3\n",
    "train.loc[train_2012_q3_index, 'average_q_price'] = rate_2012_q3\n",
    "\n",
    "train_2012_q2_index = train.loc[train['timestamp'].dt.year == 2012].loc[train['timestamp'].dt.month >= 4].loc[train['timestamp'].dt.month < 7].index\n",
    "# train.loc[train_2012_q2_index, 'price_doc'] = train.loc[train_2012_q2_index, 'price_doc'] * rate_2012_q2\n",
    "train.loc[train_2012_q2_index, 'average_q_price'] = rate_2012_q2\n",
    "\n",
    "train_2012_q1_index = train.loc[train['timestamp'].dt.year == 2012].loc[train['timestamp'].dt.month >= 1].loc[train['timestamp'].dt.month < 4].index\n",
    "# train.loc[train_2012_q1_index, 'price_doc'] = train.loc[train_2012_q1_index, 'price_doc'] * rate_2012_q1\n",
    "train.loc[train_2012_q1_index, 'average_q_price'] = rate_2012_q1\n",
    "\n",
    "\n",
    "# train 2011\n",
    "train_2011_q4_index = train.loc[train['timestamp'].dt.year == 2011].loc[train['timestamp'].dt.month >= 10].loc[train['timestamp'].dt.month <= 12].index\n",
    "# train.loc[train_2011_q4_index, 'price_doc'] = train.loc[train_2011_q4_index, 'price_doc'] * rate_2011_q4\n",
    "train.loc[train_2011_q4_index, 'average_q_price'] = rate_2011_q4\n",
    "\n",
    "train_2011_q3_index = train.loc[train['timestamp'].dt.year == 2011].loc[train['timestamp'].dt.month >= 7].loc[train['timestamp'].dt.month < 10].index\n",
    "# train.loc[train_2011_q3_index, 'price_doc'] = train.loc[train_2011_q3_index, 'price_doc'] * rate_2011_q3\n",
    "train.loc[train_2011_q3_index, 'average_q_price'] = rate_2011_q3\n",
    "\n",
    "train_2011_q2_index = train.loc[train['timestamp'].dt.year == 2011].loc[train['timestamp'].dt.month >= 4].loc[train['timestamp'].dt.month < 7].index\n",
    "# train.loc[train_2011_q2_index, 'price_doc'] = train.loc[train_2011_q2_index, 'price_doc'] * rate_2011_q2\n",
    "train.loc[train_2011_q2_index, 'average_q_price'] = rate_2011_q2\n",
    "\n",
    "train_2011_q1_index = train.loc[train['timestamp'].dt.year == 2011].loc[train['timestamp'].dt.month >= 1].loc[train['timestamp'].dt.month < 4].index\n",
    "# train.loc[train_2011_q1_index, 'price_doc'] = train.loc[train_2011_q1_index, 'price_doc'] * rate_2011_q1\n",
    "train.loc[train_2011_q1_index, 'average_q_price'] = rate_2011_q1\n",
    "\n",
    "train['price_doc'] = train['price_doc'] * train['average_q_price']\n",
    "# train.drop('average_q_price', axis=1, inplace=True)\n",
    "\n",
    "print('price changed done')"
   ]
  },
  {
   "cell_type": "code",
   "execution_count": 39,
   "metadata": {
    "collapsed": true
   },
   "outputs": [],
   "source": [
    "col_name = \"build_year\"\n",
    "new_col_name = col_name + \"_encode\"\n",
    "# create a dictionary of original categorical value:average y for that value\n",
    "row_val_dict = {}\n",
    "for level in train[col_name].unique():\n",
    "    if level is None:\n",
    "        row_val_dict[level] = nan\n",
    "    else:\n",
    "        row_val_dict[level] = train[train[col_name] == level]['price_doc'].mean()\n",
    "# apply the transform from the dictionary on all rows in the column\n",
    "train[new_col_name] = train[col_name].apply(lambda i: i if math.isnan(i) else row_val_dict[i]+uniform(low=-5, high=5) ) "
   ]
  },
  {
   "cell_type": "code",
   "execution_count": 40,
   "metadata": {
    "collapsed": true
   },
   "outputs": [],
   "source": [
    "tmp = []\n",
    "for i in test[col_name].values:\n",
    "    #print(i)\n",
    "    if i not in row_val_dict.keys():\n",
    "        tmp.append(np.nan)\n",
    "    else:\n",
    "        tmp.append(row_val_dict[i])\n",
    "test[new_col_name] = tmp"
   ]
  },
  {
   "cell_type": "code",
   "execution_count": 41,
   "metadata": {
    "collapsed": true
   },
   "outputs": [],
   "source": [
    "col_name = \"sub_area\"\n",
    "new_col_name = col_name + \"_encode\"\n",
    "# create a dictionary of original categorical value:average y for that value\n",
    "row_val_dict = {}\n",
    "for level in train[col_name].unique():\n",
    "    if level is None:\n",
    "        row_val_dict[level] = nan\n",
    "    else:\n",
    "        row_val_dict[level] = train[train[col_name] == level]['price_doc'].mean()\n",
    "# apply the transform from the dictionary on all rows in the column\n",
    "train[new_col_name] = train[col_name].apply(lambda i: row_val_dict[i]+uniform(low=-5, high=5) ) "
   ]
  },
  {
   "cell_type": "code",
   "execution_count": 42,
   "metadata": {
    "collapsed": true
   },
   "outputs": [],
   "source": [
    "tmp = []\n",
    "for i in test[col_name].values:\n",
    "    #print(i)\n",
    "    if i not in row_val_dict.keys():\n",
    "        tmp.append(np.nan)\n",
    "    else:\n",
    "        tmp.append(row_val_dict[i])\n",
    "test[new_col_name] = tmp"
   ]
  },
  {
   "cell_type": "code",
   "execution_count": 43,
   "metadata": {
    "collapsed": true
   },
   "outputs": [],
   "source": [
    "y_train = train[\"price_doc\"]\n",
    "x_train = train.drop([\"id\", \"timestamp\", \"price_doc\",\"average_q_price\"], axis=1)\n",
    "x_test = test.drop([\"id\", \"timestamp\",\"average_q_price\"], axis=1)\n",
    "\n",
    "num_train = len(x_train)\n",
    "x_all = pd.concat([x_train, x_test])\n",
    "\n",
    "for c in x_all.columns:\n",
    "    if x_all[c].dtype == 'object':\n",
    "        lbl = preprocessing.LabelEncoder()\n",
    "        lbl.fit(list(x_all[c].values))\n",
    "        x_all[c] = lbl.transform(list(x_all[c].values))\n",
    "        #x_train.drop(c,axis=1,inplace=True)\n",
    "\n",
    "x_train = x_all[:num_train]\n",
    "x_test = x_all[num_train:]"
   ]
  },
  {
   "cell_type": "code",
   "execution_count": 44,
   "metadata": {
    "collapsed": true
   },
   "outputs": [],
   "source": [
    "xgb_params = {\n",
    "    'eta': 0.05,\n",
    "    'max_depth': 7,\n",
    "    'subsample': 0.6,\n",
    "    'colsample_bytree': 1,\n",
    "    'objective': 'reg:linear',\n",
    "    'eval_metric': 'rmse',\n",
    "    'silent': 1\n",
    "}"
   ]
  },
  {
   "cell_type": "code",
   "execution_count": 47,
   "metadata": {
    "collapsed": false
   },
   "outputs": [
    {
     "name": "stdout",
     "output_type": "stream",
     "text": [
      "[0]\ttrain-rmse:8.36328e+06\ttest-rmse:8.37512e+06\n",
      "[50]\ttrain-rmse:2.12404e+06\ttest-rmse:2.75378e+06\n",
      "[100]\ttrain-rmse:1.76863e+06\ttest-rmse:2.59444e+06\n",
      "[150]\ttrain-rmse:1.62012e+06\ttest-rmse:2.57026e+06\n",
      "[200]\ttrain-rmse:1.4974e+06\ttest-rmse:2.55775e+06\n",
      "[250]\ttrain-rmse:1.39102e+06\ttest-rmse:2.55412e+06\n",
      "[300]\ttrain-rmse:1.30493e+06\ttest-rmse:2.55558e+06\n",
      "[350]\ttrain-rmse:1.22455e+06\ttest-rmse:2.55571e+06\n",
      "[400]\ttrain-rmse:1.14678e+06\ttest-rmse:2.55829e+06\n"
     ]
    }
   ],
   "source": [
    "dtrain = xgb.DMatrix(x_train, y_train)\n",
    "dtest = xgb.DMatrix(x_test)\n",
    "\n",
    "cv_output = xgb.cv(xgb_params, dtrain, num_boost_round=1500, early_stopping_rounds=200,\n",
    "    verbose_eval=50, show_stdv=False)\n",
    "#cv_output[['train-rmse-mean', 'test-rmse-mean']].plot()"
   ]
  },
  {
   "cell_type": "code",
   "execution_count": 51,
   "metadata": {
    "collapsed": true
   },
   "outputs": [],
   "source": [
    "num_boost_rounds = len(cv_output)\n",
    "model = xgb.train(dict(xgb_params, silent=0), dtrain, num_boost_round=num_boost_rounds)\n",
    "\n",
    "#fig, ax = plt.subplots(1, 1, figsize=(8, 13))\n",
    "#xgb.plot_importance(model, max_num_features=50, height=0.5, ax=ax)\n",
    "\n",
    "y_predict = model.predict(dtest)"
   ]
  },
  {
   "cell_type": "code",
   "execution_count": 52,
   "metadata": {
    "collapsed": false
   },
   "outputs": [
    {
     "data": {
      "text/html": [
       "<div>\n",
       "<table border=\"1\" class=\"dataframe\">\n",
       "  <thead>\n",
       "    <tr style=\"text-align: right;\">\n",
       "      <th></th>\n",
       "      <th>id</th>\n",
       "      <th>price_doc</th>\n",
       "    </tr>\n",
       "  </thead>\n",
       "  <tbody>\n",
       "    <tr>\n",
       "      <th>0</th>\n",
       "      <td>30474</td>\n",
       "      <td>6066958.5</td>\n",
       "    </tr>\n",
       "    <tr>\n",
       "      <th>1</th>\n",
       "      <td>30475</td>\n",
       "      <td>8743190.0</td>\n",
       "    </tr>\n",
       "    <tr>\n",
       "      <th>2</th>\n",
       "      <td>30476</td>\n",
       "      <td>5690897.5</td>\n",
       "    </tr>\n",
       "    <tr>\n",
       "      <th>3</th>\n",
       "      <td>30477</td>\n",
       "      <td>6696694.5</td>\n",
       "    </tr>\n",
       "    <tr>\n",
       "      <th>4</th>\n",
       "      <td>30478</td>\n",
       "      <td>5415047.0</td>\n",
       "    </tr>\n",
       "  </tbody>\n",
       "</table>\n",
       "</div>"
      ],
      "text/plain": [
       "      id  price_doc\n",
       "0  30474  6066958.5\n",
       "1  30475  8743190.0\n",
       "2  30476  5690897.5\n",
       "3  30477  6696694.5\n",
       "4  30478  5415047.0"
      ]
     },
     "execution_count": 52,
     "metadata": {},
     "output_type": "execute_result"
    }
   ],
   "source": [
    "#y_predict = np.round(y_predict)#np.round(y_predict * 0.99)\n",
    "output = pd.DataFrame({'id': id_test, 'price_doc': y_predict})\n",
    "output.head()"
   ]
  },
  {
   "cell_type": "code",
   "execution_count": 54,
   "metadata": {
    "collapsed": false
   },
   "outputs": [],
   "source": [
    "output.to_csv('best_update_macro.csv', index=False)"
   ]
  },
  {
   "cell_type": "markdown",
   "metadata": {},
   "source": [
    "# Try H2O AutoML"
   ]
  },
  {
   "cell_type": "code",
   "execution_count": null,
   "metadata": {
    "collapsed": true
   },
   "outputs": [],
   "source": [
    "for c in train.columns:\n",
    "    if train[c].dtype == 'object':\n",
    "        lbl = preprocessing.LabelEncoder()\n",
    "        lbl.fit(list(train[c].values))\n",
    "        train[c] = lbl.transform(list(train[c].values))\n",
    "        #x_train.drop(c,axis=1,inplace=True)\n",
    "        \n",
    "for c in test.columns:\n",
    "    if test[c].dtype == 'object':\n",
    "        lbl = preprocessing.LabelEncoder()\n",
    "        lbl.fit(list(test[c].values))\n",
    "        test[c] = lbl.transform(list(test[c].values))\n",
    "        #x_train.drop(c,axis=1,inplace=True)"
   ]
  },
  {
   "cell_type": "code",
   "execution_count": 48,
   "metadata": {
    "collapsed": true
   },
   "outputs": [],
   "source": [
    "# Save the modified dataframe into csv so that we can upload them on h2o\n",
    "train_h2o = train.drop([\"id\", \"timestamp\"], axis=1)\n",
    "test_h2o = test.drop([\"id\", \"timestamp\"], axis=1)\n",
    "\n",
    "train_h2o.to_csv(\"train_macro.csv\")\n",
    "test_h2o.to_csv(\"test_macro.csv\")\n",
    "                        \n",
    "                        \n",
    "import h2o"
   ]
  },
  {
   "cell_type": "code",
   "execution_count": 50,
   "metadata": {
    "collapsed": false
   },
   "outputs": [
    {
     "name": "stdout",
     "output_type": "stream",
     "text": [
      "Checking whether there is an H2O instance running at http://localhost:54321. connected.\n"
     ]
    },
    {
     "data": {
      "text/html": [
       "<div style=\"overflow:auto\"><table style=\"width:50%\"><tr><td>H2O cluster uptime:</td>\n",
       "<td>13 secs</td></tr>\n",
       "<tr><td>H2O cluster version:</td>\n",
       "<td>3.12.0.1</td></tr>\n",
       "<tr><td>H2O cluster version age:</td>\n",
       "<td>14 days, 1 hour and 17 minutes </td></tr>\n",
       "<tr><td>H2O cluster name:</td>\n",
       "<td>H2O_from_python_qinhuixu_pz7r1i</td></tr>\n",
       "<tr><td>H2O cluster total nodes:</td>\n",
       "<td>1</td></tr>\n",
       "<tr><td>H2O cluster free memory:</td>\n",
       "<td>1.778 Gb</td></tr>\n",
       "<tr><td>H2O cluster total cores:</td>\n",
       "<td>0</td></tr>\n",
       "<tr><td>H2O cluster allowed cores:</td>\n",
       "<td>0</td></tr>\n",
       "<tr><td>H2O cluster status:</td>\n",
       "<td>accepting new members, healthy</td></tr>\n",
       "<tr><td>H2O connection url:</td>\n",
       "<td>http://localhost:54321</td></tr>\n",
       "<tr><td>H2O connection proxy:</td>\n",
       "<td>None</td></tr>\n",
       "<tr><td>H2O internal security:</td>\n",
       "<td>False</td></tr>\n",
       "<tr><td>Python version:</td>\n",
       "<td>3.6.0 final</td></tr></table></div>"
      ],
      "text/plain": [
       "--------------------------  -------------------------------\n",
       "H2O cluster uptime:         13 secs\n",
       "H2O cluster version:        3.12.0.1\n",
       "H2O cluster version age:    14 days, 1 hour and 17 minutes\n",
       "H2O cluster name:           H2O_from_python_qinhuixu_pz7r1i\n",
       "H2O cluster total nodes:    1\n",
       "H2O cluster free memory:    1.778 Gb\n",
       "H2O cluster total cores:    0\n",
       "H2O cluster allowed cores:  0\n",
       "H2O cluster status:         accepting new members, healthy\n",
       "H2O connection url:         http://localhost:54321\n",
       "H2O connection proxy:\n",
       "H2O internal security:      False\n",
       "Python version:             3.6.0 final\n",
       "--------------------------  -------------------------------"
      ]
     },
     "metadata": {},
     "output_type": "display_data"
    }
   ],
   "source": [
    "h2o.init()"
   ]
  },
  {
   "cell_type": "markdown",
   "metadata": {
    "collapsed": true
   },
   "source": [
    "#### We use autoML in the h2o ui then and the best model autoML returns is GBM"
   ]
  },
  {
   "cell_type": "code",
   "execution_count": null,
   "metadata": {
    "collapsed": true
   },
   "outputs": [],
   "source": []
  }
 ],
 "metadata": {
  "kernelspec": {
   "display_name": "Python [Root]",
   "language": "python",
   "name": "Python [Root]"
  },
  "language_info": {
   "codemirror_mode": {
    "name": "ipython",
    "version": 3
   },
   "file_extension": ".py",
   "mimetype": "text/x-python",
   "name": "python",
   "nbconvert_exporter": "python",
   "pygments_lexer": "ipython3",
   "version": "3.5.2"
  }
 },
 "nbformat": 4,
 "nbformat_minor": 2
}
