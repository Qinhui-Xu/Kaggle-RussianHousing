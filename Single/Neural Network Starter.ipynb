{
 "cells": [
  {
   "cell_type": "code",
   "execution_count": 1,
   "metadata": {
    "collapsed": false
   },
   "outputs": [
    {
     "name": "stderr",
     "output_type": "stream",
     "text": [
      "/home/zzq/anaconda3/lib/python3.5/site-packages/numpy/lib/function_base.py:3834: RuntimeWarning: Invalid value encountered in percentile\n",
      "  RuntimeWarning)\n"
     ]
    },
    {
     "name": "stdout",
     "output_type": "stream",
     "text": [
      "(7662, 437) (30471, 437) 30471\n"
     ]
    }
   ],
   "source": [
    "import numpy as np\n",
    "import pandas as pd\n",
    "train=pd.read_csv(\"train.csv\")\n",
    "test=pd.read_csv(\"test.csv\")\n",
    "n=train.shape[0]\n",
    "train['data_set']=1\n",
    "test['data_set']=0\n",
    "test.price_doc=np.nan\n",
    "ids=test['id']\n",
    "train.price_doc=np.log(train.price_doc)\n",
    "target=train.price_doc\n",
    "train=train.append(test)\n",
    "train.drop(['id'],axis=1,inplace=True)"
   ]
  },
  {
   "cell_type": "code",
   "execution_count": null,
   "metadata": {
    "collapsed": true
   },
   "outputs": [],
   "source": [
    "binary=[]\n",
    "for i in train:\n",
    "    if train[i].dtypes=='object':\n",
    "        #print(train[i].value_counts())\n",
    "        if train[i].value_counts().shape[0]==2:\n",
    "            binary.append(i)\n",
    "for i in binary:\n",
    "    train[i]=pd.factorize(train[i])[0]\n",
    "train.loc[train['ecology']=='no data','ecology_dat']=0\n",
    "train.loc[train['ecology']!='no data','ecology_dat']=1\n",
    "train.loc[train['ecology']=='no data','ecology']=np.nan\n",
    "train.loc[train['ecology']=='poor','ecology']=1\n",
    "train.loc[train['ecology']=='satisfactory','ecology']=2\n",
    "train.loc[train['ecology']=='good','ecology']=3\n",
    "train.loc[train['ecology']=='excellent','ecology']=4\n",
    "train.ecology=pd.to_numeric(train.ecology)\n",
    "train=pd.concat([train,pd.get_dummies(train.sub_area)],axis=1)\n",
    "\n",
    "a=train.describe()\n",
    "for i in a:\n",
    "    train[i]=train[i].fillna((a.loc['min',i]-a.loc['max',i]*2))\n",
    "    \n",
    "train.drop(['timestamp','sub_area'],inplace=True,axis=1)\n",
    "\n",
    "from sklearn.preprocessing import MinMaxScaler\n",
    "scaler = MinMaxScaler()\n",
    "cols=train.columns.tolist()\n",
    "\n",
    "train = pd.DataFrame(scaler.fit_transform(train), columns=cols)\n",
    "\"\"\"\n",
    "for i in train:    \n",
    "    train[i]=train[i]/(train[i].max()-train[i].min())\n",
    "\"\"\"\n",
    "test=train[train['data_set']==0]\n",
    "train=train[train['data_set']==1]\n",
    "print(test.shape,train.shape,n)\n",
    "test.drop(['data_set','price_doc',],inplace=True,axis=1)\n",
    "train.drop(['data_set','price_doc'],inplace=True,axis=1)"
   ]
  },
  {
   "cell_type": "code",
   "execution_count": null,
   "metadata": {
    "collapsed": true
   },
   "outputs": [],
   "source": [
    "from sklearn.cross_validation import KFold\n",
    "from keras.models import Sequential\n",
    "from keras.layers import Dense, Dropout, Activation\n",
    "from keras.layers.normalization import BatchNormalization\n",
    "from keras.layers.advanced_activations import PReLU\n",
    "from keras.optimizers import SGD\n",
    "from keras import regularizers\n",
    "from keras.callbacks import EarlyStopping"
   ]
  },
  {
   "cell_type": "code",
   "execution_count": null,
   "metadata": {
    "collapsed": true
   },
   "outputs": [],
   "source": [
    "model = Sequential()\n",
    "    \n",
    "model.add(Dense(40, input_dim = train.shape[1], init = 'he_normal'))\n",
    "model.add(Activation('relu'))\n",
    "model.add(BatchNormalization())\n",
    "model.add(Dense(40, init = 'he_normal'))\n",
    "model.add(Activation('relu'))\n",
    "model.add(BatchNormalization())    \n",
    "model.add(Dense(20, init = 'he_normal'))\n",
    "model.add(Activation('relu'))\n",
    "model.add(BatchNormalization())    \n",
    "model.add(Dense(1, init = 'he_normal'))\n",
    "model.compile(loss = 'mean_squared_error', optimizer = 'adam')\n",
    "outputs=model.fit(train.as_matrix(),target.as_matrix() , batch_size=32, nb_epoch=5, verbose=1,validation_split=0.5)\n",
    "preds=model.predict( test.as_matrix(), batch_size=32, verbose=0)"
   ]
  },
  {
   "cell_type": "code",
   "execution_count": null,
   "metadata": {
    "collapsed": true
   },
   "outputs": [],
   "source": [
    "y=np.reshape(preds,preds.shape[0])\n",
    "y=np.exp(y)\n",
    "subs=pd.DataFrame({'id':ids.as_matrix(),'price_doc':y})\n",
    "subs.to_csv(\"test_nn.csv\",index=False)"
   ]
  },
  {
   "cell_type": "code",
   "execution_count": null,
   "metadata": {
    "collapsed": true
   },
   "outputs": [],
   "source": []
  }
 ],
 "metadata": {
  "anaconda-cloud": {},
  "kernelspec": {
   "display_name": "Python [conda root]",
   "language": "python",
   "name": "conda-root-py"
  },
  "language_info": {
   "codemirror_mode": {
    "name": "ipython",
    "version": 3
   },
   "file_extension": ".py",
   "mimetype": "text/x-python",
   "name": "python",
   "nbconvert_exporter": "python",
   "pygments_lexer": "ipython3",
   "version": "3.5.2"
  }
 },
 "nbformat": 4,
 "nbformat_minor": 2
}
